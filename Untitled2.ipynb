{
 "cells": [
  {
   "cell_type": "code",
   "execution_count": 1,
   "metadata": {},
   "outputs": [],
   "source": [
    "l = [2,2,5,5,10,15,20,25,25,50,60]"
   ]
  },
  {
   "cell_type": "code",
   "execution_count": 2,
   "metadata": {},
   "outputs": [
    {
     "data": {
      "text/plain": [
       "{2, 5, 10, 15, 20, 25, 50, 60}"
      ]
     },
     "execution_count": 2,
     "metadata": {},
     "output_type": "execute_result"
    }
   ],
   "source": [
    "set(l)"
   ]
  },
  {
   "cell_type": "code",
   "execution_count": 3,
   "metadata": {},
   "outputs": [
    {
     "data": {
      "text/plain": [
       "[2, 5, 10, 15, 50, 20, 25, 60]"
      ]
     },
     "execution_count": 3,
     "metadata": {},
     "output_type": "execute_result"
    }
   ],
   "source": [
    "list(set(l))"
   ]
  },
  {
   "cell_type": "code",
   "execution_count": 13,
   "metadata": {},
   "outputs": [
    {
     "name": "stdout",
     "output_type": "stream",
     "text": [
      "is there in a\n",
      "is there in a\n",
      "is there in a\n",
      "[2, 5, 10, 15, 20, 25, 50, 60]\n"
     ]
    }
   ],
   "source": [
    "a = []\n",
    "for i in range(len(l)):\n",
    "#     print (i)\n",
    "    if l[i] not in a:\n",
    "        a.append(l[i])\n",
    "        \n",
    "    else:\n",
    "        print ('is there in a')\n",
    "print (a)\n",
    "    "
   ]
  },
  {
   "cell_type": "markdown",
   "metadata": {},
   "source": [
    "I have a time column and sequence column in dataset, I need to set the threshold for each sequence run for particular time, if it exceeds, need to return a error message."
   ]
  },
  {
   "cell_type": "code",
   "execution_count": null,
   "metadata": {},
   "outputs": [],
   "source": [
    "import pandas as pd\n",
    "\n",
    "# load your dataset\n",
    "df = pd.read_csv(\"your_dataset.csv\")\n",
    "\n",
    "# initialize a dictionary to store the run times for each category\n",
    "category_times = {}\n",
    "\n",
    "# iterate through the rows of the dataset\n",
    "for index, row in df.iterrows():\n",
    "    # get the current category and time\n",
    "    category = row[\"category\"]\n",
    "    time = row[\"time\"]\n",
    "    \n",
    "    # check if the current category is already in the dictionary\n",
    "    if category in category_times:\n",
    "        # if it is, add the current time to the existing run time\n",
    "        category_times[category] += time\n",
    "    else:\n",
    "        # if it isn't, initialize the run time for the current category\n",
    "        category_times[category] = time\n",
    "\n",
    "# Print run time for each category\n",
    "for category, run_time in category_times.items():\n",
    "    print(f\"Category: {category}, Run Time: {run_time} seconds\")\n"
   ]
  },
  {
   "cell_type": "markdown",
   "metadata": {},
   "source": [
    "I have a time column and sequence column in dataset, I need to set the threshold for each sequence run for particular time, if it exceeds, need to return a error message."
   ]
  },
  {
   "cell_type": "code",
   "execution_count": null,
   "metadata": {},
   "outputs": [],
   "source": [
    "import pandas as pd\n",
    "\n",
    "# load your dataset\n",
    "df = pd.read_csv(\"your_dataset.csv\")\n",
    "\n",
    "# set the threshold time in seconds\n",
    "threshold_time = 300\n",
    "\n",
    "# initialize a dictionary to store the run times for each sequence\n",
    "sequence_times = {}\n",
    "\n",
    "# iterate through the rows of the dataset\n",
    "for index, row in df.iterrows():\n",
    "    # get the current sequence and time\n",
    "    sequence = row[\"sequence\"]\n",
    "    time = row[\"time\"]\n",
    "    \n",
    "    # check if the current sequence is already in the dictionary\n",
    "    if sequence in sequence_times:\n",
    "        # if it is, add the current time to the existing run time\n",
    "        sequence_times[sequence] += time\n",
    "    else:\n",
    "        # if it isn't, initialize the run time for the current sequence\n",
    "        sequence_times[sequence] = time\n",
    "    \n",
    "    # check if the current sequence's run time exceeds the threshold\n",
    "    if sequence_times[sequence] > threshold_time:\n",
    "        # if it does, print an error message\n",
    "        print(f\"Error: Sequence {sequence} has exceeded the threshold time of {threshold_time} seconds.\")\n"
   ]
  }
 ],
 "metadata": {
  "kernelspec": {
   "display_name": "Python 3",
   "language": "python",
   "name": "python3"
  },
  "language_info": {
   "codemirror_mode": {
    "name": "ipython",
    "version": 3
   },
   "file_extension": ".py",
   "mimetype": "text/x-python",
   "name": "python",
   "nbconvert_exporter": "python",
   "pygments_lexer": "ipython3",
   "version": "3.7.3"
  }
 },
 "nbformat": 4,
 "nbformat_minor": 2
}
