{
 "cells": [
  {
   "cell_type": "code",
   "execution_count": 94,
   "metadata": {},
   "outputs": [],
   "source": [
    "import pandas as pd\n",
    "import numpy as np"
   ]
  },
  {
   "cell_type": "code",
   "execution_count": 95,
   "metadata": {},
   "outputs": [],
   "source": [
    "data = pd.read_csv('TestData.csv', encoding = \"ISO-8859-1\" )"
   ]
  },
  {
   "cell_type": "code",
   "execution_count": 96,
   "metadata": {},
   "outputs": [
    {
     "data": {
      "text/html": [
       "<div>\n",
       "<style scoped>\n",
       "    .dataframe tbody tr th:only-of-type {\n",
       "        vertical-align: middle;\n",
       "    }\n",
       "\n",
       "    .dataframe tbody tr th {\n",
       "        vertical-align: top;\n",
       "    }\n",
       "\n",
       "    .dataframe thead th {\n",
       "        text-align: right;\n",
       "    }\n",
       "</style>\n",
       "<table border=\"1\" class=\"dataframe\">\n",
       "  <thead>\n",
       "    <tr style=\"text-align: right;\">\n",
       "      <th></th>\n",
       "      <th>Review</th>\n",
       "      <th>Sentiment</th>\n",
       "    </tr>\n",
       "  </thead>\n",
       "  <tbody>\n",
       "    <tr>\n",
       "      <td>0</td>\n",
       "      <td>The app worked great for awhile, but now I can...</td>\n",
       "      <td>Negative</td>\n",
       "    </tr>\n",
       "    <tr>\n",
       "      <td>1</td>\n",
       "      <td>The app used to work very well. Recently (sinc...</td>\n",
       "      <td>Negative</td>\n",
       "    </tr>\n",
       "    <tr>\n",
       "      <td>2</td>\n",
       "      <td>The app crashed right before I had to scan my ...</td>\n",
       "      <td>Negative</td>\n",
       "    </tr>\n",
       "    <tr>\n",
       "      <td>3</td>\n",
       "      <td>Delta's app and website are terrible. It never...</td>\n",
       "      <td>Negative</td>\n",
       "    </tr>\n",
       "    <tr>\n",
       "      <td>4</td>\n",
       "      <td>Really cool app. Used it for my trip to and fr...</td>\n",
       "      <td>Positive</td>\n",
       "    </tr>\n",
       "    <tr>\n",
       "      <td>...</td>\n",
       "      <td>...</td>\n",
       "      <td>...</td>\n",
       "    </tr>\n",
       "    <tr>\n",
       "      <td>124</td>\n",
       "      <td>Probably one of the best airline apps availabl...</td>\n",
       "      <td>Negative</td>\n",
       "    </tr>\n",
       "    <tr>\n",
       "      <td>125</td>\n",
       "      <td>I have to take another star away from this app...</td>\n",
       "      <td>Negative</td>\n",
       "    </tr>\n",
       "    <tr>\n",
       "      <td>126</td>\n",
       "      <td>When I initially installed the app I would hav...</td>\n",
       "      <td>Negative</td>\n",
       "    </tr>\n",
       "    <tr>\n",
       "      <td>127</td>\n",
       "      <td>Terrible experience!!!!! All the information I...</td>\n",
       "      <td>Negative</td>\n",
       "    </tr>\n",
       "    <tr>\n",
       "      <td>128</td>\n",
       "      <td>Kept losing my travel info. Seriously, how man...</td>\n",
       "      <td>Negative</td>\n",
       "    </tr>\n",
       "  </tbody>\n",
       "</table>\n",
       "<p>129 rows × 2 columns</p>\n",
       "</div>"
      ],
      "text/plain": [
       "                                                Review Sentiment\n",
       "0    The app worked great for awhile, but now I can...  Negative\n",
       "1    The app used to work very well. Recently (sinc...  Negative\n",
       "2    The app crashed right before I had to scan my ...  Negative\n",
       "3    Delta's app and website are terrible. It never...  Negative\n",
       "4    Really cool app. Used it for my trip to and fr...  Positive\n",
       "..                                                 ...       ...\n",
       "124  Probably one of the best airline apps availabl...  Negative\n",
       "125  I have to take another star away from this app...  Negative\n",
       "126  When I initially installed the app I would hav...  Negative\n",
       "127  Terrible experience!!!!! All the information I...  Negative\n",
       "128  Kept losing my travel info. Seriously, how man...  Negative\n",
       "\n",
       "[129 rows x 2 columns]"
      ]
     },
     "execution_count": 96,
     "metadata": {},
     "output_type": "execute_result"
    }
   ],
   "source": [
    "data"
   ]
  },
  {
   "cell_type": "code",
   "execution_count": 97,
   "metadata": {},
   "outputs": [
    {
     "name": "stdout",
     "output_type": "stream",
     "text": [
      "<class 'pandas.core.frame.DataFrame'>\n",
      "RangeIndex: 129 entries, 0 to 128\n",
      "Data columns (total 2 columns):\n",
      "Review       129 non-null object\n",
      "Sentiment    129 non-null object\n",
      "dtypes: object(2)\n",
      "memory usage: 2.1+ KB\n"
     ]
    }
   ],
   "source": [
    "data.info()"
   ]
  },
  {
   "cell_type": "code",
   "execution_count": 98,
   "metadata": {},
   "outputs": [
    {
     "data": {
      "text/plain": [
       "Review       129\n",
       "Sentiment      2\n",
       "dtype: int64"
      ]
     },
     "execution_count": 98,
     "metadata": {},
     "output_type": "execute_result"
    }
   ],
   "source": [
    "data.nunique()"
   ]
  },
  {
   "cell_type": "code",
   "execution_count": 99,
   "metadata": {},
   "outputs": [],
   "source": [
    "from bs4 import BeautifulSoup"
   ]
  },
  {
   "cell_type": "code",
   "execution_count": 100,
   "metadata": {},
   "outputs": [],
   "source": [
    "import re\n",
    "import tqdm\n",
    "import unicodedata"
   ]
  },
  {
   "cell_type": "code",
   "execution_count": 101,
   "metadata": {},
   "outputs": [],
   "source": [
    "# build train and test datasets\n",
    "reviews = data['Review'].values\n",
    "sentiments = data['Sentiment'].values\n",
    "\n",
    "train_reviews = reviews[:100]\n",
    "train_sentiments = sentiments[:100]\n",
    "\n",
    "test_reviews = reviews[100:]\n",
    "test_sentiments = sentiments[100:]"
   ]
  },
  {
   "cell_type": "code",
   "execution_count": 102,
   "metadata": {},
   "outputs": [],
   "source": [
    "def strip_html_tags(text):\n",
    "  soup = BeautifulSoup(text, \"html.parser\")\n",
    "  [s.extract() for s in soup(['iframe', 'script'])]\n",
    "  stripped_text = soup.get_text()\n",
    "  stripped_text = re.sub(r'[\\r|\\n|\\r\\n]+', '\\n', stripped_text)\n",
    "  return stripped_text"
   ]
  },
  {
   "cell_type": "code",
   "execution_count": 2,
   "metadata": {},
   "outputs": [],
   "source": [
    "def remove_accented_chars(text):\n",
    "  text = unicodedata.normalize('NFKD', text).encode('ascii', 'ignore').decode('utf-8', 'ignore')\n",
    "  return text"
   ]
  },
  {
   "cell_type": "code",
   "execution_count": 104,
   "metadata": {},
   "outputs": [],
   "source": [
    "def pre_process_corpus(docs):\n",
    "  norm_docs = []\n",
    "  for doc in tqdm.tqdm(docs):\n",
    "    doc = strip_html_tags(doc)\n",
    "    doc = doc.translate(doc.maketrans(\"\\n\\t\\r\", \"   \"))\n",
    "    doc = doc.lower()\n",
    "    doc = remove_accented_chars(doc)\n",
    "    #doc = contractions.fix(doc)\n",
    "    # lower case and remove special characters\\whitespaces\n",
    "    doc = re.sub(r'[^a-zA-Z0-9\\s]', '', doc, re.I|re.A)\n",
    "    doc = re.sub(' +', ' ', doc)\n",
    "    doc = doc.strip()  \n",
    "    norm_docs.append(doc)\n",
    "  \n",
    "  return norm_docs"
   ]
  },
  {
   "cell_type": "code",
   "execution_count": 105,
   "metadata": {},
   "outputs": [
    {
     "name": "stderr",
     "output_type": "stream",
     "text": [
      "100%|██████████| 100/100 [00:00<00:00, 3851.70it/s]\n",
      "100%|██████████| 29/29 [00:00<00:00, 7266.55it/s]\n"
     ]
    },
    {
     "name": "stdout",
     "output_type": "stream",
     "text": [
      "Wall time: 43.8 ms\n"
     ]
    }
   ],
   "source": [
    "%%time\n",
    "\n",
    "norm_train_reviews = pre_process_corpus(train_reviews)\n",
    "norm_test_reviews = pre_process_corpus(test_reviews)"
   ]
  },
  {
   "cell_type": "code",
   "execution_count": 106,
   "metadata": {},
   "outputs": [
    {
     "data": {
      "text/plain": [
       "['the app worked great for awhile but now i cant even look into booking a flight if you put in an airport in the from and to sections it stays blank the number one feature being able to book or check out potential rates and prices is unusable the app was never great but if it fails to perform its primary function then it is trash just use the website',\n",
       " 'the app used to work very well recently since jan 2020 it is prone to glitches and ghost notifications check in gets stuck and abandon the app to check in on website if first leg of flight requires checking in on partner airline klm the app wont get past the check in and is worthless for the rest of the trip baggage notifications work so 1 extra star for that but other ghost notifications are annoyances attempts to work out issues with delta chat reps had no solution bummer',\n",
       " 'the app crashed right before i had to scan my boarding pass it also wiped out all of my trips tried logging out and could not log back in tried resetting password the email arrived 15 minutes late your password cannot be the same as the last one i just tried logging in with but it told me its invalid anyway after logging back in my trips are still not showing up even though i see receipts for them',\n",
       " 'deltas app and website are terrible it never remembers your info even though youve checked the box to do so then once youve typed in the password correctly i might add multiple times it doesnt work reset the password doesnt work i wanted to book a vacation with them got fed up and booked through a different airline stay away from this catastrophe id give it zero but thats not possible unfortunately',\n",
       " 'really cool app used it for my trip to and from hawaii has maps of the airports automatic tracking of your bags gate updates and departure times only hitch i had was it kept losing my flight and i haf to reenter confirmation info over 10 different times which can get tediusannoying when you dont know where the hell you are great app otherwise',\n",
       " 'the app works for booking and getting flight information but it has some serious shortcomings to do anything it wants confirmation number every time you do flight anything the confirmation number is not displayed on the online boarding pass so you have to dig through emails to find it then the app forgets it anytime you need updated flight information gates if you leave the app you can purchase checked bags but it doesnt remember the purchase or offer the receipt for expensing',\n",
       " 'the app has worked well in terms of keeping me immediately updated of flight changes and luggage status unfortunately it cant fix deltas terrible track record ive had with them which meant needing multiple notifications when a flight needed rescheduled the app came short by requiring to rebook all legs without giving the option of only changing the connecting flight as a result alternative flight the same night got full by time got through to customer service to change to it',\n",
       " 'i have used this app for years and never had any issues until recently tsa precheck is not showing on my mobile device boarding pass but it does show on the paper boarding pass when i go to the counter and have them print it i have had this problem with the past 3 flights in a row',\n",
       " 'works well most of the time would be better with an option to read your password when typing it in as on the website version would also be better to automatically save the boarding passes to the phone such that it is not necessary to login and have web access to find it again',\n",
       " 'i like the delta app it has more options and is better than lots of other airline apps the only thing they changed that i dont like is on the checkin it does not prompt you for bags i always check one and many people do not so i can see why now i have to reopen it to check bags up front i know i can do it on the kiosk but like to get done before i hit the airport',\n",
       " 'logged me out multiple times while at the airport had a problem where my flight arrived late and it wouldnt show my originally scheduled connecting flight it only showed a new flight that i could switch to had to look up the flight and gate info manually gate staff assured me that i still had a seat on the flight and that my checked bag would make it on the flight as well luckily i didnt accept the new connecting flight like the app made me think i needed to do before i talked to the gate',\n",
       " 'good appwhen it works i have already checked in for a flight early tomorrow morning but now the app tells me i have no upcoming flights and find my flight cant find my flight not the first time this has happened restarted the app numerous times over the last 2 hoursstill not working',\n",
       " 'one of the best airline apps ive come across id still suggest taking a screenshot of your boarding pass or better yet printing it on paper as a precaution but ive had no problems with it and ive used it for every function the boarding notification is also very useful',\n",
       " 'i used to use delta app 34years ago and it was great recently started to fly them again and the app wont keep me logged it or pull up my flights unless i use my record locator each time very frustrating',\n",
       " 'when it works its fine but frequently loses track of upcoming trips frustrating when youre about to board and suddenly no longer have a boarding pass',\n",
       " 'poor for real needs you think this apps main purpose is to tell you what your travel plans are and show you your ticket that you just checked in with and check in before arrival to airport but thats a failure too but the app fails more than half the time its more frustrating to use just expect to use a hard copy ticket to be safe now dont say i didnt warn you delta itself is great its just a bad app',\n",
       " 'it never works everytime i attempt to open the app just shuts down which defeats the whole purpose of the app i cant book flights i cant checkin i cant use to scan my tickets which means i know have to have a paper ticket i cant do anything i have updated i have uninstalled and reinstalled nothing works someone please fix because this is crazy and very inconvenient',\n",
       " 'why does it not show my purchased trips if im logged in why do i have to search for confirmation number etc such a dumb app where is the flexible dates option for booking flights',\n",
       " 'nice when it works but just doesnt load my boarding pass for same day flights majority of my travels i have to go through their website and manually type in my confirmation to have it text to me might be an issue with android specifically im not sure has happened with all my devices so i know its not a particular phone',\n",
       " 'app still doesnt remember password and makes me reset password almost every time i try to log in probably the worst travel app i have ever used by a major airline or hotel',\n",
       " 'sometimes when you checkin on scan your boarding pass for a connecting flight it removes your flight itinerary i checked last night and now i have to refind my flight because it removed it last week after scanning my boarding pass to get through tsa it removed my flight from the app other than that it works but thats an essential part of the app',\n",
       " 'garbage what is wrong with these people at delta how can it possibly be a good idea to disallow access to my upcoming flight info within the app i have to go over to my email to retrieve a confirmation number every time what get a clue guys wake up',\n",
       " 'beyond irritating app erases your current tripflight when flying across time zones from east to west if your flight lands at 2300 and the phone is using plane time which is plus one or two hours if you want information about the flight you are still on then you have to manual enter confirmation numbers you would think the app would keep your current trip for at least 2448 hours or one or two hours after you have landed local time',\n",
       " 'sheesh this app is frustrating i use this app because im flying focus on that as others have said it frequently loses your trips requiring you to reenter you confirmation numbercredit cardticket number it throws errors constantly highly unreliable frankly if you cant get it right for those already flying why in the world would i trust your system to bookbuy something else there are a thousand ways to buy what i want start by getting it right for those who are already flying',\n",
       " 'this app made my first time flying in years much easier and about hassle free lots of notifs and updates on flight details lets you know when its boarding as well',\n",
       " 'in fairness i still cant judge accurately but ill try again to see if the app still restarts after i manually force stop or hibernate it from a utility app adding to the drain on the battery might uninstall reinstall when needed to moto g5 users woreo 8 81 who reported this app useless after upgrading thanks for the warning android 70 stays on this g5 oreo ruined my other g5s personalizations',\n",
       " 'trips disappear every single trip ive used this app for the trip has disappeared from the app at some point usually more than once then i need to find my reservation number and search for it again to get my boarding pass this is very frustrating it would be great if this was fixed up otherwise the app is very good',\n",
       " 'found a perfect flight selected all my options went to pay input all my information and it told me i was missing some information nothing was left blank nothing was highlighted in red tried 7 times including starting over from scratch twice finally it gave me fatal error and lost my entire booking am not likely to use the app again',\n",
       " 'for the amount of dependency theyre expecting users to have for this app it is extremely unreliable and complicated to use 218 downgraded my vote again with this app it is the least dependable app i have ever used constantly crashes locks you out and no one at delta can help you when your in a hurry which naturally is when this app decides to screw up',\n",
       " 'i am traveling with kids upon landing a push notification shows the carousel number i click it the notificatio disappears the app opens but does not show the notification notifications section io theapp is empty moreover the whole flight is gone as historic aparently creators always offboard in 5 mins and never traveled with kids',\n",
       " 'there are some pretty serious design flaws their programmers dont seem to want to cache data if you lose connectivity boarding passes can disappear seriously its an app for a location that frequently does not have internet access why design a point of failure thats in one of the primary',\n",
       " 'app loses upcoming trip info constantly then have to input confirmation number again to get the trip back not good when using it for boarding pass and in line to present to tsa also when adding trip to your account it wont take into account your known traveler number that is already in your profile which means no tsa precheck for you app and system built by amatuers',\n",
       " 'after the recent update it had signed me out normally that wouldnt be such a big deal but i am unable to sign back in i am unable to reset my password and i am unable to look up my username i keep getting the same message over and over again saying that we are unable to do that at this time thats only been happening since the last update so something had to have gone wrong and needs to be fixed',\n",
       " 'this app has the necessary features to be useful but it doesnt retain the info entered by the user how does that play out as a user experience imagine turning your phones data connection back on after a flight and having to a look up and enter your fly delta app password to open the app for your connecting flight details now imagine having to look up and enter your confirmation number to look at those flight details as youre walking across an airport with your carry on belongings in tow',\n",
       " 'you know your app is bad when it almost makes someone want to stop using the airline mostly started having trouble once i switched back to samsung my note 10 cant load boarding passes half the time wont let me check in even on wifi more than half the time its really a bad app great airline but its so dumb that they wont spend just a little more of their large piles of money on a decent app',\n",
       " 'this update is horrible it wont remember trips requiring a confirmation number every single time the app is reopened rather defeats the whole convenience of the app if i have to look up the confirmation number and save the boarding pass to photos as a primary document rather than a back up if theres a gate change the app doesnt notify either',\n",
       " 'decent functionality bag tracking easier than in the website for example but a few days ago i renewed my skyclub membership online previously done it at the club and thereafter the app started crashing constantly according to crash logs obviously a mywalletspesific decimal separator problem dot works comma crashes i had to temporarily change the phone language setting to us english to keep the app usable at all until i finish the ongoing and quite complex flight itinerary pls fix',\n",
       " 'a lot like deltas internal systems the app has been plagued with issues over the past several months save yourself the hassle and get paper copies of your boarding passes or make certain you save the electronic qr code as being locked out of your boarding passes once past security is a hassle i',\n",
       " 'keeps all info for possible fligjrs and uses the info for higher prices very disappointed',\n",
       " 'the only way to see upcoming trips and check in is to look up the trip via the reservation number i literally never have that readily available or enter my 16 digit credit card numberwho thought that was a good idea this app is so poorly done it makes me want to go back to flying aa just for the ease of use of their app i fly for business every single week',\n",
       " 'after i check in my boarding pass disappears and my trip is no longer listed under my trips i have to keep looking it up with the confirmation number not convenient i also cant see if my known traveler number on my boarding pass i just had tsa send me to the back of the security line because i didnt have pre check in my boarding pass it was there on my out bound trip',\n",
       " 'poorly designed i signed up and try to log in it does not recognize my password when i request to reset password it takes me to the website which is also very poorly designed also links in app when i enter as guest take me to 404 pages cannot find page 121619 update continues to malfunction it didnt work over the weekend now it wont let me log in',\n",
       " 'it is easy to use but several parts of the app simply dont work updating my address for example is does not accept my address no matter what i do even though it is correct prepurchasing wifi also doesnt work they want you to spend extra 8 purchasing during flight which it suspiciously works',\n",
       " 'this app could be great except it doesnt store boarding passes on the device and i cant count the number of times ive checked into my flight and at the airport been unable to retrieve my boarding pass without rebooting my phone in addition the flight im about to get on often mysteriously disappears from my trips the day of travel overall i use it because it allows for convenient checkin but its otherwise been a disaster for 5 years since i first installed it',\n",
       " 'disgustingly horrible every time there is an update here i am in the middle of another trip get a test message from delta and now cant get logged in to the app at all when it works it is nice but the developers are very consistent in breaking it at the worst possible times absolutely horrible quality control before they push it out so frustrating',\n",
       " 'will uninstall this worthless app once again i keep hoping and trying this but it is way behind the screens at the airport',\n",
       " 'never works whats the point im a sky miles member woohoo i dont feel special at all edit now im a silver medallion who cares somehow the app got worse i cant book flights from it cant do squat on this app',\n",
       " 'finished on first page cant even register',\n",
       " 'boarding passes are great in this app',\n",
       " 'latest update wouldnt open uninstalled and reinstalled ok now lg v35',\n",
       " 'same story as many others works great when it works forgets all your trips every day or two',\n",
       " 'i wish there was a button when youre on your way but about to miss your flight lol makes you go to website to get but overall great',\n",
       " 'great app from booking the flight to getting back home',\n",
       " 'wont show my ticket it just says its too close to my departure time to check in im already checked in im at the gate just show me the ticket',\n",
       " 'boarding passes disappear randomly seriously you had one job',\n",
       " 'useless poc you can immediately tell it never went through user testing blocking an account for trying to log in is the most stupid thing ive seen and making the user call an airline id rather not fly delta',\n",
       " 'app works fine except for sky club when i select an airport the app closes galaxy s9',\n",
       " 'it never remembers my flights and requires me to repeatedly enter my confirmation number to view my boarding pass',\n",
       " 'horrible experience errors while booking international trip of 4 people credit card being charged 45k 3 one for each error no confirmation email and most importantly no one contacted me to resolve this issue after emailing customer service complaints department',\n",
       " 'my ticket disappeared and my confirmation no wouldnt work after i already checked in',\n",
       " 'unable to view boarding passes for my flights mnl nrt atl msy and also unable to message via app',\n",
       " 'could use some improvements but probably the best airline app of the us airlines delta doesnt seem to take feedback',\n",
       " 'dont log in as guest as it may forget your boarding pass',\n",
       " 'terrible at finding the flights use the same information online at get instant results',\n",
       " 'glitchy forces you to enter confirmation number repeatedly instead of just remembering your trip',\n",
       " 'so the app crashed while i was trying to cancel a flight thats been pending refund on their website all day before it leaves tomorrow and when i relaunched the app it had checked me in 45 minute wait for a rep and he confirmed the static was his end and hed call me back 50 mins ago tried calling back on another line and the wait is 58 more minutes dont fly delta its a nightmare and i may be out nearly a thousand bucks on this international flight im not taking to korea now',\n",
       " 'the app continues to get better when will you add the ability to save my bp to google pay why do you only support this kind of feature for ios',\n",
       " 'app itself works great but visually needs to add nav bar color and add google pay boarding passes',\n",
       " 'app couldnt even open for some months now scrap it and introduce a better app its a disgrace to deltas high standard in the airline business',\n",
       " 'hangs and crashes all the time unreliable app from otherwise reliable air carrier',\n",
       " 'doesnt work half of the time i have to put all my info in each time i use it and then it forgets it then i got to do it again',\n",
       " 'great to track my baggage and up to date standby list',\n",
       " 'the app of the year for technical difficulties an almost useless app most disappointing',\n",
       " 'why doesnt it save boarding passes to google pay also why does it exit the app when i press the back button so irritating',\n",
       " 'constantly crashes it wont even open',\n",
       " 'the app logs me off and denies login at the most inconvenient situations delta cio and it team leaders need a good a kicking to motivate flawless service',\n",
       " 'horrible all it ever says is the app is having technical difficulty useless app and you certainly cant rely on it for your boarding pass',\n",
       " 'this app has so many nice touches my favourite example weather in your destination is shown in farenheit tap the number and it changes to celsius delightful',\n",
       " 'i am a sky miles member i am using this app for the first time i am traveling tomorrow i am checked in and feel great using the app takes away stress of travel i also fly needs assistance so i can be sure there will be travel assistance at every leg of my flights thank you delta you are the best',\n",
       " 'worst check in process ive ever had every few seconds the app would stop load something then take me back to the starting page the app charged me for a checked bag got credit card notification then said sorry we could not process your order i had to fill in my information multiple times it took nearly 20 minutes instead of the usual 20 seconds nothing loads half the features are broken tried checking in through an iphone that was just as bad i dont plan on flying delta',\n",
       " 'constantly forgets my trip that i am on despite me entering the confirmation number many many times when i need a boarding pass and it suddenly forgets that im going to be flying today thats not very helpful by the end i had memorized my number because i had to enter it so many times overall slow and clunky love flying delta but sheeeeesh',\n",
       " 'does not recognize my login password etc i had restarted my password just for the sake of it although i didnt need to i tried again and still says credential not recognize just terrible i was this close to purchase a flight with delta given this hassel i dont see my self using this app nor delta in general fix this up delta i had seen you as high standard and was thinkingb of become loyal customer but ever time having an issue logging in is not convenient',\n",
       " 'the app is okay and does its duty navigation within app compared to the iphone version i think the navigation without buttons on the bottom for easy access of my deltatodayetc is a bit annoying you first need to click the burger menu then select so usabilitywise i much prefer this feature on the iphone version accessing the boarding passes also please integrate a pkpass export into google pay like you do for apple passbook or implement at least an android notification starting 3 hours before the flight that brings you directly to the today view which would make it much easier to quickly access the boarding pass looking forward to future updates and keep climbing',\n",
       " 'would be great if it works this app has the uncanny ability to lose my reservation in the app almost every time im standing at the gate waiting to check in or at passport control when i need to scan in suggest screenshotting your qr code boarding pass so you dont lose it at crucial moments',\n",
       " 'the book function from the app does not work i cannot change the destination',\n",
       " 'wont even allow me to set up my account guess through the whole process to then give me an error message at the very last step i do get an email welcoming me but when trying to log in it tells me i dont have an account tried setting up my account again same issue',\n",
       " 'i think they intentionally made it difficult to use it forget your trip give you a panic heart attack when you trying show your boarding pass at gate it tell you to log in it should not need rocket science to fix those bugs very annoying',\n",
       " 'easy to navigate and fast',\n",
       " 'easy user interface accurate and timely updates while in flight and at the airports checkin is very easy and i screenshot the qr code temporarily in case i have connection issues when approaching security if in flight entertainment with delta studio was more integrated with the app that would be nice downloading another app and waiting for the links to load in a separate window when selecting movies is inconvenient',\n",
       " 'constantly will not show seat assignments and will give a oops something went wrong and to try back later gold members are to be able to access to seat selection 72hrs in advance but it doesnt seem to allow that anymore just gives error codes',\n",
       " 'at the check mark for checkin there is larger font reads 14 hours to checkin lower down in smaller font it reads 1d 14 hours checkin make both places read the remaining time before checkin in other time zones that could be confusing no flight in to philippines but app did advise me not to go to the airport app was useless in that regard app needs much work',\n",
       " 'why such important information as boarding pass is not stored locally and readily accessible why half of the time after i background the app i have to search for my flight again entering the confirmation number the app has some nice features like airport map but surprisingly lack a simple convenient functionality',\n",
       " 'this app is garbage do not use this app to check in for international flights or it will screw you and youll have to arrive at the airport an additional 2 hours early for your flight or better yet just book the flight with american united or any other airline that has an app that works correctly',\n",
       " 'thanks for making the tse checkmark so small on the new app interface that even with bifocals you cant see it and for making it bright red instead of blue so that you think somethings wrong when you open your app nice changes why dont you consider people who actually fly and use the app and make the tsa pre sign visible to someone who just glances at their phone without their glasses on even with bifocals its too small to see',\n",
       " 'if a companion is traveling in the same flight with a separate ticket please provide the ability to tie their pnrconfirmation number on the app so if we select seats adjacent to each other we do not lose that because of upgrades for one of the passengers',\n",
       " 'update latest version still has the same bug pretty good app except that when traveling with multiple passengers it presented the wrong barcode to security finally tried the other barcode with their name and came up as mine on tsas scanner but thats a pretty serious flaw in the app',\n",
       " 'while the delta app is what it is a airline application i havent used it in quite some time today it popped up with a notification on my phone with the title and text of test sounds like a compromised application no thank you uninstalling',\n",
       " 'used to love the app clean ui gives me quick control of critical features but then with a build this year it gets hung loading constantly only resolves with closing and reopening the app then waiting its the one thing ruining the app',\n",
       " 'super clunky app poor design when trying to create a skymiles profile i filled out all the fields before it told me my password was invalid i had to fill the whole thing out 5 or 6 times because it kept copying info id filled out into the wrong fields and causing different errors',\n",
       " 'get error messages when i try to reset my password only option is to call customer service locked out of account call customer service please say or enter your longass delta account number pass']"
      ]
     },
     "execution_count": 106,
     "metadata": {},
     "output_type": "execute_result"
    }
   ],
   "source": [
    "norm_train_reviews"
   ]
  },
  {
   "cell_type": "code",
   "execution_count": 107,
   "metadata": {},
   "outputs": [],
   "source": [
    "from sklearn.feature_extraction.text import CountVectorizer, TfidfVectorizer"
   ]
  },
  {
   "cell_type": "code",
   "execution_count": 108,
   "metadata": {},
   "outputs": [],
   "source": [
    "\n",
    "# build BOW features on train reviews\n",
    "cv = CountVectorizer(binary=False, min_df=5, max_df=1.0, ngram_range=(1,2))\n",
    "cv_train_features = cv.fit_transform(norm_train_reviews)\n",
    "\n",
    "\n",
    "# build TFIDF features on train reviews\n",
    "tv = TfidfVectorizer(use_idf=True, min_df=5, max_df=1.0, ngram_range=(1,2),\n",
    "                     sublinear_tf=True)\n",
    "tv_train_features = tv.fit_transform(norm_train_reviews)"
   ]
  },
  {
   "cell_type": "code",
   "execution_count": 109,
   "metadata": {},
   "outputs": [],
   "source": [
    "cv_test_features = cv.transform(norm_test_reviews)\n",
    "tv_test_features = tv.transform(norm_test_reviews)"
   ]
  },
  {
   "cell_type": "code",
   "execution_count": 110,
   "metadata": {},
   "outputs": [
    {
     "name": "stdout",
     "output_type": "stream",
     "text": [
      "BOW model:> Train features shape: (100, 219)  Test features shape: (29, 219)\n",
      "TFIDF model:> Train features shape: (100, 219)  Test features shape: (29, 219)\n"
     ]
    }
   ],
   "source": [
    "print('BOW model:> Train features shape:', cv_train_features.shape, ' Test features shape:', cv_test_features.shape)\n",
    "print('TFIDF model:> Train features shape:', tv_train_features.shape, ' Test features shape:', tv_test_features.shape)"
   ]
  },
  {
   "cell_type": "code",
   "execution_count": 111,
   "metadata": {},
   "outputs": [
    {
     "data": {
      "text/plain": [
       "LogisticRegression(C=1, class_weight=None, dual=False, fit_intercept=True,\n",
       "                   intercept_scaling=1, l1_ratio=None, max_iter=500,\n",
       "                   multi_class='warn', n_jobs=None, penalty='l2',\n",
       "                   random_state=42, solver='lbfgs', tol=0.0001, verbose=0,\n",
       "                   warm_start=False)"
      ]
     },
     "execution_count": 111,
     "metadata": {},
     "output_type": "execute_result"
    }
   ],
   "source": [
    "# Logistic Regression model on BOW features\n",
    "from sklearn.linear_model import LogisticRegression\n",
    "\n",
    "# instantiate model\n",
    "lr = LogisticRegression(penalty='l2', max_iter=500, C=1, solver='lbfgs', random_state=42)\n",
    "\n",
    "# train model\n",
    "lr.fit(cv_train_features, train_sentiments)"
   ]
  },
  {
   "cell_type": "code",
   "execution_count": 112,
   "metadata": {},
   "outputs": [],
   "source": [
    "# predict on test data\n",
    "lr_bow_predictions = lr.predict(cv_test_features)"
   ]
  },
  {
   "cell_type": "code",
   "execution_count": 137,
   "metadata": {},
   "outputs": [
    {
     "name": "stdout",
     "output_type": "stream",
     "text": [
      "              precision    recall  f1-score   support\n",
      "\n",
      "    Negative       0.96      0.93      0.95        28\n",
      "    Positive       0.00      0.00      0.00         1\n",
      "\n",
      "    accuracy                           0.90        29\n",
      "   macro avg       0.48      0.46      0.47        29\n",
      "weighted avg       0.93      0.90      0.91        29\n",
      "\n"
     ]
    },
    {
     "data": {
      "text/html": [
       "<div>\n",
       "<style scoped>\n",
       "    .dataframe tbody tr th:only-of-type {\n",
       "        vertical-align: middle;\n",
       "    }\n",
       "\n",
       "    .dataframe tbody tr th {\n",
       "        vertical-align: top;\n",
       "    }\n",
       "\n",
       "    .dataframe thead th {\n",
       "        text-align: right;\n",
       "    }\n",
       "</style>\n",
       "<table border=\"1\" class=\"dataframe\">\n",
       "  <thead>\n",
       "    <tr style=\"text-align: right;\">\n",
       "      <th></th>\n",
       "      <th>negative</th>\n",
       "      <th>positive</th>\n",
       "    </tr>\n",
       "  </thead>\n",
       "  <tbody>\n",
       "    <tr>\n",
       "      <td>negative</td>\n",
       "      <td>26</td>\n",
       "      <td>2</td>\n",
       "    </tr>\n",
       "    <tr>\n",
       "      <td>positive</td>\n",
       "      <td>1</td>\n",
       "      <td>0</td>\n",
       "    </tr>\n",
       "  </tbody>\n",
       "</table>\n",
       "</div>"
      ],
      "text/plain": [
       "          negative  positive\n",
       "negative        26         2\n",
       "positive         1         0"
      ]
     },
     "execution_count": 137,
     "metadata": {},
     "output_type": "execute_result"
    }
   ],
   "source": [
    "from sklearn.metrics import confusion_matrix, classification_report\n",
    "\n",
    "labels = ['negative', 'positive']\n",
    "print(classification_report(test_sentiments, lr_bow_predictions))\n",
    "pd.DataFrame(confusion_matrix(test_sentiments, lr_bow_predictions), index=labels, columns=labels)"
   ]
  },
  {
   "cell_type": "code",
   "execution_count": 165,
   "metadata": {},
   "outputs": [],
   "source": [
    "DeltaTest = pd.read_csv('FlyDelta_Review_1.csv')\n",
    "AirCanadaTest = pd.read_csv('AirCanada.csv', encoding = \"ISO-8859-1\")"
   ]
  },
  {
   "cell_type": "code",
   "execution_count": 170,
   "metadata": {},
   "outputs": [
    {
     "data": {
      "text/plain": [
       "array(['Negative', 'Positive'], dtype=object)"
      ]
     },
     "execution_count": 170,
     "metadata": {},
     "output_type": "execute_result"
    }
   ],
   "source": [
    "DeltaTest['Sentiment'].unique()"
   ]
  },
  {
   "cell_type": "code",
   "execution_count": 167,
   "metadata": {},
   "outputs": [],
   "source": [
    "DeltaTest['Sentiment'] = DeltaTest['Sentiment'].fillna(DeltaTest['Sentiment'].mode()[0])"
   ]
  },
  {
   "cell_type": "code",
   "execution_count": 169,
   "metadata": {},
   "outputs": [],
   "source": [
    "DeltaTest.Sentiment.replace({\"Negative \":\"Negative\"},inplace=True)"
   ]
  },
  {
   "cell_type": "code",
   "execution_count": 171,
   "metadata": {},
   "outputs": [],
   "source": [
    "Testdata = pd.concat([DeltaTest,AirCanadaTest],axis=0,sort=False,ignore_index=True)"
   ]
  },
  {
   "cell_type": "code",
   "execution_count": 172,
   "metadata": {},
   "outputs": [
    {
     "data": {
      "text/html": [
       "<div>\n",
       "<style scoped>\n",
       "    .dataframe tbody tr th:only-of-type {\n",
       "        vertical-align: middle;\n",
       "    }\n",
       "\n",
       "    .dataframe tbody tr th {\n",
       "        vertical-align: top;\n",
       "    }\n",
       "\n",
       "    .dataframe thead th {\n",
       "        text-align: right;\n",
       "    }\n",
       "</style>\n",
       "<table border=\"1\" class=\"dataframe\">\n",
       "  <thead>\n",
       "    <tr style=\"text-align: right;\">\n",
       "      <th></th>\n",
       "      <th>Review</th>\n",
       "      <th>Sentiment</th>\n",
       "    </tr>\n",
       "  </thead>\n",
       "  <tbody>\n",
       "    <tr>\n",
       "      <td>0</td>\n",
       "      <td>It is not user friendly. It doesn't go to the ...</td>\n",
       "      <td>Negative</td>\n",
       "    </tr>\n",
       "    <tr>\n",
       "      <td>1</td>\n",
       "      <td>I am disappointed with this app! good thing i ...</td>\n",
       "      <td>Negative</td>\n",
       "    </tr>\n",
       "    <tr>\n",
       "      <td>2</td>\n",
       "      <td>I think Delta has a great app. Thanks Delta!</td>\n",
       "      <td>Positive</td>\n",
       "    </tr>\n",
       "    <tr>\n",
       "      <td>3</td>\n",
       "      <td>Garbage - keeps losing my trips when I'm logge...</td>\n",
       "      <td>Negative</td>\n",
       "    </tr>\n",
       "    <tr>\n",
       "      <td>4</td>\n",
       "      <td>The app should display your upcoming flight de...</td>\n",
       "      <td>Negative</td>\n",
       "    </tr>\n",
       "    <tr>\n",
       "      <td>...</td>\n",
       "      <td>...</td>\n",
       "      <td>...</td>\n",
       "    </tr>\n",
       "    <tr>\n",
       "      <td>300</td>\n",
       "      <td>What a horrible update! Trading updated color ...</td>\n",
       "      <td>Negative</td>\n",
       "    </tr>\n",
       "    <tr>\n",
       "      <td>301</td>\n",
       "      <td>It would not download. I had a previous versio...</td>\n",
       "      <td>Negative</td>\n",
       "    </tr>\n",
       "    <tr>\n",
       "      <td>302</td>\n",
       "      <td>Updated app: Have had to re-enter same informa...</td>\n",
       "      <td>Negative</td>\n",
       "    </tr>\n",
       "    <tr>\n",
       "      <td>303</td>\n",
       "      <td>The updated app as a serious problem with the ...</td>\n",
       "      <td>Negative</td>\n",
       "    </tr>\n",
       "    <tr>\n",
       "      <td>304</td>\n",
       "      <td>What a horrible \"update\". Gone are one click e...</td>\n",
       "      <td>Negative</td>\n",
       "    </tr>\n",
       "  </tbody>\n",
       "</table>\n",
       "<p>305 rows × 2 columns</p>\n",
       "</div>"
      ],
      "text/plain": [
       "                                                Review Sentiment\n",
       "0    It is not user friendly. It doesn't go to the ...  Negative\n",
       "1    I am disappointed with this app! good thing i ...  Negative\n",
       "2         I think Delta has a great app. Thanks Delta!  Positive\n",
       "3    Garbage - keeps losing my trips when I'm logge...  Negative\n",
       "4    The app should display your upcoming flight de...  Negative\n",
       "..                                                 ...       ...\n",
       "300  What a horrible update! Trading updated color ...  Negative\n",
       "301  It would not download. I had a previous versio...  Negative\n",
       "302  Updated app: Have had to re-enter same informa...  Negative\n",
       "303  The updated app as a serious problem with the ...  Negative\n",
       "304  What a horrible \"update\". Gone are one click e...  Negative\n",
       "\n",
       "[305 rows x 2 columns]"
      ]
     },
     "execution_count": 172,
     "metadata": {},
     "output_type": "execute_result"
    }
   ],
   "source": [
    "Testdata"
   ]
  },
  {
   "cell_type": "code",
   "execution_count": 173,
   "metadata": {},
   "outputs": [],
   "source": [
    "Testreviews = Testdata['Review'].values"
   ]
  },
  {
   "cell_type": "code",
   "execution_count": 174,
   "metadata": {},
   "outputs": [
    {
     "data": {
      "text/plain": [
       "array(['Negative', 'Positive'], dtype=object)"
      ]
     },
     "execution_count": 174,
     "metadata": {},
     "output_type": "execute_result"
    }
   ],
   "source": [
    "Testdata['Sentiment'].unique()"
   ]
  },
  {
   "cell_type": "code",
   "execution_count": 175,
   "metadata": {},
   "outputs": [
    {
     "data": {
      "text/plain": [
       "array(['Negative', 'Positive'], dtype=object)"
      ]
     },
     "execution_count": 175,
     "metadata": {},
     "output_type": "execute_result"
    }
   ],
   "source": [
    "Testdata['Sentiment'].unique()"
   ]
  },
  {
   "cell_type": "code",
   "execution_count": 176,
   "metadata": {},
   "outputs": [],
   "source": [
    "Testsentiments = Testdata['Sentiment'].values"
   ]
  },
  {
   "cell_type": "code",
   "execution_count": 177,
   "metadata": {},
   "outputs": [
    {
     "data": {
      "text/plain": [
       "False    305\n",
       "Name: Sentiment, dtype: int64"
      ]
     },
     "execution_count": 177,
     "metadata": {},
     "output_type": "execute_result"
    }
   ],
   "source": [
    "Testdata['Sentiment'].isna().value_counts()"
   ]
  },
  {
   "cell_type": "code",
   "execution_count": 178,
   "metadata": {},
   "outputs": [
    {
     "name": "stderr",
     "output_type": "stream",
     "text": [
      "100%|██████████| 305/305 [00:00<00:00, 5083.18it/s]\n"
     ]
    }
   ],
   "source": [
    "norm_testreviews = pre_process_corpus(Testreviews)"
   ]
  },
  {
   "cell_type": "code",
   "execution_count": 179,
   "metadata": {},
   "outputs": [
    {
     "data": {
      "text/plain": [
       "['it is not user friendly it doesnt go to the next screen properly sometimes makes using it a challenge i have tried to make a reservation several times but when i select a flight it takes me to another screen wants me to upgrade i cant get out of that upgrade screen to move forward ergo i may have to switch airlines to book my trip',\n",
       " 'i am disappointed with this app good thing i had screenshot my boarding pass went to the airport and went to the original gate only to find out that they have switched to another gate i could not get this new information because every time i click to view boarding pass app crashes',\n",
       " 'i think delta has a great app thanks delta',\n",
       " 'garbage keeps losing my trips when im logged in',\n",
       " 'the app should display your upcoming flight details other airlines show your bookings in the app this app requires you to enter the booking reference first to find your booking which means you have to store that info elsewhere should be a one stop shop for your delta flight',\n",
       " 'i have yet to remember an app that would be so confusing to use',\n",
       " 'ease and dependable',\n",
       " 'bad last version use the app for many years and always worked great now its not showing my tickets anymore i checked in on the website and the app keeps asking for a check in when you go through that it gives an error message at the endand still no ticket horrible',\n",
       " 'checking in and getting boarding passes went well but the app gave me several incorrect flight updates and sent me to the wrong baggage carousel it consistently wouldnt recognize my email as valid despite sending me emails to that address',\n",
       " 'i cant download it my phone has a time out i would have to sit and click download all day its saying 3 i would give it a 1 love the airline hate the app',\n",
       " 'i always fly delta and their app makes flying with them even easier im typing this sitting on my plane right now i was lucky to actually make it on deltas app updated me constantly on what was going on with my flights so i was able to go straight from my very delayed flight to my next flight without having to stop at the board saving me that time allowed me to make it to the last of the boarding and im able to get to my destination on time the app also updated me on my luggage so i know its here with me on the plane and not going to some other destination or lost in transit it has the digital boarding pass as well so you dont have to worry about losing it in the airport i personally always print out my boarding pass as well mostly as travel keepsakes if you fly with delta it really pays to have the app it just makes your whole trip so much smoother',\n",
       " 'generally a decent app for going paperless which is nice however not a single time i have attempt to purchase a mile booster or make any purchases of any kind through the app have i been able to complete the purchase im always faced with a service is unavailable type prompt and because of this delta has missed out on much of my money lol i will never make the extra effort to use a computer to complete this or purchase anything in person as a pretty stereo typical millennial i can tell you that you are missing out on a lot of money delta by not having a working app you do some much else so well but this is for sure an important piece of the puzzle figure it out please',\n",
       " 'this app is far and away the best airline app out there when my flight was delayed the app immediately offered to switch me to an earlier flight and offered four suggestions the service was immediate and far exceeded anything i could have gotten at the gate or the checkin counter delta has also really streamlined the checkin process for the app all i have to do is acknowledge that i cant bring dangerous materials where other airlines use the checkin process to try and sell you upgrades delta has simply streamlined theres for efficiency im consistently impressed by this application',\n",
       " 'app continually crashes more often than not i cant even make a reservation my reservation has been lost along with my boarding pass at the most inconvenient times better get a hard copy of your boarding pass because you cant depend on the app having it',\n",
       " 'love delta best airline',\n",
       " 'we all need one primary thing from an airline app and thats our boarding pass this is not immediately nor really available from the app it was easier to use their clunky website and get my boarding passes texts to my phone ive never uninstalled an app so fast never found an app so useless it looks like its loaded with features yet nothing i need is contained within',\n",
       " 'the app is a bit frustrating really on my phone the dialogue boxes dont line up in the frame so you cant select anything i have to go in as a guest because it doesnt accept my account information and when i do things like reset my password the app says that the functionality is unavailable and to try again later dissappointed apps like this can be a great help when traveling and just make things so much more simple hoping these get fixed',\n",
       " 'ive used this app for years and its always been great now with my latest trip it was showing my flight as being today even though it wasnt for 24 hours and when i approached the gate to enter the boarding pass disappeared not cool it seems to have some issue with the time zone perhaps never had an issue until now but i could see how it could be a major issue if you are just entering security when it goes away luckily for me i just had the gate agent print a boarding pass for me fix this',\n",
       " 'boarding passes for the right flight automatically showed as if i was flying a day early then on the right day i had to search to find the boarding pass it found it and i was able to use it to get through security then literally while three steps from the gate the pass disappeared and told me i had no flights that day time to uninstall and find an airline that can manage their app',\n",
       " 'cool idea but execution is bad it keeps losing by boarding passes',\n",
       " 'terrible half the time when you open the app to view your trip information it doesnt pull it up rather it asks for your flight number and confirmation while you are already logged in why do they think i got this app so i have that information handy i cant tell you how many times i have stood in line to board only to get to the front and need 5 minutes to look up my information separately',\n",
       " 'awful love the layout and the look but it often crashes andor just doesnt work trying to change my seat from the boarding pass screen always crashes doing it from my trips usually works but overall its no longer dependable even for a boarding pass too often ive gotten into the boarding area sky btw and the boarding pass disappears and i have to step aside and wait until the gate agent can manually check me in by then theyve boarded the whole plane its just ridiculous',\n",
       " 'oooweee im a bit new to delta and this is my first time using the app it is some hot garbage cant just view my trip without inputting conf try to check in but get the one of the legs of your trip requires a gate agent but it keeps kicking me back so no mobile boarding pass gate changed and 20 min later were still waiting to take off no updates on either from the app but i can track my bag what a turd',\n",
       " 'the phone app is great the wearos app not so much the wearos app will stay on and not show the boarding pass well white screen most of the time and not the qr boarding pass code also with the new wearos 20 upgrade this app caused the watch to constantly crash this morning every 3045 seconds uninstalling the watch app brought stability back to the watch',\n",
       " 'okay help tool dont depend on it while i was flying delta sput me out on my transfer airport with 10 minutes until boarding at the opposite side of the airport and i still had to go through passport check i know that is not the fault of the app but it certainly didnt make it any easier that i had to hunt down an airport employee that didnt send me away because of my young age to discover what my boarding gate is since the app didnt display it it also forgot my flights',\n",
       " 'undo your changes when my screen times out i have to relaunch the app this is a huge inconvenience when boarding going through security or even searching fights this a relatively recent change that is a big pain if i have the boarding pass up and the screen times out i should not have to go back to the beginning to relaunch the app and then wait for the qr code to pop up just to go through secure or boarding please go back to prior functionality that leaves you where you left off',\n",
       " 'app requires a good deal more attention in order to make it functional app regularly requires me to recheck in in order to access my boarding pass which has caused numerous frustrations while boarding in airports with poor connectivity this is a major bug that needs to be addressed',\n",
       " 'awesome service great flights',\n",
       " 'i rated the app one star for one reason it doesnt save my boarding pass it says i dont have any current trips and i have to search for it via my name and confirmation number every time i open the app this is a huge pain while traveling in the airport because i have to keep pulling it up the boarding pass and trip is such a basic thing it should not disappear from the app honestly it created such an issue while going through security that i dont think ill be flying delta anymore',\n",
       " 'the app hasnt been reliable for at least 3 months you have to have paper boarding passes as a backup i have been at the gate on a connecting flight and your boarding pass disappears it says that you have no flights scheduled then you are holding up the line it is very frustrating i have reported the problems to counter personnel and gate personnel very unreliable',\n",
       " 'app never allowed me checkin always had to use a laptop or desktop app needs access to gps location for some reason but couldnt possibly rely on phones provider for datetime my phones datetime updates automatically by signals in time zones without having to enable gps app is seems slower now june 2019 than in march of 2018 app runs even when i have no flights unable to disable removing until i need to fly again',\n",
       " 'site way complicated to navigate takes you all over but not where you wont needs to be way more of a simple design lay out',\n",
       " 'the app works only under ideal circumstances today i was flying on an itinerary with 2 tickets under different names the boarding pass barcodes were reversed not matching with the names and seat assignments displayed above them this caused a big mess at security and the gate since it isnt possible to verify the barcode myself this is something delta should make sure works also the app doesnt let you send the sms boarding pass that works correctly you have to use the website',\n",
       " 'fly american often but lately have had a few delta flights theyre both the two largest american airlines and i expected the apps to be similar wrong the delta app behaves in complely unexpected ways it suddenly needs to refresh when you just looked at your boarding pass a minute ago but now youre showing it to the agent before entering the line causing other passengers behind you to look at you in disgust this is just one example',\n",
       " 'the app constantly reloads your check in every time you open or toggle to the app fails as you likely wont have service at the terminal door itd be helpful to add the option to save boarding pass to a mobile wallet the application will also auto check in when you open it the night before the flight bypassing the option to change seats or request a comfort seat once youre checkd in trying to change seats results in an error they will tell u to call 800 to waste time no fix in sight',\n",
       " 'overall the user experience is fine however i have had a number of issues where a trip will suddenly disappear ive been sitting at the gate go to pull up my boarding pass and its gone leaving me to scramble for my confirmation number to readd the trip my next trip ill be getting a printed boarding pass',\n",
       " 'this app is useless as a boarding pass ive tried to use it twice and both times it would repeatedly log out before boarding ltd force me to reenter my name and confirmation number almost every time tried to use it even if i hadnt closed the app or locked my phone this last time i managed to get through security using it but when i got to the gate the app forgot me again and said it couldnt be used for my flight they had to print me a boarding pass there at the gate 100 useless',\n",
       " 'awful experience poorly designed ui slow responses crashes paper tickets were a much better customer experience delta should be ashamed to subject their customers to this app',\n",
       " 'its too flakey always having difficulty',\n",
       " 'works intermittently at best deltas website is not much better',\n",
       " 'this app is incredibly slow on my phone and flaky i have to delete it and reinstall it quite a bit',\n",
       " 'the app works great when youre not in the airport however when youre in the airport it fails it either takes several minutes to load your boarding pass or it gives up entirely im at fll now and had to get printed tickets from the gate when the app lost all of my information and stopped logging in after spending several minutes at the tsa station waiting for the boarding passes to load even though i had them preloaded already and waiting to go screenshots are the way to go',\n",
       " 'bag tracker doesnt show which carousel the airport monitors have the information but not the app inbound flight selection rarely works on the first attempt must reload page then try again app wastes 5 seconds every time it starts just to show the delta logo early and late flights looks the same with a big red exclamation point clicking on notifications doesnt take you to the associated page and notification disappears',\n",
       " 'i use this app pretty often as i travel about 15 times a month on average most of the domestic trips on delta the bar was pretty low for airline apps but im always so impressed with how good this app is i can do everything i need to on the app and have all the info easily at my fingertips searching for flights is easy changing flights or cancelling flights is easy i love that the boarding pass is clear easy to use helps save paper updates pretty instantly with any new info and has all necessary links like clicking on your seat takes you to the seat selection screen',\n",
       " 'very powerful and useful app but calendar is so frustrating add to calendar feature is suboptimal when an itinerary consists of two connecting flights it only adds the first leg even on the apple version the total span of time is added for both flights i still have to hard code type the 2nd flight number but not so on android version',\n",
       " 'platinum member the app has some nice features but utterly lacks a good user endgame it reels with a corporate you come to me feel why do i have to check in 10 times for a simple flight to get to my boarding pass why do i have to start over every time i launch the app while waiting at my gate get it right delta you have billions of dollars a proper app is a small thing in the scheme of things you have a 35 star rating for this app and that is generous deliver',\n",
       " 'i dont know whats happened to this app but none of my reservations pull through anymore it used to work so much more smoothly in the pastfix the dang issues delta',\n",
       " 'this last trip had a delay due to weather the app told me that it was running late and suggested that i get a different connecting flight it was so helpful and that new flight was at no charge maybe because i had the insurance the reason for the 4 stars is that while it was usually great at remembering my info even though i was signed in as a guest it would forget in the worst timing when i was in line to board the plane and needed to show my eboarding pass i would recommend it anyway',\n",
       " 'the app doesnt let me even sign in',\n",
       " 'my trips was the most useful part of this app now its just a marketing tool to up sale customers no focus on usability for the actual guest i loved using it to simply validate that my flight and seat assignments are correct and give me a feeling of confidence that delta didnt muck with my original purchase months ago it shows two radio buttons a dollar amount or sky miles and a button that says select or purchase seat assignment what a confusing mess sales dept has ruined the app',\n",
       " 'this is the absolute worst airline app i travel weekly and it is completely unreliable the moment you lose wifi or data your boarding pass disappears and the app says you do not have any trips this is ridiculous other airline apps keep your boarding pass available at all times i am platinum on delta and the app is so frustrating that i am considering going back to united fix this',\n",
       " 'most common issue i see among user reviews applies to me as well trips that i have previously entered do not get saved when i return to view later the website seems to have this same issue this makes it so the user must enter their firstlast name confirmation code every time they want to view trips which is very inconvenient accessing the boarding pass quickly is the only reason i have for downloading airline apps in the first place this should be a high priority bug phone pixel 3',\n",
       " 'i would give it three stars if this was only for domestic flights i tried this for my familys trip from a us city to cancun the checkin worked fine though i had to enter passport information for myself my wife and son but several significant problems happened after that 1 the app does not provide an offline mode when we arrived at cancun and went through the custom and security i was asked to show boarding passes at that time my cell phone was not connected to the network via wifi when i opened the app it tried to update the information and said something like need to be connected to network i couldnt find a way to show eboarding passes 2 there is no way to show eboarding passes after the flight has arrived at the destination so in my case i guess i couldnt have shown the eboarding passes at the security anyway even if the app was connected to the network 3 for our return flight i tried to check in at the hotel but the app didnt allow me to do so it only worked for my son because he is a us citizen my wife and i had to check in at the airport so it is useless for international flights',\n",
       " 'dont use for bag check error when adding bag wapp added bags to all 6 in party in not just 1 person checking bag couldnt pay or correct error in app cs agent kept talking over me when trying to explain problem ten min in call finally asked for confirm to check prob couldnt correct either and said to just check airport but we were staying disney resort so bag transfers from resort must be paid in advance are printed on boarding pass very frustrating',\n",
       " 'i recently flew and forgot my delta credit card and couldnt make purchases on my flight id like to see added to the app a qr code in the app linking the credit card so the flight attendant can scan the qr code charging to my credit card this will also save the flight attendant time as they will no longer have to input an email address to send a receipt what do you think',\n",
       " 'the app doesnt work at all had to print my boarding passes anyway because the stupid app wouldnt pull it up also as a side note delta has been a horrible experience and after this trip i will never fly delta again delta has forever lost my business i will be deleting this app you guys are horrible all around and the app is a reflection of this',\n",
       " 'i have spent over an hour trying to book flights for myself and a friend and i have never had so many problems with anything first of all i cant book through the app because im using gift cards and there is absolutely no place to use them on the app which is absolutely ridiculous and then i had issues trying to do it online i thought apps were supposed to make things easier not harder',\n",
       " 'needs to be cleaned up too many tabs needs a widget like the other 2 major carriers the app loses my record and have to type first and last name everytime looking for my recordshould know my name from my acount that im logged into just doesnt look clean and sharp and bright like other airline apps colors are dark and bland give options like find skyclub or why is my flight delayed',\n",
       " 'the app is consistently spotty were sorry but we cannot locate your flight at this time or were sorry but we cannot complete your request at this time etc unfortunately these issues occur when the app is most needed check in boarding or at times when the app is needed for updates during times of flight issues the app should save time and stress for the customer throughout the entire travel experience but it has consistently in the last 7 months failed to do this',\n",
       " 'fails to update flight info such as gate and departure time even though all the info at 24 hr prior checkin and info at airport arrival is up to date the apps flight departure time and gate info doesnt get accurate info until the plane that youre leaving on has actually landed at your airport just print boarding pass on a pc and do it the old way at least youll have the info app also feezes and needs to be restarted',\n",
       " '1 entered valid credit card several times and it gave fatal error and required that i start over repeatedly 2 why cant i shop for flights and switch between credit card and miles at the end 3 why dont you store my delta credit card that ive used dozens of times on your app i always click save for later when available 4 all fields required error but i filled in all fields 5 app wont keep me signed in no matter how many times i try to save credentials delta get it together',\n",
       " 'a silly app if youre flying codeshare i flew with a delta ticket on aeromexico i checked in on the app but had to check in again at the airport with aeromexico to get a boarding pass the delta app offered no information on gate number departure time baggage nothing it was absolutely without value apart from making me believe initially that i was checked in',\n",
       " 'this app was great until this morning when i was getting ready to go through airport security i had it up on my phone and when i pulled it up the app said it was temporarily unavailable i couldnt get it to work that i had to go back to the ticket counter and have them print them off i had almost missed my flight so disappointing',\n",
       " 'i mean it does the job sometimes for a nationwideinternational company this app is pretty subpar it frequently logs you out using a password manager seems to not allow you to log in seat map and selection screens dont work all the time and it generally feels sluggish pared with the awkward feel of the user experience and it leaves you with a bad taste in the mouth before you even get to the airport its a shame really especially when uniteds app does the same but much better',\n",
       " 'keeps crashingdid a reinstall still crashing i only fly delta not very useful if i cant use it',\n",
       " 'good app does what i want when i need it',\n",
       " 'i just returned from a trip i flew on 417 and 424 i managed 4 boarding passes with tsa on the phone on 417 just as we were about to board the boarding passes completely disappeared from the app just not there caused a delay had to provide my license they had to print 4 boarding passes i chalked it up to a glitch a week later it was time to board 4 people again i loaded the app before security and the boarding passes were there i hung out at the airport for an hour before boarding and they ere there i was checking all of the time because of the previous experience but was confident it was a glitch guess what right as my zone main1 was boarding again they disappeared nothing i tried to do worked i logged out and back in i tried to search for boarding passes via confirmation i even restarted my phone and they were gone how frustrating whats the point luckily i used the screenshots this time but the bottom line is the app cant be trusted dont even get me started on the old broken down plane i flew on',\n",
       " 'nothing like getting to the front if the security line for a flight you are already late for and your boarding pass disappearing from your screen as youre about to scan it got a message saying no travel plans found for traveler had to run out grab a pass from a kiosk wait in line again and barely made my flight this app is extremely unreliable also cant do same day flight changes from app',\n",
       " 'the fly delta app is beneficial to every type of traveler as a leisuretraveler and medallion member the fly delta app provides updated on the go information thats relevant to what im doing bag tracking boarding passes seat maps and flight status are all accessible within seconds mobile checkin is seamless flight updates and alerts such as time changes gate changes boarding starting and cancellations are delivered instantly',\n",
       " 'love the app hate the bugs its essentially a great app but when switching from cellular to wifi or just the opposite and the app is open it wipes out all of your saved trips if you use the back button or force close app it also erases seems to only be an android issue its extremely frustrating when you are in line with tsa qnd you lose your boarding pass',\n",
       " 'the app constantly boots you so you have to log in every time you use it it also frequently rejects correct log in information i couldnt log in with a password i had written down the last time i changed it then was forced to change my password which was then also rejected flying is stressful enough without being locked out of your account before your flight every time',\n",
       " 'for at least 4 months this app has not allowed me to book travel through it and wont remember my delta amex info i havent written review because deltas usually on top of things but this is rediculous i go through all steps of the purchase until where i enter new credit card and click the buy button it tells me i need to fill in all fields to continue and vacates what ive put in the security code field i then retype my security code and it does it again always deleting what ive typed',\n",
       " 'i use this app every time i fly about 46 times a month its very good when it works if there is any sort of flight delay the app becomes completely useless 9 times out of 10 it doesnt update to your latest flight if they rebook missed conmections i also travel with a dog when you do that the airline doesnt let you check in on the app which is fine but once i check in at the airline the app should start working as normal but it doesnt it also has constant errors when picking seats',\n",
       " 'it will often drop my reservation when i reenter the flight confirmation number and name it just spits out the error we were unable to find a reservation with the information provided please try again yet if i go to the delta website no problems finding my reservation this crash usually occurs when the flight gets delayed or when youre trying to pull up a boarding pass to get on the plane',\n",
       " 'cant get in cant reset login',\n",
       " 'very good airline app',\n",
       " 'app did not update my connecting flight information gate boarding time even though the gate was listed 24 hours ago when i printed my boarding pass choose the track my bags button and i was required to put on my bag numbers i did not have to do this with the united app the app does not give the information about the flight power wifi food etc',\n",
       " 'consistently by the time i reach my first stop all electronic boarding passes are gone even the one i used on my first flight ticket counter and gate personnel are aware of this flaw hopefully you are too please fix',\n",
       " 'its very inconvenient to use this app cant remember my name and any flight confirmation number i have to go through a cumbersome login procedure every time i reopen the app to access my boarding pass in the end i had to use the delta website to print my boarding pass to a pdf file on my phone',\n",
       " 'this app is buggy and unreliable 1 even if ive preloaded my boarding pass when i have access to data when i get to the gate about half the time the app relaunches and makes me log in again and enter the flight number 2 when flying as a 2nd person on another persons itinerary both qr codes res',\n",
       " 'great except when it glitches unexpectedly at the very last moment my wife and i decided to go completely electronic on our last flight no more printed boarding passes we both had the delta app on identical phones and could both bring up both boarding passes on either phone we thought even if a glitch on one phone we could bring up the boarding passes on the other phone 5 minutes before boarding we both had the delta app open with both of our boarding passes on the screen then both our apps simultaneously logged off requiring us to login again with our passwords which we didnt know this despite the fact that the app always remembered our passwords in the past arghh fortunately the delta gate attendant brought up our boarding passes on his terminal and let us on he acknowledged that others were having the same problems the fact that both of our apps went down at the same time indicates that this is probably some security measure from the delta server ok if this is necessary at least let us know',\n",
       " 'this app is terrible constantly giving errors and has to be restarted and has also bugged my boarding passes before when travelling with other today i reset my password on the computer because of too many login attempts i go to log in on my app and it says my account is locked and i have to call customer service what but i just reset my password i go to log back in on the computer locked as well customer service tells me they have to wait 24 hrs why even tell me to call them',\n",
       " 'crashes every time',\n",
       " 'i gave up on this app after it repeatedly asked to change phone settings with no luck bottom line the competitor airline apps are easier and dont require this difficulty as a business traveler the app needs to work all the time or i use another airline simple as that',\n",
       " '3 out of 3 times ive used this app it functions well up until about 2 hours before my flight at which point my flight details are removed and searching with my confirmation number does not work forcing me to print a boarding pass i can screenshot my pass earlier to use it and hope that nothing changes but this is delta and that is not a positive experience happy to update my rating if i can get onto a flight 3 times in a row without the app clearing my flight data',\n",
       " 'doesnt consistantly give notifications on multiple occasions it failed to pull up boarding passes behaves erratically when not able to connect to the internet like when your phone is trying to connect with airport wifi but the router wants you to agree to ts and cs user authentication can be difficult',\n",
       " 'it keeps crashing on my galaxy s9 i literally have to uninstall and reinstall every time i use it i dont have this issue with any other apps its very frustrating and not what i expect from my favorite us carrier',\n",
       " 'i have used virtually all the major airline apps and this one is way better than any other remembers my info if i want tells me when there is a flight delay tells me where my checked bags are at if there is a delay that may compromise a connection it offers suggestions helps quickly find the lounge very important even lets me save a pic of where i parked my car the only downside is that it is difficult to check in to code shared flights with westjet but easier than unitedair canada',\n",
       " 'nice app but needs to fix 2 things i can never pay for my luggage ahead of time i check in on the app then go to the airport to pay for luggage i also need to put my ktn in at the airport and the app doesnt update by the time i get to security would be nice to be able to add it via the app but it does provide good flight and baggage info',\n",
       " 'love the airline and service but ive not been able to book flights directly through the app for a few months ive tried uninstalling and reinstalling as well as confirming it had all needed permissions cleared data and cache and it never lets me select airports managing reservations ive created online has never been an issue but its slightly irritating that i cannot book through the app would be 5 stars if i could book through app successfully',\n",
       " 'logged me out wouldnt let me log back in tried multiple different avenues to attempt even said my email was invalid horrible experience for someone who has an anxiety diagnosis do not recommend',\n",
       " 'never remembers my login information now it wont let me log in at all',\n",
       " 'it runs constantly in the background even when not used even after i kill the app it restarts again and again i use it maybe once in 23 months so i uninstalled it i will only install when needed and immediately uninstal it delta you need to do a better job',\n",
       " 'its always losing my trip right before i need it its nuts i put in my details it finds my trip and then i get in line phone screen goes off and i go back to the app and it says no trips find your trip i now have to hold up the line and type my confirmation back in to pull up my pass its soo bad i dont fly delta because of it when i can oh and when trying to type in your name and confirmation to find your trip if you switch apps it clears the fields',\n",
       " 'confusing has some good features but its almost impossible to find information about upcoming trips its way too focused on whats happening in the next 24 hours and selling you upgrades and has way too little useful information about future flights its basically a marketing tool for delta',\n",
       " 'the app is quirky on a samsung 8 it does not all me to purchase flights continuously kicks the city outi also have issues checking in my work around is to heck in on line then it shows up on my phone all of this defeats the purpose and especially as much as i fly for business and pleasure i also emailed delta directly with these concerns with no response',\n",
       " 'latest upgrade is broken my trips to list trips to select trip to view bording pass 4 clicks goes to a fully new screen that shows a background with small letters about when next trip occurs trip notifications are directed to screen that says you have no upcoming trips deleted app reinstalled but this didnt fix the issue not usable for showing boarding pass any more back to paper tickets',\n",
       " 'the android os app works well enough though its not as polished as the app for the iphoneipadapple watch which brings me to my major issue with this app there is an app for wearos that shows up on my watch so i download and install it on my fossil sport only to tell me that its incompatible with that device it also doesnt work with the huawei watch 2 q explorist hr lg sport and two other wear os devices ive tried which begs the question which devices does the wear os app work with',\n",
       " 'ok when it works but it doesnt work about 50 of the time frequently says oops something went wrong and crashes or my boarding pass disappears such as yesterday right before i had to board my plane nice going delta no option to download the pass for offline use which is essential if the airport has crappy wifi doesnt keep you logged in kept having to look up my confirmation number even though my flight details were there check out uniteds app theirs is much better',\n",
       " 'first time using this app and it worked great my husband and i each downloaded it and used it for our trip we received our eboarding passes within the app were able to checkin the day before our trip received important notifications concerning our trip prior to and during it including gate change notifications as well as a delay in boarding message very easy to use',\n",
       " 'wont allow checkin without location permission will not fly with these chumps again',\n",
       " 'app continues to close in midseason cannot file my report for delayed baggage',\n",
       " 'this app constantly crashes i cant accomplish anything on it ive restarted the app ive restarted my phone ive uninstalled and reinstalled the app multiple times nothing works just a really poor functioning app i expected better from delta',\n",
       " 'warning major payment bug when you pay for baggage this app will tell you the transaction couldnt be completed even though it was so you try again and get charged each time now i have to chase delta for refunds they never even flagged it or contacted me to refund me for extra baggage payments for a previous flight i took',\n",
       " 'loaded boarding passes on the app checked our bags and proceeded to security scanned my boarding pass fine scanned my wifes then when tried to swipe to my childs got an error cant load boarding pass swiped back to mine same error frustrated and had to go back to checkin counters to print paper passes good thing we had plenty of time unreliable dont depend on it',\n",
       " 'this app sucks my flight was canceled and decided to download the app to keep current on my connecting flight status i ultimately missed my connection and was automatically rebooked on the next available flight twice i only knew this because i was looking directly online the app still had me on the first flight i missed and if i relied on the app i would have had no clue what was going on not to mention it is hard to navigate i am deleting the app and going to rely on the website',\n",
       " 'this is absolutely awful i used this app and website maybe a two years ago now and it was one of the best experiences now this app and website both suck like most reviews complain about already you need to enter your info every time you needwant to see flight status check in etc it is extremely annoying to deal with the app is literally the website in an iframe what happened delta',\n",
       " 'not a great option for boarding pass even though i stay logged into app with frequent flyer number have to search for flight with name and confirmation number app boots me out of boarding pass after half hour and have to search again with conf number really inconvenient and pannic inducing if you get booted out right as you reach security checkpoint and have to search through your emails for the stupid conf number if you can access trip nice to have updated gate info',\n",
       " 'app is garbage if you dont have internet access the app loses you boarding pass it supposed to be able to save the boarding pass to your wallet on android it does not even give you the option and the iphone version keeps coming up with errors app should be simple and have the ability just to save the boarding passes with out needing internet access will be deleting the app and going back to paper so much for trying to save natural resources',\n",
       " 'problem all time stupid app',\n",
       " 'log me out and doesnt allow me to log in with the right credentials doesnt accept my credit card information i have to call in to make reservations unreliable',\n",
       " 'been trying to download app several times over the last month still not successful tried with 2 other phones still same issue',\n",
       " 'sends out spam test notifications',\n",
       " 'this app is not easy to use i cannot navigate through it at all to be fair maybe i am just use to the ease of the alaska airlines app where i can easily add other family members reservations to my phone too make changes and contact alaska airlines quickly this will be the first time i fly with delta i am optimistic that the flight will be more pleasurable than their app if not i will be back to flying only alaska airlines',\n",
       " 'functional but crashes a lot worst part is every time you need to change your password this app will log you out and lock your account then you have to call in to reset your password again before you can use your account after several times of doing this im contemplating whether this app is worth having in the first place',\n",
       " 'i am not able to login to the app anymore something has changed the usual phone restart cleanup delta app uninstall and install didnt help i am still able to log in while using my laptop same credentials dont work for the phone app ill add more stars when it is fixed samsung galaxy s8 android version 9 update july 27th 2019 back in business thanks to cust service going extra mile happy using this app during every travel of mine rating increased thank you',\n",
       " 'topped working this morning everytime i try to login it says oops please enter valid credentials i can use the same credentials to log into the website from the same phone and other devices restart clear cache clear data uninstallreinstall no dice same issue is still there so the app has rendered itself completely useless for me',\n",
       " 'right as you get to the tsa station to go through security at a packed airport is pretty much the worst time for your airline app to crash and dump all your flight info and boarding pass had to back out of line and go all the way back to print my boarding pass uninstalled the app immediately after that i could have missed my flight',\n",
       " 'theres no way to view my return flights information the app has no way of reporting issues other than calling a phone number',\n",
       " 't does the job and is honestly much better than it used to be but for an app that you expect to use while traveling to just completely not work while youve got a vpn running really you mean i have to open myself up to security risks to use your app bad bad move delta',\n",
       " 'great app but whenever im checking in using the app i have to reinput my travel documentation even though its already in my profile and when i try to pay for luggage it continually declines or doesnt process the payment regardless of the type of card used other than that does everything i need it to on a galaxy note 9',\n",
       " 'absolute garbage the app doesnt even work had to change my password 8 times and every time it has said i am not entering valid credentials the whole point of an airline app is to make it easier for the customer to use and have flight info on their phone this makes it impossible to even log in to waste of space and time',\n",
       " 'it works almost entirely as it should but one of the programmers needs to fix the text entries for departure and boarding times on every single one of my flights it will say something ridiculous like departs at 10am boards at 1230pm its an easy fix and i dont see why it wouldnt be patched',\n",
       " 'very useful lets you view flights without needing to logincreate an account opened app after flight notice and was checked in automatically good that it only supports portrait orientation will not accidentally flip when you place it on the reader do wish it had a separate ticket view that automatically boosted screen brightness as other apps do but on the other hand no problems with default settings',\n",
       " 'this app used to run perfectly now it seems to log me out just as i am getting ready to board a plane a page pops up and says you have no flights today as im in line to board its frustrating my quick fix it to take a screen shot of my boarding pass or print off my boarding pass this issue really needs to be fixed',\n",
       " 'always print boarding passes because the app randomly logs you out or crashes usually when youre in line to board and you have to have your confirmation number or cc number handy to get your flight info again when it works its fine but i just cant count on it to work',\n",
       " 'this app worked at one time but now it just crashes when checking in so now it seems that i can only use this app to see my boarding pass but still have to print it just in case this app doesnt work hmmmm i only fly delta due to comfort this is not going to change that but delta needs to fix this',\n",
       " 'terrible i can login to the delta website and get all of my information but the delta app doesnt recognize me and wont let me login had to go through a third party app to checkin through my phone and get my boarding pass third party app even uses my skymiles',\n",
       " 'use expedia to book this for just boarding pass especially if you plan on buying travel insurance they can charge you togther over the app but cant help you past that delta needs to do a better job at being responsible for products they sell3rd party or not one gal w delta origionally was helpful but god help you if you get broken english robots after hoursif you record conversatuons sugest you review them may switch back to alaska after this last episode but there are some good',\n",
       " 'most of the time when you need to use the app it will kick you out and you will have to reenter your user name and password then it still wont let you in because your password is incorrect so you wait 20 minutes sign in with the same password and it will let you in dont close the app though because as soon as you do and try to get back into it it will need a password and that password will be incorrect really really really frustrating',\n",
       " 'keeps crashing and losing my flight info its so frustrating whether it is going in through the security check point or boarding the plane this stupid app crashes cant locate my flights my trips sucks so i have to find my confirmation number and find my boarding pass its only good for checking in on time another annoying thing it does is not update any delays such a rubbish app might s well just have the boarding pass printed out giving it one star because i print it out',\n",
       " 'best airline period',\n",
       " 'really disappointed lately in this app i constantly have to sign back in and often it doesnt recognize the known password or biometrics my eyes dont change im diamond medallion so i use this app nearly every week and its just not working',\n",
       " 'it worked better in the past and has gradually gotten worse i have to enter my login information everytime and it dose not have my flights saved in the app when i do login if you checkin on a computer it does not register on the app this all makes it difficult to call the app useful',\n",
       " 'when i need it to work it literally makes my info disappear its not useful if i have to keep adding my confirmation number only to have it disappear when im boarding a plane absolutely ridiculous its been useful for some other information like which baggage claimterminal and gate they even have airport maps but literally none of this is useful because the biggest issue is having to readd my trips over and over again',\n",
       " 'as others have stated app loses flight info shortly before takeoff crashes when attempting to view boarding pass frustrating',\n",
       " 'cant believe that we had to pay 30 for our luggage going and returning home a total of 60 dollars the baggage handlers tore up our new luggage i was very disappointed and dissatisfied with delta airlines',\n",
       " 'the best travel app',\n",
       " 'best airline app i have ever used wonderful user experience',\n",
       " 'terrible frustrating app always shows no upcoming flights even when i have entered the flight now i get an alert that it drains my battery and with no usb on the flights ive had with delta thats an issue poorly developed and not easy to use they should use alaska airlines app to see one that works',\n",
       " 'very inconvenient app used it as guest to checkin while the checkin itself was smooth it forgot my itinerary 3 times had to manually reinsert my credentials to see the boarding passes on top of this the app does not show the option to email boarding passes imagine you are out of data midway through your trip',\n",
       " 'glitchy gates dont update keeps telling me to check in when ive already done so and even one leg complete and waiting on another in the airport not user friendly getting the boarding pass requires experimentation to find the right screen uniteds app should be what they aim to achieve',\n",
       " 'my flight keeps getting removed so i lose my boarding pass when i need it most',\n",
       " 'they should remove this app entirely until they resolve such an enormous problem as randomly deleting your itinerary ridiculous i always get a printout of my boarding passes just because this app is such a let down it only surprises me when i can actually use it to board my flight',\n",
       " 'im using this app for the first time it dropped my itinerary while i was in one of my connecting airports so i had to look up my info again elsewhere the app wasnt really adding any value in the first place so im uninstalling it and not using it again im glad i wasnt relying on it',\n",
       " 'missing one important thing users should be able to complaincompliment their flight crew through a form in the app click on the flight click leave feedback about your experience and allow user to type i had a great crew bwislc but forgot their names by the time i got internet access',\n",
       " 'this app works ok generally but i have been having issues with my trips consistently i would have an upcoming trip and it would not display and indicate i have no upcoming trips ive uninstalled and reinstalled the app without much improvement totally hit or miss if my trips are displayed',\n",
       " 'whenever i get a notification about a flight from the app and then i click on the message the app crashes and my boarding pass dissapears this happens frequently and is unacceptable considering i travel frequently the whole point of the app is to be more efficient and to have everything accessible in your phone this terrible app is driving me to look towards other carriers and i have diamond status with delta 3 years in a row',\n",
       " 'i travel a lot on a number of airlines delta has the best app hands down i like the great variety of information available plus the ability to book andor change flights easily the notifications for boarding baggage status and arrivaldeparture gates are the best in the business this is the ultimate airline app',\n",
       " 'had to keep adding my flight info so i could use boarding passes at each leg of my trip why does it forget this info example checked in and as i was walking up to the tsa check point it forgot my info and i had to reenter the info',\n",
       " 'this app loves to fail just as im approaching tsa and has on a number of occasions forced me to exit a line to go get a paper ticket it also loves to lock my account claiming failed pw attempts maybe others have better luck but my experience has been endlessly terrible to be avoided',\n",
       " 'horrible i tracked a flight from last saturday and because they use the same flight number regularly i am now getting notices about this weeks flight no way to delete it or another flight number that i entered incorrectly had to uninstall and reinstall because thats the only way you can track their flights total garbage',\n",
       " 'i used this app and worked great and would have given it a 5 star until i upgraded it recently lost all my flight information and reservations and cannot retrieve this important information for my return home i deleted the app and reinstalled it with no success this leaves me stuck as cant use telephone for air canada and they have no email to confirm flight information this is very upsetting to say the least richard',\n",
       " '6 month ago i gave a 1 to ac app it was a mess now its getting better and better and i use it daily without any problem still slow and the waiting should be manage better next step the visual which is minimal keep it up',\n",
       " 'this is the worst app ive ever used it wont let me add boarding passes for an existing reservation and checked in for it would not let me finish the check in process and i had to use the website on a laptop instead whats the point of offering the app if its useless',\n",
       " 'this app sucks so bad that you should consider using west jet every second booking the check in is not working not on the cell phone or i pad i will consider not flying air canada anymore because of there failing app convinence out the window back to old style check in',\n",
       " 'honestly if i can give this app a zero i would nothing but frustration with air canada and aeroplan credentials i travel often with many airlines and this app has to be the worst the user interface absolutely useless so frustrating',\n",
       " 'worked well until november changeover in software never works now need name and booking reference number to do anything why cant they use flight number or aeroplan number as well who carries their booking refernce number useless app now',\n",
       " 'this app never works all you get is sorry an error has occurred we hope to resolve this issue soon you cant download your boarding pass or check your flight status',\n",
       " 'tapping continue button twice causes failure i was unable to checkin using app after i checkedin at air canada web page i cannot add boarding passes to the app',\n",
       " 'booking references not found i can check my booking just fine on air canada website so this app is not working update 2722020 its working again hopefully it still works after future updates',\n",
       " 'you went from being a useable app which allowed you to basically check everything about your flight to basically a bloated app that points to your website worst is you are forced to update the app',\n",
       " 'doesnt work keeps giving me an error message every time i look up my flight i have installed and reinstalled several times to no avail',\n",
       " 'what a garbage app doesnt update any information gate seat and it keeps giving me an error when adding the boarding pass such an embarrassment',\n",
       " 'the flow is completely wrong and unintuitive checkin and boarding passes under more really notifications now limited to one option all or nothing choice and calendar integration disapeared or just just hidden many layers down in a menu item updated to 3 starts from 1 because of improvements described below calendar synch is half there hidden a few layers down but has to be trigged manually for each trips still not intuitive',\n",
       " 'like the other reviewers the app is very difficult as every step taken results in a message informing me that the session is no longer available checkin online is easier but another barrier is the app is not compatible on any samsung device not available for download to our samsung tablets from google play this is not good if you have kids',\n",
       " 'the flow is completely wrong and unintuitive checkin and boarding passes under more really notifications now limited to one option all or nothing choice and calendar integration disapeared or just just hidden many layers down in a menu item updated to 3 starts from 1 because of improvements described below calendar synch is half there hidden a few layers down but has to be trigged manually for each trips still not intuitive',\n",
       " 'your app is as bad as your customer service absolutely garbage will not get another dollar from me after throwing up error codes and triple charging me for a single ticket and not even giving it to me then sitting on hold for 3 hours while offering great customer service figure it out',\n",
       " 'terrible old app gave you so much more used the app in december to do an eupgrade for my self and a companion received a confirmation then when arrived at airport there was no upgrade applied the ticket counter couldnt fix it as they can no longer upgrade seats to business class so ended up in some lousy seats in economy but heres the kicker they took the upgrade credits anyway and 6 weeks later still have not given them back',\n",
       " 'absolutely horrible app basic functions such as upgrades and check in to flights does not work i 50k gold tried to upgrade tickets on our honeymoon flight and app would not work direct aerplan member reservations hotline and staff at yyz completely unfriendly and unwilling to help travel a lot for work and have always had good experiences however when it came to the honeymoon flights and ac change to the new system its been a complete failure do not use this app for any ac service',\n",
       " 'updated jan 25 still buggy and no seat preview and no calendar sync please put back the calendar sync awful two weeks later and still absolutely awful i cannot put my flight pass bookings on this even manually i cannot get my boarding pass for my flight today that is the one thing that this app is supposed to let you do plus you cannot see seats anymore you cant sync with your calendar i can go on forever what an absolutely useless piece of junk',\n",
       " 'thanks for not improving the app bug fixes dont count now it crashes too come on ac why no response about the app still no calendar integration new interface is awful no info summary or main page check in or boarding pass i thought the united app from 3 years ago was bad shame on you for changing there was no need can i give this zero stars',\n",
       " 'new app is awful missing a lot of functionality that was previously included i cant even see what seats ive booked for a reservation this is basic information that should be in any airlines app between this and the debacle with the new reservation system air canada has really dropped the ball update now the app is missing trips and is constantly showing errors when trying to add them again this is basic stuff an airline app should be able to do',\n",
       " 'update now that the tech issues have been addressed changing to 4 stars from 1 star earlier the checkin functionality is great and also like to call out ability to view incoming flights often 34 flights down need to have altitude status and progression integrated into the app',\n",
       " 'this is the message ive gotten all day each time i try to use the app typical air canada all excuses no action our apologies we have encountered a system error and unfortunately we are unable to complete your checkin at this time you may also attempt to check in on our website at an airport kiosk or at a checkin assistance counter doesnt work on the website either so much for getting a decent seat',\n",
       " 'there are features of this app which i appreciate such as tracking the inbound flight but compared to the previous version much needs to be done to make this useful as of now you cant get or update your seats i frequently get messages that my booking has been changed but theres nothing to tell me whats been changed i even got a message that a flight was cancelled only to have it reinstated 5 minutes later after i had contacted reservations to put myself on another flight etc',\n",
       " 'worse than the previous version harder to navigate doesnt show purchase details like bistro vouchers like the old app did i would have expected a better overall experience given it was a complete rewrite of the app what is worse is the sheer number of other ac clients all saying the same thing the previous app was pretty good this one is horrid cant book flights or find basic info old flights keep showing up someone should be fired and yet i doubt ac is reading these reviews',\n",
       " 'complete junk cant even find my bookings useless shameful unacceptable bad update a month after its inception it is still not working i have two international bookings with ac both of which changed booking numbers in acs new reservation system this dumb app cant find either one under the old or new booking number it is incredibly thoughtless of air canada to not have resolved this yet one month later still my bookings appeared for a while but then disappeared again',\n",
       " 'sadly this app is close to useless air canada used to provide information such as what gate your flight is at but now nothing that is not on your original ticket keeps prompting to checkin for flight but i have',\n",
       " 'this app is pretty but does not work very frustrating when trying to use it for its intended purpose and it just does not work',\n",
       " 'their user interface is not the best but it works most of the time just to be safe always print your boarding pass also screen capture you boarding pass they should explain it abit better the app is tied to your account both have to match in order for it to work well the app works but it is not very intuitive',\n",
       " 'this is most useless app i have ever tried to use after i entered my reservation number it showed the basic information and nothing else i could not see any details make corrections or do anything else this has to go',\n",
       " 'constantly issues mobile checkin doesnt work always crashes in flight demands doesnt load and recommend to change plugin midflight which cant happen no advance seat selection can be made or eupgrades the only good thing are the email and mobile nofitications',\n",
       " 'the app no longer connects to my 1 year old tablet worked last year but not now looks like air canada want to charge you 1000 to rent there ipad if you want entertainment just another rip off by air canada sorry for air canada your not getting g a y more money ey from me 6000 for a week vacation and you cant even get your app to work right you should be fired for your poor service e',\n",
       " 'i had access to all my trips as of last thursdaynow all gonei cant add them back ini have been in contact with air canada on facebook messangeri was told to delete the app and download againi have done that several timesand was also told to go to air canada website to check and that site wont let me sign inunbelievableand stressfuli am hoping we are still on the flights we had booked and that i can check in online on monday',\n",
       " 'thso app doesnt work and wastes timee i made 5 attempts to check in and app wouldnt do it i messaged for help and got told to go to a kiosk when i arrive ac respondent wouldnt recommend trying ant other method for help so i tried from their website and it worked fine i am uninstalling this app a complete waste of time',\n",
       " 'liked the old version new one cant find my flights to check in most of the time and when it does usually says it failed checkin but seems to have worked anyways need to have standby upgrade and track inbound all linked to boarding pass instead of having to go through multiple menus each time to look',\n",
       " 'unable to add an existing booking logging in doesnt reflect my associated reservations',\n",
       " 'changing my rating since the problems are fixed in new update good work air canada',\n",
       " 'one of the worst aps i have on my phone i have no idea how to use this and what it can do a complete moron could design a better product i want to check in eupgrade waitlist and as far as i know this does nothing i guess all the it people at ac are dealing with the waaaay bigger issue of booking software ac should win the award of worst it team ihe country thank god their pilots can fly well cause this team is spare parts',\n",
       " 'possibly worst app i have used worse than their last app deltas app crushes this onemaybe they should copy it app difficult to use crashes alot and even dumps boarding passes lots of oops messages no surprise from air cannot sorry spell check would give it 0 but 1 is lowest',\n",
       " 'this is by far the worst airline app even budget airlines have better app it takes 30 min to check in and 9 out of 10 time i cant even get a boarding pass in the app i have to print it out even in the airports with the ability to scan passes',\n",
       " 'the worst app ive ever used i should say tried to use it wont let me enter a trip to australia get a message that can not process request when i enter same booking info as online web site garbage shameful if a zero score was available i would have given the app zero',\n",
       " 'the new application crashes after 20 second it must have crashed 10 times i could not even check in for a flight without it crashing still having issues month later stops half way checkin invalid boarding pass random flights added not impressed',\n",
       " 'horrible last yr when we tried to download the app on our 1yr old android tablet it wont work my even older tablet worked then this yr both tablet cant download it say it isnt compatible this is horrible app if only selected devices can download app need to fix',\n",
       " 'cant add any upcoming flights to this gives an error each time',\n",
       " 'wow so bad even months after it launched i cant get accurate flight info from the platform it crashes all the time too',\n",
       " 'bearbone app that doesnt do much it keeps saying an update is available but when i try to download update nothing happens the app itself wont let you do basic stuff like changing your seat',\n",
       " 'i am now in dutch carribean and ac website wouldnt let me check flight status for my outbound flight as soon as i get to ac website i get a popup blocking the screen that travellers from this country have to contact ac reservation what about canadians who are here on vacation and what flight status has to do with reservations whoever designed this website is an idiot the android app is no better as soon as i start the app it forces me to upgrade and doesnt let me use existing version',\n",
       " 'downloaded this to check in only to discover it times out on every attempt going to check in using an internet browser instead keeping this useless app just in case it notifies me of delays or cancellations doubtful wont even let me check in',\n",
       " 'garbage app and airline i cant check in with all international cities only certain ones also our flight got changed with no notification at all on top of that no info on our codeshared flight',\n",
       " 'no matter how many times i try i cannot check in without air canada telling me theres some error combine this with the brutal service and canceled flights im done westjet all the way from now on',\n",
       " 'this is a complete and utter joke it wont find your bookings it wont let you add them manually although it says you can most times it wont even let me log on a disaster everyone responsible for this app should be fired',\n",
       " 'get an error occurred that we didnt expected when trying to enter my booking details phoned air canada customer services who told me to email their android support address unsurprisingly i never received a response',\n",
       " 'everytime we try to use it theres a problem never had a successful checkin always get an error luggage payment went through but it says 0 luggage on the app etc',\n",
       " 'i cant add my flight booking i cant access my ticket i pretty much cant use the app for anything its meant to be used for ill change my rating once these are fixed',\n",
       " 'i want the old application the current one has buggs and it doesnt show any important information i only can see those in the the super slow website',\n",
       " 'terrible app wont let me check in 3 flights in a row and locks up all the time crappy just like the mismanaged airline seeing an average of 19 stars was not a shock',\n",
       " 'booking reference is 7 digits app only accepts 6 if its something im doing please help looks like it might be quite good once i am able to get my reservation registered',\n",
       " 'how to check your past trips that option is gone aeroplan number doesnt apply automatically when you book ticket through app aeroplan nmbr gets earsed automatically and ask me to login again',\n",
       " 'pretty good app but i find it ridiculous that it orders boarding passes with the oldest on top i have to scroll through many old boarding passes to get to the one i need',\n",
       " 'this app doesnt work at all old app was fantastic this one is waste of time',\n",
       " 'painfully bad limited reason for using the app as you will be forced on to the website for anything useful eup availability works sometimes it will store boarding pads other than that nothing m',\n",
       " 'wont let me add my trip to the app error keeps happening',\n",
       " 'needs more functionality also standy and upgrade list works sometimes no lhr flight departures avail today or tomorrow for instance very unreliable compared to old app',\n",
       " 'far less functional than previous app need to dig through multiple screens to find boarding passes no way to save boarding pass to google wallet',\n",
       " 'forced app update at the security line and it didnt retain any login information thanks but no thanks air canada',\n",
       " 'it was working fine up until i had to board and the app wouldnt open couldnt retrieve my boarding pass luckily i took a screenshot just in case',\n",
       " 'would think that you can add star alliance loyalty program number not everyone wants aeroplan points also cant add reservations need to fix this',\n",
       " 'cant look up upcoming trips on this app it just returns errors and tells me to try again later',\n",
       " 'very glitchy worse than the previous app dont depend on it for boarding passes with tight connections',\n",
       " 'app does not show my bookings and will not sync with my account online the old app used to work perfect this is not acceptable',\n",
       " 'each version getting worst latest would not even allow to use it on rouge on a chromebook demands to be on airplane mode which cannot be done on a pc without sim card',\n",
       " 'dont work dont recognise valid booking numbers this new version dont deliver totally useless im never sure of my travel plans',\n",
       " 'difficult to use everytime i try and view a flight status it errors out nice job messing it up the old app never this many issues',\n",
       " 'the new updated app is very badly designed there is no notification to checkin cant eupgrade from within the app',\n",
       " 'doesnt work anymore cant add trips keeps saying its a problem on their end anything i try to do it crashes',\n",
       " 'cannot get this stupid thing to work right it keeps apologizing for errors but doesnt fix them',\n",
       " 'pos app trying to checkin sitting on a beach in cost rica and the app keeps crashing had to borrow someone elses phone and checkedin for my wife and i fail now i will have to waste vacation time sitting on the phone trying to get it sorted out air canada get your head out of your ass and fix your app its been months of nothing but issues for us frequent flyers',\n",
       " 'terrible app slow poorly designed makes you want to fly any other airline should look at delta to see how to make a user friendly app',\n",
       " 'how how can this app be this bad how do you go from a perfectly good functional app to this steaming pile of garbage features that used to work no longer work at all or are just missing prestige members who the f cares about them anymore lets take away all the perk features or make them impossible to redeem on the app westjet is looking better and better by the day',\n",
       " 'the app no longer updates the boarding pass when flights are delayed and your seat changes sort of useless now',\n",
       " 'terrible buggy mess cant even add an existing booking or anything',\n",
       " 'an2nd still buggy at times it refuses to open not user friendly at all',\n",
       " 'pp is awful at the best of times flying air canada is always a headache',\n",
       " 'doest work get an error when i try to add my fight so cant even use a digital ticket embarrasing as a canadian',\n",
       " 'app worked pretty much as expected could have used terminal maps to know where we were going for our next gate',\n",
       " 'flight has been delayed twice gate change once not one notification',\n",
       " 'wont load my trips just keeps saying theres been an error and someone has been notified',\n",
       " 'doesnt show you what terminal you are supposed to go to in the trips section of the app you have to go to the boarding pass section and its annoying af',\n",
       " 'previous app had calendar integration but this version does not which kind of defeats the purpose of having this app',\n",
       " 'like the new interface however it keeps crashing on my s10 with android 10 only uninstall reinstall fixes it',\n",
       " 'wow going backwards fast what was wrong with the old app',\n",
       " 'i was not able to access my booking and there were several errors',\n",
       " 'terrible app keeps crashing will not accept flight number',\n",
       " 'is it possible to award negative stars it is the most miserable application and airline that ever existed never ever again dont care how much more it costs to fly with any other airline',\n",
       " 'cannot get it to connect in flight on my samsung note 9',\n",
       " 'is there any way i can select the seat from the app before checkin the seat selection feature was there in old app version but i cant find it in the new app version',\n",
       " 'apps still very buggy cant add existing reservation',\n",
       " 'unable to add flight reservation',\n",
       " 'terrible frustrating aggravating and worst of all useless',\n",
       " 'newest update didnt work on my most recent flight monday disappointing considering that part of my fare pays for this non functioning entertainment',\n",
       " 'i used this for my boarding pass and it crashed just as i tried to scan in at security i couldnt get it to restart i had to leave the long line that i had waited in and go out to get a paper boarding pass then go through the line again later i had to uninstall and reinstall the app to get it working again also it takes a lot of clicks to find the not so obvious location of the boarding passes the old app was great this version is not samsung note 10',\n",
       " 'what have you done this app used to be so good you could do so much so easily now i cant manage many of the things i could before and to make matters worse old bookings keep popping up no matter how often i remove them and trips i enter disappear the next day its like they took away features gave it a new face and called it new',\n",
       " 'couldnt book flights to begin with finally got through to an agent after several attempts then could not check in through the app no help from agent we through the website and was able to check in finally whats the app for then other than wasting my time and cost me more money to book my flight because of the delay not happy at all',\n",
       " 'how on earth are you supposed to get the app if its not compatible with your otherwise very useable device pity everything worked well enough until the upgrade last month gotta give air canada credit i didnt think rouge could get more difficult and uncomfortable to fly but sure enough they managed to make the entertainment inaccessible for all but those lucky enough to have brand new devices',\n",
       " 'the most destructive update yet such a discombobulated app now cant refresh flight status for updates and why 3 different panes to get all the info you should get on one no gate info on trips have to go to flight status no boarding card in either have to go to more really more because that makes sense and its intuitive actually trips literally has no useful information at all all just awkward and non linear i cant anticipate where to find the info roll it back',\n",
       " 'poor customer support app does nothing but showing your booking',\n",
       " 'very glitchy worse than the previous app dont depend on it for boarding passes with tight connections',\n",
       " 'totally dislike this app cant do booking with discount code or do eupgrade or event check in properly it ended up i had to either use their official website or call the call center which took me a couple of hours just to get things done i was told that the whole air canada system changed and it will take times i hope it wont take too long before i can use the app without difficulty',\n",
       " 'the air canada mobile app did not show the full seat plan i selected a seat which i was under the impression was a window seat but actually is a middle seat air canada at the airport cannot help me change the seat as the flight is full also they cannot upgrade me to premium economy because their new reservation system does not support this although i was willing to pay how about actually building systems around serving your customers and ensure that these are user tested before launch',\n",
       " 'this app is horrid if it was planned to be horrid well ac has outdone themselves bravo i tried to book a flight 2x and got an error code so i book it elsewhere about an hour later the app advises me i now have three bookings for the same flight i have three confirmation numbers which means i have now paid 3x even though the app said the booking was not made and gave me an error code i will now work on cloning myself',\n",
       " 'this app is completely useless prior to the redesign it had some flaws but all around worked ok and easy to use booking were automatically loaded if you booked through flight pass checkin was easy all boarding passes were displayed and your main screen was a countdown to your next flight now there not even a point of taking space up on your phone with this usless app',\n",
       " 'i entered my trips played around all three but when i return to app they are not there',\n",
       " 'completely frustrated i wanted to sign up for notifications about the flight my dad was on and your website told me to download your app to do this however when i use your app there is no where to request updated about a flight why i signed up for an account with you but because its not flight it wont let me receive notifications thats not what your website said your app has left me with a very bitter taste in my mouth',\n",
       " 'no idea what happened but this app is terrible now the air canada app was pretty good before but sometime in the oct or nov 2019 time frame i recieved an update that distroyed it 75 percent of the time it crashes it is no longer intuitive to use but the worst part is it is impossible to quickly find and book a flight or check into a flight due the the crashing i would give it negative stars if i could',\n",
       " 'edit 20200111 new app still terrible i can login to aeroplan but cant login to the new air canada using my aeroplan credentials it tells me my account is locked out but aeroplan is fine terrible customer experience even as a gold member thinking of moving to the competition awful experience after discontinuing mobile i cant login to the app password reset doesnt work i cant believe ive been a gold member for so long with so little support from air canada',\n",
       " 'buggy confusing cant save freezes hard to navigate just terrible trying to get helpphone customer service is nonexistent and the app often says well this is embarassing this didnt work we cant tell you why for how long and how to fix it the worst',\n",
       " 'worst basic app basic features cant even see your booking it change seats tickets etcseriously ac please look at delta airlines app that is the best by far literally i was coming to the gate and the delta app told me i was going to miss my connection and gave me options to choose another flight for free in the app before i even got out of the chair',\n",
       " 'since the update it has been abysmal cannot check in through it the option just doesnt work if you can still request upgrade or get on standby i cant find it in the app the old version was infinitely better this has now just become an information display only no functionality',\n",
       " 'very glitchy worse than the previous app dont depend on it for boarding passes with tight connections',\n",
       " 'this is the worst app upgrade ive ever experienced log in doesnt work cannot recall boarding passes user interface is unacceptable user experience is a big fat zero hey air canada why cant you guys get anything right why dont you guys start hiring competent people instead giving in to the union',\n",
       " 'much worse than previous ac app did they do any beta testing before unleashing this on their unsuspecting customers one example of the many flaws the trips screen still show a link to a boarding pass from dec 11 even though i have taken at least five flights since then why not show the most recent boarding pass',\n",
       " 'the old version of the app used to be quite decent but the new update is difficult to use and doesnt work most of the time old flight updates stay on the screen and is riddled with errors and technical issues its been a few months since the new update and i have not seen any improvements',\n",
       " 'badly implemented i can pull up my booking online but not on this app makes for a very anxious and dissatisfying experience air canada needs to be more transparent and communicative if they want to keep loyal customers better customer service training is for sure required',\n",
       " 'not happy at all with the new app i used to easily download my ac flights even when booked with my travel company and its not working i go to air canada website and i have no issues quite annoying as i like having access to my flights in one place',\n",
       " 'barely passable as an app almost no functionality',\n",
       " 'horrible app barely works even the rudimentary features actually does nothing that even makes it worth installing the app this is not the future merely a glimpse at a very rudimentary past what is astounding is that someone at the software team at air canada has actually approved this app for its customers',\n",
       " 'does air canada even remotely care about their customers i would never fly this garbage airline if there was any other option you make an app that is completely useless it is impossible to check in using the app trying countless times was completely fruitless eventually had to find a computer browser to log in and trying to phone for support is impossible apparently the new system is causing so many problems they wont even try to take any calls garbage app from a garbage company',\n",
       " 'highly recommend when you travel with air canada air canada rouge or ac express',\n",
       " 'awful i tried to uninstall and reinstall still cannot find flights i just get an error message saying oops this is embarrassing im certain ac doesnt care as the government will keeps bailing them out as required but i guess wj gets my money again',\n",
       " 'new app interface is confusing first page you see is the booking page not your pass flight info etc all information were in one page seats upgrade standby boarding pass now its all over the place hard to find the information you need',\n",
       " 'usless this app is now useless and frustrating was once good will not recognize your flight reservation just tells you thats embarrassing everything about it makes you want to book with a different airline have to use the website not this app to get anything done',\n",
       " 'not good unfortunately other airline options are limited the app will not load my upcoming flight perhaps it was designed this way to force you to visit check in the previous app would load my upcoming flights via aeroplan not the case anymore',\n",
       " 'rouge inflight entertainment doesnt work it boots me from the app into chrome which helpfully tells me that i need to be in the app to watch anything trying to watch something takes me back to the app and thennothing happens not great',\n",
       " 'wont show arrival terminal nor seats assigned which is fairly useless',\n",
       " 'very good easy to get around thanks air canada',\n",
       " 'slow poor format that makes it very hard to navigate the previous version was much more intuitive and clearly laid out this one is trying to look pretty but doesnt do a very good job at even that air canada is great but they should consider going back to the old app and making small adjustments to that to fit their new livery and colour scheme',\n",
       " 'air canada still doesnt have the app thing figured out i cant book tickets with a credit card through the app always declines it but i have no problem on the website when using the electronic boarding pass it doesnt show up in time for connecting flights and the app just wont even load sometimes the concept of this app is great they just need to get it all working properly',\n",
       " 'looks alright but there is pertinent information that is no longer available digital altitude card doesnt seem to be an option anymore and when you click on your flight if its going through the states used to inform you if you needed to clear customs im currently going to vancouver then las vegas from calgary no idea anymore where im going to customs',\n",
       " 'i cant even download this app ive been trying for a week it kept saying it needed an update i try to update and nothing happens i have no issue downloading or updating any of my other apps the older version had a better layout and was easier to navigate ive uninstalled the app and tried to reinstall it nothing happening i fly up to 8 flights a month with air canada and this is disruptive to say the least',\n",
       " 'terrible app the version prior to the system change was much better and providing much more information and we were able to request upgrades this one has minimum info and now does not work',\n",
       " 'basically nothing important works cannot check in fails to retrieve boarding passes standbyupgrade lists only part that really works is retrieving your flight numbers from a booking reference which is already in your booking email',\n",
       " 'the app was a complete failure just when i needed it most walked up to security to show my boarding pass the app interface was completely different from yesterday and the boarding passes for my two flights which i viewed many times yesterday were no where to be found and they could not be retrieved it looked as if air canada had no knowledge of me other than you show me a minimal listing of todays flights i noted that the app was updated yesterday i think the update was a complete fail',\n",
       " 'i really wish the old app was still available i am using galaxy s10 and cannot book a flight through the app everytime i try to select a city it says no results try another city i am traveling between toronto vancouver and lax these are major cities that were available in the old app i wouldnt be upset if first time but this has been ongoing since day 1 and i submitted the error on two previous occasions and included screen shots and still no fix seriously taking way too long',\n",
       " 'there are a few things youd like expect this app to do well 1 get to your boarding passnope most of the time i need to click more boarding passes then select the correct one it shows all old ones there is no easy notification direct to the boarding pass 2 show your ac statusnope nowhere to be found this caused me an issue when asking a lounge to print me a new boarding pass they wouldnt without seeing my status 3 check innope most of the time its missing',\n",
       " 'wow just wow you took a perfectly good application and really messed it up the new application is a hybrid mobile app that has very limited features compared to the older application which was just fine can no longer change seats look at the seat map on all flights etc this is a giant facepalm bring back the older and functional app',\n",
       " 'the app crashes and require reinstall could not check in for a flight operated by omni on the app had to go to the browser to check in on the ac website the old app was more user friendly',\n",
       " 'the app has taken an enormous step backwards in terms of functionally design and performance why cannot i edit the features of my flight booked through air canada why are boarding passes no longer automatically generated why is my name misspelled in the app on galaxy s10 the scrolling animations stutter menus lag and the general aesthetic of the app is visually unappealing how can this be possible what exactly was wrong with the previous app this app feels and runs like its 2009',\n",
       " 'this app has terrible glitches the flight tracking information is incorrect and misleading not a reliable source of information when tracking my flight for today it referred to yesterdays flight which was cancelled making it seem like my flight today was cancelled came to the airport to find a new flight only to learn that my flight is as scheduled thank goodness would not trust the app for accurate flight details',\n",
       " 'what a horrible update trading updated color schemes for greatly decreased functionality makes absolutely no sense the app is now just a collection of links to websites where you used to be able to change seats bid for upgrades get your boarding pass etc these functions now just redirect you to a web browser even after the redirect you need to enter your booking number and personal details before using the function how is this not automatic making westjet look better every day',\n",
       " 'it would not download i had a previous version of the app but it required an update in order to use for some reason the update wont loadso a 6 hour long flight without entertainment very annoying also it would be helpful if you could let passengers know well before their flight that entertainment is not available that cant be so difficult eh even a pre boarding announcement would help it was not on my ticketthough i hear thats where you sometimes put in the fine print',\n",
       " 'updated app have had to reenter same information more than once now app keep closing down so i cant even read the notifications its sending me previous app was much more usable and stable poor job on this version',\n",
       " 'the updated app as a serious problem with the lay out of the add a flight page the space to enter the reference number is at the bottom of the page when the auto correct on my screen enages it covers refence number and you cant see the space to complete typing the refence number it seems like a pretty thoughtless design could you move the refence space up the pages which is larley empty space so the user can read what they typing',\n",
       " 'what a horrible update gone are one click easy checkin based on aeroplan number and airport of departure seat previews and selection are nowhere to be found and youll now need to carry your status card in a physical wallet as there is no longer an electronic version also its been quite frustrating having to manually readd existing bookings especially given that all suddenly now have new reference numbers as one of your 100k travelers ac i encourage you to rectify this mess asap']"
      ]
     },
     "execution_count": 179,
     "metadata": {},
     "output_type": "execute_result"
    }
   ],
   "source": [
    "norm_testreviews"
   ]
  },
  {
   "cell_type": "code",
   "execution_count": 180,
   "metadata": {},
   "outputs": [],
   "source": [
    "cv_new_test_features = cv.transform(norm_testreviews)\n",
    "tv_new_test_features = tv.transform(norm_testreviews)"
   ]
  },
  {
   "cell_type": "code",
   "execution_count": 63,
   "metadata": {},
   "outputs": [
    {
     "name": "stdout",
     "output_type": "stream",
     "text": [
      "BOW model:>  New Test features shape: (305, 219)\n",
      "TFIDF model:>  New Test features shape: (305, 219)\n"
     ]
    }
   ],
   "source": [
    "print('BOW model:>  New Test features shape:', cv_new_test_features.shape)\n",
    "print('TFIDF model:>  New Test features shape:', tv_new_test_features.shape)"
   ]
  },
  {
   "cell_type": "code",
   "execution_count": 181,
   "metadata": {},
   "outputs": [
    {
     "data": {
      "text/plain": [
       "<305x219 sparse matrix of type '<class 'numpy.int64'>'\n",
       "\twith 7895 stored elements in Compressed Sparse Row format>"
      ]
     },
     "execution_count": 181,
     "metadata": {},
     "output_type": "execute_result"
    }
   ],
   "source": [
    "cv_new_test_features"
   ]
  },
  {
   "cell_type": "code",
   "execution_count": 182,
   "metadata": {},
   "outputs": [],
   "source": [
    "# predict on new test data\n",
    "lr_new_predictions = lr.predict(cv_new_test_features)"
   ]
  },
  {
   "cell_type": "code",
   "execution_count": 183,
   "metadata": {
    "collapsed": true
   },
   "outputs": [
    {
     "data": {
      "text/plain": [
       "array(['Negative', 'Negative', 'Positive', 'Negative', 'Negative',\n",
       "       'Negative', 'Negative', 'Negative', 'Negative', 'Negative',\n",
       "       'Negative', 'Negative', 'Negative', 'Negative', 'Negative',\n",
       "       'Negative', 'Negative', 'Negative', 'Negative', 'Negative',\n",
       "       'Negative', 'Negative', 'Negative', 'Positive', 'Negative',\n",
       "       'Negative', 'Negative', 'Positive', 'Negative', 'Negative',\n",
       "       'Negative', 'Negative', 'Negative', 'Negative', 'Negative',\n",
       "       'Negative', 'Negative', 'Positive', 'Negative', 'Negative',\n",
       "       'Negative', 'Negative', 'Negative', 'Negative', 'Negative',\n",
       "       'Negative', 'Positive', 'Negative', 'Negative', 'Negative',\n",
       "       'Negative', 'Negative', 'Negative', 'Negative', 'Positive',\n",
       "       'Negative', 'Negative', 'Negative', 'Negative', 'Negative',\n",
       "       'Negative', 'Negative', 'Negative', 'Negative', 'Negative',\n",
       "       'Negative', 'Negative', 'Negative', 'Positive', 'Negative',\n",
       "       'Negative', 'Negative', 'Negative', 'Negative', 'Negative',\n",
       "       'Negative', 'Negative', 'Negative', 'Negative', 'Negative',\n",
       "       'Negative', 'Negative', 'Negative', 'Negative', 'Negative',\n",
       "       'Positive', 'Negative', 'Negative', 'Negative', 'Negative',\n",
       "       'Negative', 'Negative', 'Negative', 'Negative', 'Negative',\n",
       "       'Negative', 'Negative', 'Negative', 'Negative', 'Negative',\n",
       "       'Negative', 'Negative', 'Negative', 'Negative', 'Negative',\n",
       "       'Positive', 'Positive', 'Negative', 'Negative', 'Negative',\n",
       "       'Negative', 'Negative', 'Negative', 'Negative', 'Positive',\n",
       "       'Negative', 'Negative', 'Negative', 'Negative', 'Negative',\n",
       "       'Negative', 'Negative', 'Negative', 'Negative', 'Negative',\n",
       "       'Negative', 'Negative', 'Negative', 'Negative', 'Negative',\n",
       "       'Negative', 'Negative', 'Negative', 'Negative', 'Negative',\n",
       "       'Negative', 'Negative', 'Negative', 'Negative', 'Negative',\n",
       "       'Negative', 'Negative', 'Negative', 'Negative', 'Negative',\n",
       "       'Positive', 'Negative', 'Negative', 'Positive', 'Negative',\n",
       "       'Negative', 'Negative', 'Negative', 'Positive', 'Negative',\n",
       "       'Positive', 'Positive', 'Negative', 'Negative', 'Negative',\n",
       "       'Negative', 'Negative', 'Negative', 'Negative', 'Negative',\n",
       "       'Negative', 'Negative', 'Negative', 'Negative', 'Negative',\n",
       "       'Negative', 'Negative', 'Negative', 'Positive', 'Negative',\n",
       "       'Positive', 'Negative', 'Negative', 'Negative', 'Negative',\n",
       "       'Negative', 'Negative', 'Positive', 'Negative', 'Negative',\n",
       "       'Negative', 'Negative', 'Negative', 'Negative', 'Positive',\n",
       "       'Negative', 'Negative', 'Negative', 'Negative', 'Negative',\n",
       "       'Negative', 'Negative', 'Negative', 'Negative', 'Negative',\n",
       "       'Negative', 'Negative', 'Negative', 'Negative', 'Negative',\n",
       "       'Negative', 'Negative', 'Negative', 'Negative', 'Negative',\n",
       "       'Negative', 'Negative', 'Negative', 'Negative', 'Negative',\n",
       "       'Negative', 'Negative', 'Negative', 'Negative', 'Negative',\n",
       "       'Negative', 'Negative', 'Negative', 'Negative', 'Negative',\n",
       "       'Negative', 'Negative', 'Negative', 'Negative', 'Negative',\n",
       "       'Negative', 'Negative', 'Negative', 'Negative', 'Negative',\n",
       "       'Negative', 'Negative', 'Negative', 'Negative', 'Positive',\n",
       "       'Negative', 'Negative', 'Negative', 'Positive', 'Negative',\n",
       "       'Negative', 'Negative', 'Negative', 'Negative', 'Negative',\n",
       "       'Negative', 'Negative', 'Negative', 'Positive', 'Negative',\n",
       "       'Negative', 'Negative', 'Negative', 'Negative', 'Negative',\n",
       "       'Negative', 'Negative', 'Negative', 'Negative', 'Negative',\n",
       "       'Negative', 'Negative', 'Negative', 'Negative', 'Negative',\n",
       "       'Negative', 'Negative', 'Negative', 'Positive', 'Positive',\n",
       "       'Negative', 'Negative', 'Negative', 'Negative', 'Negative',\n",
       "       'Negative', 'Negative', 'Negative', 'Negative', 'Negative',\n",
       "       'Negative', 'Negative', 'Positive', 'Negative', 'Positive',\n",
       "       'Negative', 'Positive', 'Negative', 'Negative', 'Negative',\n",
       "       'Negative', 'Negative', 'Negative', 'Negative', 'Negative',\n",
       "       'Negative', 'Negative', 'Negative', 'Positive', 'Positive'],\n",
       "      dtype=object)"
      ]
     },
     "execution_count": 183,
     "metadata": {},
     "output_type": "execute_result"
    }
   ],
   "source": [
    "lr_new_predictions"
   ]
  },
  {
   "cell_type": "code",
   "execution_count": 128,
   "metadata": {},
   "outputs": [],
   "source": [
    "test_pred = pd.DataFrame(lr_new_predictions,columns= [\"Sentiment\"])"
   ]
  },
  {
   "cell_type": "code",
   "execution_count": 129,
   "metadata": {},
   "outputs": [],
   "source": [
    "pred_result = pd.concat([Testdata[[\"Review\"]],test_pred] ,axis = 1)"
   ]
  },
  {
   "cell_type": "code",
   "execution_count": 131,
   "metadata": {},
   "outputs": [
    {
     "data": {
      "text/plain": [
       "2"
      ]
     },
     "execution_count": 131,
     "metadata": {},
     "output_type": "execute_result"
    }
   ],
   "source": [
    "pred_result['Sentiment'].nunique()"
   ]
  },
  {
   "cell_type": "code",
   "execution_count": 184,
   "metadata": {},
   "outputs": [
    {
     "name": "stdout",
     "output_type": "stream",
     "text": [
      "              precision    recall  f1-score   support\n",
      "\n",
      "    Negative       0.93      0.91      0.92       282\n",
      "    Positive       0.17      0.22      0.19        23\n",
      "\n",
      "    accuracy                           0.86       305\n",
      "   macro avg       0.55      0.56      0.56       305\n",
      "weighted avg       0.88      0.86      0.87       305\n",
      "\n"
     ]
    },
    {
     "data": {
      "text/html": [
       "<div>\n",
       "<style scoped>\n",
       "    .dataframe tbody tr th:only-of-type {\n",
       "        vertical-align: middle;\n",
       "    }\n",
       "\n",
       "    .dataframe tbody tr th {\n",
       "        vertical-align: top;\n",
       "    }\n",
       "\n",
       "    .dataframe thead th {\n",
       "        text-align: right;\n",
       "    }\n",
       "</style>\n",
       "<table border=\"1\" class=\"dataframe\">\n",
       "  <thead>\n",
       "    <tr style=\"text-align: right;\">\n",
       "      <th></th>\n",
       "      <th>negative</th>\n",
       "      <th>positive</th>\n",
       "    </tr>\n",
       "  </thead>\n",
       "  <tbody>\n",
       "    <tr>\n",
       "      <td>negative</td>\n",
       "      <td>257</td>\n",
       "      <td>25</td>\n",
       "    </tr>\n",
       "    <tr>\n",
       "      <td>positive</td>\n",
       "      <td>18</td>\n",
       "      <td>5</td>\n",
       "    </tr>\n",
       "  </tbody>\n",
       "</table>\n",
       "</div>"
      ],
      "text/plain": [
       "          negative  positive\n",
       "negative       257        25\n",
       "positive        18         5"
      ]
     },
     "execution_count": 184,
     "metadata": {},
     "output_type": "execute_result"
    }
   ],
   "source": [
    "from sklearn.metrics import confusion_matrix, classification_report\n",
    "\n",
    "labels = ['negative', 'positive']\n",
    "print(classification_report(Testsentiments, lr_new_predictions))\n",
    "pd.DataFrame(confusion_matrix(Testsentiments, lr_new_predictions), index=labels, columns=labels)"
   ]
  },
  {
   "cell_type": "code",
   "execution_count": null,
   "metadata": {},
   "outputs": [],
   "source": []
  },
  {
   "cell_type": "code",
   "execution_count": null,
   "metadata": {},
   "outputs": [],
   "source": []
  },
  {
   "cell_type": "code",
   "execution_count": null,
   "metadata": {},
   "outputs": [],
   "source": []
  },
  {
   "cell_type": "code",
   "execution_count": null,
   "metadata": {},
   "outputs": [],
   "source": []
  },
  {
   "cell_type": "code",
   "execution_count": 28,
   "metadata": {},
   "outputs": [],
   "source": [
    "# Logistic Regression model on TF-IDF features\n",
    "\n",
    "# train model\n",
    "lr.fit(tv_train_features, train_sentiments)\n",
    "\n",
    "# predict on test data\n",
    "lr_tfidf_predictions = lr.predict(tv_test_features)"
   ]
  },
  {
   "cell_type": "code",
   "execution_count": 29,
   "metadata": {},
   "outputs": [
    {
     "name": "stderr",
     "output_type": "stream",
     "text": [
      "C:\\ProgramData\\Anaconda3\\lib\\site-packages\\sklearn\\metrics\\classification.py:1437: UndefinedMetricWarning: Precision and F-score are ill-defined and being set to 0.0 in labels with no predicted samples.\n",
      "  'precision', 'predicted', average, warn_for)\n"
     ]
    },
    {
     "name": "stdout",
     "output_type": "stream",
     "text": [
      "              precision    recall  f1-score   support\n",
      "\n",
      "    Negative       0.97      1.00      0.98        28\n",
      "    Positive       0.00      0.00      0.00         1\n",
      "\n",
      "    accuracy                           0.97        29\n",
      "   macro avg       0.48      0.50      0.49        29\n",
      "weighted avg       0.93      0.97      0.95        29\n",
      "\n"
     ]
    },
    {
     "data": {
      "text/html": [
       "<div>\n",
       "<style scoped>\n",
       "    .dataframe tbody tr th:only-of-type {\n",
       "        vertical-align: middle;\n",
       "    }\n",
       "\n",
       "    .dataframe tbody tr th {\n",
       "        vertical-align: top;\n",
       "    }\n",
       "\n",
       "    .dataframe thead th {\n",
       "        text-align: right;\n",
       "    }\n",
       "</style>\n",
       "<table border=\"1\" class=\"dataframe\">\n",
       "  <thead>\n",
       "    <tr style=\"text-align: right;\">\n",
       "      <th></th>\n",
       "      <th>negative</th>\n",
       "      <th>positive</th>\n",
       "    </tr>\n",
       "  </thead>\n",
       "  <tbody>\n",
       "    <tr>\n",
       "      <td>negative</td>\n",
       "      <td>28</td>\n",
       "      <td>0</td>\n",
       "    </tr>\n",
       "    <tr>\n",
       "      <td>positive</td>\n",
       "      <td>1</td>\n",
       "      <td>0</td>\n",
       "    </tr>\n",
       "  </tbody>\n",
       "</table>\n",
       "</div>"
      ],
      "text/plain": [
       "          negative  positive\n",
       "negative        28         0\n",
       "positive         1         0"
      ]
     },
     "execution_count": 29,
     "metadata": {},
     "output_type": "execute_result"
    }
   ],
   "source": [
    "labels = ['negative', 'positive']\n",
    "print(classification_report(test_sentiments, lr_tfidf_predictions))\n",
    "pd.DataFrame(confusion_matrix(test_sentiments, lr_tfidf_predictions), index=labels, columns=labels)"
   ]
  },
  {
   "cell_type": "code",
   "execution_count": 30,
   "metadata": {},
   "outputs": [],
   "source": [
    "# Random Forest model on BOW features\n",
    "from sklearn.ensemble import RandomForestClassifier\n",
    "\n",
    "# instantiate model\n",
    "rf = RandomForestClassifier(n_estimators=100, n_jobs=-1, random_state=42)\n",
    "\n",
    "# train model\n",
    "rf.fit(cv_train_features, train_sentiments)\n",
    "\n",
    "# predict on test data\n",
    "rf_bow_predictions = rf.predict(cv_test_features)"
   ]
  },
  {
   "cell_type": "code",
   "execution_count": 31,
   "metadata": {},
   "outputs": [
    {
     "name": "stdout",
     "output_type": "stream",
     "text": [
      "              precision    recall  f1-score   support\n",
      "\n",
      "    Negative       0.96      0.96      0.96        28\n",
      "    Positive       0.00      0.00      0.00         1\n",
      "\n",
      "    accuracy                           0.93        29\n",
      "   macro avg       0.48      0.48      0.48        29\n",
      "weighted avg       0.93      0.93      0.93        29\n",
      "\n"
     ]
    },
    {
     "data": {
      "text/html": [
       "<div>\n",
       "<style scoped>\n",
       "    .dataframe tbody tr th:only-of-type {\n",
       "        vertical-align: middle;\n",
       "    }\n",
       "\n",
       "    .dataframe tbody tr th {\n",
       "        vertical-align: top;\n",
       "    }\n",
       "\n",
       "    .dataframe thead th {\n",
       "        text-align: right;\n",
       "    }\n",
       "</style>\n",
       "<table border=\"1\" class=\"dataframe\">\n",
       "  <thead>\n",
       "    <tr style=\"text-align: right;\">\n",
       "      <th></th>\n",
       "      <th>negative</th>\n",
       "      <th>positive</th>\n",
       "    </tr>\n",
       "  </thead>\n",
       "  <tbody>\n",
       "    <tr>\n",
       "      <td>negative</td>\n",
       "      <td>27</td>\n",
       "      <td>1</td>\n",
       "    </tr>\n",
       "    <tr>\n",
       "      <td>positive</td>\n",
       "      <td>1</td>\n",
       "      <td>0</td>\n",
       "    </tr>\n",
       "  </tbody>\n",
       "</table>\n",
       "</div>"
      ],
      "text/plain": [
       "          negative  positive\n",
       "negative        27         1\n",
       "positive         1         0"
      ]
     },
     "execution_count": 31,
     "metadata": {},
     "output_type": "execute_result"
    }
   ],
   "source": [
    "labels = ['negative', 'positive']\n",
    "print(classification_report(test_sentiments, rf_bow_predictions))\n",
    "pd.DataFrame(confusion_matrix(test_sentiments, rf_bow_predictions), index=labels, columns=labels)"
   ]
  },
  {
   "cell_type": "code",
   "execution_count": 32,
   "metadata": {},
   "outputs": [],
   "source": [
    "# Random Forest model on TF-IDF features\n",
    "\n",
    "# train model\n",
    "rf.fit(tv_train_features, train_sentiments)\n",
    "\n",
    "# predict on test data\n",
    "rf_tfidf_predictions = rf.predict(tv_test_features)"
   ]
  },
  {
   "cell_type": "code",
   "execution_count": 33,
   "metadata": {},
   "outputs": [
    {
     "name": "stderr",
     "output_type": "stream",
     "text": [
      "C:\\ProgramData\\Anaconda3\\lib\\site-packages\\sklearn\\metrics\\classification.py:1437: UndefinedMetricWarning: Precision and F-score are ill-defined and being set to 0.0 in labels with no predicted samples.\n",
      "  'precision', 'predicted', average, warn_for)\n"
     ]
    },
    {
     "name": "stdout",
     "output_type": "stream",
     "text": [
      "              precision    recall  f1-score   support\n",
      "\n",
      "    Negative       0.97      1.00      0.98        28\n",
      "    Positive       0.00      0.00      0.00         1\n",
      "\n",
      "    accuracy                           0.97        29\n",
      "   macro avg       0.48      0.50      0.49        29\n",
      "weighted avg       0.93      0.97      0.95        29\n",
      "\n"
     ]
    },
    {
     "data": {
      "text/html": [
       "<div>\n",
       "<style scoped>\n",
       "    .dataframe tbody tr th:only-of-type {\n",
       "        vertical-align: middle;\n",
       "    }\n",
       "\n",
       "    .dataframe tbody tr th {\n",
       "        vertical-align: top;\n",
       "    }\n",
       "\n",
       "    .dataframe thead th {\n",
       "        text-align: right;\n",
       "    }\n",
       "</style>\n",
       "<table border=\"1\" class=\"dataframe\">\n",
       "  <thead>\n",
       "    <tr style=\"text-align: right;\">\n",
       "      <th></th>\n",
       "      <th>negative</th>\n",
       "      <th>positive</th>\n",
       "    </tr>\n",
       "  </thead>\n",
       "  <tbody>\n",
       "    <tr>\n",
       "      <td>negative</td>\n",
       "      <td>28</td>\n",
       "      <td>0</td>\n",
       "    </tr>\n",
       "    <tr>\n",
       "      <td>positive</td>\n",
       "      <td>1</td>\n",
       "      <td>0</td>\n",
       "    </tr>\n",
       "  </tbody>\n",
       "</table>\n",
       "</div>"
      ],
      "text/plain": [
       "          negative  positive\n",
       "negative        28         0\n",
       "positive         1         0"
      ]
     },
     "execution_count": 33,
     "metadata": {},
     "output_type": "execute_result"
    }
   ],
   "source": [
    "labels = ['negative', 'positive']\n",
    "print(classification_report(test_sentiments, rf_tfidf_predictions))\n",
    "pd.DataFrame(confusion_matrix(test_sentiments, rf_tfidf_predictions), index=labels, columns=labels)"
   ]
  },
  {
   "cell_type": "code",
   "execution_count": null,
   "metadata": {},
   "outputs": [],
   "source": []
  }
 ],
 "metadata": {
  "kernelspec": {
   "display_name": "Python 3",
   "language": "python",
   "name": "python3"
  },
  "language_info": {
   "codemirror_mode": {
    "name": "ipython",
    "version": 3
   },
   "file_extension": ".py",
   "mimetype": "text/x-python",
   "name": "python",
   "nbconvert_exporter": "python",
   "pygments_lexer": "ipython3",
   "version": "3.7.4"
  }
 },
 "nbformat": 4,
 "nbformat_minor": 2
}
