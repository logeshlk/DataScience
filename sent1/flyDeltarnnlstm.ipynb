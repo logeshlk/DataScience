{
 "cells": [
  {
   "cell_type": "code",
   "execution_count": 183,
   "metadata": {},
   "outputs": [],
   "source": [
    "import pandas as pd\n",
    "import gensim\n",
    "import string\n",
    "import pandas as pd\n",
    "import numpy as np\n",
    "import re\n",
    "import nltk\n",
    "from nltk.corpus import stopwords\n",
    "from numpy import array\n",
    "from keras.preprocessing.sequence import pad_sequences\n",
    "from keras.models import Sequential\n",
    "from keras.layers.core import Activation, Dropout, Dense\n",
    "from keras.layers import Flatten\n",
    "from keras.layers import GlobalMaxPooling1D\n",
    "from keras.layers.embeddings import Embedding\n",
    "from sklearn.model_selection import train_test_split\n",
    "from keras.preprocessing.text import Tokenizer\n",
    "from keras.preprocessing import sequence\n",
    "import seaborn as sns\n",
    "import matplotlib.pyplot as plt \n",
    "from sklearn.preprocessing import LabelEncoder "
   ]
  },
  {
   "cell_type": "code",
   "execution_count": 184,
   "metadata": {},
   "outputs": [],
   "source": [
    "dataset=pd.read_csv('concatedData.csv')\n",
    "reviews=dataset.Review\n",
    "dataset.Sentiment.values\n",
    "label_encoder = LabelEncoder()\n",
    "y = label_encoder.fit_transform(dataset.Sentiment.values)\n",
    "# print(y)"
   ]
  },
  {
   "cell_type": "code",
   "execution_count": 185,
   "metadata": {},
   "outputs": [
    {
     "data": {
      "text/plain": [
       "'Update Now that the tech issues have been addressed changing to stars from star earlier The checkin functionality is great and also like to call out ability to view incoming flights often flights down Need to have Altitude Status and progression integrated into the app '"
      ]
     },
     "execution_count": 185,
     "metadata": {},
     "output_type": "execute_result"
    }
   ],
   "source": [
    "\n",
    "import re\n",
    "def preprocess_text(sen):\n",
    "    # Remove punctuations and numbers\n",
    "    sentence = re.sub('[^a-zA-Z]', ' ', sen)\n",
    "    # Single character removal\n",
    "    sentence = re.sub(r\"\\s+[a-zA-Z]\\s+\", ' ', sentence)\n",
    "    # Removing multiple spaces\n",
    "    sentence = re.sub(r'\\s+', ' ', sentence)\n",
    "    return sentence\n",
    "\n",
    "\n",
    "X = []\n",
    "sentences = list(reviews)\n",
    "for sen in sentences:\n",
    "    X.append(preprocess_text(sen))\n",
    "X[0]\n"
   ]
  },
  {
   "cell_type": "code",
   "execution_count": 186,
   "metadata": {},
   "outputs": [],
   "source": [
    "# import string\n",
    "# import nltk\n",
    "# # nltk.download()\n",
    "# from nltk.tokenize import word_tokenize\n",
    "# from nltk.corpus import stopwords\n",
    "# from spacy.lang.en.stop_words import STOP_WORDS\n",
    "\n",
    "\n",
    "\n",
    "# reviw=[]\n",
    "# for col in X:\n",
    "#     tokens= word_tokenize(col)\n",
    "#     tokens=[w.lower() for w in tokens]\n",
    "#     table=str.maketrans('','',string.punctuation)\n",
    "#     stripped=[w.translate(table) for w in tokens]\n",
    "#     words=[word for word in stripped if word.isalpha()]\n",
    "# #     stopwords=set(stopwords.words('english'))\n",
    "#     words=[w for w in words if not w in STOP_WORDS]\n",
    "#     reviw.append(words)\n",
    "# X=[]\n",
    "# for col in reviw:\n",
    "#     filtered_sentence=\" \".join(col)\n",
    "#     X.append(filtered_sentence)\n",
    "# X[0]"
   ]
  },
  {
   "cell_type": "code",
   "execution_count": 187,
   "metadata": {},
   "outputs": [],
   "source": [
    "# import gensim\n",
    "# from gensim.models import Word2Vec\n",
    "# models=Word2Vec(sentences=reviw,window=5,workers=4,min_count=1)\n",
    "# words=list(models.wv.vocab)\n",
    "\n",
    "# file='modelstest.txt'\n",
    "# models.wv.save_word2vec_format(file,binary=False)"
   ]
  },
  {
   "cell_type": "code",
   "execution_count": 188,
   "metadata": {},
   "outputs": [],
   "source": [
    "X_train, X_test, y_train, y_test = train_test_split(X, y, test_size=0.2, random_state=42, stratify=y)\n"
   ]
  },
  {
   "cell_type": "code",
   "execution_count": 189,
   "metadata": {},
   "outputs": [
    {
     "name": "stderr",
     "output_type": "stream",
     "text": [
      "C:\\Users\\40312\\AppData\\Local\\Continuum\\anaconda3\\envs\\original\\lib\\site-packages\\scipy\\stats\\stats.py:1713: FutureWarning: Using a non-tuple sequence for multidimensional indexing is deprecated; use `arr[tuple(seq)]` instead of `arr[seq]`. In the future this will be interpreted as an array index, `arr[np.array(seq)]`, which will result either in an error or a different result.\n",
      "  return np.add.reduce(sorted[indexer] * weights, axis=axis) / sumval\n"
     ]
    },
    {
     "data": {
      "text/plain": [
       "<matplotlib.axes._subplots.AxesSubplot at 0x17650b24148>"
      ]
     },
     "execution_count": 189,
     "metadata": {},
     "output_type": "execute_result"
    },
    {
     "data": {
      "image/png": "[encoded data removed]",
      "text/plain": [
       "<Figure size 432x288 with 1 Axes>"
      ]
     },
     "metadata": {},
     "output_type": "display_data"
    }
   ],
   "source": [
    "lengthsen=[]\n",
    "import seaborn as sns\n",
    "sentence_lengths = [len(sentence) for sentence in X_train]\n",
    "sns.distplot(sentence_lengths)"
   ]
  },
  {
   "cell_type": "code",
   "execution_count": 190,
   "metadata": {},
   "outputs": [
    {
     "data": {
      "text/plain": [
       "261.0"
      ]
     },
     "execution_count": 190,
     "metadata": {},
     "output_type": "execute_result"
    }
   ],
   "source": [
    "np.median(sentence_lengths)"
   ]
  },
  {
   "cell_type": "code",
   "execution_count": 191,
   "metadata": {},
   "outputs": [
    {
     "data": {
      "text/plain": [
       "[28, 34, 242, 384, 602, 160, 543, 261, 79]"
      ]
     },
     "execution_count": 191,
     "metadata": {},
     "output_type": "execute_result"
    }
   ],
   "source": [
    "tokenizer = Tokenizer(num_words=5000)\n",
    "tokenizer.fit_on_texts(X_train)\n",
    "X_train = tokenizer.texts_to_sequences(X_train)\n",
    "X_test = tokenizer.texts_to_sequences(X_test)\n",
    "\n",
    "\n",
    "# tokenizer_json = tokenizer.to_json()\n",
    "# with io.open('token.json', 'w', encoding='utf-8') as f:\n",
    "#     f.write(json.dumps(tokenizer_json, ensure_ascii=False))\n",
    "    \n",
    "    \n",
    "import pickle\n",
    "\n",
    "# saving\n",
    "with open('tokenizer_rnnlstm.pickle', 'wb') as handle:\n",
    "    pickle.dump(tokenizer, handle, protocol=pickle.HIGHEST_PROTOCOL)\n",
    "\n",
    "    \n",
    "\n",
    "X_train[0]"
   ]
  },
  {
   "cell_type": "code",
   "execution_count": 192,
   "metadata": {},
   "outputs": [
    {
     "name": "stdout",
     "output_type": "stream",
     "text": [
      "vocublary====== 2510\n"
     ]
    }
   ],
   "source": [
    "vocab_size = len(tokenizer.word_index) + 1\n",
    "maxlen = 250\n",
    "X_train = pad_sequences(X_train, padding='post', maxlen=maxlen)\n",
    "X_test = pad_sequences(X_test, padding='post', maxlen=maxlen)\n",
    "\n",
    "# print('padded sequence',X_train[0])\n",
    "print('vocublary======',vocab_size)\n"
   ]
  },
  {
   "cell_type": "code",
   "execution_count": 193,
   "metadata": {},
   "outputs": [],
   "source": [
    "# from imblearn.over_sampling import SMOTE \n",
    "\n",
    "# sm = SMOTE(random_state = 40) \n",
    "# X_train, y_train = sm.fit_sample(X_train, y_train)"
   ]
  },
  {
   "cell_type": "code",
   "execution_count": 194,
   "metadata": {},
   "outputs": [
    {
     "data": {
      "text/plain": [
       "(785,)"
      ]
     },
     "execution_count": 194,
     "metadata": {},
     "output_type": "execute_result"
    }
   ],
   "source": [
    "import numpy as np\n",
    "\n",
    "\n",
    "trainsum=np.concatenate((X_train,X_test),axis=0)\n",
    "targetsum=np.concatenate((y_train,y_test),axis=0)\n",
    "targetsum.shape"
   ]
  },
  {
   "cell_type": "code",
   "execution_count": 195,
   "metadata": {},
   "outputs": [
    {
     "name": "stdout",
     "output_type": "stream",
     "text": [
      "Loaded 400000 word vectors.\n"
     ]
    }
   ],
   "source": [
    "# load the whole embedding into memory\n",
    "from numpy import asarray\n",
    "from numpy import zeros\n",
    "import numpy as np\n",
    "embeddings_index = dict()\n",
    "f = open('glove.6B.100d.txt', encoding=\"utf8\")\n",
    "for line in f:\n",
    "    values = line.split()\n",
    "    word = values[0]\n",
    "    coefs = np.asarray(values[1:], dtype='float32')\n",
    "    embeddings_index[word] = coefs\n",
    "f.close()\n",
    "print('Loaded %s word vectors.' % len(embeddings_index))\n",
    "embeddings_dictionary = dict()\n",
    "embedding_matrix = np.random.random((vocab_size, 100))\n",
    "for word, index in tokenizer.word_index.items():\n",
    "    embedding_vector = embeddings_dictionary.get(word)\n",
    "    if embedding_vector is not None:\n",
    "        embedding_matrix[index] = embedding_vector"
   ]
  },
  {
   "cell_type": "code",
   "execution_count": 196,
   "metadata": {},
   "outputs": [],
   "source": [
    "from keras.layers import LSTM\n",
    "from keras.layers import Bidirectional\n",
    "embedding_dim=100\n",
    "model = Sequential()\n",
    "model.add(Embedding(input_dim=vocab_size, output_dim=embedding_dim,input_length=maxlen,weights=[embedding_matrix]))\n",
    "model.add(Bidirectional(LSTM(units=125, dropout=0.2,recurrent_dropout=0.2)))\n",
    "model.add(Dense(1, activation='sigmoid'))"
   ]
  },
  {
   "cell_type": "code",
   "execution_count": 197,
   "metadata": {},
   "outputs": [],
   "source": [
    "model.compile(loss='binary_crossentropy', optimizer='adam', metrics=['accuracy'])"
   ]
  },
  {
   "cell_type": "code",
   "execution_count": 198,
   "metadata": {},
   "outputs": [
    {
     "name": "stdout",
     "output_type": "stream",
     "text": [
      "_________________________________________________________________\n",
      "Layer (type)                 Output Shape              Param #   \n",
      "=================================================================\n",
      "embedding_9 (Embedding)      (None, 250, 100)          251000    \n",
      "_________________________________________________________________\n",
      "bidirectional_9 (Bidirection (None, 250)               226000    \n",
      "_________________________________________________________________\n",
      "dense_9 (Dense)              (None, 1)                 251       \n",
      "=================================================================\n",
      "Total params: 477,251\n",
      "Trainable params: 477,251\n",
      "Non-trainable params: 0\n",
      "_________________________________________________________________\n"
     ]
    }
   ],
   "source": [
    "model.summary()"
   ]
  },
  {
   "cell_type": "code",
   "execution_count": 199,
   "metadata": {},
   "outputs": [],
   "source": [
    "# history=model.fit(X_train, y_train, batch_size=64, epochs=50, validation_data=(X_test, y_test))"
   ]
  },
  {
   "cell_type": "code",
   "execution_count": 200,
   "metadata": {},
   "outputs": [
    {
     "name": "stdout",
     "output_type": "stream",
     "text": [
      "Train on 628 samples, validate on 157 samples\n",
      "Epoch 1/15\n",
      "628/628 [==============================] - 41s 65ms/step - loss: 0.5832 - acc: 0.7611 - val_loss: 0.5640 - val_acc: 0.7643\n",
      "Epoch 2/15\n",
      "628/628 [==============================] - 9s 14ms/step - loss: 0.5237 - acc: 0.7659 - val_loss: 0.4664 - val_acc: 0.7643\n",
      "Epoch 3/15\n",
      "628/628 [==============================] - 10s 16ms/step - loss: 0.4623 - acc: 0.8057 - val_loss: 0.4335 - val_acc: 0.8408\n",
      "Epoch 4/15\n",
      "628/628 [==============================] - 11s 17ms/step - loss: 0.4270 - acc: 0.8296 - val_loss: 0.4473 - val_acc: 0.8025\n",
      "Epoch 5/15\n",
      "628/628 [==============================] - 9s 14ms/step - loss: 0.4232 - acc: 0.8248 - val_loss: 0.4320 - val_acc: 0.8217\n",
      "Epoch 6/15\n",
      "628/628 [==============================] - 9s 14ms/step - loss: 0.4002 - acc: 0.8439 - val_loss: 0.4364 - val_acc: 0.8217\n",
      "Epoch 7/15\n",
      "628/628 [==============================] - 8s 13ms/step - loss: 0.4105 - acc: 0.8185 - val_loss: 0.4144 - val_acc: 0.8408\n",
      "Epoch 8/15\n",
      "628/628 [==============================] - 9s 15ms/step - loss: 0.4056 - acc: 0.8439 - val_loss: 0.4146 - val_acc: 0.8471\n",
      "Epoch 9/15\n",
      "628/628 [==============================] - 8s 13ms/step - loss: 0.3822 - acc: 0.8455 - val_loss: 0.4435 - val_acc: 0.8025\n",
      "Epoch 10/15\n",
      "628/628 [==============================] - 8s 13ms/step - loss: 0.3715 - acc: 0.8455 - val_loss: 0.4188 - val_acc: 0.8344\n",
      "Epoch 11/15\n",
      "628/628 [==============================] - 9s 15ms/step - loss: 0.3452 - acc: 0.8535 - val_loss: 0.4024 - val_acc: 0.8471\n",
      "Epoch 12/15\n",
      "628/628 [==============================] - 8s 13ms/step - loss: 0.3347 - acc: 0.8567 - val_loss: 0.4159 - val_acc: 0.8535\n",
      "Epoch 13/15\n",
      "628/628 [==============================] - 10s 15ms/step - loss: 0.3169 - acc: 0.8694 - val_loss: 0.4088 - val_acc: 0.8280\n",
      "Epoch 14/15\n",
      "628/628 [==============================] - 10s 15ms/step - loss: 0.3090 - acc: 0.8726 - val_loss: 0.3895 - val_acc: 0.8471\n",
      "Epoch 15/15\n",
      "628/628 [==============================] - 11s 17ms/step - loss: 0.2930 - acc: 0.8885 - val_loss: 0.3791 - val_acc: 0.8662\n"
     ]
    }
   ],
   "source": [
    "history=model.fit(X_train, y_train, batch_size=64, epochs=15,validation_data=(X_test, y_test))"
   ]
  },
  {
   "cell_type": "code",
   "execution_count": 201,
   "metadata": {},
   "outputs": [
    {
     "name": "stdout",
     "output_type": "stream",
     "text": [
      "157/157 [==============================] - 1s 4ms/step\n",
      "Test loss: 0.3791188647033303\n",
      "Test accuracy: 0.8662420389758554\n"
     ]
    }
   ],
   "source": [
    "score = model.evaluate(X_test, y_test, batch_size=64,verbose=1)\n",
    "print('Test loss:', score[0])\n",
    "print('Test accuracy:',score[1])"
   ]
  },
  {
   "cell_type": "code",
   "execution_count": 202,
   "metadata": {},
   "outputs": [
    {
     "name": "stdout",
     "output_type": "stream",
     "text": [
      "              precision    recall  f1-score   support\n",
      "\n",
      "           0       0.87      0.97      0.92       120\n",
      "           1       0.83      0.54      0.66        37\n",
      "\n",
      "    accuracy                           0.87       157\n",
      "   macro avg       0.85      0.75      0.79       157\n",
      "weighted avg       0.86      0.87      0.86       157\n",
      "\n",
      "0.8662420382165605\n"
     ]
    },
    {
     "data": {
      "text/html": [
       "<div>\n",
       "<style scoped>\n",
       "    .dataframe tbody tr th:only-of-type {\n",
       "        vertical-align: middle;\n",
       "    }\n",
       "\n",
       "    .dataframe tbody tr th {\n",
       "        vertical-align: top;\n",
       "    }\n",
       "\n",
       "    .dataframe thead th {\n",
       "        text-align: right;\n",
       "    }\n",
       "</style>\n",
       "<table border=\"1\" class=\"dataframe\">\n",
       "  <thead>\n",
       "    <tr style=\"text-align: right;\">\n",
       "      <th></th>\n",
       "      <th>negative</th>\n",
       "      <th>positive</th>\n",
       "    </tr>\n",
       "  </thead>\n",
       "  <tbody>\n",
       "    <tr>\n",
       "      <th>negative</th>\n",
       "      <td>116</td>\n",
       "      <td>4</td>\n",
       "    </tr>\n",
       "    <tr>\n",
       "      <th>positive</th>\n",
       "      <td>17</td>\n",
       "      <td>20</td>\n",
       "    </tr>\n",
       "  </tbody>\n",
       "</table>\n",
       "</div>"
      ],
      "text/plain": [
       "          negative  positive\n",
       "negative       116         4\n",
       "positive        17        20"
      ]
     },
     "execution_count": 202,
     "metadata": {},
     "output_type": "execute_result"
    }
   ],
   "source": [
    "from sklearn.metrics import confusion_matrix, classification_report,accuracy_score\n",
    "pred=model.predict_classes(X_test)\n",
    "labels = ['negative', 'positive']\n",
    "print(classification_report(y_test, pred))\n",
    "print(accuracy_score(y_test,pred))\n",
    "pd.DataFrame(confusion_matrix(y_test, pred), index=labels, columns=labels)"
   ]
  },
  {
   "cell_type": "code",
   "execution_count": 203,
   "metadata": {},
   "outputs": [
    {
     "data": {
      "image/png": "[encoded data removed]",
      "text/plain": [
       "<Figure size 432x288 with 1 Axes>"
      ]
     },
     "metadata": {},
     "output_type": "display_data"
    }
   ],
   "source": [
    "from sklearn.metrics import accuracy_score, roc_auc_score, roc_curve\n",
    "def performance(y_true, pred, color=\"g\", ann=True):\n",
    "    acc = accuracy_score(y_true, pred > 0.5)\n",
    "    auc = roc_auc_score(y_true, pred)\n",
    "    fpr, tpr, thr = roc_curve(y_true, pred)\n",
    "    plt.plot(fpr, tpr, color, linewidth=\"3\")\n",
    "    plt.xlabel(\"False positive rate\")\n",
    "    plt.ylabel(\"True positive rate\")\n",
    "    if ann:\n",
    "        plt.annotate(\"Acc: %0.2f\" % acc, (0.2,0.7), size=14)\n",
    "        plt.annotate(\"AUC: %0.2f\" % auc, (0.2,0.6), size=14)\n",
    "performance(y_test,pred)"
   ]
  },
  {
   "cell_type": "code",
   "execution_count": 204,
   "metadata": {},
   "outputs": [],
   "source": [
    "model.save('my_model.h5')"
   ]
  },
  {
   "cell_type": "code",
   "execution_count": 205,
   "metadata": {},
   "outputs": [
    {
     "data": {
      "image/png": "[encoded data removed]",
      "text/plain": [
       "<Figure size 864x360 with 2 Axes>"
      ]
     },
     "metadata": {},
     "output_type": "display_data"
    }
   ],
   "source": [
    "import matplotlib.pyplot as plt\n",
    "plt.style.use('ggplot')\n",
    "def plot_history(history):\n",
    "    acc = history.history['acc']\n",
    "    val_acc = history.history['val_acc']\n",
    "    loss = history.history['loss']\n",
    "    val_loss = history.history['val_loss']\n",
    "    x = range(1, len(acc) + 1)\n",
    "    plt.figure(figsize=(12, 5))\n",
    "    plt.subplot(1, 2, 1)\n",
    "    plt.plot(x, acc, 'b', label='Training acc')\n",
    "    plt.plot(x, val_acc, 'r', label='Validation acc')\n",
    "    plt.title('Training and validation accuracy')\n",
    "    plt.legend()\n",
    "    plt.subplot(1, 2, 2)\n",
    "    plt.plot(x, loss, 'b', label='Training loss')\n",
    "    plt.plot(x, val_loss, 'r', label='Validation loss')\n",
    "    plt.title('Training and validation loss')\n",
    "    plt.legend()\n",
    "plot_history(history)"
   ]
  },
  {
   "cell_type": "code",
   "execution_count": 206,
   "metadata": {},
   "outputs": [
    {
     "data": {
      "text/html": [
       "<div>\n",
       "<style scoped>\n",
       "    .dataframe tbody tr th:only-of-type {\n",
       "        vertical-align: middle;\n",
       "    }\n",
       "\n",
       "    .dataframe tbody tr th {\n",
       "        vertical-align: top;\n",
       "    }\n",
       "\n",
       "    .dataframe thead th {\n",
       "        text-align: right;\n",
       "    }\n",
       "</style>\n",
       "<table border=\"1\" class=\"dataframe\">\n",
       "  <thead>\n",
       "    <tr style=\"text-align: right;\">\n",
       "      <th></th>\n",
       "      <th>Reviews</th>\n",
       "    </tr>\n",
       "  </thead>\n",
       "  <tbody>\n",
       "    <tr>\n",
       "      <th>0</th>\n",
       "      <td>Delta's app and website are terrible. It never...</td>\n",
       "    </tr>\n",
       "    <tr>\n",
       "      <th>1</th>\n",
       "      <td>I like the Delta app. It has more options and ...</td>\n",
       "    </tr>\n",
       "    <tr>\n",
       "      <th>2</th>\n",
       "      <td>The app worked great for awhile, but now I can...</td>\n",
       "    </tr>\n",
       "    <tr>\n",
       "      <th>3</th>\n",
       "      <td>The app used to work very well. Recently (sinc...</td>\n",
       "    </tr>\n",
       "    <tr>\n",
       "      <th>4</th>\n",
       "      <td>Great app with good content. App crashes almos...</td>\n",
       "    </tr>\n",
       "    <tr>\n",
       "      <th>5</th>\n",
       "      <td>The app works for booking and getting flight i...</td>\n",
       "    </tr>\n",
       "    <tr>\n",
       "      <th>6</th>\n",
       "      <td>Logged me out multiple times while at the airp...</td>\n",
       "    </tr>\n",
       "    <tr>\n",
       "      <th>7</th>\n",
       "      <td>The app has worked well in terms of keeping me...</td>\n",
       "    </tr>\n",
       "    <tr>\n",
       "      <th>8</th>\n",
       "      <td>The app crashed right before I had to scan my ...</td>\n",
       "    </tr>\n",
       "    <tr>\n",
       "      <th>9</th>\n",
       "      <td>Really cool app. Used it for my trip to and fr...</td>\n",
       "    </tr>\n",
       "    <tr>\n",
       "      <th>10</th>\n",
       "      <td>Good app....when it works! I have already chec...</td>\n",
       "    </tr>\n",
       "    <tr>\n",
       "      <th>11</th>\n",
       "      <td>Generally 'stale', not dynamic app - fails at ...</td>\n",
       "    </tr>\n",
       "    <tr>\n",
       "      <th>12</th>\n",
       "      <td>This app is a crash fest and I hate it. It mak...</td>\n",
       "    </tr>\n",
       "    <tr>\n",
       "      <th>13</th>\n",
       "      <td>I have the same general issues that most peopl...</td>\n",
       "    </tr>\n",
       "    <tr>\n",
       "      <th>14</th>\n",
       "      <td>Defective??? The app is CONSTANTLY saying \"We'...</td>\n",
       "    </tr>\n",
       "    <tr>\n",
       "      <th>15</th>\n",
       "      <td>I have used this app for years and never had a...</td>\n",
       "    </tr>\n",
       "    <tr>\n",
       "      <th>16</th>\n",
       "      <td>This app worked great until recently. My phone...</td>\n",
       "    </tr>\n",
       "    <tr>\n",
       "      <th>17</th>\n",
       "      <td>App is not easy to use. When you call, they su...</td>\n",
       "    </tr>\n",
       "    <tr>\n",
       "      <th>18</th>\n",
       "      <td>One of the best airline apps I've come across....</td>\n",
       "    </tr>\n",
       "    <tr>\n",
       "      <th>19</th>\n",
       "      <td>Works well most of the time. Would be better w...</td>\n",
       "    </tr>\n",
       "    <tr>\n",
       "      <th>20</th>\n",
       "      <td>So the app deleted my flight info after I got ...</td>\n",
       "    </tr>\n",
       "    <tr>\n",
       "      <th>21</th>\n",
       "      <td>Failed when i needed it most. Cant get boardin...</td>\n",
       "    </tr>\n",
       "    <tr>\n",
       "      <th>22</th>\n",
       "      <td>What an incredible POS!! Can't book without ap...</td>\n",
       "    </tr>\n",
       "    <tr>\n",
       "      <th>23</th>\n",
       "      <td>When it works it's fine, but frequently loses ...</td>\n",
       "    </tr>\n",
       "    <tr>\n",
       "      <th>24</th>\n",
       "      <td>I used to use delta app 3-4years ago and it wa...</td>\n",
       "    </tr>\n",
       "    <tr>\n",
       "      <th>25</th>\n",
       "      <td>Terrible app. Its 2020 why do you still need m...</td>\n",
       "    </tr>\n",
       "    <tr>\n",
       "      <th>26</th>\n",
       "      <td>\"Sorry, the app is having technical difficulti...</td>\n",
       "    </tr>\n",
       "    <tr>\n",
       "      <th>27</th>\n",
       "      <td>Why does it not show my purchased trips if I'm...</td>\n",
       "    </tr>\n",
       "    <tr>\n",
       "      <th>28</th>\n",
       "      <td>Garbage! What is wrong with these people at De...</td>\n",
       "    </tr>\n",
       "    <tr>\n",
       "      <th>29</th>\n",
       "      <td>Keeps saying I hit my limit on password entrie...</td>\n",
       "    </tr>\n",
       "    <tr>\n",
       "      <th>...</th>\n",
       "      <td>...</td>\n",
       "    </tr>\n",
       "    <tr>\n",
       "      <th>1170</th>\n",
       "      <td>app will not recognize my us passport # , ther...</td>\n",
       "    </tr>\n",
       "    <tr>\n",
       "      <th>1171</th>\n",
       "      <td>sometimes great. sometimes doesnt work. doesn'...</td>\n",
       "    </tr>\n",
       "    <tr>\n",
       "      <th>1172</th>\n",
       "      <td>works great most of the time, with great info....</td>\n",
       "    </tr>\n",
       "    <tr>\n",
       "      <th>1173</th>\n",
       "      <td>Asks for too much information and stopped retr...</td>\n",
       "    </tr>\n",
       "    <tr>\n",
       "      <th>1174</th>\n",
       "      <td>Lost my boarding pass. The pass was on my phon...</td>\n",
       "    </tr>\n",
       "    <tr>\n",
       "      <th>1175</th>\n",
       "      <td>Watching the crew De-ice the plane always make...</td>\n",
       "    </tr>\n",
       "    <tr>\n",
       "      <th>1176</th>\n",
       "      <td>AMAZING! I love being able to track my baggage!</td>\n",
       "    </tr>\n",
       "    <tr>\n",
       "      <th>1177</th>\n",
       "      <td>Ok app, unfortunate how delta wants to waste y...</td>\n",
       "    </tr>\n",
       "    <tr>\n",
       "      <th>1178</th>\n",
       "      <td>Need to take a lot of screenshots because info...</td>\n",
       "    </tr>\n",
       "    <tr>\n",
       "      <th>1179</th>\n",
       "      <td>the app was good up until the last update now ...</td>\n",
       "    </tr>\n",
       "    <tr>\n",
       "      <th>1180</th>\n",
       "      <td>Crashes all the time, only way to fix it is by...</td>\n",
       "    </tr>\n",
       "    <tr>\n",
       "      <th>1181</th>\n",
       "      <td>the app doesn't actually turn on. it just show...</td>\n",
       "    </tr>\n",
       "    <tr>\n",
       "      <th>1182</th>\n",
       "      <td>You can't upgrade your seat from the seat map ...</td>\n",
       "    </tr>\n",
       "    <tr>\n",
       "      <th>1183</th>\n",
       "      <td>Add support for passes in Google Pay already!!...</td>\n",
       "    </tr>\n",
       "    <tr>\n",
       "      <th>1184</th>\n",
       "      <td>Gives boarding notifications and baggage notif...</td>\n",
       "    </tr>\n",
       "    <tr>\n",
       "      <th>1185</th>\n",
       "      <td>Worst app ever!!! American Airlines app pulls ...</td>\n",
       "    </tr>\n",
       "    <tr>\n",
       "      <th>1186</th>\n",
       "      <td>I don't like that this app requires me to allo...</td>\n",
       "    </tr>\n",
       "    <tr>\n",
       "      <th>1187</th>\n",
       "      <td>Notifications for flight delays, QR codes righ...</td>\n",
       "    </tr>\n",
       "    <tr>\n",
       "      <th>1188</th>\n",
       "      <td>the app is super buggy it works only half the ...</td>\n",
       "    </tr>\n",
       "    <tr>\n",
       "      <th>1189</th>\n",
       "      <td>Very unreliable, crashes right when needed, do...</td>\n",
       "    </tr>\n",
       "    <tr>\n",
       "      <th>1190</th>\n",
       "      <td>horrible when it won't accept password then yo...</td>\n",
       "    </tr>\n",
       "    <tr>\n",
       "      <th>1191</th>\n",
       "      <td>the updated app always goes to the today scree...</td>\n",
       "    </tr>\n",
       "    <tr>\n",
       "      <th>1192</th>\n",
       "      <td>this app is not good for me im trying to log i...</td>\n",
       "    </tr>\n",
       "    <tr>\n",
       "      <th>1193</th>\n",
       "      <td>crashes all the time! at the worst moment!</td>\n",
       "    </tr>\n",
       "    <tr>\n",
       "      <th>1194</th>\n",
       "      <td>this app fails often and will not bring up fli...</td>\n",
       "    </tr>\n",
       "    <tr>\n",
       "      <th>1195</th>\n",
       "      <td>the app is great but it would be nicer if the ...</td>\n",
       "    </tr>\n",
       "    <tr>\n",
       "      <th>1196</th>\n",
       "      <td>Boarding passes frequently disappear after che...</td>\n",
       "    </tr>\n",
       "    <tr>\n",
       "      <th>1197</th>\n",
       "      <td>Constantly locks me out forcing me to call the...</td>\n",
       "    </tr>\n",
       "    <tr>\n",
       "      <th>1198</th>\n",
       "      <td>Lost 80k points + money. UX could be improved ...</td>\n",
       "    </tr>\n",
       "    <tr>\n",
       "      <th>1199</th>\n",
       "      <td>Absolute waste of an app. It would be a great ...</td>\n",
       "    </tr>\n",
       "  </tbody>\n",
       "</table>\n",
       "<p>1200 rows × 1 columns</p>\n",
       "</div>"
      ],
      "text/plain": [
       "                                                Reviews\n",
       "0     Delta's app and website are terrible. It never...\n",
       "1     I like the Delta app. It has more options and ...\n",
       "2     The app worked great for awhile, but now I can...\n",
       "3     The app used to work very well. Recently (sinc...\n",
       "4     Great app with good content. App crashes almos...\n",
       "5     The app works for booking and getting flight i...\n",
       "6     Logged me out multiple times while at the airp...\n",
       "7     The app has worked well in terms of keeping me...\n",
       "8     The app crashed right before I had to scan my ...\n",
       "9     Really cool app. Used it for my trip to and fr...\n",
       "10    Good app....when it works! I have already chec...\n",
       "11    Generally 'stale', not dynamic app - fails at ...\n",
       "12    This app is a crash fest and I hate it. It mak...\n",
       "13    I have the same general issues that most peopl...\n",
       "14    Defective??? The app is CONSTANTLY saying \"We'...\n",
       "15    I have used this app for years and never had a...\n",
       "16    This app worked great until recently. My phone...\n",
       "17    App is not easy to use. When you call, they su...\n",
       "18    One of the best airline apps I've come across....\n",
       "19    Works well most of the time. Would be better w...\n",
       "20    So the app deleted my flight info after I got ...\n",
       "21    Failed when i needed it most. Cant get boardin...\n",
       "22    What an incredible POS!! Can't book without ap...\n",
       "23    When it works it's fine, but frequently loses ...\n",
       "24    I used to use delta app 3-4years ago and it wa...\n",
       "25    Terrible app. Its 2020 why do you still need m...\n",
       "26    \"Sorry, the app is having technical difficulti...\n",
       "27    Why does it not show my purchased trips if I'm...\n",
       "28    Garbage! What is wrong with these people at De...\n",
       "29    Keeps saying I hit my limit on password entrie...\n",
       "...                                                 ...\n",
       "1170  app will not recognize my us passport # , ther...\n",
       "1171  sometimes great. sometimes doesnt work. doesn'...\n",
       "1172  works great most of the time, with great info....\n",
       "1173  Asks for too much information and stopped retr...\n",
       "1174  Lost my boarding pass. The pass was on my phon...\n",
       "1175  Watching the crew De-ice the plane always make...\n",
       "1176    AMAZING! I love being able to track my baggage!\n",
       "1177  Ok app, unfortunate how delta wants to waste y...\n",
       "1178  Need to take a lot of screenshots because info...\n",
       "1179  the app was good up until the last update now ...\n",
       "1180  Crashes all the time, only way to fix it is by...\n",
       "1181  the app doesn't actually turn on. it just show...\n",
       "1182  You can't upgrade your seat from the seat map ...\n",
       "1183  Add support for passes in Google Pay already!!...\n",
       "1184  Gives boarding notifications and baggage notif...\n",
       "1185  Worst app ever!!! American Airlines app pulls ...\n",
       "1186  I don't like that this app requires me to allo...\n",
       "1187  Notifications for flight delays, QR codes righ...\n",
       "1188  the app is super buggy it works only half the ...\n",
       "1189  Very unreliable, crashes right when needed, do...\n",
       "1190  horrible when it won't accept password then yo...\n",
       "1191  the updated app always goes to the today scree...\n",
       "1192  this app is not good for me im trying to log i...\n",
       "1193         crashes all the time! at the worst moment!\n",
       "1194  this app fails often and will not bring up fli...\n",
       "1195  the app is great but it would be nicer if the ...\n",
       "1196  Boarding passes frequently disappear after che...\n",
       "1197  Constantly locks me out forcing me to call the...\n",
       "1198  Lost 80k points + money. UX could be improved ...\n",
       "1199  Absolute waste of an app. It would be a great ...\n",
       "\n",
       "[1200 rows x 1 columns]"
      ]
     },
     "execution_count": 206,
     "metadata": {},
     "output_type": "execute_result"
    }
   ],
   "source": [
    "from keras.models import model_from_json, load_model\n",
    "#vectorizing the tweet by the pre-fitted tokenizer instance\n",
    "testreviews=pd.read_csv('Reviews.csv')\n",
    "testreviews"
   ]
  },
  {
   "cell_type": "code",
   "execution_count": 207,
   "metadata": {},
   "outputs": [
    {
     "name": "stdout",
     "output_type": "stream",
     "text": [
      "[   3    4  101   48  198    5  143  818   22   59   44  172  202    1\n",
      " 1951    2   57   38   94  325 1347    7    1  107 2210   80 1519  146\n",
      "  363   69    5   50  314    1  107   50   80    2  154  378  802   23\n",
      "  148  213   42    4  512   66  378  392   89  774  401   51    9  247\n",
      "    5  750   20   18  823  752    0    0    0    0    0    0    0    0\n",
      "    0    0    0    0    0    0    0    0    0    0    0    0    0    0\n",
      "    0    0    0    0    0    0    0    0    0    0    0    0    0    0\n",
      "    0    0    0    0    0    0    0    0    0    0    0    0    0    0\n",
      "    0    0    0    0    0    0    0    0    0    0    0    0    0    0\n",
      "    0    0    0    0    0    0    0    0    0    0    0    0    0    0\n",
      "    0    0    0    0    0    0    0    0    0    0    0    0    0    0\n",
      "    0    0    0    0    0    0    0    0    0    0    0    0    0    0\n",
      "    0    0    0    0    0    0    0    0    0    0    0    0    0    0\n",
      "    0    0    0    0    0    0    0    0    0    0    0    0    0    0\n",
      "    0    0    0    0    0    0    0    0    0    0    0    0    0    0\n",
      "    0    0    0    0    0    0    0    0    0    0    0    0    0    0\n",
      "    0    0    0    0    0    0    0    0    0    0    0    0    0    0\n",
      "    0    0    0    0    0    0    0    0    0    0    0    0]\n"
     ]
    },
    {
     "data": {
      "text/plain": [
       "array([0.10253835], dtype=float32)"
      ]
     },
     "execution_count": 207,
     "metadata": {},
     "output_type": "execute_result"
    }
   ],
   "source": [
    "# loading\n",
    "with open('tokenizer_rnnlstm.pickle', 'rb') as handle:\n",
    "    tokenizer_rnn_lstm = pickle.load(handle)\n",
    "twt = tokenizer_rnn_lstm.texts_to_sequences(testreviews.Reviews)\n",
    "\n",
    "\n",
    "#padding the tweet to have exactly the same shape as `embedding_2` input\n",
    "twt = pad_sequences(twt, maxlen=250,padding='post')\n",
    "\n",
    "print(twt[0])\n",
    "\n",
    "\n",
    "new_model_2 = load_model('my_model.h5')\n",
    "sentiment = new_model_2.predict(twt)\n",
    "sentiment[0]"
   ]
  },
  {
   "cell_type": "code",
   "execution_count": 208,
   "metadata": {},
   "outputs": [],
   "source": [
    "finalout=[]\n",
    "for col in sentiment:\n",
    "    if(col < 0.5):\n",
    "#         print(\"negative\")\n",
    "        finalout.append('negative')\n",
    "    elif (col >0.5):\n",
    "#         print(\"positive\")\n",
    "        finalout.append('positive')"
   ]
  },
  {
   "cell_type": "code",
   "execution_count": 209,
   "metadata": {},
   "outputs": [],
   "source": [
    "final=pd.DataFrame(finalout,columns=['sentiment'])"
   ]
  },
  {
   "cell_type": "code",
   "execution_count": 210,
   "metadata": {},
   "outputs": [
    {
     "data": {
      "text/plain": [
       "negative    1108\n",
       "positive      92\n",
       "Name: sentiment, dtype: int64"
      ]
     },
     "execution_count": 210,
     "metadata": {},
     "output_type": "execute_result"
    }
   ],
   "source": [
    "final.sentiment.value_counts()"
   ]
  },
  {
   "cell_type": "code",
   "execution_count": 211,
   "metadata": {},
   "outputs": [],
   "source": [
    "final['Reviews']=testreviews.Reviews"
   ]
  },
  {
   "cell_type": "code",
   "execution_count": 212,
   "metadata": {},
   "outputs": [],
   "source": [
    "final.to_csv('finalprediction.csv')"
   ]
  },
  {
   "cell_type": "code",
   "execution_count": null,
   "metadata": {},
   "outputs": [],
   "source": []
  }
 ],
 "metadata": {
  "kernelspec": {
   "display_name": "Python 3",
   "language": "python",
   "name": "python3"
  },
  "language_info": {
   "codemirror_mode": {
    "name": "ipython",
    "version": 3
   },
   "file_extension": ".py",
   "mimetype": "text/x-python",
   "name": "python",
   "nbconvert_exporter": "python",
   "pygments_lexer": "ipython3",
   "version": "3.7.4"
  }
 },
 "nbformat": 4,
 "nbformat_minor": 4
}
