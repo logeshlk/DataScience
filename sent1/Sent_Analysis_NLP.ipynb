{
 "cells": [
  {
   "cell_type": "markdown",
   "metadata": {},
   "source": [
    "# Extraction of the Reviews From FlyDelta APP"
   ]
  },
  {
   "cell_type": "code",
   "execution_count": 29,
   "metadata": {},
   "outputs": [],
   "source": [
    "# import time\n",
    "# from selenium import webdriver\n",
    "# from selenium.webdriver.support.ui import WebDriverWait\n",
    "# from selenium.webdriver.support import expected_conditions as EC\n",
    "# from selenium.webdriver.common.by import By\n",
    "# from selenium.webdriver.common.keys import Keys\n",
    "# import pandas as pd\n",
    "\n",
    "\n",
    "# def FindByXpathCss():\n",
    "#     Reviews = []\n",
    "#     reviewText = []\n",
    "#     reviewFullText = []\n",
    "#     Reviews2 = []\n",
    "#     btnShowMore = []\n",
    "\n",
    "#     driver = webdriver.Chrome(executable_path=r\"chromedriver.exe\")\n",
    "#     driver.maximize_window()\n",
    "#     baseUrl = \"https://play.google.com/store/apps/details?id=com.delta.mobile.android&hl=en_US&showAllReviews=true\"\n",
    "#     driver.get(baseUrl)\n",
    "\n",
    "#     for i in range(54):\n",
    "#         driver.find_element_by_tag_name('body').send_keys(Keys.PAGE_DOWN, i)\n",
    "#         time.sleep(0.5)\n",
    "\n",
    "#     btnShowMore = driver.find_elements_by_xpath(\n",
    "#         \"//*[@id='fcxH9b']/div[4]/c-wiz/div/div[2]/div/div[1]/div/div/div[1]/div[2]/div[2]/div/span\")\n",
    "\n",
    "#     if len(btnShowMore) > 0:\n",
    "#         for btn in btnShowMore:\n",
    "#             btn.click()\n",
    "#     else:\n",
    "#         pass\n",
    "\n",
    "#     for i in range(28):\n",
    "#         driver.find_element_by_tag_name('body').send_keys(Keys.PAGE_DOWN, i)\n",
    "#         time.sleep(0.5)\n",
    "\n",
    "#     btnShowMore = driver.find_elements_by_xpath(\n",
    "#         \"//*[@id='fcxH9b']/div[4]/c-wiz/div/div[2]/div/div[1]/div/div/div[1]/div[2]/div[2]/div/span\")\n",
    "\n",
    "#     if len(btnShowMore) > 0:\n",
    "#         for btn in btnShowMore:\n",
    "#             btn.click()\n",
    "#     else:\n",
    "#         pass\n",
    "\n",
    "#     driver.find_element_by_tag_name('body').send_keys(Keys.PAGE_DOWN, 10)\n",
    "#     time.sleep(0.5)\n",
    "\n",
    "#     for i in range(46):\n",
    "#         driver.find_element_by_tag_name('body').send_keys(Keys.PAGE_DOWN, i)\n",
    "#         time.sleep(0.5)\n",
    "\n",
    "#     # driver.find_element_by_xpath('//*[@id=\"yDmH0d\"]').send_keys(Keys.ARROW_DOWN, i)\n",
    "\n",
    "#     btnShowMore = driver.find_elements_by_xpath(\n",
    "#         \"//*[@id='fcxH9b']/div[4]/c-wiz/div/div[2]/div/div[1]/div/div/div[1]/div[2]/div[2]/div/span\")\n",
    "\n",
    "#     if len(btnShowMore) > 0:\n",
    "#         for btn in btnShowMore:\n",
    "#             btn.click()\n",
    "#     else:\n",
    "#         pass\n",
    "\n",
    "#     for i in range(35):\n",
    "#         driver.find_element_by_tag_name('body').send_keys(Keys.PAGE_DOWN, i)\n",
    "#         time.sleep(0.5)\n",
    "\n",
    "#     btnShowMore = driver.find_elements_by_xpath(\n",
    "#         \"//*[@id='fcxH9b']/div[4]/c-wiz/div/div[2]/div/div[1]/div/div/div[1]/div[2]/div[2]/div/span\")\n",
    "\n",
    "#     if len(btnShowMore) > 0:\n",
    "#         for btn in btnShowMore:\n",
    "#             btn.click()\n",
    "#     else:\n",
    "#         pass\n",
    "\n",
    "#     for i in range(20):\n",
    "#         driver.find_element_by_tag_name('body').send_keys(Keys.PAGE_DOWN, i)\n",
    "#         time.sleep(0.5)\n",
    "\n",
    "#     btnShowMore = driver.find_elements_by_xpath(\n",
    "#         \"//*[@id='fcxH9b']/div[4]/c-wiz/div/div[2]/div/div[1]/div/div/div[1]/div[2]/div[2]/div/span\")\n",
    "\n",
    "#     if len(btnShowMore) > 0:\n",
    "#         for btn in btnShowMore:\n",
    "#             btn.click()\n",
    "#     else:\n",
    "#         pass\n",
    "\n",
    "#     for i in range(6):   #Changed from 18 to 9 to 8\n",
    "#         driver.find_element_by_tag_name('body').send_keys(Keys.PAGE_DOWN, i)\n",
    "#         time.sleep(0.5)\n",
    "\n",
    "#     btnShowMore = driver.find_elements_by_xpath(\n",
    "#         \"//*[@id='fcxH9b']/div[4]/c-wiz/div/div[2]/div/div[1]/div/div/div[1]/div[2]/div[2]/div/span\")\n",
    "\n",
    "#     if len(btnShowMore) > 0:\n",
    "#         for btn in btnShowMore:\n",
    "#             btn.click()\n",
    "#     else:\n",
    "#         pass\n",
    "\n",
    "\n",
    "#     for i in range(13): #made 13 from 3\n",
    "#         driver.find_element_by_tag_name('body').send_keys(Keys.PAGE_DOWN, i)\n",
    "#         time.sleep(0.5)\n",
    "\n",
    "#     btnShowMore = driver.find_elements_by_xpath(\n",
    "#         \"//*[@id='fcxH9b']/div[4]/c-wiz/div/div[2]/div/div[1]/div/div/div[1]/div[2]/div[2]/div/span\")\n",
    "\n",
    "#     if len(btnShowMore) > 0:\n",
    "#         for btn in btnShowMore:\n",
    "#             btn.click()\n",
    "#     else:\n",
    "#         pass\n",
    "\n",
    "#     for i in range(13): #made 13 from 3\n",
    "#         driver.find_element_by_tag_name('body').send_keys(Keys.PAGE_DOWN, i)\n",
    "#         time.sleep(0.5)\n",
    "\n",
    "#     btnShowMore = driver.find_elements_by_xpath(\n",
    "#         \"//*[@id='fcxH9b']/div[4]/c-wiz/div/div[2]/div/div[1]/div/div/div[1]/div[2]/div[2]/div/span\")\n",
    "\n",
    "#     if len(btnShowMore) > 0:\n",
    "#         for btn in btnShowMore:\n",
    "#             btn.click()\n",
    "#     else:\n",
    "#         pass\n",
    "\n",
    "#     for i in range(43):  #made 33 from 3,13,23, with 33 loops, 1361 reviews extracted\n",
    "#         driver.find_element_by_tag_name('body').send_keys(Keys.PAGE_DOWN, i)\n",
    "#         time.sleep(0.5)\n",
    "\n",
    "#     btnShowMore = driver.find_elements_by_xpath(\n",
    "#         \"//*[@id='fcxH9b']/div[4]/c-wiz/div/div[2]/div/div[1]/div/div/div[1]/div[2]/div[2]/div/span\")\n",
    "\n",
    "#     if len(btnShowMore) > 0:\n",
    "#         for btn in btnShowMore:\n",
    "#             btn.click()\n",
    "#     else:\n",
    "#         pass\n",
    "\n",
    "#     for i in range(28):\n",
    "#         driver.find_element_by_tag_name('body').send_keys(Keys.CONTROL + Keys.END)\n",
    "#         time.sleep(0.5)\n",
    "\n",
    "#     btnShowMore = driver.find_elements_by_xpath(\n",
    "#         \"//*[@id='fcxH9b']/div[4]/c-wiz/div/div[2]/div/div[1]/div/div/div[1]/div[2]/div[2]/div/span\")\n",
    "\n",
    "#     if len(btnShowMore) > 0:\n",
    "#         for btn in btnShowMore:\n",
    "#             btn.click()\n",
    "#     else:\n",
    "#         pass\n",
    "\n",
    "#     driver.find_element_by_xpath('//*[@id=\"yDmH0d\"]').send_keys(Keys.CONTROL + Keys.HOME)\n",
    "#     time.sleep(3)\n",
    "\n",
    "#     driver.find_element_by_tag_name('body').send_keys(Keys.ARROW_DOWN)\n",
    "#     time.sleep(1)\n",
    "\n",
    "#     btnFullReview = driver.find_elements_by_xpath(\"//button[contains(@class,'')][contains(text(),'Full Review')]\")\n",
    "\n",
    "#     for btn in btnFullReview:\n",
    "#         btn.click()\n",
    "\n",
    "#     reviewText = driver.find_elements_by_xpath(\"//div[@jscontroller='LVJlx']/span[1]\")\n",
    "#     reviewFullText = driver.find_elements_by_xpath(\"//div[@jscontroller='LVJlx']/span[2]\")\n",
    "\n",
    "#     for txtRev in reviewText:\n",
    "#         Reviews.append(txtRev.text)\n",
    "\n",
    "#     for txtRev2 in reviewFullText:\n",
    "#         Reviews2.append(txtRev2.text)\n",
    "\n",
    "#     ReviewsSet = []\n",
    "#     for x, y in zip(Reviews, Reviews2):\n",
    "#         if len(x) > 0:\n",
    "#             ReviewsSet.append(x)\n",
    "#         else:\n",
    "#             ReviewsSet.append(y)\n",
    "\n",
    "#     df = pd.DataFrame(ReviewsSet, columns=['Reviews'])\n",
    "#     df.to_csv('Reviews_Siva.csv', index=False, encoding='utf-8')\n",
    "\n",
    "#     time.sleep(3)\n",
    "#     driver.quit()\n",
    "\n",
    "# FindByXpathCss()\n",
    "\n",
    "#     # reviewText = driver.find_elements_by_xpath(\"//div[@jscontroller='LVJlx']\")\n",
    "#     # reviewText = driver.find_elements_by_class_name(\"UD7Dzf\")\n",
    "    "
   ]
  },
  {
   "cell_type": "code",
   "execution_count": 1,
   "metadata": {},
   "outputs": [
    {
     "name": "stderr",
     "output_type": "stream",
     "text": [
      "C:\\ProgramData\\Anaconda3\\lib\\site-packages\\sklearn\\externals\\joblib\\__init__.py:15: DeprecationWarning: sklearn.externals.joblib is deprecated in 0.21 and will be removed in 0.23. Please import this functionality directly from joblib, which can be installed with: pip install joblib. If this warning is raised when loading pickled models, you may need to re-serialize those models with scikit-learn 0.21+.\n",
      "  warnings.warn(msg, category=DeprecationWarning)\n"
     ]
    },
    {
     "ename": "ModuleNotFoundError",
     "evalue": "No module named 'imblearn'",
     "output_type": "error",
     "traceback": [
      "\u001b[1;31m---------------------------------------------------------------------------\u001b[0m",
      "\u001b[1;31mModuleNotFoundError\u001b[0m                       Traceback (most recent call last)",
      "\u001b[1;32m<ipython-input-1-5ff7075ad0b3>\u001b[0m in \u001b[0;36m<module>\u001b[1;34m\u001b[0m\n\u001b[0;32m      4\u001b[0m \u001b[1;32mfrom\u001b[0m \u001b[0msklearn\u001b[0m\u001b[1;33m.\u001b[0m\u001b[0mexternals\u001b[0m \u001b[1;32mimport\u001b[0m \u001b[0mjoblib\u001b[0m\u001b[1;33m\u001b[0m\u001b[1;33m\u001b[0m\u001b[0m\n\u001b[0;32m      5\u001b[0m \u001b[1;32mfrom\u001b[0m \u001b[0mnltk\u001b[0m\u001b[1;33m.\u001b[0m\u001b[0mcorpus\u001b[0m \u001b[1;32mimport\u001b[0m \u001b[0mstopwords\u001b[0m\u001b[1;33m\u001b[0m\u001b[1;33m\u001b[0m\u001b[0m\n\u001b[1;32m----> 6\u001b[1;33m \u001b[1;32mfrom\u001b[0m \u001b[0mimblearn\u001b[0m\u001b[1;33m.\u001b[0m\u001b[0mover_sampling\u001b[0m \u001b[1;32mimport\u001b[0m \u001b[0mSMOTE\u001b[0m\u001b[1;33m\u001b[0m\u001b[1;33m\u001b[0m\u001b[0m\n\u001b[0m\u001b[0;32m      7\u001b[0m \u001b[0mget_ipython\u001b[0m\u001b[1;33m(\u001b[0m\u001b[1;33m)\u001b[0m\u001b[1;33m.\u001b[0m\u001b[0mrun_line_magic\u001b[0m\u001b[1;33m(\u001b[0m\u001b[1;34m'matplotlib'\u001b[0m\u001b[1;33m,\u001b[0m \u001b[1;34m'inline'\u001b[0m\u001b[1;33m)\u001b[0m\u001b[1;33m\u001b[0m\u001b[1;33m\u001b[0m\u001b[0m\n\u001b[0;32m      8\u001b[0m \u001b[1;32mimport\u001b[0m \u001b[0mmatplotlib\u001b[0m\u001b[1;33m.\u001b[0m\u001b[0mpyplot\u001b[0m \u001b[1;32mas\u001b[0m \u001b[0mplt\u001b[0m\u001b[1;33m\u001b[0m\u001b[1;33m\u001b[0m\u001b[0m\n",
      "\u001b[1;31mModuleNotFoundError\u001b[0m: No module named 'imblearn'"
     ]
    }
   ],
   "source": [
    "import pandas as pd\n",
    "import numpy as np\n",
    "import pickle \n",
    "from sklearn.externals import joblib \n",
    "from nltk.corpus import stopwords\n",
    "from imblearn.over_sampling import SMOTE \n",
    "%matplotlib inline\n",
    "import matplotlib.pyplot as plt\n",
    "\n",
    "chachedWords = stopwords.words('english')\n",
    "\n",
    "TrainData = pd.read_csv('data1.csv', encoding = \"ISO-8859-1\" )\n",
    "TestData = pd.read_csv('data2.csv', encoding = \"ISO-8859-1\")\n",
    "AirCanadaTest = pd.read_csv('data3.csv', encoding = \"ISO-8859-1\")\n",
    "\n",
    "AirCanadaTest.nunique()\n",
    "TrainData['Sentiment'].unique()\n",
    "TestData.nunique()\n",
    "TrainData['Sentiment'] = TrainData['Sentiment'].fillna(TrainData['Sentiment'].mode()[0])\n",
    "TrainData.Sentiment.replace({\"Negative \":\"Negative\"},inplace=True)\n",
    "TrainData['Sentiment'].unique()"
   ]
  },
  {
   "cell_type": "code",
   "execution_count": 31,
   "metadata": {},
   "outputs": [
    {
     "name": "stdout",
     "output_type": "stream",
     "text": [
      "<class 'pandas.core.frame.DataFrame'>\n",
      "RangeIndex: 785 entries, 0 to 784\n",
      "Data columns (total 2 columns):\n",
      "Review       785 non-null object\n",
      "Sentiment    785 non-null object\n",
      "dtypes: object(2)\n",
      "memory usage: 12.3+ KB\n"
     ]
    }
   ],
   "source": [
    "Data = pd.concat([TrainData,AirCanadaTest,TestData],axis=0,sort=False,ignore_index=True)\n",
    "Data.to_csv('concatedData.csv',index = False)\n",
    "Data.info()"
   ]
  },
  {
   "cell_type": "code",
   "execution_count": 32,
   "metadata": {},
   "outputs": [],
   "source": [
    "Data.Sentiment\n",
    "from sklearn.preprocessing import LabelEncoder\n",
    "label_encoder = LabelEncoder()\n",
    "Data['labelled']= label_encoder.fit_transform(Data.Sentiment)"
   ]
  },
  {
   "cell_type": "code",
   "execution_count": 63,
   "metadata": {},
   "outputs": [],
   "source": [
    "# build train and test datasets\n",
    "reviews = Data['Review'].values\n",
    "sentiments = Data['labelled'].values\n",
    "#creating the classification model using the classification algo\n",
    "from sklearn.model_selection import train_test_split\n",
    "train_reviews, test_reviews, train_sentiments, test_sentiments = train_test_split(reviews, sentiments, test_size=0.2, random_state=42,stratify=sentiments)\n"
   ]
  },
  {
   "cell_type": "code",
   "execution_count": null,
   "metadata": {},
   "outputs": [],
   "source": []
  },
  {
   "cell_type": "markdown",
   "metadata": {},
   "source": [
    "# Text Wrangling and Normalization"
   ]
  },
  {
   "cell_type": "code",
   "execution_count": 64,
   "metadata": {},
   "outputs": [],
   "source": [
    "from bs4 import BeautifulSoup\n",
    "import re\n",
    "import tqdm\n",
    "import unicodedata"
   ]
  },
  {
   "cell_type": "code",
   "execution_count": 65,
   "metadata": {},
   "outputs": [],
   "source": [
    "#function defined to remove html tags from data\n",
    "\n",
    "def strip_html_tags(text):\n",
    "    soup = BeautifulSoup(text, \"html.parser\")\n",
    "    [s.extract() for s in soup(['iframe', 'script'])]\n",
    "    stripped_text = soup.get_text()\n",
    "    stripped_text = re.sub(r'[\\r|\\n|\\r\\n]+', '\\n', stripped_text)\n",
    "    return stripped_text\n",
    "#function defined to remove unicode data\n",
    "def remove_accented_chars(text):\n",
    "    text = unicodedata.normalize('NFKD', text).encode('ascii', 'ignore').decode('utf-8', 'ignore')\n",
    "    return text"
   ]
  },
  {
   "cell_type": "code",
   "execution_count": 66,
   "metadata": {},
   "outputs": [],
   "source": [
    "# lower case and remove special characters\\whitespaces\n",
    "def pre_process_corpus(docs):\n",
    "    norm_docs = []\n",
    "    for doc in tqdm.tqdm(docs):\n",
    "#         doc = strip_html_tags(doc)\n",
    "        doc = doc.translate(doc.maketrans(\"\\n\\t\\r\", \"   \"))\n",
    "        doc = doc.lower()\n",
    "        doc = remove_accented_chars(doc)\n",
    "        #doc = contractions.fix(doc)\n",
    "        # lower case and remove special characters\\whitespaces\n",
    "        doc = re.sub(r'[^a-zA-Z0-9\\s]', '', doc, re.I|re.A)\n",
    "        doc = re.sub(' +', ' ', doc)\n",
    "        doc = doc.strip()  \n",
    "        norm_docs.append(doc)\n",
    "    return norm_docs"
   ]
  },
  {
   "cell_type": "code",
   "execution_count": 67,
   "metadata": {},
   "outputs": [],
   "source": [
    "# import string\n",
    "# import nltk\n",
    "# # nltk.download()\n",
    "# from nltk.tokenize import word_tokenize\n",
    "# from nltk.corpus import stopwords\n",
    "# from spacy.lang.en.stop_words import STOP_WORDS\n",
    "# from nltk.stem import PorterStemmer\n",
    "# from nltk.tokenize import sent_tokenize, word_tokenize\n",
    "\n",
    "# ps = PorterStemmer()\n",
    "\n",
    "# def stemming(reviews):\n",
    "#     reviw=[]\n",
    "#     for col in reviews:\n",
    "#         tokens= word_tokenize(col)\n",
    "#         tokens=[w.lower() for w in tokens]\n",
    "#         tokens =[ps.stem(w) for w in tokens]\n",
    "#         table=str.maketrans('','',string.punctuation)\n",
    "#         stripped=[w.translate(table) for w in tokens]\n",
    "#         words=[word for word in stripped if word.isalpha()]\n",
    "# #     stopwords=set(stopwords.words('english'))\n",
    "#         words=[w for w in words if not w in STOP_WORDS]\n",
    "#         reviw.append(words)\n",
    "#     X=[]\n",
    "#     for col in reviw:\n",
    "#         filtered_sentence=\" \".join(col)\n",
    "#         X.append(filtered_sentence)\n",
    "#     return X\n",
    "\n",
    "\n",
    "\n",
    "# train_reviews=stemming(train_reviews)\n",
    "# test_reviews=stemming(test_reviews)"
   ]
  },
  {
   "cell_type": "code",
   "execution_count": 68,
   "metadata": {},
   "outputs": [
    {
     "name": "stderr",
     "output_type": "stream",
     "text": [
      "100%|██████████████████████████████████████████████████████████████████████████████| 628/628 [00:00<00:00, 5235.83it/s]\n",
      "100%|█████████████████████████████████████████████████████████████████████████████| 157/157 [00:00<00:00, 10664.23it/s]\n"
     ]
    }
   ],
   "source": [
    "#Data_Preprocessing\n",
    "\n",
    "norm_train_reviews = pre_process_corpus(train_reviews)\n",
    "norm_test_reviews = pre_process_corpus(test_reviews)"
   ]
  },
  {
   "cell_type": "code",
   "execution_count": 69,
   "metadata": {},
   "outputs": [
    {
     "data": {
      "text/plain": [
       "'can no longer store altitude card otherwise nice update'"
      ]
     },
     "execution_count": 69,
     "metadata": {},
     "output_type": "execute_result"
    }
   ],
   "source": [
    "norm_train_reviews[0]"
   ]
  },
  {
   "cell_type": "code",
   "execution_count": 70,
   "metadata": {},
   "outputs": [
    {
     "data": {
      "text/plain": [
       "'i really like the previous interface it was a big upgrade from the old app and yet the new interface had some welcome user friendly ui additions what i dont understand is why some useful features were taken away such as integrating itinerary into the calendar app and being able to change paymentpersonal info in the app rather than getting redirected to a browser'"
      ]
     },
     "execution_count": 70,
     "metadata": {},
     "output_type": "execute_result"
    }
   ],
   "source": [
    "norm_test_reviews[0]"
   ]
  },
  {
   "cell_type": "code",
   "execution_count": 71,
   "metadata": {},
   "outputs": [
    {
     "name": "stdout",
     "output_type": "stream",
     "text": [
      "814\n",
      "628\n"
     ]
    },
    {
     "data": {
      "text/plain": [
       "array([[0, 0, 0, ..., 0, 1, 0],\n",
       "       [0, 0, 0, ..., 0, 0, 0],\n",
       "       [0, 0, 0, ..., 0, 0, 0],\n",
       "       ...,\n",
       "       [0, 0, 0, ..., 0, 0, 0],\n",
       "       [0, 0, 0, ..., 0, 0, 0],\n",
       "       [0, 0, 1, ..., 0, 0, 0]], dtype=int64)"
      ]
     },
     "execution_count": 71,
     "metadata": {},
     "output_type": "execute_result"
    }
   ],
   "source": [
    "from sklearn.feature_extraction.text import CountVectorizer\n",
    "# build BOW features on train reviews\n",
    "cv = CountVectorizer(binary=False, min_df=5, max_df=1.0, ngram_range=(1,2),stop_words=chachedWords)\n",
    "cv_train_features = cv.fit_transform(norm_train_reviews)\n",
    "\n",
    "print (len(cv.get_feature_names()))\n",
    "print(len(cv_train_features.toarray()))\n",
    "\n",
    "cv_test_features = cv.transform(norm_test_reviews)\n",
    "cv_test_features.toarray()\n"
   ]
  },
  {
   "cell_type": "code",
   "execution_count": 72,
   "metadata": {},
   "outputs": [
    {
     "data": {
      "text/plain": [
       "<1x814 sparse matrix of type '<class 'numpy.int64'>'\n",
       "\twith 7 stored elements in Compressed Sparse Row format>"
      ]
     },
     "execution_count": 72,
     "metadata": {},
     "output_type": "execute_result"
    }
   ],
   "source": [
    "cv_train_features[0]"
   ]
  },
  {
   "cell_type": "code",
   "execution_count": 73,
   "metadata": {},
   "outputs": [],
   "source": [
    "sm = SMOTE(random_state = 40) \n",
    "cv_train_features_sampled, train_sentiments_sampled = sm.fit_sample(cv_train_features, train_sentiments)"
   ]
  },
  {
   "cell_type": "code",
   "execution_count": 74,
   "metadata": {},
   "outputs": [
    {
     "name": "stdout",
     "output_type": "stream",
     "text": [
      "After OverSampling, counts of label '1': 478\n",
      "After OverSampling, counts of label '0': 478\n"
     ]
    }
   ],
   "source": [
    "print(\"After OverSampling, counts of label '1': {}\".format(sum(train_sentiments_sampled == 1))) \n",
    "print(\"After OverSampling, counts of label '0': {}\".format(sum(train_sentiments_sampled == 0)))"
   ]
  },
  {
   "cell_type": "code",
   "execution_count": 75,
   "metadata": {},
   "outputs": [
    {
     "name": "stdout",
     "output_type": "stream",
     "text": [
      "BOW model:> Train features shape: (956, 814)  Test features shape: (157, 814)\n"
     ]
    }
   ],
   "source": [
    "print('BOW model:> Train features shape:', cv_train_features_sampled.shape, ' Test features shape:', cv_test_features.shape)"
   ]
  },
  {
   "cell_type": "code",
   "execution_count": 76,
   "metadata": {},
   "outputs": [
    {
     "data": {
      "text/plain": [
       "<956x814 sparse matrix of type '<class 'numpy.int64'>'\n",
       "\twith 16930 stored elements in Compressed Sparse Row format>"
      ]
     },
     "execution_count": 76,
     "metadata": {},
     "output_type": "execute_result"
    }
   ],
   "source": [
    "cv_train_features_sampled"
   ]
  },
  {
   "cell_type": "code",
   "execution_count": 77,
   "metadata": {},
   "outputs": [],
   "source": [
    "import numpy as np \n",
    "traincv=np.concatenate((cv_train_features_sampled.toarray(),cv_test_features.toarray()),axis=0)\n",
    "targetcv=np.concatenate((train_sentiments_sampled,test_sentiments),axis=0)"
   ]
  },
  {
   "cell_type": "code",
   "execution_count": null,
   "metadata": {},
   "outputs": [],
   "source": []
  },
  {
   "cell_type": "code",
   "execution_count": 78,
   "metadata": {},
   "outputs": [
    {
     "name": "stdout",
     "output_type": "stream",
     "text": [
      "              precision    recall  f1-score   support\n",
      "\n",
      "           0       0.94      0.81      0.87       120\n",
      "           1       0.57      0.84      0.68        37\n",
      "\n",
      "    accuracy                           0.82       157\n",
      "   macro avg       0.76      0.82      0.78       157\n",
      "weighted avg       0.86      0.82      0.83       157\n",
      "\n",
      "          negative  positive\n",
      "negative        97        23\n",
      "positive         6        31\n",
      "acc 0.8152866242038217\n",
      "auc 0.8230855855855855\n",
      "cross_vali 0.916554054054054\n"
     ]
    },
    {
     "data": {
      "image/png": "[encoded data removed]",
      "text/plain": [
       "<Figure size 432x288 with 1 Axes>"
      ]
     },
     "metadata": {
      "needs_background": "light"
     },
     "output_type": "display_data"
    }
   ],
   "source": [
    "# Logistic Regression model on BOW features\n",
    "from sklearn.linear_model import LogisticRegression\n",
    "# instantiate model\n",
    "lrcv = LogisticRegression(penalty='l2', max_iter=500, C=1, solver='lbfgs', random_state=42)\n",
    "# train model\n",
    "lrcv.fit(cv_train_features_sampled, train_sentiments_sampled)\n",
    "lr_bow_predictions = lrcv.predict(cv_test_features)\n",
    "\n",
    "#Classigication Report for lr with cv\n",
    "from sklearn.metrics import confusion_matrix, classification_report\n",
    "labels = ['negative', 'positive']\n",
    "print(classification_report(test_sentiments, lr_bow_predictions))\n",
    "print(pd.DataFrame(confusion_matrix(test_sentiments, lr_bow_predictions), index=labels, columns=labels))\n",
    "from sklearn.metrics import accuracy_score, roc_auc_score, roc_curve\n",
    "\n",
    "def performance(y_true, pred, color=\"g\", ann=True):\n",
    "    acc = accuracy_score(y_true, pred > 0.5)\n",
    "    auc = roc_auc_score(y_true, pred)\n",
    "    fpr, tpr, thr = roc_curve(y_true, pred)\n",
    "    plt.plot(fpr, tpr, color, linewidth=\"3\")\n",
    "    plt.xlabel(\"False positive rate  lr cv\")\n",
    "    plt.ylabel(\"True positive rate   lr cv\")\n",
    "    if ann:\n",
    "        plt.annotate(\"Acc: %0.2f\" % acc, (0.2,0.7), size=14)\n",
    "        plt.annotate(\"AUC: %0.2f\" % auc, (0.2,0.6), size=14)\n",
    "performance(test_sentiments,lr_bow_predictions)\n",
    "\n",
    "print('acc', accuracy_score(test_sentiments, lr_bow_predictions ))\n",
    "print('auc', roc_auc_score(test_sentiments, lr_bow_predictions))\n",
    "\n",
    "from sklearn.model_selection import cross_val_score\n",
    "scoreslrcv = cross_val_score(lrcv,traincv, targetcv, cv=10)\n",
    "print(\"cross_vali\",scoreslrcv.mean())"
   ]
  },
  {
   "cell_type": "code",
   "execution_count": 79,
   "metadata": {},
   "outputs": [],
   "source": [
    "# #using the random forest classifier\n",
    "# from sklearn.ensemble import RandomForestClassifier\n",
    "# from sklearn.model_selection import GridSearchCV\n",
    "# n_estimators = [50,100, 300, 500, 800, 1200]\n",
    "# max_depth = [2,5, 8, 15, 25, 30]\n",
    "# min_samples_split = [2, 5, 10, 15, 100]\n",
    "# min_samples_leaf = [1, 2, 5, 10]\n",
    "# hyperF = dict(n_estimators = n_estimators, max_depth = max_depth,  \n",
    "#               min_samples_split = min_samples_split, \n",
    "#              min_samples_leaf = min_samples_leaf)\n",
    "\n",
    "# gridFcv = GridSearchCV(RandomForestClassifier(), hyperF, cv = 10, verbose=1,\n",
    "#                       n_jobs = -1)\n",
    "# bestFcv = gridFcv.fit(cv_train_features_sampled, train_sentiments)\n",
    "# print('best estimator-------------',bestFcv.best_estimator_)\n",
    "# print('best params--------------',bestFcv.best_params_)"
   ]
  },
  {
   "cell_type": "code",
   "execution_count": null,
   "metadata": {},
   "outputs": [],
   "source": []
  },
  {
   "cell_type": "code",
   "execution_count": 80,
   "metadata": {},
   "outputs": [
    {
     "name": "stdout",
     "output_type": "stream",
     "text": [
      "              precision    recall  f1-score   support\n",
      "\n",
      "           0       0.92      0.84      0.88       120\n",
      "           1       0.60      0.76      0.67        37\n",
      "\n",
      "    accuracy                           0.82       157\n",
      "   macro avg       0.76      0.80      0.77       157\n",
      "weighted avg       0.84      0.82      0.83       157\n",
      "\n",
      "          negative  positive\n",
      "negative       101        19\n",
      "positive         9        28\n",
      "acc 0.821656050955414\n",
      "auc 0.7992117117117117\n",
      "cross_vali 0.9111808236808236\n"
     ]
    },
    {
     "data": {
      "image/png": "[encoded data removed]",
      "text/plain": [
       "<Figure size 432x288 with 1 Axes>"
      ]
     },
     "metadata": {
      "needs_background": "light"
     },
     "output_type": "display_data"
    }
   ],
   "source": [
    "# Random Forest model on BOW features\n",
    "from sklearn.ensemble import RandomForestClassifier\n",
    "\n",
    "# instantiate model\n",
    "rfcv =RandomForestClassifier(bootstrap=True, ccp_alpha=0.0, class_weight=None,\n",
    "                       criterion='gini', max_depth=30, max_features='auto',\n",
    "                       max_leaf_nodes=None, max_samples=None,\n",
    "                       min_impurity_decrease=0.0, min_impurity_split=None,\n",
    "                       min_samples_leaf=1, min_samples_split=5,\n",
    "                       min_weight_fraction_leaf=0.0, n_estimators=300,\n",
    "                       n_jobs=None, oob_score=False, random_state=None,\n",
    "                       verbose=0, warm_start=False)\n",
    "# train model\n",
    "rfcv.fit(cv_train_features_sampled, train_sentiments_sampled)\n",
    "\n",
    "# predict on test data\n",
    "rf_bow_predictions = rfcv.predict(cv_test_features)\n",
    "labels = ['negative', 'positive']\n",
    "print(classification_report(test_sentiments, rf_bow_predictions))\n",
    "print(pd.DataFrame(confusion_matrix(test_sentiments, rf_bow_predictions), index=labels, columns=labels))\n",
    "\n",
    "from sklearn.metrics import accuracy_score, roc_auc_score, roc_curve\n",
    "\n",
    "def performance(y_true, pred, color=\"g\", ann=True):\n",
    "    acc = accuracy_score(y_true, pred > 0.5)\n",
    "    auc = roc_auc_score(y_true, pred)\n",
    "    fpr, tpr, thr = roc_curve(y_true, pred)\n",
    "    plt.plot(fpr, tpr, color, linewidth=\"3\")\n",
    "    plt.xlabel(\"False positive rate  rf cv\")\n",
    "    plt.ylabel(\"True positive rate   rf cv\")\n",
    "    if ann:\n",
    "        plt.annotate(\"Acc: %0.2f\" % acc, (0.2,0.7), size=14)\n",
    "        plt.annotate(\"AUC: %0.2f\" % auc, (0.2,0.6), size=14)\n",
    "performance(test_sentiments,rf_bow_predictions)\n",
    "\n",
    "print('acc', accuracy_score(test_sentiments, rf_bow_predictions))\n",
    "print('auc', roc_auc_score(test_sentiments, rf_bow_predictions))\n",
    "\n",
    "from sklearn.model_selection import cross_val_score\n",
    "scoresrfcv = cross_val_score(rfcv,traincv, targetcv, cv=10)\n",
    "print(\"cross_vali\",scoresrfcv.mean())"
   ]
  },
  {
   "cell_type": "code",
   "execution_count": 81,
   "metadata": {},
   "outputs": [],
   "source": [
    "# #parametr tune for naive byes\n",
    "# from sklearn.feature_extraction.text import TfidfVectorizer\n",
    "\n",
    "# from sklearn.naive_bayes import MultinomialNB\n",
    "# from sklearn.metrics import roc_auc_score\n",
    "\n",
    "# sm3 =SMOTE(random_state=2)\n",
    "# def build_model(max_features=None, min_df=1, nb_alpha=1.0):\n",
    "    \n",
    "#     vectorizer = TfidfVectorizer(max_features=max_features, min_df=min_df)\n",
    "\n",
    "\n",
    "#     features = vectorizer.fit_transform(norm_train_reviews)\n",
    "#     tv_train_features_nb_best, train_sentiments_tv_sampled_nb_best = sm3.fit_sample(features, train_sentiments)\n",
    "#     model = MultinomialNB(alpha=nb_alpha)\n",
    "#     model.fit(features, train_sentiments)\n",
    "#     pred = model.predict_proba(vectorizer.transform(norm_test_reviews))\n",
    "#     return {\n",
    "#     \"max_features\": max_features,\n",
    "#     \"min_df\": min_df,\n",
    "#     \"nb_alpha\": nb_alpha,\n",
    "#     \"auc\": roc_auc_score(test_sentiments, pred[:,1])\n",
    "#   }\n",
    "# from itertools import product\n",
    "# param_values = {\n",
    "#   \"max_features\": [10000, 30000, 50000, None],\n",
    "#   \"min_df\": [1,2,3],\n",
    "#   \"nb_alpha\": [0.01, 0.1, 1.0]\n",
    "# }\n",
    "# results = []\n",
    "# for p in product(*param_values.values()):\n",
    "    \n",
    "#     res = build_model(**dict(zip(param_values.keys(), p)))\n",
    "#     results.append( res )\n",
    "#     print(res)"
   ]
  },
  {
   "cell_type": "code",
   "execution_count": 1,
   "metadata": {},
   "outputs": [
    {
     "ename": "NameError",
     "evalue": "name 'SMOTE' is not defined",
     "output_type": "error",
     "traceback": [
      "\u001b[1;31m---------------------------------------------------------------------------\u001b[0m",
      "\u001b[1;31mNameError\u001b[0m                                 Traceback (most recent call last)",
      "\u001b[1;32m<ipython-input-1-318f93ee8b23>\u001b[0m in \u001b[0;36m<module>\u001b[1;34m\u001b[0m\n\u001b[0;32m      2\u001b[0m \u001b[1;32mfrom\u001b[0m \u001b[0mnltk\u001b[0m\u001b[1;33m.\u001b[0m\u001b[0mcorpus\u001b[0m \u001b[1;32mimport\u001b[0m \u001b[0mstopwords\u001b[0m\u001b[1;33m\u001b[0m\u001b[1;33m\u001b[0m\u001b[0m\n\u001b[0;32m      3\u001b[0m \u001b[1;32mfrom\u001b[0m \u001b[0msklearn\u001b[0m\u001b[1;33m.\u001b[0m\u001b[0mfeature_extraction\u001b[0m\u001b[1;33m.\u001b[0m\u001b[0mtext\u001b[0m \u001b[1;32mimport\u001b[0m \u001b[0mTfidfVectorizer\u001b[0m\u001b[1;33m\u001b[0m\u001b[1;33m\u001b[0m\u001b[0m\n\u001b[1;32m----> 4\u001b[1;33m \u001b[0msm2\u001b[0m \u001b[1;33m=\u001b[0m\u001b[0mSMOTE\u001b[0m\u001b[1;33m(\u001b[0m\u001b[0mrandom_state\u001b[0m\u001b[1;33m=\u001b[0m\u001b[1;36m2\u001b[0m\u001b[1;33m)\u001b[0m\u001b[1;33m\u001b[0m\u001b[1;33m\u001b[0m\u001b[0m\n\u001b[0m\u001b[0;32m      5\u001b[0m \u001b[1;33m\u001b[0m\u001b[0m\n\u001b[0;32m      6\u001b[0m \u001b[0mtv\u001b[0m \u001b[1;33m=\u001b[0m \u001b[0mTfidfVectorizer\u001b[0m\u001b[1;33m(\u001b[0m\u001b[0mmin_df\u001b[0m\u001b[1;33m=\u001b[0m\u001b[1;36m1\u001b[0m\u001b[1;33m,\u001b[0m\u001b[0mstop_words\u001b[0m\u001b[1;33m=\u001b[0m\u001b[0mchachedWords\u001b[0m\u001b[1;33m)\u001b[0m\u001b[1;33m\u001b[0m\u001b[1;33m\u001b[0m\u001b[0m\n",
      "\u001b[1;31mNameError\u001b[0m: name 'SMOTE' is not defined"
     ]
    }
   ],
   "source": [
    "#using tfidf vectoriser\n",
    "from nltk.corpus import stopwords\n",
    "from sklearn.feature_extraction.text import TfidfVectorizer\n",
    "sm2 =SMOTE(random_state=2)\n",
    "\n",
    "tv = TfidfVectorizer(min_df=1,stop_words=chachedWords)\n",
    "tv_train_features = tv.fit_transform(norm_train_reviews)\n",
    "tv_train_features_sampled, train_sentiments_tv_sampled = sm2.fit_sample(tv_train_features, train_sentiments)\n",
    "\n",
    "tv_test_features = tv.transform(norm_test_reviews)\n",
    "print('TFIDF model:> Train features shape:', tv_train_features_sampled.shape, ' Test features shape:', tv_test_features.shape)\n",
    "trainarray=tv_train_features_sampled.toarray()\n",
    "testarray= tv_test_features.toarray()\n",
    "import numpy as np\n",
    "trainsum=np.concatenate((trainarray,testarray),axis=0)\n",
    "targetsum=np.concatenate((train_sentiments_tv_sampled,test_sentiments),axis=0)"
   ]
  },
  {
   "cell_type": "code",
   "execution_count": 83,
   "metadata": {},
   "outputs": [
    {
     "name": "stdout",
     "output_type": "stream",
     "text": [
      "              precision    recall  f1-score   support\n",
      "\n",
      "           0       0.87      0.97      0.92       120\n",
      "           1       0.86      0.51      0.64        37\n",
      "\n",
      "    accuracy                           0.87       157\n",
      "   macro avg       0.87      0.74      0.78       157\n",
      "weighted avg       0.87      0.87      0.85       157\n",
      "\n",
      "          negative  positive\n",
      "negative       117         3\n",
      "positive        18        19\n",
      "acc 0.8662420382165605\n",
      "auc 0.7442567567567567\n",
      "cross_vali 0.9676399613899613\n"
     ]
    },
    {
     "data": {
      "image/png": "[encoded data removed]",
      "text/plain": [
       "<Figure size 432x288 with 1 Axes>"
      ]
     },
     "metadata": {
      "needs_background": "light"
     },
     "output_type": "display_data"
    }
   ],
   "source": [
    "#using the naive byes build model with tfidf vectors\n",
    "from sklearn.naive_bayes import MultinomialNB\n",
    "clf=MultinomialNB(alpha=0.01)\n",
    "clf.fit(tv_train_features_sampled, train_sentiments_tv_sampled)\n",
    "nbpred=clf.predict(tv_test_features)\n",
    "nblabels = ['negative', 'positive']\n",
    "print(classification_report(test_sentiments, nbpred))\n",
    "print(pd.DataFrame(confusion_matrix(test_sentiments, nbpred), index=nblabels, columns=nblabels))\n",
    "\n",
    "from sklearn.metrics import accuracy_score, roc_auc_score, roc_curve\n",
    "def performance(y_true, pred, color=\"g\", ann=True):\n",
    "    acc = accuracy_score(y_true, pred > 0.5)\n",
    "    auc = roc_auc_score(y_true, pred)\n",
    "    fpr, tpr, thr = roc_curve(y_true, pred)\n",
    "    plt.plot(fpr, tpr, color, linewidth=\"3\")\n",
    "    plt.xlabel(\"False positive rate  nb tf\")\n",
    "    plt.ylabel(\"True positive rate   nb tf\")\n",
    "    if ann:\n",
    "        plt.annotate(\"Acc: %0.2f\" % acc, (0.2,0.7), size=14)\n",
    "        plt.annotate(\"AUC: %0.2f\" % auc, (0.2,0.6), size=14)\n",
    "performance(test_sentiments,nbpred)\n",
    "\n",
    "print('acc', accuracy_score(test_sentiments, nbpred ))\n",
    "print('auc', roc_auc_score(test_sentiments, nbpred))\n",
    "\n",
    "from sklearn.model_selection import cross_val_score\n",
    "scoresnbtf = cross_val_score(clf,trainsum, targetsum, cv=10)\n",
    "print(\"cross_vali\",scoresnbtf.mean())"
   ]
  },
  {
   "cell_type": "code",
   "execution_count": 84,
   "metadata": {},
   "outputs": [
    {
     "name": "stdout",
     "output_type": "stream",
     "text": [
      "              precision    recall  f1-score   support\n",
      "\n",
      "           0       0.90      0.96      0.93       120\n",
      "           1       0.83      0.65      0.73        37\n",
      "\n",
      "    accuracy                           0.89       157\n",
      "   macro avg       0.86      0.80      0.83       157\n",
      "weighted avg       0.88      0.89      0.88       157\n",
      "\n",
      "          negative  positive\n",
      "negative       115         5\n",
      "positive        13        24\n",
      "acc 0.8853503184713376\n",
      "auc 0.803490990990991\n",
      "cross_vali 0.9443854568854568\n"
     ]
    },
    {
     "data": {
      "image/png": "[encoded data removed]",
      "text/plain": [
       "<Figure size 432x288 with 1 Axes>"
      ]
     },
     "metadata": {
      "needs_background": "light"
     },
     "output_type": "display_data"
    }
   ],
   "source": [
    "# Logistic Regression build model with tfidf vectors\n",
    "lrtf = LogisticRegression(penalty='l2', max_iter=500, C=1, solver='lbfgs', random_state=42)\n",
    "# fit model with logestic regression\n",
    "lrtf.fit(tv_train_features_sampled, train_sentiments_tv_sampled)\n",
    "# predict on test data\n",
    "lr_tfidf_predictions = lrtf.predict(tv_test_features)\n",
    "labels = ['negative', 'positive']\n",
    "print(classification_report(test_sentiments, lr_tfidf_predictions))\n",
    "print(pd.DataFrame(confusion_matrix(test_sentiments, lr_tfidf_predictions), index=labels, columns=labels))\n",
    "\n",
    "from sklearn.metrics import accuracy_score, roc_auc_score, roc_curve\n",
    "\n",
    "def performance(y_true, pred, color=\"g\", ann=True):\n",
    "    \n",
    "    acc = accuracy_score(y_true, pred > 0.5)\n",
    "    auc = roc_auc_score(y_true, pred)\n",
    "    fpr, tpr, thr = roc_curve(y_true, pred)\n",
    "    plt.plot(fpr, tpr, color, linewidth=\"3\")\n",
    "    plt.xlabel(\"False positive rate  lr tf\")\n",
    "    plt.ylabel(\"True positive rate lr tf\")\n",
    "    if ann:\n",
    "        plt.annotate(\"Acc: %0.2f\" % acc, (0.2,0.7), size=14)\n",
    "        plt.annotate(\"AUC: %0.2f\" % auc, (0.2,0.6), size=14)\n",
    "performance(test_sentiments,lr_tfidf_predictions)\n",
    "\n",
    "print('acc', accuracy_score(test_sentiments, lr_tfidf_predictions))\n",
    "print('auc', roc_auc_score(test_sentiments, lr_tfidf_predictions))\n",
    "\n",
    "\n",
    "from sklearn.model_selection import cross_val_score\n",
    "lrscores = cross_val_score(lrtf,trainsum, targetsum, cv=10)\n",
    "print(\"cross_vali\",lrscores.mean())"
   ]
  },
  {
   "cell_type": "code",
   "execution_count": 85,
   "metadata": {},
   "outputs": [],
   "source": [
    "#     # using the random forest classifier tf\n",
    "# from sklearn.model_selection import GridSearchCV\n",
    "# n_estimators = [50,100, 300, 500, 800, 1200]\n",
    "# max_depth = [2,5, 8, 15, 25, 30]\n",
    "# min_samples_split = [2, 5, 10, 15, 100]\n",
    "# min_samples_leaf = [1, 2, 5, 10] \n",
    "# hyperF = dict(n_estimators = n_estimators, max_depth = max_depth,  \n",
    "#                   min_samples_split = min_samples_split, \n",
    "#                  min_samples_leaf = min_samples_leaf)\n",
    "# gridFtf = GridSearchCV(RandomForestClassifier(), hyperF, cv = 10, verbose=1, n_jobs = -1)\n",
    "# bestFtf = gridFtf.fit(tv_train_features_sampled, train_sentiments_tv_sampled)"
   ]
  },
  {
   "cell_type": "code",
   "execution_count": 86,
   "metadata": {},
   "outputs": [],
   "source": [
    "# print('best estimator',bestFtf.best_estimator_)\n",
    "# # print('results',bestFtf.cv_results_)\n",
    "# print('bestscore',bestFtf.best_score_)\n",
    "# bestFtf.best_params_"
   ]
  },
  {
   "cell_type": "code",
   "execution_count": 93,
   "metadata": {},
   "outputs": [
    {
     "name": "stdout",
     "output_type": "stream",
     "text": [
      "              precision    recall  f1-score   support\n",
      "\n",
      "           0       0.93      0.85      0.89       120\n",
      "           1       0.62      0.78      0.69        37\n",
      "\n",
      "    accuracy                           0.83       157\n",
      "   macro avg       0.77      0.82      0.79       157\n",
      "weighted avg       0.85      0.83      0.84       157\n",
      "\n",
      "          negative  positive\n",
      "negative       102        18\n",
      "positive         8        29\n",
      "acc 0.8343949044585988\n",
      "auc 0.8168918918918919\n",
      "cross_vali accuracy rf-tf 0.9434362934362934\n"
     ]
    },
    {
     "data": {
      "image/png": "[encoded data removed]",
      "text/plain": [
       "<Figure size 432x288 with 1 Axes>"
      ]
     },
     "metadata": {
      "needs_background": "light"
     },
     "output_type": "display_data"
    }
   ],
   "source": [
    "from sklearn.ensemble import RandomForestClassifier\n",
    "\n",
    "optimisedrf =RandomForestClassifier(bootstrap=True, ccp_alpha=0.0, class_weight=None,\n",
    "                       criterion='gini', max_depth=25, max_features='auto',\n",
    "                       max_leaf_nodes=None, max_samples=None,\n",
    "                       min_impurity_decrease=0.0, min_impurity_split=None,\n",
    "                       min_samples_leaf=1, min_samples_split=2,\n",
    "                       min_weight_fraction_leaf=0.0, n_estimators=1200,\n",
    "                       n_jobs=None, oob_score=False, random_state=None,\n",
    "                       verbose=0, warm_start=False)\n",
    "optimisedrf.fit(tv_train_features_sampled, train_sentiments_tv_sampled)\n",
    "predictedrf=optimisedrf.predict(tv_test_features)\n",
    "labels = ['negative', 'positive']\n",
    "print(classification_report(test_sentiments, predictedrf))\n",
    "print(pd.DataFrame(confusion_matrix(test_sentiments, predictedrf), index=labels, columns=labels))\n",
    "\n",
    "\n",
    "from sklearn.metrics import accuracy_score, roc_auc_score, roc_curve\n",
    "\n",
    "def performance(y_true, pred, color=\"g\", ann=True):\n",
    "    acc = accuracy_score(y_true, pred > 0.5)\n",
    "    auc = roc_auc_score(y_true, pred)\n",
    "    fpr, tpr, thr = roc_curve(y_true, pred)\n",
    "    plt.plot(fpr, tpr, color, linewidth=\"3\")\n",
    "    plt.xlabel(\"False positive rate  rftf\")\n",
    "    plt.ylabel(\"True positive rate rftf\")\n",
    "    if ann:\n",
    "        plt.annotate(\"Acc: %0.2f\" % acc, (0.2,0.7), size=14)\n",
    "        plt.annotate(\"AUC: %0.2f\" % auc, (0.2,0.6), size=14)\n",
    "performance(test_sentiments,predictedrf)\n",
    "\n",
    "\n",
    "print('acc', accuracy_score(test_sentiments, predictedrf ))\n",
    "print('auc', roc_auc_score(test_sentiments, predictedrf))\n",
    "\n",
    "from sklearn.model_selection import cross_val_score\n",
    "rfscorestf = cross_val_score(optimisedrf,trainsum, targetsum, cv=10)\n",
    "print(\"cross_vali accuracy rf-tf\",rfscorestf.mean())"
   ]
  },
  {
   "cell_type": "code",
   "execution_count": 88,
   "metadata": {},
   "outputs": [],
   "source": [
    "# from xgboost import XGBClassifier\n",
    "# from sklearn.model_selection import GridSearchCV\n",
    "# estimator=XGBClassifier()\n",
    "\n",
    "# parameters = {\n",
    "#     'max_depth': range (2, 10, 1),\n",
    "#     'n_estimators': range(60, 220, 40),\n",
    "#     'learning_rate': [0.1, 0.01, 0.05]\n",
    "# }\n",
    "\n",
    "\n",
    "# grid_search = GridSearchCV(\n",
    "#     estimator=estimator,\n",
    "#     param_grid=parameters,\n",
    "#     scoring = 'roc_auc',\n",
    "#     n_jobs = 10,\n",
    "#     cv = 10,\n",
    "#     verbose=True\n",
    "# )\n",
    "\n",
    "# grid_search_bf_xg=grid_search.fit(tv_train_features_sampled, train_sentiments_tv_sampled)\n"
   ]
  },
  {
   "cell_type": "code",
   "execution_count": 89,
   "metadata": {},
   "outputs": [],
   "source": [
    "# print('best estimator',grid_search_bf_xg.best_estimator_)\n",
    "# # print('results',grid_search_bf_xg.cv_results_)\n",
    "# print('bestscore',grid_search_bf_xg.best_score_)\n",
    "# grid_search_bf_xg.best_params_"
   ]
  },
  {
   "cell_type": "code",
   "execution_count": 90,
   "metadata": {},
   "outputs": [
    {
     "name": "stdout",
     "output_type": "stream",
     "text": [
      "              precision    recall  f1-score   support\n",
      "\n",
      "           0       0.90      0.84      0.87       120\n",
      "           1       0.58      0.70      0.63        37\n",
      "\n",
      "    accuracy                           0.81       157\n",
      "   macro avg       0.74      0.77      0.75       157\n",
      "weighted avg       0.83      0.81      0.81       157\n",
      "\n",
      "          negative  positive\n",
      "negative       101        19\n",
      "positive        11        26\n",
      "acc 0.8089171974522293\n",
      "auc 0.7721846846846847\n",
      "cross_vali accuracy xg-tf 0.9353362290862292\n"
     ]
    },
    {
     "data": {
      "image/png": "[encoded data removed]",
      "text/plain": [
       "<Figure size 432x288 with 1 Axes>"
      ]
     },
     "metadata": {
      "needs_background": "light"
     },
     "output_type": "display_data"
    }
   ],
   "source": [
    "from xgboost import XGBClassifier\n",
    "\n",
    "xgboost=XGBClassifier(base_score=0.5, booster=None, colsample_bylevel=1,\n",
    "              colsample_bynode=1, colsample_bytree=1, gamma=0, gpu_id=-1,\n",
    "              importance_type='gain', interaction_constraints=None,\n",
    "              learning_rate=0.1, max_delta_step=0, max_depth=5,\n",
    "              min_child_weight=1, monotone_constraints=None,\n",
    "              n_estimators=180, n_jobs=0, num_parallel_tree=1,\n",
    "              objective='binary:logistic', random_state=0, reg_alpha=0,\n",
    "              reg_lambda=1, scale_pos_weight=1, subsample=1, tree_method=None,\n",
    "              validate_parameters=False, verbosity=None)\n",
    "\n",
    "\n",
    "xgboost=xgboost.fit(tv_train_features_sampled, train_sentiments_tv_sampled)\n",
    "predxgboost=xgboost.predict(tv_test_features)\n",
    "\n",
    "labels = ['negative', 'positive']\n",
    "print(classification_report(test_sentiments, predxgboost))\n",
    "print(pd.DataFrame(confusion_matrix(test_sentiments, predxgboost), index=labels, columns=labels))\n",
    "\n",
    "from sklearn.metrics import accuracy_score, roc_auc_score, roc_curve\n",
    "\n",
    "def performance(y_true, pred, color=\"g\", ann=True):\n",
    "    acc = accuracy_score(y_true, pred > 0.5)\n",
    "    auc = roc_auc_score(y_true, pred)\n",
    "    fpr, tpr, thr = roc_curve(y_true, pred)\n",
    "    plt.plot(fpr, tpr, color, linewidth=\"3\")\n",
    "    plt.xlabel(\"False positive rate  xgtf\")\n",
    "    plt.ylabel(\"True positive rate xgtf\")\n",
    "    if ann:\n",
    "        plt.annotate(\"Acc: %0.2f\" % acc, (0.2,0.7), size=14)\n",
    "        plt.annotate(\"AUC: %0.2f\" % auc, (0.2,0.6), size=14)\n",
    "performance(test_sentiments,predxgboost)\n",
    "\n",
    "\n",
    "print('acc', accuracy_score(test_sentiments, predxgboost ))\n",
    "print('auc', roc_auc_score(test_sentiments, predxgboost))\n",
    "\n",
    "from sklearn.model_selection import cross_val_score\n",
    "xgscores = cross_val_score(xgboost,trainsum, targetsum, cv=10)\n",
    "print(\"cross_vali accuracy xg-tf\",xgscores.mean())"
   ]
  },
  {
   "cell_type": "markdown",
   "metadata": {},
   "source": [
    "# predict the production data"
   ]
  },
  {
   "cell_type": "code",
   "execution_count": 91,
   "metadata": {},
   "outputs": [
    {
     "name": "stderr",
     "output_type": "stream",
     "text": [
      "100%|████████████████████████████████████████████████████████████████████████████| 1200/1200 [00:00<00:00, 8435.01it/s]\n"
     ]
    },
    {
     "data": {
      "text/plain": [
       "0    918\n",
       "1    282\n",
       "Name: Sentiment, dtype: int64"
      ]
     },
     "execution_count": 91,
     "metadata": {},
     "output_type": "execute_result"
    }
   ],
   "source": [
    "#predict on  - FlyDelta\n",
    "Del_Test = pd.read_csv('Reviews_Siva.csv', encoding = \"ISO-8859-1\")\n",
    "\n",
    "#Data Pre-processing\n",
    "del1_reviews = Del_Test['Reviews'].values\n",
    "norm_del1_reviews = pre_process_corpus(del1_reviews)\n",
    "\n",
    "norm_del1_reviews = tv.transform(norm_del1_reviews)\n",
    "lr_test_tfpred = xgboost.predict(norm_del1_reviews)\n",
    "test_tfpred = pd.DataFrame(lr_test_tfpred,columns= [\"Sentiment\"])\n",
    "tfpred_result = pd.concat([Del_Test[[\"Reviews\"]],test_tfpred] ,axis = 1)\n",
    "# tfpred_result.to_csv('REVIEWS WITHSENTMENT_lr_Tf.csv',index = False)\n",
    "tfpred_result['Sentiment'].value_counts()"
   ]
  },
  {
   "cell_type": "code",
   "execution_count": 92,
   "metadata": {},
   "outputs": [],
   "source": [
    "tfpred_result.to_csv('testreviewcount.csv',index=False)"
   ]
  },
  {
   "cell_type": "code",
   "execution_count": null,
   "metadata": {},
   "outputs": [],
   "source": []
  }
 ],
 "metadata": {
  "kernelspec": {
   "display_name": "Python 3",
   "language": "python",
   "name": "python3"
  },
  "language_info": {
   "codemirror_mode": {
    "name": "ipython",
    "version": 3
   },
   "file_extension": ".py",
   "mimetype": "text/x-python",
   "name": "python",
   "nbconvert_exporter": "python",
   "pygments_lexer": "ipython3",
   "version": "3.7.4"
  }
 },
 "nbformat": 4,
 "nbformat_minor": 2
}
