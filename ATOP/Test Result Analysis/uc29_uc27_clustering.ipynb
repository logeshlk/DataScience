{
 "cells": [
  {
   "cell_type": "code",
   "execution_count": 54,
   "metadata": {},
   "outputs": [],
   "source": [
    "import pandas as pd\n",
    "import numpy as np"
   ]
  },
  {
   "cell_type": "markdown",
   "metadata": {},
   "source": [
    "# Load Data"
   ]
  },
  {
   "cell_type": "code",
   "execution_count": 2,
   "metadata": {},
   "outputs": [],
   "source": [
    "df=pd.read_csv('Clustering_csv.csv')"
   ]
  },
  {
   "cell_type": "code",
   "execution_count": 3,
   "metadata": {
    "scrolled": true
   },
   "outputs": [
    {
     "data": {
      "text/html": [
       "<div>\n",
       "<style scoped>\n",
       "    .dataframe tbody tr th:only-of-type {\n",
       "        vertical-align: middle;\n",
       "    }\n",
       "\n",
       "    .dataframe tbody tr th {\n",
       "        vertical-align: top;\n",
       "    }\n",
       "\n",
       "    .dataframe thead th {\n",
       "        text-align: right;\n",
       "    }\n",
       "</style>\n",
       "<table border=\"1\" class=\"dataframe\">\n",
       "  <thead>\n",
       "    <tr style=\"text-align: right;\">\n",
       "      <th></th>\n",
       "      <th>Test Case ID</th>\n",
       "      <th>Test Run Id</th>\n",
       "      <th>Failed Steps</th>\n",
       "      <th>Exception Name</th>\n",
       "      <th>Step update date</th>\n",
       "      <th>Execution Time for test step</th>\n",
       "      <th>Predecessor TestCase ID</th>\n",
       "      <th>Successor TestCase ID</th>\n",
       "    </tr>\n",
       "  </thead>\n",
       "  <tbody>\n",
       "    <tr>\n",
       "      <td>0</td>\n",
       "      <td>457</td>\n",
       "      <td>122</td>\n",
       "      <td>5.10</td>\n",
       "      <td>Fails to navigate step2</td>\n",
       "      <td>10-Jul-19</td>\n",
       "      <td>2019-07-10 17:16:22.324</td>\n",
       "      <td>0</td>\n",
       "      <td>457</td>\n",
       "    </tr>\n",
       "    <tr>\n",
       "      <td>1</td>\n",
       "      <td>457</td>\n",
       "      <td>122</td>\n",
       "      <td>5.70</td>\n",
       "      <td>Verification Failed. Expected text: \"Manual Ha...</td>\n",
       "      <td>10-Jul-19</td>\n",
       "      <td>2019-07-10 17:16:22.532</td>\n",
       "      <td>457</td>\n",
       "      <td>457</td>\n",
       "    </tr>\n",
       "    <tr>\n",
       "      <td>2</td>\n",
       "      <td>457</td>\n",
       "      <td>122</td>\n",
       "      <td>5.80</td>\n",
       "      <td>Verification Failed. Expected text: \"Manual Ha...</td>\n",
       "      <td>10-Jul-19</td>\n",
       "      <td>2019-07-10 17:16:22.622</td>\n",
       "      <td>457</td>\n",
       "      <td>457</td>\n",
       "    </tr>\n",
       "    <tr>\n",
       "      <td>3</td>\n",
       "      <td>457</td>\n",
       "      <td>122</td>\n",
       "      <td>5.90</td>\n",
       "      <td>Verification Failed. Expected text: \"Manual Ha...</td>\n",
       "      <td>10-Jul-19</td>\n",
       "      <td>2019-07-10 17:16:22.659</td>\n",
       "      <td>457</td>\n",
       "      <td>457</td>\n",
       "    </tr>\n",
       "    <tr>\n",
       "      <td>4</td>\n",
       "      <td>457</td>\n",
       "      <td>122</td>\n",
       "      <td>6.10</td>\n",
       "      <td>Verification Failed. Expected text: \"Manual Ha...</td>\n",
       "      <td>10-Jul-19</td>\n",
       "      <td>2019-07-10 17:16:22.746</td>\n",
       "      <td>457</td>\n",
       "      <td>457</td>\n",
       "    </tr>\n",
       "    <tr>\n",
       "      <td>...</td>\n",
       "      <td>...</td>\n",
       "      <td>...</td>\n",
       "      <td>...</td>\n",
       "      <td>...</td>\n",
       "      <td>...</td>\n",
       "      <td>...</td>\n",
       "      <td>...</td>\n",
       "      <td>...</td>\n",
       "    </tr>\n",
       "    <tr>\n",
       "      <td>247</td>\n",
       "      <td>341</td>\n",
       "      <td>122</td>\n",
       "      <td>10.11</td>\n",
       "      <td>Unable to find object with specified locator (...</td>\n",
       "      <td>11-Jul-19</td>\n",
       "      <td>2019-07-11 09:21:05.599</td>\n",
       "      <td>320</td>\n",
       "      <td>348</td>\n",
       "    </tr>\n",
       "    <tr>\n",
       "      <td>248</td>\n",
       "      <td>348</td>\n",
       "      <td>122</td>\n",
       "      <td>10.11</td>\n",
       "      <td>Unable to find object with specified locator (...</td>\n",
       "      <td>11-Jul-19</td>\n",
       "      <td>2019-07-11 09:32:49.753</td>\n",
       "      <td>341</td>\n",
       "      <td>351</td>\n",
       "    </tr>\n",
       "    <tr>\n",
       "      <td>249</td>\n",
       "      <td>351</td>\n",
       "      <td>122</td>\n",
       "      <td>3.60</td>\n",
       "      <td>Unable to find object with specified locator (...</td>\n",
       "      <td>11-Jul-19</td>\n",
       "      <td>2019-07-11 09:34:37.606</td>\n",
       "      <td>348</td>\n",
       "      <td>350</td>\n",
       "    </tr>\n",
       "    <tr>\n",
       "      <td>250</td>\n",
       "      <td>350</td>\n",
       "      <td>122</td>\n",
       "      <td>10.11</td>\n",
       "      <td>Unable to find object with specified locator (...</td>\n",
       "      <td>11-Jul-19</td>\n",
       "      <td>2019-07-11 09:40:56.263</td>\n",
       "      <td>351</td>\n",
       "      <td>336</td>\n",
       "    </tr>\n",
       "    <tr>\n",
       "      <td>251</td>\n",
       "      <td>336</td>\n",
       "      <td>122</td>\n",
       "      <td>10.11</td>\n",
       "      <td>Unable to find object with specified locator (...</td>\n",
       "      <td>11-Jul-19</td>\n",
       "      <td>2019-07-11 10:21:28.107</td>\n",
       "      <td>350</td>\n",
       "      <td>0</td>\n",
       "    </tr>\n",
       "  </tbody>\n",
       "</table>\n",
       "<p>252 rows × 8 columns</p>\n",
       "</div>"
      ],
      "text/plain": [
       "     Test Case ID  Test Run Id  Failed Steps  \\\n",
       "0             457          122          5.10   \n",
       "1             457          122          5.70   \n",
       "2             457          122          5.80   \n",
       "3             457          122          5.90   \n",
       "4             457          122          6.10   \n",
       "..            ...          ...           ...   \n",
       "247           341          122         10.11   \n",
       "248           348          122         10.11   \n",
       "249           351          122          3.60   \n",
       "250           350          122         10.11   \n",
       "251           336          122         10.11   \n",
       "\n",
       "                                        Exception Name Step update date  \\\n",
       "0                              Fails to navigate step2        10-Jul-19   \n",
       "1    Verification Failed. Expected text: \"Manual Ha...        10-Jul-19   \n",
       "2    Verification Failed. Expected text: \"Manual Ha...        10-Jul-19   \n",
       "3    Verification Failed. Expected text: \"Manual Ha...        10-Jul-19   \n",
       "4    Verification Failed. Expected text: \"Manual Ha...        10-Jul-19   \n",
       "..                                                 ...              ...   \n",
       "247  Unable to find object with specified locator (...        11-Jul-19   \n",
       "248  Unable to find object with specified locator (...        11-Jul-19   \n",
       "249  Unable to find object with specified locator (...        11-Jul-19   \n",
       "250  Unable to find object with specified locator (...        11-Jul-19   \n",
       "251  Unable to find object with specified locator (...        11-Jul-19   \n",
       "\n",
       "    Execution Time for test step  Predecessor TestCase ID  \\\n",
       "0        2019-07-10 17:16:22.324                        0   \n",
       "1        2019-07-10 17:16:22.532                      457   \n",
       "2        2019-07-10 17:16:22.622                      457   \n",
       "3        2019-07-10 17:16:22.659                      457   \n",
       "4        2019-07-10 17:16:22.746                      457   \n",
       "..                           ...                      ...   \n",
       "247      2019-07-11 09:21:05.599                      320   \n",
       "248      2019-07-11 09:32:49.753                      341   \n",
       "249      2019-07-11 09:34:37.606                      348   \n",
       "250      2019-07-11 09:40:56.263                      351   \n",
       "251      2019-07-11 10:21:28.107                      350   \n",
       "\n",
       "     Successor TestCase ID  \n",
       "0                      457  \n",
       "1                      457  \n",
       "2                      457  \n",
       "3                      457  \n",
       "4                      457  \n",
       "..                     ...  \n",
       "247                    348  \n",
       "248                    351  \n",
       "249                    350  \n",
       "250                    336  \n",
       "251                      0  \n",
       "\n",
       "[252 rows x 8 columns]"
      ]
     },
     "execution_count": 3,
     "metadata": {},
     "output_type": "execute_result"
    }
   ],
   "source": [
    "df"
   ]
  },
  {
   "cell_type": "code",
   "execution_count": 4,
   "metadata": {},
   "outputs": [
    {
     "data": {
      "text/plain": [
       "Test Case ID                    0\n",
       "Test Run Id                     0\n",
       "Failed Steps                    0\n",
       "Exception Name                  0\n",
       "Step update date                0\n",
       "Execution Time for test step    0\n",
       "Predecessor TestCase ID         0\n",
       "Successor TestCase ID           0\n",
       "dtype: int64"
      ]
     },
     "execution_count": 4,
     "metadata": {},
     "output_type": "execute_result"
    }
   ],
   "source": [
    "df.isna().sum()"
   ]
  },
  {
   "cell_type": "code",
   "execution_count": null,
   "metadata": {},
   "outputs": [],
   "source": [
    "#df.drop(df.tail(3).index,inplace=True)"
   ]
  },
  {
   "cell_type": "code",
   "execution_count": 42,
   "metadata": {},
   "outputs": [],
   "source": [
    "df2 = pd.DataFrame(df.groupby(\"Test Case ID\")[\"Exception Name\"].apply(list))"
   ]
  },
  {
   "cell_type": "code",
   "execution_count": 45,
   "metadata": {},
   "outputs": [],
   "source": [
    "df2 = df2.reset_index()"
   ]
  },
  {
   "cell_type": "code",
   "execution_count": 46,
   "metadata": {},
   "outputs": [
    {
     "data": {
      "text/plain": [
       "(127, 2)"
      ]
     },
     "execution_count": 46,
     "metadata": {},
     "output_type": "execute_result"
    }
   ],
   "source": [
    "df2.shape"
   ]
  },
  {
   "cell_type": "code",
   "execution_count": 60,
   "metadata": {},
   "outputs": [
    {
     "data": {
      "text/html": [
       "<div>\n",
       "<style scoped>\n",
       "    .dataframe tbody tr th:only-of-type {\n",
       "        vertical-align: middle;\n",
       "    }\n",
       "\n",
       "    .dataframe tbody tr th {\n",
       "        vertical-align: top;\n",
       "    }\n",
       "\n",
       "    .dataframe thead th {\n",
       "        text-align: right;\n",
       "    }\n",
       "</style>\n",
       "<table border=\"1\" class=\"dataframe\">\n",
       "  <thead>\n",
       "    <tr style=\"text-align: right;\">\n",
       "      <th></th>\n",
       "      <th>Test Case ID</th>\n",
       "      <th>Test Run Id</th>\n",
       "      <th>Failed Steps</th>\n",
       "      <th>Exception Name</th>\n",
       "      <th>Step update date</th>\n",
       "      <th>Execution Time for test step</th>\n",
       "      <th>Predecessor TestCase ID</th>\n",
       "      <th>Successor TestCase ID</th>\n",
       "    </tr>\n",
       "  </thead>\n",
       "  <tbody>\n",
       "    <tr>\n",
       "      <td>0</td>\n",
       "      <td>457</td>\n",
       "      <td>122</td>\n",
       "      <td>5.10</td>\n",
       "      <td>Fails to navigate step2</td>\n",
       "      <td>10-Jul-19</td>\n",
       "      <td>2019-07-10 17:16:22.324</td>\n",
       "      <td>0</td>\n",
       "      <td>457</td>\n",
       "    </tr>\n",
       "    <tr>\n",
       "      <td>1</td>\n",
       "      <td>457</td>\n",
       "      <td>122</td>\n",
       "      <td>5.70</td>\n",
       "      <td>Verification Failed. Expected text: \"Manual Ha...</td>\n",
       "      <td>10-Jul-19</td>\n",
       "      <td>2019-07-10 17:16:22.532</td>\n",
       "      <td>457</td>\n",
       "      <td>457</td>\n",
       "    </tr>\n",
       "    <tr>\n",
       "      <td>2</td>\n",
       "      <td>457</td>\n",
       "      <td>122</td>\n",
       "      <td>5.80</td>\n",
       "      <td>Verification Failed. Expected text: \"Manual Ha...</td>\n",
       "      <td>10-Jul-19</td>\n",
       "      <td>2019-07-10 17:16:22.622</td>\n",
       "      <td>457</td>\n",
       "      <td>457</td>\n",
       "    </tr>\n",
       "    <tr>\n",
       "      <td>3</td>\n",
       "      <td>457</td>\n",
       "      <td>122</td>\n",
       "      <td>5.90</td>\n",
       "      <td>Verification Failed. Expected text: \"Manual Ha...</td>\n",
       "      <td>10-Jul-19</td>\n",
       "      <td>2019-07-10 17:16:22.659</td>\n",
       "      <td>457</td>\n",
       "      <td>457</td>\n",
       "    </tr>\n",
       "    <tr>\n",
       "      <td>4</td>\n",
       "      <td>457</td>\n",
       "      <td>122</td>\n",
       "      <td>6.10</td>\n",
       "      <td>Verification Failed. Expected text: \"Manual Ha...</td>\n",
       "      <td>10-Jul-19</td>\n",
       "      <td>2019-07-10 17:16:22.746</td>\n",
       "      <td>457</td>\n",
       "      <td>457</td>\n",
       "    </tr>\n",
       "    <tr>\n",
       "      <td>...</td>\n",
       "      <td>...</td>\n",
       "      <td>...</td>\n",
       "      <td>...</td>\n",
       "      <td>...</td>\n",
       "      <td>...</td>\n",
       "      <td>...</td>\n",
       "      <td>...</td>\n",
       "      <td>...</td>\n",
       "    </tr>\n",
       "    <tr>\n",
       "      <td>247</td>\n",
       "      <td>341</td>\n",
       "      <td>122</td>\n",
       "      <td>10.11</td>\n",
       "      <td>Unable to find object with specified locator (...</td>\n",
       "      <td>11-Jul-19</td>\n",
       "      <td>2019-07-11 09:21:05.599</td>\n",
       "      <td>320</td>\n",
       "      <td>348</td>\n",
       "    </tr>\n",
       "    <tr>\n",
       "      <td>248</td>\n",
       "      <td>348</td>\n",
       "      <td>122</td>\n",
       "      <td>10.11</td>\n",
       "      <td>Unable to find object with specified locator (...</td>\n",
       "      <td>11-Jul-19</td>\n",
       "      <td>2019-07-11 09:32:49.753</td>\n",
       "      <td>341</td>\n",
       "      <td>351</td>\n",
       "    </tr>\n",
       "    <tr>\n",
       "      <td>249</td>\n",
       "      <td>351</td>\n",
       "      <td>122</td>\n",
       "      <td>3.60</td>\n",
       "      <td>Unable to find object with specified locator (...</td>\n",
       "      <td>11-Jul-19</td>\n",
       "      <td>2019-07-11 09:34:37.606</td>\n",
       "      <td>348</td>\n",
       "      <td>350</td>\n",
       "    </tr>\n",
       "    <tr>\n",
       "      <td>250</td>\n",
       "      <td>350</td>\n",
       "      <td>122</td>\n",
       "      <td>10.11</td>\n",
       "      <td>Unable to find object with specified locator (...</td>\n",
       "      <td>11-Jul-19</td>\n",
       "      <td>2019-07-11 09:40:56.263</td>\n",
       "      <td>351</td>\n",
       "      <td>336</td>\n",
       "    </tr>\n",
       "    <tr>\n",
       "      <td>251</td>\n",
       "      <td>336</td>\n",
       "      <td>122</td>\n",
       "      <td>10.11</td>\n",
       "      <td>Unable to find object with specified locator (...</td>\n",
       "      <td>11-Jul-19</td>\n",
       "      <td>2019-07-11 10:21:28.107</td>\n",
       "      <td>350</td>\n",
       "      <td>0</td>\n",
       "    </tr>\n",
       "  </tbody>\n",
       "</table>\n",
       "<p>252 rows × 8 columns</p>\n",
       "</div>"
      ],
      "text/plain": [
       "     Test Case ID  Test Run Id  Failed Steps  \\\n",
       "0             457          122          5.10   \n",
       "1             457          122          5.70   \n",
       "2             457          122          5.80   \n",
       "3             457          122          5.90   \n",
       "4             457          122          6.10   \n",
       "..            ...          ...           ...   \n",
       "247           341          122         10.11   \n",
       "248           348          122         10.11   \n",
       "249           351          122          3.60   \n",
       "250           350          122         10.11   \n",
       "251           336          122         10.11   \n",
       "\n",
       "                                        Exception Name Step update date  \\\n",
       "0                              Fails to navigate step2        10-Jul-19   \n",
       "1    Verification Failed. Expected text: \"Manual Ha...        10-Jul-19   \n",
       "2    Verification Failed. Expected text: \"Manual Ha...        10-Jul-19   \n",
       "3    Verification Failed. Expected text: \"Manual Ha...        10-Jul-19   \n",
       "4    Verification Failed. Expected text: \"Manual Ha...        10-Jul-19   \n",
       "..                                                 ...              ...   \n",
       "247  Unable to find object with specified locator (...        11-Jul-19   \n",
       "248  Unable to find object with specified locator (...        11-Jul-19   \n",
       "249  Unable to find object with specified locator (...        11-Jul-19   \n",
       "250  Unable to find object with specified locator (...        11-Jul-19   \n",
       "251  Unable to find object with specified locator (...        11-Jul-19   \n",
       "\n",
       "    Execution Time for test step  Predecessor TestCase ID  \\\n",
       "0        2019-07-10 17:16:22.324                        0   \n",
       "1        2019-07-10 17:16:22.532                      457   \n",
       "2        2019-07-10 17:16:22.622                      457   \n",
       "3        2019-07-10 17:16:22.659                      457   \n",
       "4        2019-07-10 17:16:22.746                      457   \n",
       "..                           ...                      ...   \n",
       "247      2019-07-11 09:21:05.599                      320   \n",
       "248      2019-07-11 09:32:49.753                      341   \n",
       "249      2019-07-11 09:34:37.606                      348   \n",
       "250      2019-07-11 09:40:56.263                      351   \n",
       "251      2019-07-11 10:21:28.107                      350   \n",
       "\n",
       "     Successor TestCase ID  \n",
       "0                      457  \n",
       "1                      457  \n",
       "2                      457  \n",
       "3                      457  \n",
       "4                      457  \n",
       "..                     ...  \n",
       "247                    348  \n",
       "248                    351  \n",
       "249                    350  \n",
       "250                    336  \n",
       "251                      0  \n",
       "\n",
       "[252 rows x 8 columns]"
      ]
     },
     "execution_count": 60,
     "metadata": {},
     "output_type": "execute_result"
    }
   ],
   "source": [
    "df"
   ]
  },
  {
   "cell_type": "code",
   "execution_count": 65,
   "metadata": {},
   "outputs": [],
   "source": [
    "df2.rename(columns={\"Exception Name\": \"Exception_Name\"}, inplace=True)"
   ]
  },
  {
   "cell_type": "code",
   "execution_count": 66,
   "metadata": {},
   "outputs": [
    {
     "data": {
      "text/html": [
       "<div>\n",
       "<style scoped>\n",
       "    .dataframe tbody tr th:only-of-type {\n",
       "        vertical-align: middle;\n",
       "    }\n",
       "\n",
       "    .dataframe tbody tr th {\n",
       "        vertical-align: top;\n",
       "    }\n",
       "\n",
       "    .dataframe thead th {\n",
       "        text-align: right;\n",
       "    }\n",
       "</style>\n",
       "<table border=\"1\" class=\"dataframe\">\n",
       "  <thead>\n",
       "    <tr style=\"text-align: right;\">\n",
       "      <th></th>\n",
       "      <th>Test Case ID</th>\n",
       "      <th>Exception_Name</th>\n",
       "    </tr>\n",
       "  </thead>\n",
       "  <tbody>\n",
       "    <tr>\n",
       "      <td>0</td>\n",
       "      <td>318</td>\n",
       "      <td>[no such element: Unable to locate element: {\"...</td>\n",
       "    </tr>\n",
       "    <tr>\n",
       "      <td>1</td>\n",
       "      <td>319</td>\n",
       "      <td>[  (Session info: chrome=75.0.3770.100)]</td>\n",
       "    </tr>\n",
       "    <tr>\n",
       "      <td>2</td>\n",
       "      <td>320</td>\n",
       "      <td>[Unable to find object with specified locator ...</td>\n",
       "    </tr>\n",
       "    <tr>\n",
       "      <td>3</td>\n",
       "      <td>323</td>\n",
       "      <td>[Verification Failed. Expected text: \"Straight...</td>\n",
       "    </tr>\n",
       "    <tr>\n",
       "      <td>4</td>\n",
       "      <td>325</td>\n",
       "      <td>[Verification Failed. Expected text: \"Step 6 o...</td>\n",
       "    </tr>\n",
       "    <tr>\n",
       "      <td>...</td>\n",
       "      <td>...</td>\n",
       "      <td>...</td>\n",
       "    </tr>\n",
       "    <tr>\n",
       "      <td>122</td>\n",
       "      <td>556</td>\n",
       "      <td>[Verification Failed. Expected text: \"Straight...</td>\n",
       "    </tr>\n",
       "    <tr>\n",
       "      <td>123</td>\n",
       "      <td>557</td>\n",
       "      <td>[Insured Name:  Bent Larsen has been created a...</td>\n",
       "    </tr>\n",
       "    <tr>\n",
       "      <td>124</td>\n",
       "      <td>558</td>\n",
       "      <td>[Unable to find object with specified locator ...</td>\n",
       "    </tr>\n",
       "    <tr>\n",
       "      <td>125</td>\n",
       "      <td>559</td>\n",
       "      <td>[Verification Failed. Expected text: \"Straight...</td>\n",
       "    </tr>\n",
       "    <tr>\n",
       "      <td>126</td>\n",
       "      <td>560</td>\n",
       "      <td>[Verification Failed. Expected text: \"Straight...</td>\n",
       "    </tr>\n",
       "  </tbody>\n",
       "</table>\n",
       "<p>127 rows × 2 columns</p>\n",
       "</div>"
      ],
      "text/plain": [
       "     Test Case ID                                     Exception_Name\n",
       "0             318  [no such element: Unable to locate element: {\"...\n",
       "1             319           [  (Session info: chrome=75.0.3770.100)]\n",
       "2             320  [Unable to find object with specified locator ...\n",
       "3             323  [Verification Failed. Expected text: \"Straight...\n",
       "4             325  [Verification Failed. Expected text: \"Step 6 o...\n",
       "..            ...                                                ...\n",
       "122           556  [Verification Failed. Expected text: \"Straight...\n",
       "123           557  [Insured Name:  Bent Larsen has been created a...\n",
       "124           558  [Unable to find object with specified locator ...\n",
       "125           559  [Verification Failed. Expected text: \"Straight...\n",
       "126           560  [Verification Failed. Expected text: \"Straight...\n",
       "\n",
       "[127 rows x 2 columns]"
      ]
     },
     "execution_count": 66,
     "metadata": {},
     "output_type": "execute_result"
    }
   ],
   "source": [
    "df2"
   ]
  },
  {
   "cell_type": "markdown",
   "metadata": {},
   "source": [
    "# Preprocessing"
   ]
  },
  {
   "cell_type": "code",
   "execution_count": 68,
   "metadata": {},
   "outputs": [],
   "source": [
    "df3 = pd.merge(df, df2, on ='Test Case ID',how ='inner')"
   ]
  },
  {
   "cell_type": "code",
   "execution_count": 69,
   "metadata": {},
   "outputs": [
    {
     "data": {
      "text/html": [
       "<div>\n",
       "<style scoped>\n",
       "    .dataframe tbody tr th:only-of-type {\n",
       "        vertical-align: middle;\n",
       "    }\n",
       "\n",
       "    .dataframe tbody tr th {\n",
       "        vertical-align: top;\n",
       "    }\n",
       "\n",
       "    .dataframe thead th {\n",
       "        text-align: right;\n",
       "    }\n",
       "</style>\n",
       "<table border=\"1\" class=\"dataframe\">\n",
       "  <thead>\n",
       "    <tr style=\"text-align: right;\">\n",
       "      <th></th>\n",
       "      <th>Test Case ID</th>\n",
       "      <th>Test Run Id</th>\n",
       "      <th>Failed Steps</th>\n",
       "      <th>Exception Name</th>\n",
       "      <th>Step update date</th>\n",
       "      <th>Execution Time for test step</th>\n",
       "      <th>Predecessor TestCase ID</th>\n",
       "      <th>Successor TestCase ID</th>\n",
       "      <th>Exception_Name</th>\n",
       "    </tr>\n",
       "  </thead>\n",
       "  <tbody>\n",
       "    <tr>\n",
       "      <td>0</td>\n",
       "      <td>457</td>\n",
       "      <td>122</td>\n",
       "      <td>5.10</td>\n",
       "      <td>Fails to navigate step2</td>\n",
       "      <td>10-Jul-19</td>\n",
       "      <td>2019-07-10 17:16:22.324</td>\n",
       "      <td>0</td>\n",
       "      <td>457</td>\n",
       "      <td>[Fails to navigate step2, Verification Failed....</td>\n",
       "    </tr>\n",
       "    <tr>\n",
       "      <td>1</td>\n",
       "      <td>457</td>\n",
       "      <td>122</td>\n",
       "      <td>5.70</td>\n",
       "      <td>Verification Failed. Expected text: \"Manual Ha...</td>\n",
       "      <td>10-Jul-19</td>\n",
       "      <td>2019-07-10 17:16:22.532</td>\n",
       "      <td>457</td>\n",
       "      <td>457</td>\n",
       "      <td>[Fails to navigate step2, Verification Failed....</td>\n",
       "    </tr>\n",
       "    <tr>\n",
       "      <td>2</td>\n",
       "      <td>457</td>\n",
       "      <td>122</td>\n",
       "      <td>5.80</td>\n",
       "      <td>Verification Failed. Expected text: \"Manual Ha...</td>\n",
       "      <td>10-Jul-19</td>\n",
       "      <td>2019-07-10 17:16:22.622</td>\n",
       "      <td>457</td>\n",
       "      <td>457</td>\n",
       "      <td>[Fails to navigate step2, Verification Failed....</td>\n",
       "    </tr>\n",
       "    <tr>\n",
       "      <td>3</td>\n",
       "      <td>457</td>\n",
       "      <td>122</td>\n",
       "      <td>5.90</td>\n",
       "      <td>Verification Failed. Expected text: \"Manual Ha...</td>\n",
       "      <td>10-Jul-19</td>\n",
       "      <td>2019-07-10 17:16:22.659</td>\n",
       "      <td>457</td>\n",
       "      <td>457</td>\n",
       "      <td>[Fails to navigate step2, Verification Failed....</td>\n",
       "    </tr>\n",
       "    <tr>\n",
       "      <td>4</td>\n",
       "      <td>457</td>\n",
       "      <td>122</td>\n",
       "      <td>6.10</td>\n",
       "      <td>Verification Failed. Expected text: \"Manual Ha...</td>\n",
       "      <td>10-Jul-19</td>\n",
       "      <td>2019-07-10 17:16:22.746</td>\n",
       "      <td>457</td>\n",
       "      <td>457</td>\n",
       "      <td>[Fails to navigate step2, Verification Failed....</td>\n",
       "    </tr>\n",
       "    <tr>\n",
       "      <td>...</td>\n",
       "      <td>...</td>\n",
       "      <td>...</td>\n",
       "      <td>...</td>\n",
       "      <td>...</td>\n",
       "      <td>...</td>\n",
       "      <td>...</td>\n",
       "      <td>...</td>\n",
       "      <td>...</td>\n",
       "      <td>...</td>\n",
       "    </tr>\n",
       "    <tr>\n",
       "      <td>247</td>\n",
       "      <td>341</td>\n",
       "      <td>122</td>\n",
       "      <td>10.11</td>\n",
       "      <td>Unable to find object with specified locator (...</td>\n",
       "      <td>11-Jul-19</td>\n",
       "      <td>2019-07-11 09:21:05.599</td>\n",
       "      <td>320</td>\n",
       "      <td>348</td>\n",
       "      <td>[Unable to find object with specified locator ...</td>\n",
       "    </tr>\n",
       "    <tr>\n",
       "      <td>248</td>\n",
       "      <td>348</td>\n",
       "      <td>122</td>\n",
       "      <td>10.11</td>\n",
       "      <td>Unable to find object with specified locator (...</td>\n",
       "      <td>11-Jul-19</td>\n",
       "      <td>2019-07-11 09:32:49.753</td>\n",
       "      <td>341</td>\n",
       "      <td>351</td>\n",
       "      <td>[Unable to find object with specified locator ...</td>\n",
       "    </tr>\n",
       "    <tr>\n",
       "      <td>249</td>\n",
       "      <td>351</td>\n",
       "      <td>122</td>\n",
       "      <td>3.60</td>\n",
       "      <td>Unable to find object with specified locator (...</td>\n",
       "      <td>11-Jul-19</td>\n",
       "      <td>2019-07-11 09:34:37.606</td>\n",
       "      <td>348</td>\n",
       "      <td>350</td>\n",
       "      <td>[Unable to find object with specified locator ...</td>\n",
       "    </tr>\n",
       "    <tr>\n",
       "      <td>250</td>\n",
       "      <td>350</td>\n",
       "      <td>122</td>\n",
       "      <td>10.11</td>\n",
       "      <td>Unable to find object with specified locator (...</td>\n",
       "      <td>11-Jul-19</td>\n",
       "      <td>2019-07-11 09:40:56.263</td>\n",
       "      <td>351</td>\n",
       "      <td>336</td>\n",
       "      <td>[Unable to find object with specified locator ...</td>\n",
       "    </tr>\n",
       "    <tr>\n",
       "      <td>251</td>\n",
       "      <td>336</td>\n",
       "      <td>122</td>\n",
       "      <td>10.11</td>\n",
       "      <td>Unable to find object with specified locator (...</td>\n",
       "      <td>11-Jul-19</td>\n",
       "      <td>2019-07-11 10:21:28.107</td>\n",
       "      <td>350</td>\n",
       "      <td>0</td>\n",
       "      <td>[Unable to find object with specified locator ...</td>\n",
       "    </tr>\n",
       "  </tbody>\n",
       "</table>\n",
       "<p>252 rows × 9 columns</p>\n",
       "</div>"
      ],
      "text/plain": [
       "     Test Case ID  Test Run Id  Failed Steps  \\\n",
       "0             457          122          5.10   \n",
       "1             457          122          5.70   \n",
       "2             457          122          5.80   \n",
       "3             457          122          5.90   \n",
       "4             457          122          6.10   \n",
       "..            ...          ...           ...   \n",
       "247           341          122         10.11   \n",
       "248           348          122         10.11   \n",
       "249           351          122          3.60   \n",
       "250           350          122         10.11   \n",
       "251           336          122         10.11   \n",
       "\n",
       "                                        Exception Name Step update date  \\\n",
       "0                              Fails to navigate step2        10-Jul-19   \n",
       "1    Verification Failed. Expected text: \"Manual Ha...        10-Jul-19   \n",
       "2    Verification Failed. Expected text: \"Manual Ha...        10-Jul-19   \n",
       "3    Verification Failed. Expected text: \"Manual Ha...        10-Jul-19   \n",
       "4    Verification Failed. Expected text: \"Manual Ha...        10-Jul-19   \n",
       "..                                                 ...              ...   \n",
       "247  Unable to find object with specified locator (...        11-Jul-19   \n",
       "248  Unable to find object with specified locator (...        11-Jul-19   \n",
       "249  Unable to find object with specified locator (...        11-Jul-19   \n",
       "250  Unable to find object with specified locator (...        11-Jul-19   \n",
       "251  Unable to find object with specified locator (...        11-Jul-19   \n",
       "\n",
       "    Execution Time for test step  Predecessor TestCase ID  \\\n",
       "0        2019-07-10 17:16:22.324                        0   \n",
       "1        2019-07-10 17:16:22.532                      457   \n",
       "2        2019-07-10 17:16:22.622                      457   \n",
       "3        2019-07-10 17:16:22.659                      457   \n",
       "4        2019-07-10 17:16:22.746                      457   \n",
       "..                           ...                      ...   \n",
       "247      2019-07-11 09:21:05.599                      320   \n",
       "248      2019-07-11 09:32:49.753                      341   \n",
       "249      2019-07-11 09:34:37.606                      348   \n",
       "250      2019-07-11 09:40:56.263                      351   \n",
       "251      2019-07-11 10:21:28.107                      350   \n",
       "\n",
       "     Successor TestCase ID                                     Exception_Name  \n",
       "0                      457  [Fails to navigate step2, Verification Failed....  \n",
       "1                      457  [Fails to navigate step2, Verification Failed....  \n",
       "2                      457  [Fails to navigate step2, Verification Failed....  \n",
       "3                      457  [Fails to navigate step2, Verification Failed....  \n",
       "4                      457  [Fails to navigate step2, Verification Failed....  \n",
       "..                     ...                                                ...  \n",
       "247                    348  [Unable to find object with specified locator ...  \n",
       "248                    351  [Unable to find object with specified locator ...  \n",
       "249                    350  [Unable to find object with specified locator ...  \n",
       "250                    336  [Unable to find object with specified locator ...  \n",
       "251                      0  [Unable to find object with specified locator ...  \n",
       "\n",
       "[252 rows x 9 columns]"
      ]
     },
     "execution_count": 69,
     "metadata": {},
     "output_type": "execute_result"
    }
   ],
   "source": [
    "df3"
   ]
  },
  {
   "cell_type": "code",
   "execution_count": null,
   "metadata": {},
   "outputs": [],
   "source": [
    "Update_date=[]\n",
    "for date in df['Step update date']:\n",
    "    period = pd.Period(date, freq='D')\n",
    "    Update_date.append(period.dayofyear)\n",
    "\n",
    "df['Step update date']=Update_date"
   ]
  },
  {
   "cell_type": "code",
   "execution_count": null,
   "metadata": {},
   "outputs": [],
   "source": [
    "df['Step update date'].unique()"
   ]
  },
  {
   "cell_type": "code",
   "execution_count": null,
   "metadata": {},
   "outputs": [],
   "source": [
    "import datetime as dt"
   ]
  },
  {
   "cell_type": "code",
   "execution_count": null,
   "metadata": {},
   "outputs": [],
   "source": [
    "#Converting the field type into Date and Time\n",
    "\n",
    "df['Execution Time'] = pd.to_datetime(df['Execution Time for test step'])"
   ]
  },
  {
   "cell_type": "code",
   "execution_count": null,
   "metadata": {},
   "outputs": [],
   "source": [
    "df['Execution Time'].dt.hour.head()"
   ]
  },
  {
   "cell_type": "code",
   "execution_count": null,
   "metadata": {},
   "outputs": [],
   "source": [
    "df['exe_day'] = df['Execution Time'].dt.dayofyear"
   ]
  },
  {
   "cell_type": "code",
   "execution_count": null,
   "metadata": {},
   "outputs": [],
   "source": [
    "df['exe_month'] = df['Execution Time'].dt.month"
   ]
  },
  {
   "cell_type": "code",
   "execution_count": null,
   "metadata": {},
   "outputs": [],
   "source": [
    "df['exe_hour'] = df['Execution Time'].dt.hour"
   ]
  },
  {
   "cell_type": "code",
   "execution_count": null,
   "metadata": {},
   "outputs": [],
   "source": [
    "df['exe_min'] = df['Execution Time'].dt.minute"
   ]
  },
  {
   "cell_type": "code",
   "execution_count": null,
   "metadata": {},
   "outputs": [],
   "source": [
    "df['exe_sec'] = df['Execution Time'].dt.second"
   ]
  },
  {
   "cell_type": "code",
   "execution_count": null,
   "metadata": {},
   "outputs": [],
   "source": [
    "df1 = df.drop(['Execution Time for test step', 'Execution Time','Test Run Id','Failed Steps'], axis=1)"
   ]
  },
  {
   "cell_type": "code",
   "execution_count": null,
   "metadata": {},
   "outputs": [],
   "source": [
    "df1.head()"
   ]
  },
  {
   "cell_type": "code",
   "execution_count": null,
   "metadata": {},
   "outputs": [],
   "source": [
    "'Test Run Id','Step update date','exe_month'"
   ]
  },
  {
   "cell_type": "code",
   "execution_count": null,
   "metadata": {},
   "outputs": [],
   "source": [
    "df1.drop_duplicates(subset='Exception Name', inplace=True)"
   ]
  },
  {
   "cell_type": "markdown",
   "metadata": {},
   "source": [
    "# Text Wrangling and Normalization"
   ]
  },
  {
   "cell_type": "code",
   "execution_count": null,
   "metadata": {},
   "outputs": [],
   "source": [
    "from bs4 import BeautifulSoup\n",
    "import re\n",
    "import tqdm\n",
    "import unicodedata"
   ]
  },
  {
   "cell_type": "code",
   "execution_count": null,
   "metadata": {},
   "outputs": [],
   "source": [
    "#function defined to remove html tags from data\n",
    "\n",
    "def strip_html_tags(text):\n",
    "  soup = BeautifulSoup(text, \"html.parser\")\n",
    "  [s.extract() for s in soup(['iframe', 'script'])]\n",
    "  stripped_text = soup.get_text()\n",
    "  stripped_text = re.sub(r'[\\r|\\n|\\r\\n]+', '\\n', stripped_text)\n",
    "  return stripped_text"
   ]
  },
  {
   "cell_type": "code",
   "execution_count": null,
   "metadata": {},
   "outputs": [],
   "source": [
    "#function defined to remove unicode data\n",
    "\n",
    "def remove_accented_chars(text):\n",
    "  text = unicodedata.normalize('NFKD', text).encode('ascii', 'ignore').decode('utf-8', 'ignore')\n",
    "  return text"
   ]
  },
  {
   "cell_type": "code",
   "execution_count": null,
   "metadata": {},
   "outputs": [],
   "source": [
    "# lower case and remove special characters\\whitespaces\n",
    "\n",
    "def pre_process_corpus(docs):\n",
    "  norm_docs = []\n",
    "  for doc in tqdm.tqdm(docs):\n",
    "    doc = strip_html_tags(doc)\n",
    "    doc = doc.translate(doc.maketrans(\"\\n\\t\\r\", \"   \"))\n",
    "    doc = doc.lower()\n",
    "    doc = remove_accented_chars(doc)\n",
    "    #doc = contractions.fix(doc)\n",
    "    # lower case and remove special characters\\whitespaces\n",
    "    doc = re.sub(r'[^a-zA-Z0-9\\s]', '', doc, re.I|re.A)\n",
    "    doc = re.sub(' +', ' ', doc)\n",
    "    doc = doc.strip()\n",
    "    doc=re.sub('[0-9]', '', doc)\n",
    "    norm_docs.append(doc)\n",
    "  \n",
    "  return norm_docs"
   ]
  },
  {
   "cell_type": "code",
   "execution_count": null,
   "metadata": {},
   "outputs": [],
   "source": [
    "#Data_Preprocessing\n",
    "\n",
    "norm_exception = pre_process_corpus(df1['Exception Name'])\n"
   ]
  },
  {
   "cell_type": "code",
   "execution_count": null,
   "metadata": {},
   "outputs": [],
   "source": [
    "norm_exception"
   ]
  },
  {
   "cell_type": "code",
   "execution_count": null,
   "metadata": {},
   "outputs": [],
   "source": [
    "from sklearn.feature_extraction.text import CountVectorizer\n",
    "\n",
    "#stop_words = stop_words\n",
    "cv = CountVectorizer(ngram_range=(1, 1), min_df=0.001, max_df=0.99)\n",
    "cv_matrix = cv.fit_transform(norm_exception)\n",
    "cv_matrix=cv_matrix.toarray()"
   ]
  },
  {
   "cell_type": "code",
   "execution_count": null,
   "metadata": {},
   "outputs": [],
   "source": [
    "\n",
    "# get all unique words in the corpus\n",
    "vocab = cv.get_feature_names()\n",
    "# show document feature vectors\n",
    "data2=pd.DataFrame(cv_matrix, columns=vocab)"
   ]
  },
  {
   "cell_type": "code",
   "execution_count": null,
   "metadata": {},
   "outputs": [],
   "source": [
    "data2"
   ]
  },
  {
   "cell_type": "code",
   "execution_count": null,
   "metadata": {},
   "outputs": [],
   "source": [
    "data1=df1.drop('Exception Name', axis=1)"
   ]
  },
  {
   "cell_type": "code",
   "execution_count": null,
   "metadata": {
    "scrolled": true
   },
   "outputs": [],
   "source": [
    "data = pd.concat([data2,data1], axis=1)"
   ]
  },
  {
   "cell_type": "code",
   "execution_count": null,
   "metadata": {},
   "outputs": [],
   "source": [
    "data.dropna(inplace=True)"
   ]
  },
  {
   "cell_type": "code",
   "execution_count": null,
   "metadata": {},
   "outputs": [],
   "source": [
    "data"
   ]
  },
  {
   "cell_type": "code",
   "execution_count": null,
   "metadata": {
    "scrolled": false
   },
   "outputs": [],
   "source": [
    "#! pip install yellowbrick"
   ]
  },
  {
   "cell_type": "code",
   "execution_count": null,
   "metadata": {},
   "outputs": [],
   "source": [
    "data3 = data.drop(['Test Run Id','Step update date','exe_month'], axis=1)"
   ]
  },
  {
   "cell_type": "code",
   "execution_count": null,
   "metadata": {},
   "outputs": [],
   "source": [
    "from sklearn.preprocessing import StandardScaler\n",
    "sc=StandardScaler()"
   ]
  },
  {
   "cell_type": "code",
   "execution_count": null,
   "metadata": {},
   "outputs": [],
   "source": [
    "%matplotlib inline\n",
    "from yellowbrick.cluster import KElbowVisualizer,SilhouetteVisualizer\n",
    "from sklearn.cluster import KMeans\n",
    "model = KMeans()\n",
    "visualizer = KElbowVisualizer(model, k=(2,20))\n",
    "visualizer.fit(sc.fit_transform(data3))"
   ]
  },
  {
   "cell_type": "code",
   "execution_count": null,
   "metadata": {},
   "outputs": [],
   "source": [
    "visualizer.elbow_value_"
   ]
  },
  {
   "cell_type": "code",
   "execution_count": null,
   "metadata": {},
   "outputs": [],
   "source": [
    "visualizer.score"
   ]
  },
  {
   "cell_type": "code",
   "execution_count": null,
   "metadata": {},
   "outputs": [],
   "source": [
    "visualizer.silhouette_score_"
   ]
  },
  {
   "cell_type": "code",
   "execution_count": null,
   "metadata": {},
   "outputs": [],
   "source": [
    "visualizer.n_clusters_"
   ]
  },
  {
   "cell_type": "code",
   "execution_count": null,
   "metadata": {},
   "outputs": [],
   "source": [
    "from sklearn.cluster import KMeans\n",
    "from sklearn import metrics\n",
    "\n",
    " \n",
    "\n",
    "cluster_errors = []\n",
    "cluster_sil_scores = []\n",
    "\n",
    " \n",
    "\n",
    "cluster_range=range(2,20)\n",
    "\n",
    " \n",
    "\n",
    "for Cluster in range(2,20):\n",
    "    clusters = KMeans(Cluster)\n",
    "    clusters.fit(sc.fit_transform(data))\n",
    "    cluster_errors.append( clusters.inertia_ )\n",
    "\n",
    " \n",
    "\n",
    "# combine the cluster_range and cluster_errors into a dataframe by combining them\n",
    "clusters_df = pd.DataFrame( { \"num_clusters\":cluster_range, \"cluster_errors\": cluster_errors} )\n",
    "clusters_df[0:15]"
   ]
  },
  {
   "cell_type": "code",
   "execution_count": null,
   "metadata": {
    "scrolled": false
   },
   "outputs": [],
   "source": [
    "# Elbow plot\n",
    "import matplotlib.pyplot as plt\n",
    "%matplotlib inline\n",
    "#plt.figure(figsize=(12,6))\n",
    "plt.plot( clusters_df.num_clusters, clusters_df.cluster_errors, marker = \"o\" )\n"
   ]
  },
  {
   "cell_type": "code",
   "execution_count": null,
   "metadata": {},
   "outputs": [],
   "source": [
    "model = KMeans(6)\n",
    "visualizer = SilhouetteVisualizer(model)\n",
    "visualizer.fit(data)    # Fit the data to the visualizer"
   ]
  },
  {
   "cell_type": "code",
   "execution_count": null,
   "metadata": {},
   "outputs": [],
   "source": [
    "from sklearn.cluster import KMeans\n",
    "\n",
    "NUM_CLUSTERS = visualizer.elbow_value_\n",
    "km = KMeans(n_clusters=NUM_CLUSTERS, max_iter=10000, n_init=100, random_state=42).fit(data3)\n",
    "km"
   ]
  },
  {
   "cell_type": "code",
   "execution_count": null,
   "metadata": {},
   "outputs": [],
   "source": [
    "from collections import Counter\n",
    "\n",
    "Counter(km.labels_)"
   ]
  },
  {
   "cell_type": "code",
   "execution_count": null,
   "metadata": {},
   "outputs": [],
   "source": [
    "df['kmeans_cluster'] = km.labels_"
   ]
  },
  {
   "cell_type": "code",
   "execution_count": null,
   "metadata": {},
   "outputs": [],
   "source": [
    "df.drop(['exe_day','exe_month', 'exe_hour','exe_min'], axis=1, inplace = True)"
   ]
  },
  {
   "cell_type": "code",
   "execution_count": null,
   "metadata": {
    "scrolled": true
   },
   "outputs": [],
   "source": [
    "df"
   ]
  },
  {
   "cell_type": "code",
   "execution_count": null,
   "metadata": {},
   "outputs": [],
   "source": [
    "#df.to_csv('kmeansop.csv')"
   ]
  },
  {
   "cell_type": "code",
   "execution_count": null,
   "metadata": {},
   "outputs": [],
   "source": [
    "df.loc[df['Test Case ID']==457]"
   ]
  },
  {
   "cell_type": "code",
   "execution_count": null,
   "metadata": {},
   "outputs": [],
   "source": [
    "#df.loc[df['kmeans_cluster']==0]"
   ]
  },
  {
   "cell_type": "code",
   "execution_count": null,
   "metadata": {},
   "outputs": [],
   "source": [
    "from datetime import date\n",
    "import pickle"
   ]
  },
  {
   "cell_type": "code",
   "execution_count": null,
   "metadata": {},
   "outputs": [],
   "source": [
    "filename = 'uc29_{}'.format(date.today())"
   ]
  },
  {
   "cell_type": "code",
   "execution_count": null,
   "metadata": {},
   "outputs": [],
   "source": [
    "filename"
   ]
  },
  {
   "cell_type": "code",
   "execution_count": null,
   "metadata": {},
   "outputs": [],
   "source": [
    "pickle.dump(km, open(filename, 'wb'))"
   ]
  },
  {
   "cell_type": "code",
   "execution_count": null,
   "metadata": {},
   "outputs": [],
   "source": []
  }
 ],
 "metadata": {
  "kernelspec": {
   "display_name": "Python 3",
   "language": "python",
   "name": "python3"
  },
  "language_info": {
   "codemirror_mode": {
    "name": "ipython",
    "version": 3
   },
   "file_extension": ".py",
   "mimetype": "text/x-python",
   "name": "python",
   "nbconvert_exporter": "python",
   "pygments_lexer": "ipython3",
   "version": "3.7.4"
  }
 },
 "nbformat": 4,
 "nbformat_minor": 2
}
