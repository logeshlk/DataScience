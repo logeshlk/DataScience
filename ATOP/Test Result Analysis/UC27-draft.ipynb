{
 "cells": [
  {
   "cell_type": "code",
   "execution_count": 17,
   "metadata": {},
   "outputs": [],
   "source": [
    "import pandas as pd"
   ]
  },
  {
   "cell_type": "code",
   "execution_count": 26,
   "metadata": {},
   "outputs": [],
   "source": [
    "data = pd.read_csv('Data for UC#29 and 27.csv')"
   ]
  },
  {
   "cell_type": "code",
   "execution_count": 27,
   "metadata": {},
   "outputs": [],
   "source": [
    "data.drop(data.tail(3).index,inplace=True)"
   ]
  },
  {
   "cell_type": "code",
   "execution_count": 28,
   "metadata": {},
   "outputs": [
    {
     "data": {
      "text/html": [
       "<div>\n",
       "<style scoped>\n",
       "    .dataframe tbody tr th:only-of-type {\n",
       "        vertical-align: middle;\n",
       "    }\n",
       "\n",
       "    .dataframe tbody tr th {\n",
       "        vertical-align: top;\n",
       "    }\n",
       "\n",
       "    .dataframe thead th {\n",
       "        text-align: right;\n",
       "    }\n",
       "</style>\n",
       "<table border=\"1\" class=\"dataframe\">\n",
       "  <thead>\n",
       "    <tr style=\"text-align: right;\">\n",
       "      <th></th>\n",
       "      <th>Test Case ID</th>\n",
       "      <th>Test Run Id</th>\n",
       "      <th>Failure Step count (since inception)</th>\n",
       "      <th>Failed Steps</th>\n",
       "      <th>Exception Name</th>\n",
       "      <th>Failed Step update date</th>\n",
       "      <th>Execution Time for test case</th>\n",
       "      <th>Predecessor TestCase ID</th>\n",
       "      <th>Successor TestCase ID</th>\n",
       "    </tr>\n",
       "  </thead>\n",
       "  <tbody>\n",
       "    <tr>\n",
       "      <td>0</td>\n",
       "      <td>457.0</td>\n",
       "      <td>122.0</td>\n",
       "      <td>1.0</td>\n",
       "      <td>7.0</td>\n",
       "      <td>Fails to navigate step2</td>\n",
       "      <td>10-Jul-19</td>\n",
       "      <td>16:22.3</td>\n",
       "      <td>0.0</td>\n",
       "      <td>405.0</td>\n",
       "    </tr>\n",
       "    <tr>\n",
       "      <td>1</td>\n",
       "      <td>405.0</td>\n",
       "      <td>122.0</td>\n",
       "      <td>1.0</td>\n",
       "      <td>1.0</td>\n",
       "      <td>Verification Failed. Expected text: \"Manual Ha...</td>\n",
       "      <td>10-Jul-19</td>\n",
       "      <td>11:49.1</td>\n",
       "      <td>457.0</td>\n",
       "      <td>371.0</td>\n",
       "    </tr>\n",
       "    <tr>\n",
       "      <td>2</td>\n",
       "      <td>371.0</td>\n",
       "      <td>122.0</td>\n",
       "      <td>1.0</td>\n",
       "      <td>3.0</td>\n",
       "      <td>Verification Failed. Expected text: \"Step 6 of...</td>\n",
       "      <td>10-Jul-19</td>\n",
       "      <td>54:29.2</td>\n",
       "      <td>405.0</td>\n",
       "      <td>370.0</td>\n",
       "    </tr>\n",
       "    <tr>\n",
       "      <td>3</td>\n",
       "      <td>370.0</td>\n",
       "      <td>122.0</td>\n",
       "      <td>1.0</td>\n",
       "      <td>6.0</td>\n",
       "      <td>Verification Failed. Expected text: \"Step 6 of...</td>\n",
       "      <td>10-Jul-19</td>\n",
       "      <td>58:18.5</td>\n",
       "      <td>371.0</td>\n",
       "      <td>369.0</td>\n",
       "    </tr>\n",
       "    <tr>\n",
       "      <td>4</td>\n",
       "      <td>369.0</td>\n",
       "      <td>122.0</td>\n",
       "      <td>1.0</td>\n",
       "      <td>10.0</td>\n",
       "      <td>Verification Failed. Expected text: \"Step 6 of...</td>\n",
       "      <td>10-Jul-19</td>\n",
       "      <td>02:25.1</td>\n",
       "      <td>370.0</td>\n",
       "      <td>431.0</td>\n",
       "    </tr>\n",
       "    <tr>\n",
       "      <td>...</td>\n",
       "      <td>...</td>\n",
       "      <td>...</td>\n",
       "      <td>...</td>\n",
       "      <td>...</td>\n",
       "      <td>...</td>\n",
       "      <td>...</td>\n",
       "      <td>...</td>\n",
       "      <td>...</td>\n",
       "      <td>...</td>\n",
       "    </tr>\n",
       "    <tr>\n",
       "      <td>128</td>\n",
       "      <td>341.0</td>\n",
       "      <td>122.0</td>\n",
       "      <td>1.0</td>\n",
       "      <td>4.0</td>\n",
       "      <td>Unable to find object with specified locator (...</td>\n",
       "      <td>11-Jul-19</td>\n",
       "      <td>21:05.6</td>\n",
       "      <td>320.0</td>\n",
       "      <td>348.0</td>\n",
       "    </tr>\n",
       "    <tr>\n",
       "      <td>129</td>\n",
       "      <td>348.0</td>\n",
       "      <td>122.0</td>\n",
       "      <td>1.0</td>\n",
       "      <td>8.0</td>\n",
       "      <td>Unable to find object with specified locator (...</td>\n",
       "      <td>11-Jul-19</td>\n",
       "      <td>32:49.8</td>\n",
       "      <td>341.0</td>\n",
       "      <td>351.0</td>\n",
       "    </tr>\n",
       "    <tr>\n",
       "      <td>130</td>\n",
       "      <td>351.0</td>\n",
       "      <td>122.0</td>\n",
       "      <td>1.0</td>\n",
       "      <td>0.0</td>\n",
       "      <td>Unable to find object with specified locator (...</td>\n",
       "      <td>11-Jul-19</td>\n",
       "      <td>34:37.6</td>\n",
       "      <td>348.0</td>\n",
       "      <td>350.0</td>\n",
       "    </tr>\n",
       "    <tr>\n",
       "      <td>131</td>\n",
       "      <td>350.0</td>\n",
       "      <td>122.0</td>\n",
       "      <td>1.0</td>\n",
       "      <td>0.0</td>\n",
       "      <td>Unable to find object with specified locator (...</td>\n",
       "      <td>11-Jul-19</td>\n",
       "      <td>40:56.3</td>\n",
       "      <td>351.0</td>\n",
       "      <td>336.0</td>\n",
       "    </tr>\n",
       "    <tr>\n",
       "      <td>132</td>\n",
       "      <td>336.0</td>\n",
       "      <td>122.0</td>\n",
       "      <td>1.0</td>\n",
       "      <td>7.0</td>\n",
       "      <td>Unable to find object with specified locator (...</td>\n",
       "      <td>11-Jul-19</td>\n",
       "      <td>21:28.1</td>\n",
       "      <td>350.0</td>\n",
       "      <td>0.0</td>\n",
       "    </tr>\n",
       "  </tbody>\n",
       "</table>\n",
       "<p>133 rows × 9 columns</p>\n",
       "</div>"
      ],
      "text/plain": [
       "     Test Case ID  Test Run Id  Failure Step count (since inception)  \\\n",
       "0           457.0        122.0                                   1.0   \n",
       "1           405.0        122.0                                   1.0   \n",
       "2           371.0        122.0                                   1.0   \n",
       "3           370.0        122.0                                   1.0   \n",
       "4           369.0        122.0                                   1.0   \n",
       "..            ...          ...                                   ...   \n",
       "128         341.0        122.0                                   1.0   \n",
       "129         348.0        122.0                                   1.0   \n",
       "130         351.0        122.0                                   1.0   \n",
       "131         350.0        122.0                                   1.0   \n",
       "132         336.0        122.0                                   1.0   \n",
       "\n",
       "     Failed Steps                                     Exception Name  \\\n",
       "0             7.0                            Fails to navigate step2   \n",
       "1             1.0  Verification Failed. Expected text: \"Manual Ha...   \n",
       "2             3.0  Verification Failed. Expected text: \"Step 6 of...   \n",
       "3             6.0  Verification Failed. Expected text: \"Step 6 of...   \n",
       "4            10.0  Verification Failed. Expected text: \"Step 6 of...   \n",
       "..            ...                                                ...   \n",
       "128           4.0  Unable to find object with specified locator (...   \n",
       "129           8.0  Unable to find object with specified locator (...   \n",
       "130           0.0  Unable to find object with specified locator (...   \n",
       "131           0.0  Unable to find object with specified locator (...   \n",
       "132           7.0  Unable to find object with specified locator (...   \n",
       "\n",
       "    Failed Step update date Execution Time for test case  \\\n",
       "0                 10-Jul-19                      16:22.3   \n",
       "1                 10-Jul-19                      11:49.1   \n",
       "2                 10-Jul-19                      54:29.2   \n",
       "3                 10-Jul-19                      58:18.5   \n",
       "4                 10-Jul-19                      02:25.1   \n",
       "..                      ...                          ...   \n",
       "128               11-Jul-19                      21:05.6   \n",
       "129               11-Jul-19                      32:49.8   \n",
       "130               11-Jul-19                      34:37.6   \n",
       "131               11-Jul-19                      40:56.3   \n",
       "132               11-Jul-19                      21:28.1   \n",
       "\n",
       "     Predecessor TestCase ID  Successor TestCase ID  \n",
       "0                        0.0                  405.0  \n",
       "1                      457.0                  371.0  \n",
       "2                      405.0                  370.0  \n",
       "3                      371.0                  369.0  \n",
       "4                      370.0                  431.0  \n",
       "..                       ...                    ...  \n",
       "128                    320.0                  348.0  \n",
       "129                    341.0                  351.0  \n",
       "130                    348.0                  350.0  \n",
       "131                    351.0                  336.0  \n",
       "132                    350.0                    0.0  \n",
       "\n",
       "[133 rows x 9 columns]"
      ]
     },
     "execution_count": 28,
     "metadata": {},
     "output_type": "execute_result"
    }
   ],
   "source": [
    "data"
   ]
  },
  {
   "cell_type": "code",
   "execution_count": 29,
   "metadata": {},
   "outputs": [
    {
     "name": "stdout",
     "output_type": "stream",
     "text": [
      "<class 'pandas.core.frame.DataFrame'>\n",
      "Int64Index: 133 entries, 0 to 132\n",
      "Data columns (total 9 columns):\n",
      "Test Case ID                            133 non-null float64\n",
      "Test Run Id                             133 non-null float64\n",
      "Failure Step count (since inception)    133 non-null float64\n",
      "Failed Steps                            133 non-null float64\n",
      "Exception Name                          133 non-null object\n",
      "Failed Step update date                 133 non-null object\n",
      "Execution Time for test case            133 non-null object\n",
      "Predecessor TestCase ID                 133 non-null float64\n",
      "Successor TestCase ID                   133 non-null float64\n",
      "dtypes: float64(6), object(3)\n",
      "memory usage: 10.4+ KB\n"
     ]
    }
   ],
   "source": [
    "data.info()"
   ]
  },
  {
   "cell_type": "code",
   "execution_count": 30,
   "metadata": {},
   "outputs": [
    {
     "data": {
      "text/plain": [
       "Test Case ID                            0\n",
       "Test Run Id                             0\n",
       "Failure Step count (since inception)    0\n",
       "Failed Steps                            0\n",
       "Exception Name                          0\n",
       "Failed Step update date                 0\n",
       "Execution Time for test case            0\n",
       "Predecessor TestCase ID                 0\n",
       "Successor TestCase ID                   0\n",
       "dtype: int64"
      ]
     },
     "execution_count": 30,
     "metadata": {},
     "output_type": "execute_result"
    }
   ],
   "source": [
    "data.isna().sum()"
   ]
  },
  {
   "cell_type": "code",
   "execution_count": 32,
   "metadata": {},
   "outputs": [
    {
     "data": {
      "text/plain": [
       "0"
      ]
     },
     "execution_count": 32,
     "metadata": {},
     "output_type": "execute_result"
    }
   ],
   "source": [
    "data.duplicated().sum()"
   ]
  },
  {
   "cell_type": "code",
   "execution_count": 36,
   "metadata": {},
   "outputs": [],
   "source": [
    "import datetime as dt"
   ]
  },
  {
   "cell_type": "code",
   "execution_count": 35,
   "metadata": {},
   "outputs": [
    {
     "data": {
      "text/plain": [
       "dtype('O')"
      ]
     },
     "execution_count": 35,
     "metadata": {},
     "output_type": "execute_result"
    }
   ],
   "source": [
    "data['Failed Step update date'].dtypes"
   ]
  },
  {
   "cell_type": "code",
   "execution_count": 38,
   "metadata": {
    "collapsed": true
   },
   "outputs": [
    {
     "ename": "AttributeError",
     "evalue": "Can only use .dt accessor with datetimelike values",
     "output_type": "error",
     "traceback": [
      "\u001b[1;31m---------------------------------------------------------------------------\u001b[0m",
      "\u001b[1;31mAttributeError\u001b[0m                            Traceback (most recent call last)",
      "\u001b[1;32m<ipython-input-38-eb434fef6bbf>\u001b[0m in \u001b[0;36m<module>\u001b[1;34m\u001b[0m\n\u001b[1;32m----> 1\u001b[1;33m \u001b[0mdata\u001b[0m\u001b[1;33m[\u001b[0m\u001b[1;34m'month'\u001b[0m\u001b[1;33m]\u001b[0m \u001b[1;33m=\u001b[0m \u001b[0mdata\u001b[0m\u001b[1;33m[\u001b[0m\u001b[1;34m'Execution Time for test case'\u001b[0m\u001b[1;33m]\u001b[0m\u001b[1;33m.\u001b[0m\u001b[0mdt\u001b[0m\u001b[1;33m.\u001b[0m\u001b[0mmonth\u001b[0m\u001b[1;33m\u001b[0m\u001b[1;33m\u001b[0m\u001b[0m\n\u001b[0m\u001b[0;32m      2\u001b[0m \u001b[1;31m#data['day'] = data['Failed Step update date'].dt.day\u001b[0m\u001b[1;33m\u001b[0m\u001b[1;33m\u001b[0m\u001b[1;33m\u001b[0m\u001b[0m\n\u001b[0;32m      3\u001b[0m \u001b[1;31m#data['year'] = data['Failed Step update date'].dt.year\u001b[0m\u001b[1;33m\u001b[0m\u001b[1;33m\u001b[0m\u001b[1;33m\u001b[0m\u001b[0m\n",
      "\u001b[1;32mC:\\ProgramData\\Anaconda3\\lib\\site-packages\\pandas\\core\\generic.py\u001b[0m in \u001b[0;36m__getattr__\u001b[1;34m(self, name)\u001b[0m\n\u001b[0;32m   5173\u001b[0m             \u001b[1;32mor\u001b[0m \u001b[0mname\u001b[0m \u001b[1;32min\u001b[0m \u001b[0mself\u001b[0m\u001b[1;33m.\u001b[0m\u001b[0m_accessors\u001b[0m\u001b[1;33m\u001b[0m\u001b[1;33m\u001b[0m\u001b[0m\n\u001b[0;32m   5174\u001b[0m         ):\n\u001b[1;32m-> 5175\u001b[1;33m             \u001b[1;32mreturn\u001b[0m \u001b[0mobject\u001b[0m\u001b[1;33m.\u001b[0m\u001b[0m__getattribute__\u001b[0m\u001b[1;33m(\u001b[0m\u001b[0mself\u001b[0m\u001b[1;33m,\u001b[0m \u001b[0mname\u001b[0m\u001b[1;33m)\u001b[0m\u001b[1;33m\u001b[0m\u001b[1;33m\u001b[0m\u001b[0m\n\u001b[0m\u001b[0;32m   5176\u001b[0m         \u001b[1;32melse\u001b[0m\u001b[1;33m:\u001b[0m\u001b[1;33m\u001b[0m\u001b[1;33m\u001b[0m\u001b[0m\n\u001b[0;32m   5177\u001b[0m             \u001b[1;32mif\u001b[0m \u001b[0mself\u001b[0m\u001b[1;33m.\u001b[0m\u001b[0m_info_axis\u001b[0m\u001b[1;33m.\u001b[0m\u001b[0m_can_hold_identifiers_and_holds_name\u001b[0m\u001b[1;33m(\u001b[0m\u001b[0mname\u001b[0m\u001b[1;33m)\u001b[0m\u001b[1;33m:\u001b[0m\u001b[1;33m\u001b[0m\u001b[1;33m\u001b[0m\u001b[0m\n",
      "\u001b[1;32mC:\\ProgramData\\Anaconda3\\lib\\site-packages\\pandas\\core\\accessor.py\u001b[0m in \u001b[0;36m__get__\u001b[1;34m(self, obj, cls)\u001b[0m\n\u001b[0;32m    173\u001b[0m             \u001b[1;31m# we're accessing the attribute of the class, i.e., Dataset.geo\u001b[0m\u001b[1;33m\u001b[0m\u001b[1;33m\u001b[0m\u001b[1;33m\u001b[0m\u001b[0m\n\u001b[0;32m    174\u001b[0m             \u001b[1;32mreturn\u001b[0m \u001b[0mself\u001b[0m\u001b[1;33m.\u001b[0m\u001b[0m_accessor\u001b[0m\u001b[1;33m\u001b[0m\u001b[1;33m\u001b[0m\u001b[0m\n\u001b[1;32m--> 175\u001b[1;33m         \u001b[0maccessor_obj\u001b[0m \u001b[1;33m=\u001b[0m \u001b[0mself\u001b[0m\u001b[1;33m.\u001b[0m\u001b[0m_accessor\u001b[0m\u001b[1;33m(\u001b[0m\u001b[0mobj\u001b[0m\u001b[1;33m)\u001b[0m\u001b[1;33m\u001b[0m\u001b[1;33m\u001b[0m\u001b[0m\n\u001b[0m\u001b[0;32m    176\u001b[0m         \u001b[1;31m# Replace the property with the accessor object. Inspired by:\u001b[0m\u001b[1;33m\u001b[0m\u001b[1;33m\u001b[0m\u001b[1;33m\u001b[0m\u001b[0m\n\u001b[0;32m    177\u001b[0m         \u001b[1;31m# http://www.pydanny.com/cached-property.html\u001b[0m\u001b[1;33m\u001b[0m\u001b[1;33m\u001b[0m\u001b[1;33m\u001b[0m\u001b[0m\n",
      "\u001b[1;32mC:\\ProgramData\\Anaconda3\\lib\\site-packages\\pandas\\core\\indexes\\accessors.py\u001b[0m in \u001b[0;36m__new__\u001b[1;34m(cls, data)\u001b[0m\n\u001b[0;32m    341\u001b[0m             \u001b[1;32mpass\u001b[0m  \u001b[1;31m# we raise an attribute error anyway\u001b[0m\u001b[1;33m\u001b[0m\u001b[1;33m\u001b[0m\u001b[0m\n\u001b[0;32m    342\u001b[0m \u001b[1;33m\u001b[0m\u001b[0m\n\u001b[1;32m--> 343\u001b[1;33m         \u001b[1;32mraise\u001b[0m \u001b[0mAttributeError\u001b[0m\u001b[1;33m(\u001b[0m\u001b[1;34m\"Can only use .dt accessor with datetimelike \"\u001b[0m \u001b[1;34m\"values\"\u001b[0m\u001b[1;33m)\u001b[0m\u001b[1;33m\u001b[0m\u001b[1;33m\u001b[0m\u001b[0m\n\u001b[0m",
      "\u001b[1;31mAttributeError\u001b[0m: Can only use .dt accessor with datetimelike values"
     ]
    }
   ],
   "source": [
    "data['month'] = data['Execution Time for test case'].dt.month\n",
    "#data['day'] = data['Failed Step update date'].dt.day\n",
    "#data['year'] = data['Failed Step update date'].dt.year"
   ]
  },
  {
   "cell_type": "markdown",
   "metadata": {},
   "source": [
    "# Text Wrangling and Normalization"
   ]
  },
  {
   "cell_type": "code",
   "execution_count": 55,
   "metadata": {},
   "outputs": [],
   "source": [
    "from bs4 import BeautifulSoup\n",
    "import re\n",
    "import tqdm\n",
    "import unicodedata"
   ]
  },
  {
   "cell_type": "code",
   "execution_count": 56,
   "metadata": {},
   "outputs": [],
   "source": [
    "#function defined to remove html tags from data\n",
    "\n",
    "def strip_html_tags(text):\n",
    "  soup = BeautifulSoup(text, \"html.parser\")\n",
    "  [s.extract() for s in soup(['iframe', 'script'])]\n",
    "  stripped_text = soup.get_text()\n",
    "  stripped_text = re.sub(r'[\\r|\\n|\\r\\n]+', '\\n', stripped_text)\n",
    "  return stripped_text"
   ]
  },
  {
   "cell_type": "code",
   "execution_count": 57,
   "metadata": {},
   "outputs": [],
   "source": [
    "#function defined to remove unicode data\n",
    "\n",
    "def remove_accented_chars(text):\n",
    "  text = unicodedata.normalize('NFKD', text).encode('ascii', 'ignore').decode('utf-8', 'ignore')\n",
    "  return text"
   ]
  },
  {
   "cell_type": "code",
   "execution_count": 42,
   "metadata": {},
   "outputs": [],
   "source": [
    "# lower case and remove special characters\\whitespaces\n",
    "\n",
    "def pre_process_corpus(docs):\n",
    "  norm_docs = []\n",
    "  for doc in tqdm.tqdm(docs):\n",
    "    doc = strip_html_tags(doc)\n",
    "    doc = doc.translate(doc.maketrans(\"\\n\\t\\r\", \"   \"))\n",
    "    doc = doc.lower()\n",
    "    doc = remove_accented_chars(doc)\n",
    "    #doc = contractions.fix(doc)\n",
    "    # lower case and remove special characters\\whitespaces\n",
    "    doc = re.sub(r'[^a-zA-Z0-9\\s]', '', doc, re.I|re.A)\n",
    "    doc = re.sub(' +', ' ', doc)\n",
    "    doc = doc.strip()  \n",
    "    norm_docs.append(doc)\n",
    "  \n",
    "  return norm_docs"
   ]
  },
  {
   "cell_type": "code",
   "execution_count": 43,
   "metadata": {},
   "outputs": [
    {
     "name": "stderr",
     "output_type": "stream",
     "text": [
      "100%|██████████| 133/133 [00:00<00:00, 1878.36it/s]\n"
     ]
    }
   ],
   "source": [
    "#Data_Preprocessing\n",
    "\n",
    "norm_exception = pre_process_corpus(data['Exception Name'])\n"
   ]
  },
  {
   "cell_type": "code",
   "execution_count": 44,
   "metadata": {},
   "outputs": [
    {
     "data": {
      "text/plain": [
       "['fails to navigate step2',\n",
       " 'verification failed expected text manual handling not found in element',\n",
       " 'verification failed expected text step 6 of 6 save and assign claim not found in element',\n",
       " 'verification failed expected text step 6 of 6 save and assign claim not found in element',\n",
       " 'verification failed expected text step 6 of 6 save and assign claim not found in element',\n",
       " 'verification failed expected text straight payment not found in element',\n",
       " 'verification failed expected text step 6 of 6 save and assign claim not found in element',\n",
       " 'verification failed expected text step 6 of 6 save and assign claim not found in element',\n",
       " 'verification failed expected text step 4 of 6 add costs information not found in element',\n",
       " 'unable to find object with specified locator nametripgenericexpensepopupclaimgenetricexpencedetaildvclaimtripotherdetaildvcompanyname',\n",
       " 'verification failed expected text step 6 of 6 save and assign claim not found in element',\n",
       " 'verification failed expected text step 3 of 6 add claim information not found in element',\n",
       " 'verification failed expected text step 6 of 6 save and assign claim not found in element',\n",
       " 'verification failed expected text step 6 of 6 save and assign claim not found in element',\n",
       " 'verification failed expected text step 6 of 6 save and assign claim not found in element',\n",
       " 'verification failed expected text step 6 of 6 save and assign claim not found in element',\n",
       " 'verification failed expected text step 3 of 6 add claim information not found in element',\n",
       " 'verification failed expected text step 6 of 6 save and assign claim not found in element',\n",
       " 'verification failed expected text step 6 of 6 save and assign claim not found in element',\n",
       " 'verification failed expected text step 6 of 6 save and assign claim not found in element',\n",
       " 'verification failed expected text step 6 of 6 save and assign claim not found in element',\n",
       " 'verification failed expected text step 6 of 6 save and assign claim not found in element',\n",
       " 'verification failed expected text manual handling not found in element',\n",
       " 'verification failed expected text step 6 of 6 save and assign claim not found in element',\n",
       " 'verification failed expected text step 6 of 6 save and assign claim not found in element',\n",
       " 'no such element unable to locate element methodxpathselectordividfnolwizardfnolwizardfindpolicyscreenfnolwizardfindpolicypanelsetpolicyresultlv0insureddivdiv',\n",
       " 'session info chrome7503770100',\n",
       " 'driver info chromedriver243600210 68dcf5eebde37173d4027fa8635e332711d2874aplatformwindows nt 10017134 x8664 warning the server did not provide any stacktrace information',\n",
       " 'command duration or timeout 0 milliseconds',\n",
       " 'for documentation on this error please visit httpseleniumhqorgexceptionsnosuchelementhtml',\n",
       " 'build info version 3120 revision 7c6e0b3 time 20180508t151503216z',\n",
       " 'system info host wedwsvmt01xadu ip 109413325 osname windows 10 osarch amd64 osversion 100 javaversion 180211',\n",
       " 'driver info orgopenqaseleniumchromechromedriver',\n",
       " 'capabilities acceptinsecurecerts false acceptsslcerts false applicationcacheenabled false browserconnectionenabled false browsername chrome chrome chromedriverversion 243600210 68dcf5eebde371 userdatadir cuserst01xaduappdatalo cssselectorsenabled true databaseenabled false googchromeoptions debuggeraddress localhost62928 handlesalerts true hastouchscreen false javascriptenabled true locationcontextenabled true mobileemulationenabled false nativeevents true networkconnectionenabled false pageloadstrategy normal platform xp platformname xp rotatable false setwindowrect true takesheapsnapshot true takesscreenshot true unexpectedalertbehaviour unhandledpromptbehavior version 7503770100 webstorageenabled true',\n",
       " 'session id b62c6ccab54bfaf5e8a537bffd4632ca',\n",
       " 'element info usingxpath valuedividfnolwizardfnolwizardfindpolicyscreenfnolwizardfindpolicypanelsetpolicyresultlv0insureddivdiv',\n",
       " 'verification failed expected text manual handling not found in element',\n",
       " 'verification failed expected text straight payment not found in element',\n",
       " 'verification failed expected text step 6 of 6 save and assign claim not found in element',\n",
       " 'verification failed expected text step 6 of 6 save and assign claim not found in element',\n",
       " 'verification failed expected text straight payment not found in element',\n",
       " 'verification failed expected text straight payment not found in element',\n",
       " 'verification failed expected text straight payment not found in element',\n",
       " 'verification failed expected text straight payment not found in element',\n",
       " 'verification failed expected text step 6 of 6 save and assign claim not found in element',\n",
       " 'verification failed expected text step 6 of 6 save and assign claim not found in element',\n",
       " 'verification failed expected text step 6 of 6 save and assign claim not found in element',\n",
       " 'verification failed expected text step 6 of 6 save and assign claim not found in element',\n",
       " 'verification failed expected text step 6 of 6 save and assign claim not found in element',\n",
       " 'verification failed expected text step 6 of 6 save and assign claim not found in element',\n",
       " 'verification failed expected text step 6 of 6 save and assign claim not found in element',\n",
       " 'verification failed expected text step 6 of 6 save and assign claim not found in element',\n",
       " 'verification failed expected text step 6 of 6 save and assign claim not found in element',\n",
       " 'insured name bent larsen has been created and stored in dtinsuredname',\n",
       " 'effective date 01072014 has been created and stored in dteffectivedate',\n",
       " 'insured name bent larsen has been created and stored in dtinsuredname',\n",
       " 'verification failed expected text step 3 of 6 add claim information not found in element',\n",
       " 'verification failed expected text step 6 of 6 save and assign claim not found in element',\n",
       " 'fails to navigate step2',\n",
       " 'verification failed expected text step 4 of 6 add costs information not found in element',\n",
       " 'verification failed expected text straight payment not found in element',\n",
       " 'fails to navigate step2',\n",
       " 'verification failed expected text step 6 of 6 save and assign claim not found in element',\n",
       " 'verification failed expected text step 6 of 6 save and assign claim not found in element',\n",
       " 'verification failed expected text step 6 of 6 save and assign claim not found in element',\n",
       " 'verification failed expected text step 6 of 6 save and assign claim not found in element',\n",
       " 'verification failed expected text step 6 of 6 save and assign claim not found in element',\n",
       " 'verification failed expected text step 6 of 6 save and assign claim not found in element',\n",
       " 'verification failed expected text step 6 of 6 save and assign claim not found in element',\n",
       " 'verification failed expected text step 6 of 6 save and assign claim not found in element',\n",
       " 'verification failed expected text step 6 of 6 save and assign claim not found in element',\n",
       " 'verification failed expected text step 6 of 6 save and assign claim not found in element',\n",
       " 'verification failed expected text step 6 of 6 save and assign claim not found in element',\n",
       " 'verification failed expected text step 6 of 6 save and assign claim not found in element',\n",
       " 'verification failed expected text step 6 of 6 save and assign claim not found in element',\n",
       " 'verification failed expected text step 6 of 6 save and assign claim not found in element',\n",
       " 'fails to navigate step2',\n",
       " 'fails to navigate step2',\n",
       " 'unable to find object with specified locator nametripaccommodationaddresspopupclaimpolicytripaccommodationdetaildvclaimtripaccommodationdetaildvdescription',\n",
       " 'unable to find object with specified locator nametripaccommodationaddresspopupclaimpolicytripaccommodationdetaildvclaimtripaccommodationdetaildvdescription',\n",
       " 'verification failed expected text step 4 of 6 add costs information not found in element',\n",
       " 'unable to find object with specified locator nametripaccommodationaddresspopupclaimpolicytripaccommodationdetaildvclaimtripaccommodationdetaildvdescription',\n",
       " 'unable to find object with specified locator nametripaccommodationaddresspopupclaimpolicytripaccommodationdetaildvclaimtripaccommodationdetaildvdescription',\n",
       " 'unable to find object with specified locator nametripaccommodationaddresspopupclaimpolicytripaccommodationdetaildvclaimtripaccommodationdetaildvdescription',\n",
       " 'unable to find object with specified locator nametripaccommodationaddresspopupclaimpolicytripaccommodationdetaildvclaimtripaccommodationdetaildvdescription',\n",
       " 'unable to find object with specified locator nametripaccommodationaddresspopupclaimpolicytripaccommodationdetaildvclaimtripaccommodationdetaildvdescription',\n",
       " 'unable to find object with specified locator nametripaccommodationaddresspopupclaimpolicytripaccommodationdetaildvclaimtripaccommodationdetaildvdescription',\n",
       " 'unable to find object with specified locator nametripaccommodationaddresspopupclaimpolicytripaccommodationdetaildvclaimtripaccommodationdetaildvdescription',\n",
       " 'unable to find object with specified locator nametripaccommodationaddresspopupclaimpolicytripaccommodationdetaildvclaimtripaccommodationdetaildvdescription',\n",
       " 'verification failed expected text straight payment not found in element',\n",
       " 'verification failed expected text straight payment not found in element',\n",
       " 'verification failed expected text straight payment not found in element',\n",
       " 'verification failed expected text straight payment not found in element',\n",
       " 'verification failed expected text straight payment not found in element',\n",
       " 'verification failed expected text straight payment not found in element',\n",
       " 'verification failed expected text straight payment not found in element',\n",
       " 'insured name bent larsen has been created and stored in dtinsuredname',\n",
       " 'effective date 01072014 has been created and stored in dteffectivedate',\n",
       " 'insured name bent larsen has been created and stored in dtinsuredname',\n",
       " 'verification failed expected text step 3 of 6 add claim information not found in element',\n",
       " 'verification failed expected text step 3 of 6 add claim information not found in element',\n",
       " 'unable to find object with specified locator idfnolwizardnext',\n",
       " 'unable to find object with specified locator idfnolwizardnext',\n",
       " 'verification failed expected text step 4 of 6 add costs information not found in element',\n",
       " 'unable to find object with specified locator idfnolwizardnext',\n",
       " 'unable to find object with specified locator idfnolwizardnext',\n",
       " 'unable to find object with specified locator idfnolwizardnext',\n",
       " 'unable to find object with specified locator idfnolwizardnext',\n",
       " 'unable to find object with specified locator idfnolwizardnext',\n",
       " 'unable to find object with specified locator idfnolwizardnext',\n",
       " 'unable to find object with specified locator idfnolwizardnext',\n",
       " 'unable to find object with specified locator idfnolwizardnext',\n",
       " 'verification failed expected text step 6 of 6 save and assign claim not found in element',\n",
       " 'verification failed expected text step 6 of 6 save and assign claim not found in element',\n",
       " 'verification failed expected text step 4 of 6 add costs information not found in element',\n",
       " 'verification failed expected text step 4 of 6 add costs information not found in element',\n",
       " 'verification failed expected text step 6 of 6 save and assign claim not found in element',\n",
       " 'verification failed expected text step 6 of 6 save and assign claim not found in element',\n",
       " 'verification failed expected text step 6 of 6 save and assign claim not found in element',\n",
       " 'verification failed expected text step 6 of 6 save and assign claim not found in element',\n",
       " 'verification failed expected text step 6 of 6 save and assign claim not found in element',\n",
       " 'verification failed expected text step 6 of 6 save and assign claim not found in element',\n",
       " 'verification failed expected text step 6 of 6 save and assign claim not found in element',\n",
       " 'unable to find object with specified locator namefnolwizardfullwizardstepsetfnolwizardcreditcardtcoscreenotherinsurancecompanytcodvinsurancecompany',\n",
       " 'unable to find object with specified locator namefnolwizardfullwizardstepsetfnolwizardcreditcardtcoscreenotherinsurancecompanytcodvinsurancecompany',\n",
       " 'verification failed expected text step 4 of 6 add costs information not found in element',\n",
       " 'unable to find object with specified locator namefnolwizardfullwizardstepsetfnolwizardcreditcardtcoscreenotherinsurancecompanytcodvinsurancecompany',\n",
       " 'unable to find object with specified locator namefnolwizardfullwizardstepsetfnolwizardcreditcardtcoscreenotherinsurancecompanytcodvinsurancecompany',\n",
       " 'unable to find object with specified locator namefnolwizardfullwizardstepsetfnolwizardcreditcardtcoscreenotherinsurancecompanytcodvinsurancecompany',\n",
       " 'unable to find object with specified locator namefnolwizardfullwizardstepsetfnolwizardcreditcardtcoscreenotherinsurancecompanytcodvinsurancecompany',\n",
       " 'unable to find object with specified locator namefnolwizardfullwizardstepsetfnolwizardcreditcardtcoscreenotherinsurancecompanytcodvinsurancecompany',\n",
       " 'unable to find object with specified locator namefnolwizardfullwizardstepsetfnolwizardcreditcardtcoscreenotherinsurancecompanytcodvinsurancecompany',\n",
       " 'unable to find object with specified locator namefnolwizardfullwizardstepsetfnolwizardcreditcardtcoscreenotherinsurancecompanytcodvinsurancecompany']"
      ]
     },
     "execution_count": 44,
     "metadata": {},
     "output_type": "execute_result"
    }
   ],
   "source": [
    "norm_exception"
   ]
  },
  {
   "cell_type": "code",
   "execution_count": 45,
   "metadata": {},
   "outputs": [],
   "source": [
    "from sklearn.feature_extraction.text import CountVectorizer"
   ]
  },
  {
   "cell_type": "code",
   "execution_count": 46,
   "metadata": {},
   "outputs": [],
   "source": [
    "# build BOW features on train reviews\n",
    "cv = CountVectorizer(binary=False, min_df=5, max_df=1.0, ngram_range=(1,2))\n",
    "cv_train_features = cv.fit_transform(norm_exception)"
   ]
  },
  {
   "cell_type": "code",
   "execution_count": 47,
   "metadata": {},
   "outputs": [
    {
     "name": "stdout",
     "output_type": "stream",
     "text": [
      "['add', 'add claim', 'add costs', 'and', 'and assign', 'and stored', 'assign', 'assign claim', 'been', 'been created', 'claim', 'claim information', 'claim not', 'costs', 'costs information', 'created', 'created and', 'element', 'expected', 'expected text', 'failed', 'failed expected', 'fails', 'fails to', 'find', 'find object', 'found', 'found in', 'has', 'has been', 'idfnolwizardnext', 'in', 'in element', 'info', 'information', 'information not', 'locator', 'locator idfnolwizardnext', 'locator namefnolwizardfullwizardstepsetfnolwizardcreditcardtcoscreenotherinsurancecompanytcodvinsurancecompany', 'locator nametripaccommodationaddresspopupclaimpolicytripaccommodationdetaildvclaimtripaccommodationdetaildvdescription', 'namefnolwizardfullwizardstepsetfnolwizardcreditcardtcoscreenotherinsurancecompanytcodvinsurancecompany', 'nametripaccommodationaddresspopupclaimpolicytripaccommodationdetaildvclaimtripaccommodationdetaildvdescription', 'navigate', 'navigate step2', 'not', 'not found', 'object', 'object with', 'of', 'of add', 'of save', 'payment', 'payment not', 'save', 'save and', 'specified', 'specified locator', 'step', 'step of', 'step2', 'stored', 'stored in', 'straight', 'straight payment', 'text', 'text step', 'text straight', 'to', 'to find', 'to navigate', 'unable', 'unable to', 'verification', 'verification failed', 'with', 'with specified']\n"
     ]
    }
   ],
   "source": [
    "print (cv.get_feature_names())"
   ]
  },
  {
   "cell_type": "code",
   "execution_count": 48,
   "metadata": {},
   "outputs": [
    {
     "name": "stdout",
     "output_type": "stream",
     "text": [
      "[[0 0 0 ... 0 0 0]\n",
      " [0 0 0 ... 1 0 0]\n",
      " [0 0 0 ... 1 0 0]\n",
      " ...\n",
      " [0 0 0 ... 0 1 1]\n",
      " [0 0 0 ... 0 1 1]\n",
      " [0 0 0 ... 0 1 1]]\n"
     ]
    }
   ],
   "source": [
    "print(cv_train_features.toarray())"
   ]
  },
  {
   "cell_type": "code",
   "execution_count": 49,
   "metadata": {},
   "outputs": [
    {
     "name": "stdout",
     "output_type": "stream",
     "text": [
      "BOW model:> Train features shape: (133, 76)\n"
     ]
    }
   ],
   "source": [
    "print('BOW model:> Train features shape:', cv_train_features.shape)"
   ]
  },
  {
   "cell_type": "code",
   "execution_count": 29,
   "metadata": {
    "collapsed": true
   },
   "outputs": [
    {
     "data": {
      "text/plain": [
       "<450x925 sparse matrix of type '<class 'numpy.int64'>'\n",
       "\twith 15707 stored elements in Compressed Sparse Row format>"
      ]
     },
     "execution_count": 29,
     "metadata": {},
     "output_type": "execute_result"
    }
   ],
   "source": [
    "cv_train_features"
   ]
  },
  {
   "cell_type": "code",
   "execution_count": 51,
   "metadata": {},
   "outputs": [
    {
     "data": {
      "text/plain": [
       "KMeans(algorithm='auto', copy_x=True, init='k-means++', max_iter=10000,\n",
       "       n_clusters=6, n_init=100, n_jobs=None, precompute_distances='auto',\n",
       "       random_state=42, tol=0.0001, verbose=0)"
      ]
     },
     "execution_count": 51,
     "metadata": {},
     "output_type": "execute_result"
    }
   ],
   "source": [
    "\n",
    "from sklearn.cluster import KMeans\n",
    "\n",
    "NUM_CLUSTERS = 6\n",
    "km = KMeans(n_clusters=NUM_CLUSTERS, max_iter=10000, n_init=100, random_state=42).fit(cv_train_features)\n",
    "km"
   ]
  },
  {
   "cell_type": "code",
   "execution_count": 52,
   "metadata": {},
   "outputs": [
    {
     "data": {
      "text/plain": [
       "Counter({2: 16, 4: 17, 0: 52, 3: 12, 1: 30, 5: 6})"
      ]
     },
     "execution_count": 52,
     "metadata": {},
     "output_type": "execute_result"
    }
   ],
   "source": [
    "from collections import Counter\n",
    "\n",
    "Counter(km.labels_)"
   ]
  },
  {
   "cell_type": "code",
   "execution_count": 54,
   "metadata": {},
   "outputs": [],
   "source": [
    "data['kmeans_cluster'] = km.labels_"
   ]
  },
  {
   "cell_type": "code",
   "execution_count": 33,
   "metadata": {
    "collapsed": true
   },
   "outputs": [
    {
     "name": "stdout",
     "output_type": "stream",
     "text": [
      "              precision    recall  f1-score   support\n",
      "\n",
      "    Negative       0.96      0.93      0.95       297\n",
      "    Positive       0.56      0.74      0.64        38\n",
      "\n",
      "    accuracy                           0.90       335\n",
      "   macro avg       0.76      0.83      0.79       335\n",
      "weighted avg       0.92      0.90      0.91       335\n",
      "\n"
     ]
    },
    {
     "data": {
      "text/html": [
       "<div>\n",
       "<style scoped>\n",
       "    .dataframe tbody tr th:only-of-type {\n",
       "        vertical-align: middle;\n",
       "    }\n",
       "\n",
       "    .dataframe tbody tr th {\n",
       "        vertical-align: top;\n",
       "    }\n",
       "\n",
       "    .dataframe thead th {\n",
       "        text-align: right;\n",
       "    }\n",
       "</style>\n",
       "<table border=\"1\" class=\"dataframe\">\n",
       "  <thead>\n",
       "    <tr style=\"text-align: right;\">\n",
       "      <th></th>\n",
       "      <th>negative</th>\n",
       "      <th>positive</th>\n",
       "    </tr>\n",
       "  </thead>\n",
       "  <tbody>\n",
       "    <tr>\n",
       "      <td>negative</td>\n",
       "      <td>275</td>\n",
       "      <td>22</td>\n",
       "    </tr>\n",
       "    <tr>\n",
       "      <td>positive</td>\n",
       "      <td>10</td>\n",
       "      <td>28</td>\n",
       "    </tr>\n",
       "  </tbody>\n",
       "</table>\n",
       "</div>"
      ],
      "text/plain": [
       "          negative  positive\n",
       "negative       275        22\n",
       "positive        10        28"
      ]
     },
     "execution_count": 33,
     "metadata": {},
     "output_type": "execute_result"
    }
   ],
   "source": [
    "\n",
    "cat_cluster = (data[['REVIEW', 'kmeans_cluster', 'Module']]\n",
    "                  .sort_values(by=['kmeans_cluster'], \n",
    "                               ascending=False)\n",
    "                  .groupby('kmeans_cluster').head(20))"
   ]
  },
  {
   "cell_type": "code",
   "execution_count": 34,
   "metadata": {},
   "outputs": [],
   "source": [
    "#TestData Validation\n",
    "\n",
    "TestData = pd.read_csv('TestReviews.csv')"
   ]
  },
  {
   "cell_type": "code",
   "execution_count": 35,
   "metadata": {
    "collapsed": true
   },
   "outputs": [
    {
     "data": {
      "text/html": [
       "<div>\n",
       "<style scoped>\n",
       "    .dataframe tbody tr th:only-of-type {\n",
       "        vertical-align: middle;\n",
       "    }\n",
       "\n",
       "    .dataframe tbody tr th {\n",
       "        vertical-align: top;\n",
       "    }\n",
       "\n",
       "    .dataframe thead th {\n",
       "        text-align: right;\n",
       "    }\n",
       "</style>\n",
       "<table border=\"1\" class=\"dataframe\">\n",
       "  <thead>\n",
       "    <tr style=\"text-align: right;\">\n",
       "      <th></th>\n",
       "      <th>Review</th>\n",
       "      <th>Sentiment</th>\n",
       "    </tr>\n",
       "  </thead>\n",
       "  <tbody>\n",
       "    <tr>\n",
       "      <td>0</td>\n",
       "      <td>Won't let me check in. I thought the most rece...</td>\n",
       "      <td>NaN</td>\n",
       "    </tr>\n",
       "    <tr>\n",
       "      <td>1</td>\n",
       "      <td>I type in the booking reference and the app cr...</td>\n",
       "      <td>NaN</td>\n",
       "    </tr>\n",
       "    <tr>\n",
       "      <td>2</td>\n",
       "      <td>This new App sucks, I am a frequent flyer with...</td>\n",
       "      <td>NaN</td>\n",
       "    </tr>\n",
       "    <tr>\n",
       "      <td>3</td>\n",
       "      <td>Doesn't work... won't find my reservations... ...</td>\n",
       "      <td>NaN</td>\n",
       "    </tr>\n",
       "    <tr>\n",
       "      <td>4</td>\n",
       "      <td>Nov 2019 Unstable app! So many crashes. So har...</td>\n",
       "      <td>NaN</td>\n",
       "    </tr>\n",
       "    <tr>\n",
       "      <td>5</td>\n",
       "      <td>Just go to the mobile website, this app sucks....</td>\n",
       "      <td>NaN</td>\n",
       "    </tr>\n",
       "    <tr>\n",
       "      <td>6</td>\n",
       "      <td>Error - 1022 We can't search for flights, beca...</td>\n",
       "      <td>NaN</td>\n",
       "    </tr>\n",
       "    <tr>\n",
       "      <td>7</td>\n",
       "      <td>Even if someone hires an app developer and pay...</td>\n",
       "      <td>NaN</td>\n",
       "    </tr>\n",
       "    <tr>\n",
       "      <td>8</td>\n",
       "      <td>11/30/19 Update: This update caused a duplicat...</td>\n",
       "      <td>NaN</td>\n",
       "    </tr>\n",
       "    <tr>\n",
       "      <td>9</td>\n",
       "      <td>OK... I upgraded the rating to 3 stars. To the...</td>\n",
       "      <td>NaN</td>\n",
       "    </tr>\n",
       "    <tr>\n",
       "      <td>10</td>\n",
       "      <td>Often, it wont recognize my booking reference ...</td>\n",
       "      <td>NaN</td>\n",
       "    </tr>\n",
       "    <tr>\n",
       "      <td>11</td>\n",
       "      <td>Forced to update, then wouldn't let me check i...</td>\n",
       "      <td>NaN</td>\n",
       "    </tr>\n",
       "    <tr>\n",
       "      <td>12</td>\n",
       "      <td>Congratulations Air Canada. You managed to mak...</td>\n",
       "      <td>NaN</td>\n",
       "    </tr>\n",
       "    <tr>\n",
       "      <td>13</td>\n",
       "      <td>I really like the previous interface. It was a...</td>\n",
       "      <td>NaN</td>\n",
       "    </tr>\n",
       "    <tr>\n",
       "      <td>14</td>\n",
       "      <td>For the amount that Air Canada charges, you'd ...</td>\n",
       "      <td>NaN</td>\n",
       "    </tr>\n",
       "    <tr>\n",
       "      <td>15</td>\n",
       "      <td>Terrible new version. I feel lost looking for ...</td>\n",
       "      <td>NaN</td>\n",
       "    </tr>\n",
       "    <tr>\n",
       "      <td>16</td>\n",
       "      <td>App had Air Canada flight from LHR to YYZ as a...</td>\n",
       "      <td>NaN</td>\n",
       "    </tr>\n",
       "    <tr>\n",
       "      <td>17</td>\n",
       "      <td>Since they moved to the new platform, the app ...</td>\n",
       "      <td>NaN</td>\n",
       "    </tr>\n",
       "    <tr>\n",
       "      <td>18</td>\n",
       "      <td>This new version is almost unusable. The previ...</td>\n",
       "      <td>NaN</td>\n",
       "    </tr>\n",
       "    <tr>\n",
       "      <td>19</td>\n",
       "      <td>Where is the Rouge player? What happened to th...</td>\n",
       "      <td>NaN</td>\n",
       "    </tr>\n",
       "    <tr>\n",
       "      <td>20</td>\n",
       "      <td>This update was not the best. Everything is ha...</td>\n",
       "      <td>NaN</td>\n",
       "    </tr>\n",
       "    <tr>\n",
       "      <td>21</td>\n",
       "      <td>Doesn't recognize reservation codes. Can't see...</td>\n",
       "      <td>NaN</td>\n",
       "    </tr>\n",
       "    <tr>\n",
       "      <td>22</td>\n",
       "      <td>Doesn't work anymore Can't add trips, keeps sa...</td>\n",
       "      <td>NaN</td>\n",
       "    </tr>\n",
       "    <tr>\n",
       "      <td>23</td>\n",
       "      <td>Horrible app, can't even login!!!and don't try...</td>\n",
       "      <td>NaN</td>\n",
       "    </tr>\n",
       "    <tr>\n",
       "      <td>24</td>\n",
       "      <td>That did you do to the app? I just opened the ...</td>\n",
       "      <td>NaN</td>\n",
       "    </tr>\n",
       "    <tr>\n",
       "      <td>25</td>\n",
       "      <td>Many options on the app, unfortunetly none is ...</td>\n",
       "      <td>NaN</td>\n",
       "    </tr>\n",
       "    <tr>\n",
       "      <td>26</td>\n",
       "      <td>Have tried repeatedly to enter an existing tri...</td>\n",
       "      <td>NaN</td>\n",
       "    </tr>\n",
       "    <tr>\n",
       "      <td>27</td>\n",
       "      <td>The new app seems to constantly lose my boardi...</td>\n",
       "      <td>NaN</td>\n",
       "    </tr>\n",
       "    <tr>\n",
       "      <td>28</td>\n",
       "      <td>Great flight tracking, schedules and app only ...</td>\n",
       "      <td>NaN</td>\n",
       "    </tr>\n",
       "    <tr>\n",
       "      <td>29</td>\n",
       "      <td>Just badly designed. App designers clearly are...</td>\n",
       "      <td>NaN</td>\n",
       "    </tr>\n",
       "    <tr>\n",
       "      <td>30</td>\n",
       "      <td>It's nice to see this app keeps getting worked...</td>\n",
       "      <td>NaN</td>\n",
       "    </tr>\n",
       "    <tr>\n",
       "      <td>31</td>\n",
       "      <td>New Air Canada app won't allow bookings to be ...</td>\n",
       "      <td>NaN</td>\n",
       "    </tr>\n",
       "    <tr>\n",
       "      <td>32</td>\n",
       "      <td>Air Canada site under Google play is supposed ...</td>\n",
       "      <td>NaN</td>\n",
       "    </tr>\n",
       "    <tr>\n",
       "      <td>33</td>\n",
       "      <td>Used to be ok. Now it's impossible to access m...</td>\n",
       "      <td>NaN</td>\n",
       "    </tr>\n",
       "    <tr>\n",
       "      <td>34</td>\n",
       "      <td>Used this app the first time to check in and i...</td>\n",
       "      <td>NaN</td>\n",
       "    </tr>\n",
       "    <tr>\n",
       "      <td>35</td>\n",
       "      <td>Jan.2nd still buggy. At times it refuses to op...</td>\n",
       "      <td>NaN</td>\n",
       "    </tr>\n",
       "    <tr>\n",
       "      <td>36</td>\n",
       "      <td>What a terrible, terrible update. Where's the ...</td>\n",
       "      <td>NaN</td>\n",
       "    </tr>\n",
       "    <tr>\n",
       "      <td>37</td>\n",
       "      <td>Horrible app since update....cant enter my aer...</td>\n",
       "      <td>NaN</td>\n",
       "    </tr>\n",
       "    <tr>\n",
       "      <td>38</td>\n",
       "      <td>Useless app. If you want to do more than just ...</td>\n",
       "      <td>NaN</td>\n",
       "    </tr>\n",
       "    <tr>\n",
       "      <td>39</td>\n",
       "      <td>The game is fun, runs smooth and looks great. ...</td>\n",
       "      <td>NaN</td>\n",
       "    </tr>\n",
       "    <tr>\n",
       "      <td>40</td>\n",
       "      <td>Beautiful remake of the classic game! I absolu...</td>\n",
       "      <td>NaN</td>\n",
       "    </tr>\n",
       "    <tr>\n",
       "      <td>41</td>\n",
       "      <td>This game is perfect It looks like a compact v...</td>\n",
       "      <td>NaN</td>\n",
       "    </tr>\n",
       "    <tr>\n",
       "      <td>42</td>\n",
       "      <td>Great, but gets boring when all you can to do ...</td>\n",
       "      <td>NaN</td>\n",
       "    </tr>\n",
       "    <tr>\n",
       "      <td>43</td>\n",
       "      <td>One fantastic adventure through years. It take...</td>\n",
       "      <td>NaN</td>\n",
       "    </tr>\n",
       "    <tr>\n",
       "      <td>44</td>\n",
       "      <td>The game is beautiful and imaginative. Unfortu...</td>\n",
       "      <td>NaN</td>\n",
       "    </tr>\n",
       "    <tr>\n",
       "      <td>45</td>\n",
       "      <td>Could be a good game, basically a dumbed-down ...</td>\n",
       "      <td>NaN</td>\n",
       "    </tr>\n",
       "    <tr>\n",
       "      <td>46</td>\n",
       "      <td>I am a huge fan of Rayman and so long as you d...</td>\n",
       "      <td>NaN</td>\n",
       "    </tr>\n",
       "    <tr>\n",
       "      <td>47</td>\n",
       "      <td>Ever since I was 4 (2013-ish), I have been the...</td>\n",
       "      <td>NaN</td>\n",
       "    </tr>\n",
       "    <tr>\n",
       "      <td>48</td>\n",
       "      <td>Used to be a nice game, moved to a new phone a...</td>\n",
       "      <td>NaN</td>\n",
       "    </tr>\n",
       "    <tr>\n",
       "      <td>49</td>\n",
       "      <td>love the game, a great version of rayman in a ...</td>\n",
       "      <td>NaN</td>\n",
       "    </tr>\n",
       "  </tbody>\n",
       "</table>\n",
       "</div>"
      ],
      "text/plain": [
       "                                               Review  Sentiment\n",
       "0   Won't let me check in. I thought the most rece...        NaN\n",
       "1   I type in the booking reference and the app cr...        NaN\n",
       "2   This new App sucks, I am a frequent flyer with...        NaN\n",
       "3   Doesn't work... won't find my reservations... ...        NaN\n",
       "4   Nov 2019 Unstable app! So many crashes. So har...        NaN\n",
       "5   Just go to the mobile website, this app sucks....        NaN\n",
       "6   Error - 1022 We can't search for flights, beca...        NaN\n",
       "7   Even if someone hires an app developer and pay...        NaN\n",
       "8   11/30/19 Update: This update caused a duplicat...        NaN\n",
       "9   OK... I upgraded the rating to 3 stars. To the...        NaN\n",
       "10  Often, it wont recognize my booking reference ...        NaN\n",
       "11  Forced to update, then wouldn't let me check i...        NaN\n",
       "12  Congratulations Air Canada. You managed to mak...        NaN\n",
       "13  I really like the previous interface. It was a...        NaN\n",
       "14  For the amount that Air Canada charges, you'd ...        NaN\n",
       "15  Terrible new version. I feel lost looking for ...        NaN\n",
       "16  App had Air Canada flight from LHR to YYZ as a...        NaN\n",
       "17  Since they moved to the new platform, the app ...        NaN\n",
       "18  This new version is almost unusable. The previ...        NaN\n",
       "19  Where is the Rouge player? What happened to th...        NaN\n",
       "20  This update was not the best. Everything is ha...        NaN\n",
       "21  Doesn't recognize reservation codes. Can't see...        NaN\n",
       "22  Doesn't work anymore Can't add trips, keeps sa...        NaN\n",
       "23  Horrible app, can't even login!!!and don't try...        NaN\n",
       "24  That did you do to the app? I just opened the ...        NaN\n",
       "25  Many options on the app, unfortunetly none is ...        NaN\n",
       "26  Have tried repeatedly to enter an existing tri...        NaN\n",
       "27  The new app seems to constantly lose my boardi...        NaN\n",
       "28  Great flight tracking, schedules and app only ...        NaN\n",
       "29  Just badly designed. App designers clearly are...        NaN\n",
       "30  It's nice to see this app keeps getting worked...        NaN\n",
       "31  New Air Canada app won't allow bookings to be ...        NaN\n",
       "32  Air Canada site under Google play is supposed ...        NaN\n",
       "33  Used to be ok. Now it's impossible to access m...        NaN\n",
       "34  Used this app the first time to check in and i...        NaN\n",
       "35  Jan.2nd still buggy. At times it refuses to op...        NaN\n",
       "36  What a terrible, terrible update. Where's the ...        NaN\n",
       "37  Horrible app since update....cant enter my aer...        NaN\n",
       "38  Useless app. If you want to do more than just ...        NaN\n",
       "39  The game is fun, runs smooth and looks great. ...        NaN\n",
       "40  Beautiful remake of the classic game! I absolu...        NaN\n",
       "41  This game is perfect It looks like a compact v...        NaN\n",
       "42  Great, but gets boring when all you can to do ...        NaN\n",
       "43  One fantastic adventure through years. It take...        NaN\n",
       "44  The game is beautiful and imaginative. Unfortu...        NaN\n",
       "45  Could be a good game, basically a dumbed-down ...        NaN\n",
       "46  I am a huge fan of Rayman and so long as you d...        NaN\n",
       "47  Ever since I was 4 (2013-ish), I have been the...        NaN\n",
       "48  Used to be a nice game, moved to a new phone a...        NaN\n",
       "49  love the game, a great version of rayman in a ...        NaN"
      ]
     },
     "execution_count": 35,
     "metadata": {},
     "output_type": "execute_result"
    }
   ],
   "source": [
    "TestData"
   ]
  },
  {
   "cell_type": "code",
   "execution_count": 36,
   "metadata": {},
   "outputs": [
    {
     "name": "stderr",
     "output_type": "stream",
     "text": [
      "100%|██████████| 50/50 [00:00<00:00, 2794.04it/s]\n"
     ]
    }
   ],
   "source": [
    "#Data Pre-processing\n",
    "\n",
    "reviews = TestData['Review'].values\n",
    "\n",
    "norm_reviews = pre_process_corpus(reviews)\n",
    "\n",
    "cv_test_data = cv.transform(norm_reviews)"
   ]
  },
  {
   "cell_type": "code",
   "execution_count": 37,
   "metadata": {},
   "outputs": [],
   "source": [
    "lr_test_predictions = lr.predict(cv_test_data)"
   ]
  },
  {
   "cell_type": "code",
   "execution_count": 38,
   "metadata": {
    "collapsed": true
   },
   "outputs": [
    {
     "data": {
      "text/plain": [
       "array(['Negative', 'Negative', 'Positive', 'Negative', 'Negative',\n",
       "       'Negative', 'Negative', 'Negative', 'Negative', 'Positive',\n",
       "       'Negative', 'Negative', 'Negative', 'Positive', 'Negative',\n",
       "       'Negative', 'Positive', 'Positive', 'Negative', 'Negative',\n",
       "       'Negative', 'Negative', 'Negative', 'Negative', 'Positive',\n",
       "       'Negative', 'Negative', 'Negative', 'Positive', 'Negative',\n",
       "       'Negative', 'Negative', 'Positive', 'Negative', 'Negative',\n",
       "       'Negative', 'Negative', 'Negative', 'Negative', 'Positive',\n",
       "       'Positive', 'Negative', 'Negative', 'Positive', 'Positive',\n",
       "       'Negative', 'Positive', 'Negative', 'Negative', 'Positive'],\n",
       "      dtype=object)"
      ]
     },
     "execution_count": 38,
     "metadata": {},
     "output_type": "execute_result"
    }
   ],
   "source": [
    "lr_test_predictions"
   ]
  },
  {
   "cell_type": "code",
   "execution_count": 39,
   "metadata": {},
   "outputs": [],
   "source": [
    "test_pred = pd.DataFrame(lr_test_predictions,columns= [\"Sentiment\"])\n",
    "pred_result = pd.concat([TestData[[\"Review\"]],test_pred] ,axis = 1)\n",
    "pred_result.to_csv('PredictedResult.csv',index = False)"
   ]
  },
  {
   "cell_type": "code",
   "execution_count": 40,
   "metadata": {
    "collapsed": true
   },
   "outputs": [
    {
     "data": {
      "text/plain": [
       "Negative    36\n",
       "Positive    14\n",
       "Name: Sentiment, dtype: int64"
      ]
     },
     "execution_count": 40,
     "metadata": {},
     "output_type": "execute_result"
    }
   ],
   "source": [
    "pred_result['Sentiment'].value_counts()"
   ]
  },
  {
   "cell_type": "code",
   "execution_count": 41,
   "metadata": {},
   "outputs": [],
   "source": [
    "\n",
    "# Random Forest model on BOW features\n",
    "from sklearn.ensemble import RandomForestClassifier\n",
    "\n",
    "# instantiate model\n",
    "rf = RandomForestClassifier(n_estimators=100, n_jobs=-1, random_state=42)\n",
    "\n",
    "# train model\n",
    "rf.fit(cv_train_features, train_sentiments)\n",
    "\n",
    "# predict on test data\n",
    "rf_bow_predictions = rf.predict(cv_test_features)"
   ]
  },
  {
   "cell_type": "code",
   "execution_count": 42,
   "metadata": {
    "collapsed": true
   },
   "outputs": [
    {
     "data": {
      "text/plain": [
       "array(['Positive', 'Negative', 'Negative', 'Negative', 'Negative',\n",
       "       'Negative', 'Negative', 'Positive', 'Negative', 'Negative',\n",
       "       'Negative', 'Negative', 'Negative', 'Negative', 'Negative',\n",
       "       'Negative', 'Negative', 'Negative', 'Negative', 'Negative',\n",
       "       'Negative', 'Negative', 'Negative', 'Negative', 'Negative',\n",
       "       'Negative', 'Negative', 'Negative', 'Negative', 'Positive',\n",
       "       'Negative', 'Negative', 'Negative', 'Negative', 'Negative',\n",
       "       'Negative', 'Positive', 'Negative', 'Negative', 'Negative',\n",
       "       'Negative', 'Negative', 'Negative', 'Negative', 'Negative',\n",
       "       'Negative', 'Negative', 'Negative', 'Negative', 'Negative',\n",
       "       'Negative', 'Negative', 'Negative', 'Negative', 'Negative',\n",
       "       'Negative', 'Negative', 'Negative', 'Negative', 'Negative',\n",
       "       'Negative', 'Negative', 'Negative', 'Negative', 'Negative',\n",
       "       'Negative', 'Negative', 'Negative', 'Negative', 'Negative',\n",
       "       'Negative', 'Negative', 'Negative', 'Negative', 'Negative',\n",
       "       'Negative', 'Negative', 'Negative', 'Negative', 'Negative',\n",
       "       'Negative', 'Negative', 'Negative', 'Negative', 'Negative',\n",
       "       'Negative', 'Negative', 'Negative', 'Negative', 'Negative',\n",
       "       'Negative', 'Negative', 'Negative', 'Negative', 'Negative',\n",
       "       'Negative', 'Negative', 'Negative', 'Negative', 'Negative',\n",
       "       'Negative', 'Negative', 'Negative', 'Positive', 'Positive',\n",
       "       'Negative', 'Negative', 'Positive', 'Negative', 'Positive',\n",
       "       'Negative', 'Negative', 'Negative', 'Negative', 'Positive',\n",
       "       'Negative', 'Negative', 'Positive', 'Positive', 'Positive',\n",
       "       'Negative', 'Negative', 'Negative', 'Negative', 'Negative',\n",
       "       'Negative', 'Positive', 'Negative', 'Negative', 'Negative',\n",
       "       'Negative', 'Negative', 'Negative', 'Negative', 'Negative',\n",
       "       'Negative', 'Negative', 'Negative', 'Negative', 'Negative',\n",
       "       'Negative', 'Negative', 'Positive', 'Negative', 'Negative',\n",
       "       'Negative', 'Negative', 'Negative', 'Negative', 'Negative',\n",
       "       'Negative', 'Negative', 'Negative', 'Negative', 'Negative',\n",
       "       'Negative', 'Negative', 'Negative', 'Negative', 'Negative',\n",
       "       'Negative', 'Negative', 'Negative', 'Negative', 'Negative',\n",
       "       'Negative', 'Negative', 'Negative', 'Negative', 'Negative',\n",
       "       'Positive', 'Negative', 'Negative', 'Negative', 'Negative',\n",
       "       'Negative', 'Negative', 'Negative', 'Negative', 'Negative',\n",
       "       'Negative', 'Negative', 'Negative', 'Negative', 'Negative',\n",
       "       'Negative', 'Positive', 'Negative', 'Negative', 'Negative',\n",
       "       'Positive', 'Negative', 'Negative', 'Negative', 'Positive',\n",
       "       'Negative', 'Positive', 'Negative', 'Positive', 'Negative',\n",
       "       'Negative', 'Negative', 'Negative', 'Negative', 'Negative',\n",
       "       'Negative', 'Negative', 'Negative', 'Negative', 'Negative',\n",
       "       'Negative', 'Positive', 'Negative', 'Negative', 'Negative',\n",
       "       'Negative', 'Negative', 'Negative', 'Negative', 'Negative',\n",
       "       'Negative', 'Negative', 'Negative', 'Negative', 'Negative',\n",
       "       'Negative', 'Negative', 'Positive', 'Negative', 'Negative',\n",
       "       'Negative', 'Positive', 'Negative', 'Negative', 'Negative',\n",
       "       'Negative', 'Negative', 'Negative', 'Positive', 'Negative',\n",
       "       'Negative', 'Negative', 'Negative', 'Negative', 'Negative',\n",
       "       'Negative', 'Negative', 'Negative', 'Negative', 'Positive',\n",
       "       'Negative', 'Negative', 'Negative', 'Negative', 'Negative',\n",
       "       'Negative', 'Negative', 'Negative', 'Negative', 'Positive',\n",
       "       'Negative', 'Negative', 'Negative', 'Negative', 'Negative',\n",
       "       'Negative', 'Negative', 'Negative', 'Negative', 'Negative',\n",
       "       'Negative', 'Positive', 'Negative', 'Negative', 'Negative',\n",
       "       'Negative', 'Negative', 'Negative', 'Negative', 'Negative',\n",
       "       'Negative', 'Negative', 'Negative', 'Negative', 'Negative',\n",
       "       'Negative', 'Negative', 'Negative', 'Negative', 'Negative',\n",
       "       'Negative', 'Negative', 'Negative', 'Negative', 'Negative',\n",
       "       'Negative', 'Negative', 'Negative', 'Negative', 'Positive',\n",
       "       'Negative', 'Negative', 'Negative', 'Negative', 'Negative',\n",
       "       'Negative', 'Positive', 'Positive', 'Negative', 'Negative',\n",
       "       'Negative', 'Negative', 'Negative', 'Negative', 'Negative',\n",
       "       'Positive', 'Negative', 'Negative', 'Negative', 'Negative',\n",
       "       'Negative', 'Positive', 'Positive', 'Negative', 'Negative',\n",
       "       'Negative', 'Negative', 'Negative', 'Negative', 'Negative',\n",
       "       'Negative', 'Negative', 'Positive', 'Negative', 'Negative'],\n",
       "      dtype=object)"
      ]
     },
     "execution_count": 42,
     "metadata": {},
     "output_type": "execute_result"
    }
   ],
   "source": [
    "rf_bow_predictions"
   ]
  },
  {
   "cell_type": "code",
   "execution_count": 43,
   "metadata": {
    "collapsed": true
   },
   "outputs": [
    {
     "name": "stdout",
     "output_type": "stream",
     "text": [
      "              precision    recall  f1-score   support\n",
      "\n",
      "    Negative       0.95      0.97      0.96       297\n",
      "    Positive       0.71      0.63      0.67        38\n",
      "\n",
      "    accuracy                           0.93       335\n",
      "   macro avg       0.83      0.80      0.81       335\n",
      "weighted avg       0.93      0.93      0.93       335\n",
      "\n"
     ]
    },
    {
     "data": {
      "text/html": [
       "<div>\n",
       "<style scoped>\n",
       "    .dataframe tbody tr th:only-of-type {\n",
       "        vertical-align: middle;\n",
       "    }\n",
       "\n",
       "    .dataframe tbody tr th {\n",
       "        vertical-align: top;\n",
       "    }\n",
       "\n",
       "    .dataframe thead th {\n",
       "        text-align: right;\n",
       "    }\n",
       "</style>\n",
       "<table border=\"1\" class=\"dataframe\">\n",
       "  <thead>\n",
       "    <tr style=\"text-align: right;\">\n",
       "      <th></th>\n",
       "      <th>negative</th>\n",
       "      <th>positive</th>\n",
       "    </tr>\n",
       "  </thead>\n",
       "  <tbody>\n",
       "    <tr>\n",
       "      <td>negative</td>\n",
       "      <td>287</td>\n",
       "      <td>10</td>\n",
       "    </tr>\n",
       "    <tr>\n",
       "      <td>positive</td>\n",
       "      <td>14</td>\n",
       "      <td>24</td>\n",
       "    </tr>\n",
       "  </tbody>\n",
       "</table>\n",
       "</div>"
      ],
      "text/plain": [
       "          negative  positive\n",
       "negative       287        10\n",
       "positive        14        24"
      ]
     },
     "execution_count": 43,
     "metadata": {},
     "output_type": "execute_result"
    }
   ],
   "source": [
    "labels = ['', '']\n",
    "print(classification_report(test_sentiments, rf_bow_predictions))\n",
    "pd.DataFrame(confusion_matrix(test_sentiments, rf_bow_predictions), index=labels, columns=labels)"
   ]
  },
  {
   "cell_type": "code",
   "execution_count": 44,
   "metadata": {},
   "outputs": [],
   "source": [
    "#Predict on Test Data\n",
    "\n",
    "rf_test_predictions = rf.predict(cv_test_data)"
   ]
  },
  {
   "cell_type": "code",
   "execution_count": 45,
   "metadata": {},
   "outputs": [],
   "source": [
    "rf_pred = pd.DataFrame(rf_test_predictions,columns= [\"Sentiment\"])\n",
    "rf_pred_result = pd.concat([TestData[[\"Review\"]],test_pred] ,axis = 1)\n",
    "rf_pred_result.to_csv('PredictedResult.csv',index = False)"
   ]
  },
  {
   "cell_type": "code",
   "execution_count": 46,
   "metadata": {
    "collapsed": true
   },
   "outputs": [
    {
     "data": {
      "text/html": [
       "<div>\n",
       "<style scoped>\n",
       "    .dataframe tbody tr th:only-of-type {\n",
       "        vertical-align: middle;\n",
       "    }\n",
       "\n",
       "    .dataframe tbody tr th {\n",
       "        vertical-align: top;\n",
       "    }\n",
       "\n",
       "    .dataframe thead th {\n",
       "        text-align: right;\n",
       "    }\n",
       "</style>\n",
       "<table border=\"1\" class=\"dataframe\">\n",
       "  <thead>\n",
       "    <tr style=\"text-align: right;\">\n",
       "      <th></th>\n",
       "      <th>Review</th>\n",
       "      <th>Sentiment</th>\n",
       "    </tr>\n",
       "  </thead>\n",
       "  <tbody>\n",
       "    <tr>\n",
       "      <td>0</td>\n",
       "      <td>Won't let me check in. I thought the most rece...</td>\n",
       "      <td>Negative</td>\n",
       "    </tr>\n",
       "    <tr>\n",
       "      <td>1</td>\n",
       "      <td>I type in the booking reference and the app cr...</td>\n",
       "      <td>Negative</td>\n",
       "    </tr>\n",
       "    <tr>\n",
       "      <td>2</td>\n",
       "      <td>This new App sucks, I am a frequent flyer with...</td>\n",
       "      <td>Positive</td>\n",
       "    </tr>\n",
       "    <tr>\n",
       "      <td>3</td>\n",
       "      <td>Doesn't work... won't find my reservations... ...</td>\n",
       "      <td>Negative</td>\n",
       "    </tr>\n",
       "    <tr>\n",
       "      <td>4</td>\n",
       "      <td>Nov 2019 Unstable app! So many crashes. So har...</td>\n",
       "      <td>Negative</td>\n",
       "    </tr>\n",
       "    <tr>\n",
       "      <td>5</td>\n",
       "      <td>Just go to the mobile website, this app sucks....</td>\n",
       "      <td>Negative</td>\n",
       "    </tr>\n",
       "    <tr>\n",
       "      <td>6</td>\n",
       "      <td>Error - 1022 We can't search for flights, beca...</td>\n",
       "      <td>Negative</td>\n",
       "    </tr>\n",
       "    <tr>\n",
       "      <td>7</td>\n",
       "      <td>Even if someone hires an app developer and pay...</td>\n",
       "      <td>Negative</td>\n",
       "    </tr>\n",
       "    <tr>\n",
       "      <td>8</td>\n",
       "      <td>11/30/19 Update: This update caused a duplicat...</td>\n",
       "      <td>Negative</td>\n",
       "    </tr>\n",
       "    <tr>\n",
       "      <td>9</td>\n",
       "      <td>OK... I upgraded the rating to 3 stars. To the...</td>\n",
       "      <td>Positive</td>\n",
       "    </tr>\n",
       "    <tr>\n",
       "      <td>10</td>\n",
       "      <td>Often, it wont recognize my booking reference ...</td>\n",
       "      <td>Negative</td>\n",
       "    </tr>\n",
       "    <tr>\n",
       "      <td>11</td>\n",
       "      <td>Forced to update, then wouldn't let me check i...</td>\n",
       "      <td>Negative</td>\n",
       "    </tr>\n",
       "    <tr>\n",
       "      <td>12</td>\n",
       "      <td>Congratulations Air Canada. You managed to mak...</td>\n",
       "      <td>Negative</td>\n",
       "    </tr>\n",
       "    <tr>\n",
       "      <td>13</td>\n",
       "      <td>I really like the previous interface. It was a...</td>\n",
       "      <td>Positive</td>\n",
       "    </tr>\n",
       "    <tr>\n",
       "      <td>14</td>\n",
       "      <td>For the amount that Air Canada charges, you'd ...</td>\n",
       "      <td>Negative</td>\n",
       "    </tr>\n",
       "    <tr>\n",
       "      <td>15</td>\n",
       "      <td>Terrible new version. I feel lost looking for ...</td>\n",
       "      <td>Negative</td>\n",
       "    </tr>\n",
       "    <tr>\n",
       "      <td>16</td>\n",
       "      <td>App had Air Canada flight from LHR to YYZ as a...</td>\n",
       "      <td>Positive</td>\n",
       "    </tr>\n",
       "    <tr>\n",
       "      <td>17</td>\n",
       "      <td>Since they moved to the new platform, the app ...</td>\n",
       "      <td>Positive</td>\n",
       "    </tr>\n",
       "    <tr>\n",
       "      <td>18</td>\n",
       "      <td>This new version is almost unusable. The previ...</td>\n",
       "      <td>Negative</td>\n",
       "    </tr>\n",
       "    <tr>\n",
       "      <td>19</td>\n",
       "      <td>Where is the Rouge player? What happened to th...</td>\n",
       "      <td>Negative</td>\n",
       "    </tr>\n",
       "    <tr>\n",
       "      <td>20</td>\n",
       "      <td>This update was not the best. Everything is ha...</td>\n",
       "      <td>Negative</td>\n",
       "    </tr>\n",
       "    <tr>\n",
       "      <td>21</td>\n",
       "      <td>Doesn't recognize reservation codes. Can't see...</td>\n",
       "      <td>Negative</td>\n",
       "    </tr>\n",
       "    <tr>\n",
       "      <td>22</td>\n",
       "      <td>Doesn't work anymore Can't add trips, keeps sa...</td>\n",
       "      <td>Negative</td>\n",
       "    </tr>\n",
       "    <tr>\n",
       "      <td>23</td>\n",
       "      <td>Horrible app, can't even login!!!and don't try...</td>\n",
       "      <td>Negative</td>\n",
       "    </tr>\n",
       "    <tr>\n",
       "      <td>24</td>\n",
       "      <td>That did you do to the app? I just opened the ...</td>\n",
       "      <td>Positive</td>\n",
       "    </tr>\n",
       "    <tr>\n",
       "      <td>25</td>\n",
       "      <td>Many options on the app, unfortunetly none is ...</td>\n",
       "      <td>Negative</td>\n",
       "    </tr>\n",
       "    <tr>\n",
       "      <td>26</td>\n",
       "      <td>Have tried repeatedly to enter an existing tri...</td>\n",
       "      <td>Negative</td>\n",
       "    </tr>\n",
       "    <tr>\n",
       "      <td>27</td>\n",
       "      <td>The new app seems to constantly lose my boardi...</td>\n",
       "      <td>Negative</td>\n",
       "    </tr>\n",
       "    <tr>\n",
       "      <td>28</td>\n",
       "      <td>Great flight tracking, schedules and app only ...</td>\n",
       "      <td>Positive</td>\n",
       "    </tr>\n",
       "    <tr>\n",
       "      <td>29</td>\n",
       "      <td>Just badly designed. App designers clearly are...</td>\n",
       "      <td>Negative</td>\n",
       "    </tr>\n",
       "    <tr>\n",
       "      <td>30</td>\n",
       "      <td>It's nice to see this app keeps getting worked...</td>\n",
       "      <td>Negative</td>\n",
       "    </tr>\n",
       "    <tr>\n",
       "      <td>31</td>\n",
       "      <td>New Air Canada app won't allow bookings to be ...</td>\n",
       "      <td>Negative</td>\n",
       "    </tr>\n",
       "    <tr>\n",
       "      <td>32</td>\n",
       "      <td>Air Canada site under Google play is supposed ...</td>\n",
       "      <td>Positive</td>\n",
       "    </tr>\n",
       "    <tr>\n",
       "      <td>33</td>\n",
       "      <td>Used to be ok. Now it's impossible to access m...</td>\n",
       "      <td>Negative</td>\n",
       "    </tr>\n",
       "    <tr>\n",
       "      <td>34</td>\n",
       "      <td>Used this app the first time to check in and i...</td>\n",
       "      <td>Negative</td>\n",
       "    </tr>\n",
       "    <tr>\n",
       "      <td>35</td>\n",
       "      <td>Jan.2nd still buggy. At times it refuses to op...</td>\n",
       "      <td>Negative</td>\n",
       "    </tr>\n",
       "    <tr>\n",
       "      <td>36</td>\n",
       "      <td>What a terrible, terrible update. Where's the ...</td>\n",
       "      <td>Negative</td>\n",
       "    </tr>\n",
       "    <tr>\n",
       "      <td>37</td>\n",
       "      <td>Horrible app since update....cant enter my aer...</td>\n",
       "      <td>Negative</td>\n",
       "    </tr>\n",
       "    <tr>\n",
       "      <td>38</td>\n",
       "      <td>Useless app. If you want to do more than just ...</td>\n",
       "      <td>Negative</td>\n",
       "    </tr>\n",
       "    <tr>\n",
       "      <td>39</td>\n",
       "      <td>The game is fun, runs smooth and looks great. ...</td>\n",
       "      <td>Positive</td>\n",
       "    </tr>\n",
       "    <tr>\n",
       "      <td>40</td>\n",
       "      <td>Beautiful remake of the classic game! I absolu...</td>\n",
       "      <td>Positive</td>\n",
       "    </tr>\n",
       "    <tr>\n",
       "      <td>41</td>\n",
       "      <td>This game is perfect It looks like a compact v...</td>\n",
       "      <td>Negative</td>\n",
       "    </tr>\n",
       "    <tr>\n",
       "      <td>42</td>\n",
       "      <td>Great, but gets boring when all you can to do ...</td>\n",
       "      <td>Negative</td>\n",
       "    </tr>\n",
       "    <tr>\n",
       "      <td>43</td>\n",
       "      <td>One fantastic adventure through years. It take...</td>\n",
       "      <td>Positive</td>\n",
       "    </tr>\n",
       "    <tr>\n",
       "      <td>44</td>\n",
       "      <td>The game is beautiful and imaginative. Unfortu...</td>\n",
       "      <td>Positive</td>\n",
       "    </tr>\n",
       "    <tr>\n",
       "      <td>45</td>\n",
       "      <td>Could be a good game, basically a dumbed-down ...</td>\n",
       "      <td>Negative</td>\n",
       "    </tr>\n",
       "    <tr>\n",
       "      <td>46</td>\n",
       "      <td>I am a huge fan of Rayman and so long as you d...</td>\n",
       "      <td>Positive</td>\n",
       "    </tr>\n",
       "    <tr>\n",
       "      <td>47</td>\n",
       "      <td>Ever since I was 4 (2013-ish), I have been the...</td>\n",
       "      <td>Negative</td>\n",
       "    </tr>\n",
       "    <tr>\n",
       "      <td>48</td>\n",
       "      <td>Used to be a nice game, moved to a new phone a...</td>\n",
       "      <td>Negative</td>\n",
       "    </tr>\n",
       "    <tr>\n",
       "      <td>49</td>\n",
       "      <td>love the game, a great version of rayman in a ...</td>\n",
       "      <td>Positive</td>\n",
       "    </tr>\n",
       "  </tbody>\n",
       "</table>\n",
       "</div>"
      ],
      "text/plain": [
       "                                               Review Sentiment\n",
       "0   Won't let me check in. I thought the most rece...  Negative\n",
       "1   I type in the booking reference and the app cr...  Negative\n",
       "2   This new App sucks, I am a frequent flyer with...  Positive\n",
       "3   Doesn't work... won't find my reservations... ...  Negative\n",
       "4   Nov 2019 Unstable app! So many crashes. So har...  Negative\n",
       "5   Just go to the mobile website, this app sucks....  Negative\n",
       "6   Error - 1022 We can't search for flights, beca...  Negative\n",
       "7   Even if someone hires an app developer and pay...  Negative\n",
       "8   11/30/19 Update: This update caused a duplicat...  Negative\n",
       "9   OK... I upgraded the rating to 3 stars. To the...  Positive\n",
       "10  Often, it wont recognize my booking reference ...  Negative\n",
       "11  Forced to update, then wouldn't let me check i...  Negative\n",
       "12  Congratulations Air Canada. You managed to mak...  Negative\n",
       "13  I really like the previous interface. It was a...  Positive\n",
       "14  For the amount that Air Canada charges, you'd ...  Negative\n",
       "15  Terrible new version. I feel lost looking for ...  Negative\n",
       "16  App had Air Canada flight from LHR to YYZ as a...  Positive\n",
       "17  Since they moved to the new platform, the app ...  Positive\n",
       "18  This new version is almost unusable. The previ...  Negative\n",
       "19  Where is the Rouge player? What happened to th...  Negative\n",
       "20  This update was not the best. Everything is ha...  Negative\n",
       "21  Doesn't recognize reservation codes. Can't see...  Negative\n",
       "22  Doesn't work anymore Can't add trips, keeps sa...  Negative\n",
       "23  Horrible app, can't even login!!!and don't try...  Negative\n",
       "24  That did you do to the app? I just opened the ...  Positive\n",
       "25  Many options on the app, unfortunetly none is ...  Negative\n",
       "26  Have tried repeatedly to enter an existing tri...  Negative\n",
       "27  The new app seems to constantly lose my boardi...  Negative\n",
       "28  Great flight tracking, schedules and app only ...  Positive\n",
       "29  Just badly designed. App designers clearly are...  Negative\n",
       "30  It's nice to see this app keeps getting worked...  Negative\n",
       "31  New Air Canada app won't allow bookings to be ...  Negative\n",
       "32  Air Canada site under Google play is supposed ...  Positive\n",
       "33  Used to be ok. Now it's impossible to access m...  Negative\n",
       "34  Used this app the first time to check in and i...  Negative\n",
       "35  Jan.2nd still buggy. At times it refuses to op...  Negative\n",
       "36  What a terrible, terrible update. Where's the ...  Negative\n",
       "37  Horrible app since update....cant enter my aer...  Negative\n",
       "38  Useless app. If you want to do more than just ...  Negative\n",
       "39  The game is fun, runs smooth and looks great. ...  Positive\n",
       "40  Beautiful remake of the classic game! I absolu...  Positive\n",
       "41  This game is perfect It looks like a compact v...  Negative\n",
       "42  Great, but gets boring when all you can to do ...  Negative\n",
       "43  One fantastic adventure through years. It take...  Positive\n",
       "44  The game is beautiful and imaginative. Unfortu...  Positive\n",
       "45  Could be a good game, basically a dumbed-down ...  Negative\n",
       "46  I am a huge fan of Rayman and so long as you d...  Positive\n",
       "47  Ever since I was 4 (2013-ish), I have been the...  Negative\n",
       "48  Used to be a nice game, moved to a new phone a...  Negative\n",
       "49  love the game, a great version of rayman in a ...  Positive"
      ]
     },
     "execution_count": 46,
     "metadata": {},
     "output_type": "execute_result"
    }
   ],
   "source": [
    "rf_pred_result"
   ]
  },
  {
   "cell_type": "code",
   "execution_count": 47,
   "metadata": {
    "collapsed": true
   },
   "outputs": [
    {
     "name": "stdout",
     "output_type": "stream",
     "text": [
      "                                                Review Unnamed: 1\n",
      "0    Myself and 2 girls went to check in and realiz...        NaN\n",
      "1    OMG. I did it so on October 23 this was my ver...        NaN\n",
      "2    Once the flight attendant Kara and Jay found o...        NaN\n",
      "3    Our last 2 experiences with Delta have really ...        NaN\n",
      "4    Since 2009 I have flown to Philippines for per...        NaN\n",
      "..                                                 ...        ...\n",
      "201  Useless PoC. You can immediately tell it never...        NaN\n",
      "202  Don't log in as guest, as it may forget your b...        NaN\n",
      "203  This app just randomly loses your data, and cr...        NaN\n",
      "204        Boarding passes only show up half the time.        NaN\n",
      "205  i wish there was a button when youre on your w...        NaN\n",
      "\n",
      "[206 rows x 2 columns]\n"
     ]
    },
    {
     "name": "stderr",
     "output_type": "stream",
     "text": [
      "100%|██████████| 206/206 [00:00<00:00, 3149.71it/s]\n"
     ]
    }
   ],
   "source": [
    "#TestData Validation - ReviewsData_Fly Delta\n",
    "\n",
    "Delta_Test = pd.read_csv('ReviewsData_FlyDelta.csv')\n",
    "\n",
    "print (Delta_Test)\n",
    "\n",
    "#Data Pre-processing\n",
    "\n",
    "del_reviews = Delta_Test['Review'].values\n",
    "\n",
    "norm_del_reviews = pre_process_corpus(del_reviews)\n",
    "\n",
    "cv_delta = cv.transform(norm_del_reviews)\n",
    "\n",
    "#Prediction on Test Data\n",
    "\n",
    "lr_delta_predictions = lr.predict(cv_delta)\n",
    "\n"
   ]
  },
  {
   "cell_type": "code",
   "execution_count": 48,
   "metadata": {
    "collapsed": true
   },
   "outputs": [
    {
     "data": {
      "text/html": [
       "<div>\n",
       "<style scoped>\n",
       "    .dataframe tbody tr th:only-of-type {\n",
       "        vertical-align: middle;\n",
       "    }\n",
       "\n",
       "    .dataframe tbody tr th {\n",
       "        vertical-align: top;\n",
       "    }\n",
       "\n",
       "    .dataframe thead th {\n",
       "        text-align: right;\n",
       "    }\n",
       "</style>\n",
       "<table border=\"1\" class=\"dataframe\">\n",
       "  <thead>\n",
       "    <tr style=\"text-align: right;\">\n",
       "      <th></th>\n",
       "      <th>Sentiment</th>\n",
       "    </tr>\n",
       "  </thead>\n",
       "  <tbody>\n",
       "    <tr>\n",
       "      <td>0</td>\n",
       "      <td>Negative</td>\n",
       "    </tr>\n",
       "    <tr>\n",
       "      <td>1</td>\n",
       "      <td>Negative</td>\n",
       "    </tr>\n",
       "    <tr>\n",
       "      <td>2</td>\n",
       "      <td>Positive</td>\n",
       "    </tr>\n",
       "    <tr>\n",
       "      <td>3</td>\n",
       "      <td>Negative</td>\n",
       "    </tr>\n",
       "    <tr>\n",
       "      <td>4</td>\n",
       "      <td>Positive</td>\n",
       "    </tr>\n",
       "    <tr>\n",
       "      <td>...</td>\n",
       "      <td>...</td>\n",
       "    </tr>\n",
       "    <tr>\n",
       "      <td>201</td>\n",
       "      <td>Negative</td>\n",
       "    </tr>\n",
       "    <tr>\n",
       "      <td>202</td>\n",
       "      <td>Positive</td>\n",
       "    </tr>\n",
       "    <tr>\n",
       "      <td>203</td>\n",
       "      <td>Positive</td>\n",
       "    </tr>\n",
       "    <tr>\n",
       "      <td>204</td>\n",
       "      <td>Negative</td>\n",
       "    </tr>\n",
       "    <tr>\n",
       "      <td>205</td>\n",
       "      <td>Negative</td>\n",
       "    </tr>\n",
       "  </tbody>\n",
       "</table>\n",
       "<p>206 rows × 1 columns</p>\n",
       "</div>"
      ],
      "text/plain": [
       "    Sentiment\n",
       "0    Negative\n",
       "1    Negative\n",
       "2    Positive\n",
       "3    Negative\n",
       "4    Positive\n",
       "..        ...\n",
       "201  Negative\n",
       "202  Positive\n",
       "203  Positive\n",
       "204  Negative\n",
       "205  Negative\n",
       "\n",
       "[206 rows x 1 columns]"
      ]
     },
     "execution_count": 48,
     "metadata": {},
     "output_type": "execute_result"
    }
   ],
   "source": [
    "#print (lr_delta_predictions)\n",
    "\n",
    "lr_pred = pd.DataFrame(lr_delta_predictions,columns= [\"Sentiment\"])\n",
    "\n",
    "lr_pred"
   ]
  },
  {
   "cell_type": "code",
   "execution_count": 49,
   "metadata": {
    "collapsed": true
   },
   "outputs": [
    {
     "data": {
      "text/html": [
       "<div>\n",
       "<style scoped>\n",
       "    .dataframe tbody tr th:only-of-type {\n",
       "        vertical-align: middle;\n",
       "    }\n",
       "\n",
       "    .dataframe tbody tr th {\n",
       "        vertical-align: top;\n",
       "    }\n",
       "\n",
       "    .dataframe thead th {\n",
       "        text-align: right;\n",
       "    }\n",
       "</style>\n",
       "<table border=\"1\" class=\"dataframe\">\n",
       "  <thead>\n",
       "    <tr style=\"text-align: right;\">\n",
       "      <th></th>\n",
       "      <th>Review</th>\n",
       "      <th>Sentiment</th>\n",
       "    </tr>\n",
       "  </thead>\n",
       "  <tbody>\n",
       "    <tr>\n",
       "      <td>0</td>\n",
       "      <td>Myself and 2 girls went to check in and realiz...</td>\n",
       "      <td>Negative</td>\n",
       "    </tr>\n",
       "    <tr>\n",
       "      <td>1</td>\n",
       "      <td>OMG. I did it so on October 23 this was my ver...</td>\n",
       "      <td>Negative</td>\n",
       "    </tr>\n",
       "    <tr>\n",
       "      <td>2</td>\n",
       "      <td>Once the flight attendant Kara and Jay found o...</td>\n",
       "      <td>Positive</td>\n",
       "    </tr>\n",
       "    <tr>\n",
       "      <td>3</td>\n",
       "      <td>Our last 2 experiences with Delta have really ...</td>\n",
       "      <td>Negative</td>\n",
       "    </tr>\n",
       "    <tr>\n",
       "      <td>4</td>\n",
       "      <td>Since 2009 I have flown to Philippines for per...</td>\n",
       "      <td>Positive</td>\n",
       "    </tr>\n",
       "    <tr>\n",
       "      <td>...</td>\n",
       "      <td>...</td>\n",
       "      <td>...</td>\n",
       "    </tr>\n",
       "    <tr>\n",
       "      <td>201</td>\n",
       "      <td>Useless PoC. You can immediately tell it never...</td>\n",
       "      <td>Negative</td>\n",
       "    </tr>\n",
       "    <tr>\n",
       "      <td>202</td>\n",
       "      <td>Don't log in as guest, as it may forget your b...</td>\n",
       "      <td>Positive</td>\n",
       "    </tr>\n",
       "    <tr>\n",
       "      <td>203</td>\n",
       "      <td>This app just randomly loses your data, and cr...</td>\n",
       "      <td>Positive</td>\n",
       "    </tr>\n",
       "    <tr>\n",
       "      <td>204</td>\n",
       "      <td>Boarding passes only show up half the time.</td>\n",
       "      <td>Negative</td>\n",
       "    </tr>\n",
       "    <tr>\n",
       "      <td>205</td>\n",
       "      <td>i wish there was a button when youre on your w...</td>\n",
       "      <td>Negative</td>\n",
       "    </tr>\n",
       "  </tbody>\n",
       "</table>\n",
       "<p>206 rows × 2 columns</p>\n",
       "</div>"
      ],
      "text/plain": [
       "                                                Review Sentiment\n",
       "0    Myself and 2 girls went to check in and realiz...  Negative\n",
       "1    OMG. I did it so on October 23 this was my ver...  Negative\n",
       "2    Once the flight attendant Kara and Jay found o...  Positive\n",
       "3    Our last 2 experiences with Delta have really ...  Negative\n",
       "4    Since 2009 I have flown to Philippines for per...  Positive\n",
       "..                                                 ...       ...\n",
       "201  Useless PoC. You can immediately tell it never...  Negative\n",
       "202  Don't log in as guest, as it may forget your b...  Positive\n",
       "203  This app just randomly loses your data, and cr...  Positive\n",
       "204        Boarding passes only show up half the time.  Negative\n",
       "205  i wish there was a button when youre on your w...  Negative\n",
       "\n",
       "[206 rows x 2 columns]"
      ]
     },
     "execution_count": 49,
     "metadata": {},
     "output_type": "execute_result"
    }
   ],
   "source": [
    "df_pred_result = pd.concat([Delta_Test[[\"Review\"]],lr_pred] ,axis = 1)\n",
    "df_pred_result.to_csv('Lr_DeltaResult.csv',index = False)\n",
    "\n",
    "df_pred_result"
   ]
  },
  {
   "cell_type": "code",
   "execution_count": 50,
   "metadata": {},
   "outputs": [],
   "source": [
    "#Predict on Test Data\n",
    "\n",
    "rf_test_delta = rf.predict(cv_delta)\n",
    "\n",
    "rf_pred_delta = pd.DataFrame(rf_test_delta,columns= [\"Sentiment\"])\n",
    "\n",
    "rf_pred_delta = pd.concat([Delta_Test[[\"Review\"]],lr_pred] ,axis = 1)\n",
    "rf_pred_delta.to_csv('rf_deltaResult.csv',index = False)\n"
   ]
  },
  {
   "cell_type": "code",
   "execution_count": 51,
   "metadata": {
    "collapsed": true
   },
   "outputs": [
    {
     "data": {
      "text/html": [
       "<div>\n",
       "<style scoped>\n",
       "    .dataframe tbody tr th:only-of-type {\n",
       "        vertical-align: middle;\n",
       "    }\n",
       "\n",
       "    .dataframe tbody tr th {\n",
       "        vertical-align: top;\n",
       "    }\n",
       "\n",
       "    .dataframe thead th {\n",
       "        text-align: right;\n",
       "    }\n",
       "</style>\n",
       "<table border=\"1\" class=\"dataframe\">\n",
       "  <thead>\n",
       "    <tr style=\"text-align: right;\">\n",
       "      <th></th>\n",
       "      <th>Review</th>\n",
       "      <th>Sentiment</th>\n",
       "    </tr>\n",
       "  </thead>\n",
       "  <tbody>\n",
       "    <tr>\n",
       "      <td>0</td>\n",
       "      <td>Myself and 2 girls went to check in and realiz...</td>\n",
       "      <td>Negative</td>\n",
       "    </tr>\n",
       "    <tr>\n",
       "      <td>1</td>\n",
       "      <td>OMG. I did it so on October 23 this was my ver...</td>\n",
       "      <td>Negative</td>\n",
       "    </tr>\n",
       "    <tr>\n",
       "      <td>2</td>\n",
       "      <td>Once the flight attendant Kara and Jay found o...</td>\n",
       "      <td>Positive</td>\n",
       "    </tr>\n",
       "    <tr>\n",
       "      <td>3</td>\n",
       "      <td>Our last 2 experiences with Delta have really ...</td>\n",
       "      <td>Negative</td>\n",
       "    </tr>\n",
       "    <tr>\n",
       "      <td>4</td>\n",
       "      <td>Since 2009 I have flown to Philippines for per...</td>\n",
       "      <td>Positive</td>\n",
       "    </tr>\n",
       "    <tr>\n",
       "      <td>...</td>\n",
       "      <td>...</td>\n",
       "      <td>...</td>\n",
       "    </tr>\n",
       "    <tr>\n",
       "      <td>201</td>\n",
       "      <td>Useless PoC. You can immediately tell it never...</td>\n",
       "      <td>Negative</td>\n",
       "    </tr>\n",
       "    <tr>\n",
       "      <td>202</td>\n",
       "      <td>Don't log in as guest, as it may forget your b...</td>\n",
       "      <td>Positive</td>\n",
       "    </tr>\n",
       "    <tr>\n",
       "      <td>203</td>\n",
       "      <td>This app just randomly loses your data, and cr...</td>\n",
       "      <td>Positive</td>\n",
       "    </tr>\n",
       "    <tr>\n",
       "      <td>204</td>\n",
       "      <td>Boarding passes only show up half the time.</td>\n",
       "      <td>Negative</td>\n",
       "    </tr>\n",
       "    <tr>\n",
       "      <td>205</td>\n",
       "      <td>i wish there was a button when youre on your w...</td>\n",
       "      <td>Negative</td>\n",
       "    </tr>\n",
       "  </tbody>\n",
       "</table>\n",
       "<p>206 rows × 2 columns</p>\n",
       "</div>"
      ],
      "text/plain": [
       "                                                Review Sentiment\n",
       "0    Myself and 2 girls went to check in and realiz...  Negative\n",
       "1    OMG. I did it so on October 23 this was my ver...  Negative\n",
       "2    Once the flight attendant Kara and Jay found o...  Positive\n",
       "3    Our last 2 experiences with Delta have really ...  Negative\n",
       "4    Since 2009 I have flown to Philippines for per...  Positive\n",
       "..                                                 ...       ...\n",
       "201  Useless PoC. You can immediately tell it never...  Negative\n",
       "202  Don't log in as guest, as it may forget your b...  Positive\n",
       "203  This app just randomly loses your data, and cr...  Positive\n",
       "204        Boarding passes only show up half the time.  Negative\n",
       "205  i wish there was a button when youre on your w...  Negative\n",
       "\n",
       "[206 rows x 2 columns]"
      ]
     },
     "execution_count": 51,
     "metadata": {},
     "output_type": "execute_result"
    }
   ],
   "source": [
    "rf_pred_delta"
   ]
  },
  {
   "cell_type": "code",
   "execution_count": 52,
   "metadata": {
    "collapsed": true
   },
   "outputs": [
    {
     "name": "stdout",
     "output_type": "stream",
     "text": [
      "                                                Review\n",
      "0    Update : Now that the tech issues have been ad...\n",
      "1    Changing my rating since the problems are fixe...\n",
      "2    App worked pretty much as expected. Could have...\n",
      "3    Highly recommend when you travel with Air Cana...\n",
      "4    The app went from very useful to absolutely us...\n",
      "..                                                 ...\n",
      "195  the app will say it has no connection if it is...\n",
      "196  While waiting as a restuarant for my order, I ...\n",
      "197  I'm having issues recently. The error I get is...\n",
      "198  Some things work well. But the chekin process ...\n",
      "199  I am disappointed with this app! good thing i ...\n",
      "\n",
      "[200 rows x 1 columns]\n"
     ]
    },
    {
     "name": "stderr",
     "output_type": "stream",
     "text": [
      "100%|██████████| 200/200 [00:00<00:00, 2476.37it/s]\n"
     ]
    }
   ],
   "source": [
    "#TestData Validation - Aircanada\n",
    "\n",
    "AirC_Test = pd.read_csv('AirCanada2.csv', encoding = \"ISO-8859-1\")\n",
    "\n",
    "print (AirC_Test)\n",
    "\n",
    "#Data Pre-processing\n",
    "\n",
    "can_reviews = AirC_Test['Review'].values\n",
    "\n",
    "norm_can_reviews = pre_process_corpus(can_reviews)\n",
    "\n",
    "cv_airc = cv.transform(norm_can_reviews)\n",
    "\n",
    "#Prediction on Test Data\n",
    "\n",
    "lr_airc_predictions = lr.predict(cv_airc)"
   ]
  },
  {
   "cell_type": "code",
   "execution_count": 53,
   "metadata": {
    "collapsed": true
   },
   "outputs": [
    {
     "data": {
      "text/plain": [
       "array(['Positive', 'Positive', 'Positive', 'Positive', 'Positive',\n",
       "       'Positive', 'Positive', 'Positive', 'Positive', 'Positive',\n",
       "       'Positive', 'Positive', 'Positive', 'Positive', 'Positive',\n",
       "       'Positive', 'Positive', 'Positive', 'Positive', 'Positive',\n",
       "       'Positive', 'Positive', 'Positive', 'Positive', 'Positive',\n",
       "       'Positive', 'Positive', 'Positive', 'Positive', 'Positive',\n",
       "       'Positive', 'Positive', 'Positive', 'Positive', 'Positive',\n",
       "       'Positive', 'Positive', 'Positive', 'Positive', 'Positive',\n",
       "       'Positive', 'Positive', 'Positive', 'Positive', 'Positive',\n",
       "       'Positive', 'Positive', 'Positive', 'Positive', 'Positive',\n",
       "       'Positive', 'Positive', 'Positive', 'Positive', 'Positive',\n",
       "       'Positive', 'Positive', 'Positive', 'Positive', 'Positive',\n",
       "       'Positive', 'Positive', 'Positive', 'Positive', 'Positive',\n",
       "       'Positive', 'Positive', 'Positive', 'Positive', 'Positive',\n",
       "       'Positive', 'Positive', 'Positive', 'Positive', 'Positive',\n",
       "       'Positive', 'Positive', 'Positive', 'Positive', 'Positive',\n",
       "       'Positive', 'Positive', 'Positive', 'Positive', 'Positive',\n",
       "       'Positive', 'Positive', 'Positive', 'Positive', 'Positive',\n",
       "       'Positive', 'Positive', 'Positive', 'Positive', 'Positive',\n",
       "       'Positive', 'Positive', 'Positive', 'Positive', 'Positive',\n",
       "       'Positive', 'Positive', 'Positive', 'Positive', 'Positive',\n",
       "       'Positive', 'Positive', 'Positive', 'Positive', 'Positive',\n",
       "       'Positive', 'Positive', 'Positive', 'Positive', 'Positive',\n",
       "       'Positive', 'Positive', 'Positive', 'Positive', 'Positive',\n",
       "       'Positive', 'Positive', 'Positive', 'Positive', 'Positive',\n",
       "       'Positive', 'Negative', 'Negative', 'Negative', 'Negative',\n",
       "       'Negative', 'Negative', 'Negative', 'Negative', 'Negative',\n",
       "       'Negative', 'Negative', 'Negative', 'Negative', 'Negative',\n",
       "       'Negative', 'Negative', 'Negative', 'Negative', 'Negative',\n",
       "       'Negative', 'Negative', 'Negative', 'Negative', 'Negative',\n",
       "       'Negative', 'Negative', 'Negative', 'Negative', 'Negative',\n",
       "       'Negative', 'Negative', 'Negative', 'Negative', 'Negative',\n",
       "       'Negative', 'Negative', 'Negative', 'Negative', 'Negative',\n",
       "       'Negative', 'Negative', 'Negative', 'Negative', 'Negative',\n",
       "       'Negative', 'Negative', 'Negative', 'Negative', 'Negative',\n",
       "       'Negative', 'Negative', 'Negative', 'Negative', 'Negative',\n",
       "       'Negative', 'Negative', 'Negative', 'Negative', 'Negative',\n",
       "       'Negative', 'Negative', 'Negative', 'Negative', 'Negative',\n",
       "       'Negative', 'Negative', 'Negative', 'Negative', 'Negative',\n",
       "       'Negative', 'Negative', 'Negative', 'Negative', 'Negative'],\n",
       "      dtype=object)"
      ]
     },
     "execution_count": 53,
     "metadata": {},
     "output_type": "execute_result"
    }
   ],
   "source": [
    "lr_airc_predictions"
   ]
  },
  {
   "cell_type": "code",
   "execution_count": 54,
   "metadata": {
    "collapsed": true
   },
   "outputs": [
    {
     "data": {
      "text/html": [
       "<div>\n",
       "<style scoped>\n",
       "    .dataframe tbody tr th:only-of-type {\n",
       "        vertical-align: middle;\n",
       "    }\n",
       "\n",
       "    .dataframe tbody tr th {\n",
       "        vertical-align: top;\n",
       "    }\n",
       "\n",
       "    .dataframe thead th {\n",
       "        text-align: right;\n",
       "    }\n",
       "</style>\n",
       "<table border=\"1\" class=\"dataframe\">\n",
       "  <thead>\n",
       "    <tr style=\"text-align: right;\">\n",
       "      <th></th>\n",
       "      <th>Sentiment</th>\n",
       "    </tr>\n",
       "  </thead>\n",
       "  <tbody>\n",
       "    <tr>\n",
       "      <td>0</td>\n",
       "      <td>Positive</td>\n",
       "    </tr>\n",
       "    <tr>\n",
       "      <td>1</td>\n",
       "      <td>Positive</td>\n",
       "    </tr>\n",
       "    <tr>\n",
       "      <td>2</td>\n",
       "      <td>Positive</td>\n",
       "    </tr>\n",
       "    <tr>\n",
       "      <td>3</td>\n",
       "      <td>Positive</td>\n",
       "    </tr>\n",
       "    <tr>\n",
       "      <td>4</td>\n",
       "      <td>Positive</td>\n",
       "    </tr>\n",
       "    <tr>\n",
       "      <td>...</td>\n",
       "      <td>...</td>\n",
       "    </tr>\n",
       "    <tr>\n",
       "      <td>195</td>\n",
       "      <td>Negative</td>\n",
       "    </tr>\n",
       "    <tr>\n",
       "      <td>196</td>\n",
       "      <td>Negative</td>\n",
       "    </tr>\n",
       "    <tr>\n",
       "      <td>197</td>\n",
       "      <td>Negative</td>\n",
       "    </tr>\n",
       "    <tr>\n",
       "      <td>198</td>\n",
       "      <td>Negative</td>\n",
       "    </tr>\n",
       "    <tr>\n",
       "      <td>199</td>\n",
       "      <td>Negative</td>\n",
       "    </tr>\n",
       "  </tbody>\n",
       "</table>\n",
       "<p>200 rows × 1 columns</p>\n",
       "</div>"
      ],
      "text/plain": [
       "    Sentiment\n",
       "0    Positive\n",
       "1    Positive\n",
       "2    Positive\n",
       "3    Positive\n",
       "4    Positive\n",
       "..        ...\n",
       "195  Negative\n",
       "196  Negative\n",
       "197  Negative\n",
       "198  Negative\n",
       "199  Negative\n",
       "\n",
       "[200 rows x 1 columns]"
      ]
     },
     "execution_count": 54,
     "metadata": {},
     "output_type": "execute_result"
    }
   ],
   "source": [
    "lr_can_pred = pd.DataFrame(lr_airc_predictions,columns= [\"Sentiment\"])\n",
    "\n",
    "lr_can_pred"
   ]
  },
  {
   "cell_type": "code",
   "execution_count": 55,
   "metadata": {},
   "outputs": [],
   "source": [
    "lr_pred_airc = pd.concat([AirC_Test[[\"Review\"]],lr_can_pred] ,axis = 1)\n",
    "lr_pred_airc.to_csv('lr_canResult.csv',index = False)"
   ]
  },
  {
   "cell_type": "code",
   "execution_count": 56,
   "metadata": {},
   "outputs": [
    {
     "data": {
      "text/plain": [
       "Positive    126\n",
       "Negative     74\n",
       "Name: Sentiment, dtype: int64"
      ]
     },
     "execution_count": 56,
     "metadata": {},
     "output_type": "execute_result"
    }
   ],
   "source": [
    "lr_pred_airc['Sentiment'].value_counts()"
   ]
  },
  {
   "cell_type": "code",
   "execution_count": 57,
   "metadata": {},
   "outputs": [
    {
     "name": "stderr",
     "output_type": "stream",
     "text": [
      "100%|██████████| 55/55 [00:00<00:00, 1501.08it/s]\n"
     ]
    }
   ],
   "source": [
    "#TestData Validation - FlyDelta\n",
    "\n",
    "Del_Test = pd.read_csv('FlyDelta2.csv', encoding = \"ISO-8859-1\")\n",
    "\n",
    "Del_Test\n",
    "\n",
    "#print (Del_Test)\n",
    "\n",
    "#Data Pre-processing\n",
    "\n",
    "del1_reviews = Del_Test['Review'].values\n",
    "\n",
    "norm_del1_reviews = pre_process_corpus(del1_reviews)\n",
    "\n",
    "cv_delta1 = cv.transform(norm_del1_reviews)\n",
    "\n",
    "#Prediction on Test Data\n",
    "\n",
    "lr_del1_predictions = lr.predict(cv_delta1)"
   ]
  },
  {
   "cell_type": "code",
   "execution_count": 58,
   "metadata": {},
   "outputs": [],
   "source": [
    "lr_del1_pred = pd.DataFrame(lr_del1_predictions,columns= [\"Sentiment\"])\n"
   ]
  },
  {
   "cell_type": "code",
   "execution_count": 59,
   "metadata": {},
   "outputs": [],
   "source": [
    "lr_pred_del = pd.concat([Del_Test[[\"Review\"]],lr_del1_pred] ,axis = 1)"
   ]
  },
  {
   "cell_type": "code",
   "execution_count": 60,
   "metadata": {
    "collapsed": true
   },
   "outputs": [
    {
     "data": {
      "text/plain": [
       "Negative    37\n",
       "Positive    18\n",
       "Name: Sentiment, dtype: int64"
      ]
     },
     "execution_count": 60,
     "metadata": {},
     "output_type": "execute_result"
    }
   ],
   "source": [
    "lr_pred_del.to_csv('lr_delResult.csv',index = False)\n",
    "lr_pred_del['Sentiment'].value_counts()"
   ]
  },
  {
   "cell_type": "code",
   "execution_count": 61,
   "metadata": {},
   "outputs": [
    {
     "data": {
      "text/html": [
       "<div>\n",
       "<style scoped>\n",
       "    .dataframe tbody tr th:only-of-type {\n",
       "        vertical-align: middle;\n",
       "    }\n",
       "\n",
       "    .dataframe tbody tr th {\n",
       "        vertical-align: top;\n",
       "    }\n",
       "\n",
       "    .dataframe thead th {\n",
       "        text-align: right;\n",
       "    }\n",
       "</style>\n",
       "<table border=\"1\" class=\"dataframe\">\n",
       "  <thead>\n",
       "    <tr style=\"text-align: right;\">\n",
       "      <th></th>\n",
       "      <th>Review</th>\n",
       "      <th>Sentiment</th>\n",
       "    </tr>\n",
       "  </thead>\n",
       "  <tbody>\n",
       "    <tr>\n",
       "      <td>0</td>\n",
       "      <td>Works well most of the time. Would be better w...</td>\n",
       "      <td>Negative</td>\n",
       "    </tr>\n",
       "    <tr>\n",
       "      <td>1</td>\n",
       "      <td>Really cool app. Used it for my trip to and fr...</td>\n",
       "      <td>Negative</td>\n",
       "    </tr>\n",
       "    <tr>\n",
       "      <td>2</td>\n",
       "      <td>The app was great but the update often shows n...</td>\n",
       "      <td>Positive</td>\n",
       "    </tr>\n",
       "    <tr>\n",
       "      <td>3</td>\n",
       "      <td>Often flight info just disappears forcing to u...</td>\n",
       "      <td>Negative</td>\n",
       "    </tr>\n",
       "    <tr>\n",
       "      <td>4</td>\n",
       "      <td>Not bad does well with standard flights but on...</td>\n",
       "      <td>Positive</td>\n",
       "    </tr>\n",
       "    <tr>\n",
       "      <td>5</td>\n",
       "      <td>The app continues to get better! When will you...</td>\n",
       "      <td>Negative</td>\n",
       "    </tr>\n",
       "    <tr>\n",
       "      <td>6</td>\n",
       "      <td>The app continues to get better! When will you...</td>\n",
       "      <td>Negative</td>\n",
       "    </tr>\n",
       "    <tr>\n",
       "      <td>7</td>\n",
       "      <td>Could use some improvements but probably the b...</td>\n",
       "      <td>Positive</td>\n",
       "    </tr>\n",
       "    <tr>\n",
       "      <td>8</td>\n",
       "      <td>Latest update wouldn't open, uninstalled and r...</td>\n",
       "      <td>Positive</td>\n",
       "    </tr>\n",
       "    <tr>\n",
       "      <td>9</td>\n",
       "      <td>The app is okay and does its duty... **Navigat...</td>\n",
       "      <td>Positive</td>\n",
       "    </tr>\n",
       "    <tr>\n",
       "      <td>10</td>\n",
       "      <td>Easy user interface, accurate and timely updat...</td>\n",
       "      <td>Negative</td>\n",
       "    </tr>\n",
       "    <tr>\n",
       "      <td>11</td>\n",
       "      <td>If a companion is traveling in the same flight...</td>\n",
       "      <td>Negative</td>\n",
       "    </tr>\n",
       "    <tr>\n",
       "      <td>12</td>\n",
       "      <td>I generally like this app much more than other...</td>\n",
       "      <td>Negative</td>\n",
       "    </tr>\n",
       "    <tr>\n",
       "      <td>13</td>\n",
       "      <td>Great for expediting my travel experience. My ...</td>\n",
       "      <td>Negative</td>\n",
       "    </tr>\n",
       "    <tr>\n",
       "      <td>14</td>\n",
       "      <td>Won't let me print a paper bdg pass any more L...</td>\n",
       "      <td>Negative</td>\n",
       "    </tr>\n",
       "    <tr>\n",
       "      <td>15</td>\n",
       "      <td>Pretty accurate app, I'm pleased for now.</td>\n",
       "      <td>Positive</td>\n",
       "    </tr>\n",
       "    <tr>\n",
       "      <td>16</td>\n",
       "      <td>Pilots amazing what they do!!! My first time f...</td>\n",
       "      <td>Negative</td>\n",
       "    </tr>\n",
       "    <tr>\n",
       "      <td>17</td>\n",
       "      <td>This last trip had a delay due to weather. The...</td>\n",
       "      <td>Positive</td>\n",
       "    </tr>\n",
       "    <tr>\n",
       "      <td>18</td>\n",
       "      <td>It works almost entirely as it should, but one...</td>\n",
       "      <td>Positive</td>\n",
       "    </tr>\n",
       "    <tr>\n",
       "      <td>19</td>\n",
       "      <td>Missing one important thing. Users should be a...</td>\n",
       "      <td>Negative</td>\n",
       "    </tr>\n",
       "    <tr>\n",
       "      <td>20</td>\n",
       "      <td>I love the app but, it does not let you check ...</td>\n",
       "      <td>Positive</td>\n",
       "    </tr>\n",
       "    <tr>\n",
       "      <td>21</td>\n",
       "      <td>Overall a pretty decent app. Only issue is lat...</td>\n",
       "      <td>Negative</td>\n",
       "    </tr>\n",
       "    <tr>\n",
       "      <td>22</td>\n",
       "      <td>Once I'm logged in I should not need to enter ...</td>\n",
       "      <td>Negative</td>\n",
       "    </tr>\n",
       "    <tr>\n",
       "      <td>23</td>\n",
       "      <td>Should be able to use your regional upgrades a...</td>\n",
       "      <td>Positive</td>\n",
       "    </tr>\n",
       "    <tr>\n",
       "      <td>24</td>\n",
       "      <td>Not allowing me to check in thru the app</td>\n",
       "      <td>Negative</td>\n",
       "    </tr>\n",
       "    <tr>\n",
       "      <td>25</td>\n",
       "      <td>Overall great app. would give it 5 stars if I ...</td>\n",
       "      <td>Positive</td>\n",
       "    </tr>\n",
       "    <tr>\n",
       "      <td>26</td>\n",
       "      <td>sometimes a little wonky when boarding pass up...</td>\n",
       "      <td>Negative</td>\n",
       "    </tr>\n",
       "    <tr>\n",
       "      <td>27</td>\n",
       "      <td>gave me all of my flight information and kept ...</td>\n",
       "      <td>Positive</td>\n",
       "    </tr>\n",
       "    <tr>\n",
       "      <td>28</td>\n",
       "      <td>no pre-tsa identification on boarding pass is ...</td>\n",
       "      <td>Negative</td>\n",
       "    </tr>\n",
       "    <tr>\n",
       "      <td>29</td>\n",
       "      <td>I experienced great service while on flight......</td>\n",
       "      <td>Positive</td>\n",
       "    </tr>\n",
       "    <tr>\n",
       "      <td>30</td>\n",
       "      <td>easy to look up flight and seat availability. ...</td>\n",
       "      <td>Positive</td>\n",
       "    </tr>\n",
       "    <tr>\n",
       "      <td>31</td>\n",
       "      <td>I have the same general issues that most peopl...</td>\n",
       "      <td>Negative</td>\n",
       "    </tr>\n",
       "    <tr>\n",
       "      <td>32</td>\n",
       "      <td>Logged me out multiple times while at the airp...</td>\n",
       "      <td>Negative</td>\n",
       "    </tr>\n",
       "    <tr>\n",
       "      <td>33</td>\n",
       "      <td>The app used to work very well. Recently (sinc...</td>\n",
       "      <td>Negative</td>\n",
       "    </tr>\n",
       "    <tr>\n",
       "      <td>34</td>\n",
       "      <td>The app works for booking and getting flight i...</td>\n",
       "      <td>Negative</td>\n",
       "    </tr>\n",
       "    <tr>\n",
       "      <td>35</td>\n",
       "      <td>Poor for real needs. You think this apps main ...</td>\n",
       "      <td>Negative</td>\n",
       "    </tr>\n",
       "    <tr>\n",
       "      <td>36</td>\n",
       "      <td>Sheesh this app is frustrating. I use this app...</td>\n",
       "      <td>Negative</td>\n",
       "    </tr>\n",
       "    <tr>\n",
       "      <td>37</td>\n",
       "      <td>Nice when it works. But just doesn't load my b...</td>\n",
       "      <td>Negative</td>\n",
       "    </tr>\n",
       "    <tr>\n",
       "      <td>38</td>\n",
       "      <td>So the app deleted my flight info after I got ...</td>\n",
       "      <td>Negative</td>\n",
       "    </tr>\n",
       "    <tr>\n",
       "      <td>39</td>\n",
       "      <td>Decent app when it works. The check in functio...</td>\n",
       "      <td>Positive</td>\n",
       "    </tr>\n",
       "    <tr>\n",
       "      <td>40</td>\n",
       "      <td>Good app....when it works! I have already chec...</td>\n",
       "      <td>Negative</td>\n",
       "    </tr>\n",
       "    <tr>\n",
       "      <td>41</td>\n",
       "      <td>In fairness, I still can't judge accurately, b...</td>\n",
       "      <td>Negative</td>\n",
       "    </tr>\n",
       "    <tr>\n",
       "      <td>42</td>\n",
       "      <td>This app sucks, not only does it lack basic fe...</td>\n",
       "      <td>Positive</td>\n",
       "    </tr>\n",
       "    <tr>\n",
       "      <td>43</td>\n",
       "      <td>Keeps saying I hit my limit on password entrie...</td>\n",
       "      <td>Positive</td>\n",
       "    </tr>\n",
       "    <tr>\n",
       "      <td>44</td>\n",
       "      <td>Why does the app have to crash every time some...</td>\n",
       "      <td>Negative</td>\n",
       "    </tr>\n",
       "    <tr>\n",
       "      <td>45</td>\n",
       "      <td>When it works it's fine, but frequently loses ...</td>\n",
       "      <td>Negative</td>\n",
       "    </tr>\n",
       "    <tr>\n",
       "      <td>46</td>\n",
       "      <td>It has all the functions it should, but it is ...</td>\n",
       "      <td>Negative</td>\n",
       "    </tr>\n",
       "    <tr>\n",
       "      <td>47</td>\n",
       "      <td>Slow to update and receive data. I lose my boa...</td>\n",
       "      <td>Negative</td>\n",
       "    </tr>\n",
       "    <tr>\n",
       "      <td>48</td>\n",
       "      <td>My boarding pass vanished from the app multipl...</td>\n",
       "      <td>Negative</td>\n",
       "    </tr>\n",
       "    <tr>\n",
       "      <td>49</td>\n",
       "      <td>When it works, it's fine. Keep getting locked ...</td>\n",
       "      <td>Negative</td>\n",
       "    </tr>\n",
       "    <tr>\n",
       "      <td>50</td>\n",
       "      <td>Great when it works. When you change your pass...</td>\n",
       "      <td>Positive</td>\n",
       "    </tr>\n",
       "    <tr>\n",
       "      <td>51</td>\n",
       "      <td>The app of the year for technical difficulties...</td>\n",
       "      <td>Negative</td>\n",
       "    </tr>\n",
       "    <tr>\n",
       "      <td>52</td>\n",
       "      <td>Tracking map will not work when looking at fli...</td>\n",
       "      <td>Negative</td>\n",
       "    </tr>\n",
       "    <tr>\n",
       "      <td>53</td>\n",
       "      <td>Glitchy. Forces you to enter confirmation numb...</td>\n",
       "      <td>Negative</td>\n",
       "    </tr>\n",
       "    <tr>\n",
       "      <td>54</td>\n",
       "      <td>It never remembers my flights, and requires me...</td>\n",
       "      <td>Negative</td>\n",
       "    </tr>\n",
       "  </tbody>\n",
       "</table>\n",
       "</div>"
      ],
      "text/plain": [
       "                                               Review Sentiment\n",
       "0   Works well most of the time. Would be better w...  Negative\n",
       "1   Really cool app. Used it for my trip to and fr...  Negative\n",
       "2   The app was great but the update often shows n...  Positive\n",
       "3   Often flight info just disappears forcing to u...  Negative\n",
       "4   Not bad does well with standard flights but on...  Positive\n",
       "5   The app continues to get better! When will you...  Negative\n",
       "6   The app continues to get better! When will you...  Negative\n",
       "7   Could use some improvements but probably the b...  Positive\n",
       "8   Latest update wouldn't open, uninstalled and r...  Positive\n",
       "9   The app is okay and does its duty... **Navigat...  Positive\n",
       "10  Easy user interface, accurate and timely updat...  Negative\n",
       "11  If a companion is traveling in the same flight...  Negative\n",
       "12  I generally like this app much more than other...  Negative\n",
       "13  Great for expediting my travel experience. My ...  Negative\n",
       "14  Won't let me print a paper bdg pass any more L...  Negative\n",
       "15          Pretty accurate app, I'm pleased for now.  Positive\n",
       "16  Pilots amazing what they do!!! My first time f...  Negative\n",
       "17  This last trip had a delay due to weather. The...  Positive\n",
       "18  It works almost entirely as it should, but one...  Positive\n",
       "19  Missing one important thing. Users should be a...  Negative\n",
       "20  I love the app but, it does not let you check ...  Positive\n",
       "21  Overall a pretty decent app. Only issue is lat...  Negative\n",
       "22  Once I'm logged in I should not need to enter ...  Negative\n",
       "23  Should be able to use your regional upgrades a...  Positive\n",
       "24           Not allowing me to check in thru the app  Negative\n",
       "25  Overall great app. would give it 5 stars if I ...  Positive\n",
       "26  sometimes a little wonky when boarding pass up...  Negative\n",
       "27  gave me all of my flight information and kept ...  Positive\n",
       "28  no pre-tsa identification on boarding pass is ...  Negative\n",
       "29  I experienced great service while on flight......  Positive\n",
       "30  easy to look up flight and seat availability. ...  Positive\n",
       "31  I have the same general issues that most peopl...  Negative\n",
       "32  Logged me out multiple times while at the airp...  Negative\n",
       "33  The app used to work very well. Recently (sinc...  Negative\n",
       "34  The app works for booking and getting flight i...  Negative\n",
       "35  Poor for real needs. You think this apps main ...  Negative\n",
       "36  Sheesh this app is frustrating. I use this app...  Negative\n",
       "37  Nice when it works. But just doesn't load my b...  Negative\n",
       "38  So the app deleted my flight info after I got ...  Negative\n",
       "39  Decent app when it works. The check in functio...  Positive\n",
       "40  Good app....when it works! I have already chec...  Negative\n",
       "41  In fairness, I still can't judge accurately, b...  Negative\n",
       "42  This app sucks, not only does it lack basic fe...  Positive\n",
       "43  Keeps saying I hit my limit on password entrie...  Positive\n",
       "44  Why does the app have to crash every time some...  Negative\n",
       "45  When it works it's fine, but frequently loses ...  Negative\n",
       "46  It has all the functions it should, but it is ...  Negative\n",
       "47  Slow to update and receive data. I lose my boa...  Negative\n",
       "48  My boarding pass vanished from the app multipl...  Negative\n",
       "49  When it works, it's fine. Keep getting locked ...  Negative\n",
       "50  Great when it works. When you change your pass...  Positive\n",
       "51  The app of the year for technical difficulties...  Negative\n",
       "52  Tracking map will not work when looking at fli...  Negative\n",
       "53  Glitchy. Forces you to enter confirmation numb...  Negative\n",
       "54  It never remembers my flights, and requires me...  Negative"
      ]
     },
     "execution_count": 61,
     "metadata": {},
     "output_type": "execute_result"
    }
   ],
   "source": [
    "lr_pred_del"
   ]
  },
  {
   "cell_type": "code",
   "execution_count": 62,
   "metadata": {
    "collapsed": true
   },
   "outputs": [
    {
     "data": {
      "text/plain": [
       "Negative    50\n",
       "Positive     5\n",
       "Name: Sentiment, dtype: int64"
      ]
     },
     "execution_count": 62,
     "metadata": {},
     "output_type": "execute_result"
    }
   ],
   "source": [
    "#Predict on Test Data\n",
    "\n",
    "rf_test_del1 = rf.predict(cv_delta1)\n",
    "\n",
    "rf_pred_del1 = pd.DataFrame(rf_test_del1,columns= [\"Sentiment\"])\n",
    "\n",
    "rf_pred_delta1 = pd.concat([Del_Test[[\"Review\"]],rf_pred_del1] ,axis = 1)\n",
    "rf_pred_delta1.to_csv('rf_del1taResult.csv',index = False)\n",
    "rf_pred_delta1['Sentiment'].value_counts()"
   ]
  },
  {
   "cell_type": "code",
   "execution_count": 63,
   "metadata": {},
   "outputs": [],
   "source": [
    "\n",
    "from sklearn.feature_extraction.text import TfidfVectorizer"
   ]
  },
  {
   "cell_type": "code",
   "execution_count": 64,
   "metadata": {},
   "outputs": [],
   "source": [
    "# build TFIDF features on train reviews\n",
    "tv = TfidfVectorizer(use_idf=True, min_df=5, max_df=1.0, ngram_range=(1,2),\n",
    "                     sublinear_tf=True)\n",
    "tv_train_features = tv.fit_transform(norm_train_reviews)"
   ]
  },
  {
   "cell_type": "code",
   "execution_count": 65,
   "metadata": {},
   "outputs": [],
   "source": [
    "tv_test_features = tv.transform(norm_test_reviews)"
   ]
  },
  {
   "cell_type": "code",
   "execution_count": 66,
   "metadata": {},
   "outputs": [
    {
     "name": "stdout",
     "output_type": "stream",
     "text": [
      "TFIDF model:> Train features shape: (450, 925)  Test features shape: (335, 925)\n"
     ]
    }
   ],
   "source": [
    "print('TFIDF model:> Train features shape:', tv_train_features.shape, ' Test features shape:', tv_test_features.shape)"
   ]
  },
  {
   "cell_type": "code",
   "execution_count": 67,
   "metadata": {
    "collapsed": true
   },
   "outputs": [
    {
     "name": "stdout",
     "output_type": "stream",
     "text": [
      "              precision    recall  f1-score   support\n",
      "\n",
      "    Negative       0.93      0.99      0.96       297\n",
      "    Positive       0.84      0.42      0.56        38\n",
      "\n",
      "    accuracy                           0.93       335\n",
      "   macro avg       0.89      0.71      0.76       335\n",
      "weighted avg       0.92      0.93      0.91       335\n",
      "\n"
     ]
    },
    {
     "data": {
      "text/html": [
       "<div>\n",
       "<style scoped>\n",
       "    .dataframe tbody tr th:only-of-type {\n",
       "        vertical-align: middle;\n",
       "    }\n",
       "\n",
       "    .dataframe tbody tr th {\n",
       "        vertical-align: top;\n",
       "    }\n",
       "\n",
       "    .dataframe thead th {\n",
       "        text-align: right;\n",
       "    }\n",
       "</style>\n",
       "<table border=\"1\" class=\"dataframe\">\n",
       "  <thead>\n",
       "    <tr style=\"text-align: right;\">\n",
       "      <th></th>\n",
       "      <th>negative</th>\n",
       "      <th>positive</th>\n",
       "    </tr>\n",
       "  </thead>\n",
       "  <tbody>\n",
       "    <tr>\n",
       "      <td>negative</td>\n",
       "      <td>294</td>\n",
       "      <td>3</td>\n",
       "    </tr>\n",
       "    <tr>\n",
       "      <td>positive</td>\n",
       "      <td>22</td>\n",
       "      <td>16</td>\n",
       "    </tr>\n",
       "  </tbody>\n",
       "</table>\n",
       "</div>"
      ],
      "text/plain": [
       "          negative  positive\n",
       "negative       294         3\n",
       "positive        22        16"
      ]
     },
     "execution_count": 67,
     "metadata": {},
     "output_type": "execute_result"
    }
   ],
   "source": [
    "# Logistic Regression model on TF-IDF features\n",
    "\n",
    "# train model\n",
    "lr.fit(tv_train_features, train_sentiments)\n",
    "\n",
    "# predict on test data\n",
    "lr_tfidf_predictions = lr.predict(tv_test_features)\n",
    "\n",
    "labels = ['negative', 'positive']\n",
    "print(classification_report(test_sentiments, lr_tfidf_predictions))\n",
    "pd.DataFrame(confusion_matrix(test_sentiments, lr_tfidf_predictions), index=labels, columns=labels)"
   ]
  },
  {
   "cell_type": "code",
   "execution_count": 68,
   "metadata": {},
   "outputs": [],
   "source": [
    "tv_test_data = tv.transform(norm_reviews)"
   ]
  },
  {
   "cell_type": "code",
   "execution_count": 69,
   "metadata": {},
   "outputs": [],
   "source": [
    "lr_test_tfpred = lr.predict(tv_test_data)"
   ]
  },
  {
   "cell_type": "code",
   "execution_count": 70,
   "metadata": {
    "collapsed": true
   },
   "outputs": [
    {
     "data": {
      "text/plain": [
       "array(['Negative', 'Negative', 'Negative', 'Negative', 'Negative',\n",
       "       'Negative', 'Negative', 'Negative', 'Negative', 'Negative',\n",
       "       'Negative', 'Negative', 'Negative', 'Negative', 'Negative',\n",
       "       'Negative', 'Negative', 'Negative', 'Negative', 'Negative',\n",
       "       'Negative', 'Negative', 'Negative', 'Negative', 'Negative',\n",
       "       'Negative', 'Negative', 'Negative', 'Positive', 'Negative',\n",
       "       'Negative', 'Negative', 'Negative', 'Negative', 'Negative',\n",
       "       'Negative', 'Negative', 'Negative', 'Negative', 'Negative',\n",
       "       'Negative', 'Negative', 'Negative', 'Negative', 'Negative',\n",
       "       'Negative', 'Negative', 'Negative', 'Negative', 'Negative'],\n",
       "      dtype=object)"
      ]
     },
     "execution_count": 70,
     "metadata": {},
     "output_type": "execute_result"
    }
   ],
   "source": [
    "lr_test_tfpred"
   ]
  },
  {
   "cell_type": "code",
   "execution_count": 71,
   "metadata": {},
   "outputs": [],
   "source": [
    "test_tfpred = pd.DataFrame(lr_test_tfpred,columns= [\"Sentiment\"])\n",
    "tfpred_result = pd.concat([TestData[[\"Review\"]],test_tfpred] ,axis = 1)\n",
    "#pred_result.to_csv('PredictedResult.csv',index = False)"
   ]
  },
  {
   "cell_type": "code",
   "execution_count": 72,
   "metadata": {},
   "outputs": [
    {
     "data": {
      "text/plain": [
       "Negative    49\n",
       "Positive     1\n",
       "Name: Sentiment, dtype: int64"
      ]
     },
     "execution_count": 72,
     "metadata": {},
     "output_type": "execute_result"
    }
   ],
   "source": [
    "tfpred_result['Sentiment'].value_counts()"
   ]
  },
  {
   "cell_type": "code",
   "execution_count": 73,
   "metadata": {},
   "outputs": [],
   "source": [
    "# Gradientboost Classifier\n",
    "from sklearn.ensemble import GradientBoostingClassifier"
   ]
  },
  {
   "cell_type": "code",
   "execution_count": 74,
   "metadata": {
    "collapsed": true
   },
   "outputs": [
    {
     "data": {
      "text/plain": [
       "GradientBoostingClassifier(criterion='friedman_mse', init=None,\n",
       "                           learning_rate=0.05, loss='deviance', max_depth=1,\n",
       "                           max_features=None, max_leaf_nodes=None,\n",
       "                           min_impurity_decrease=0.0, min_impurity_split=None,\n",
       "                           min_samples_leaf=1, min_samples_split=2,\n",
       "                           min_weight_fraction_leaf=0.0, n_estimators=5000,\n",
       "                           n_iter_no_change=None, presort='auto',\n",
       "                           random_state=42, subsample=1.0, tol=0.0001,\n",
       "                           validation_fraction=0.1, verbose=0,\n",
       "                           warm_start=False)"
      ]
     },
     "execution_count": 74,
     "metadata": {},
     "output_type": "execute_result"
    }
   ],
   "source": [
    "gbc_fit = GradientBoostingClassifier(loss='deviance',learning_rate=0.05,n_estimators=5000,\n",
    "                                     min_samples_split=2,min_samples_leaf=1,max_depth=1,random_state=42 )\n",
    "gbc_fit.fit(cv_train_features, train_sentiments)"
   ]
  },
  {
   "cell_type": "code",
   "execution_count": 75,
   "metadata": {},
   "outputs": [],
   "source": [
    "# predict on splitted test data\n",
    "gbc_predictions = gbc_fit.predict(cv_test_features)"
   ]
  },
  {
   "cell_type": "code",
   "execution_count": 76,
   "metadata": {
    "collapsed": true
   },
   "outputs": [
    {
     "name": "stdout",
     "output_type": "stream",
     "text": [
      "              precision    recall  f1-score   support\n",
      "\n",
      "    Negative       0.96      0.94      0.95       297\n",
      "    Positive       0.61      0.71      0.66        38\n",
      "\n",
      "    accuracy                           0.92       335\n",
      "   macro avg       0.79      0.83      0.81       335\n",
      "weighted avg       0.92      0.92      0.92       335\n",
      "\n"
     ]
    },
    {
     "data": {
      "text/html": [
       "<div>\n",
       "<style scoped>\n",
       "    .dataframe tbody tr th:only-of-type {\n",
       "        vertical-align: middle;\n",
       "    }\n",
       "\n",
       "    .dataframe tbody tr th {\n",
       "        vertical-align: top;\n",
       "    }\n",
       "\n",
       "    .dataframe thead th {\n",
       "        text-align: right;\n",
       "    }\n",
       "</style>\n",
       "<table border=\"1\" class=\"dataframe\">\n",
       "  <thead>\n",
       "    <tr style=\"text-align: right;\">\n",
       "      <th></th>\n",
       "      <th>negative</th>\n",
       "      <th>positive</th>\n",
       "    </tr>\n",
       "  </thead>\n",
       "  <tbody>\n",
       "    <tr>\n",
       "      <td>negative</td>\n",
       "      <td>280</td>\n",
       "      <td>17</td>\n",
       "    </tr>\n",
       "    <tr>\n",
       "      <td>positive</td>\n",
       "      <td>11</td>\n",
       "      <td>27</td>\n",
       "    </tr>\n",
       "  </tbody>\n",
       "</table>\n",
       "</div>"
      ],
      "text/plain": [
       "          negative  positive\n",
       "negative       280        17\n",
       "positive        11        27"
      ]
     },
     "execution_count": 76,
     "metadata": {},
     "output_type": "execute_result"
    }
   ],
   "source": [
    "labels = ['negative', 'positive']\n",
    "print(classification_report(test_sentiments, gbc_predictions))\n",
    "pd.DataFrame(confusion_matrix(test_sentiments, gbc_predictions), index=labels, columns=labels)"
   ]
  },
  {
   "cell_type": "markdown",
   "metadata": {},
   "source": [
    "# XGBoost"
   ]
  },
  {
   "cell_type": "code",
   "execution_count": 77,
   "metadata": {},
   "outputs": [
    {
     "data": {
      "text/plain": [
       "XGBClassifier(base_score=0.5, booster=None, colsample_bylevel=1,\n",
       "              colsample_bynode=1, colsample_bytree=1, gamma=0, gpu_id=-1,\n",
       "              importance_type='gain', interaction_constraints=None,\n",
       "              learning_rate=0.05, max_delta_step=0, max_depth=2,\n",
       "              min_child_weight=1, missing=nan, monotone_constraints=None,\n",
       "              n_estimators=5000, n_jobs=0, num_parallel_tree=1,\n",
       "              objective='binary:logistic', random_state=0, reg_alpha=0,\n",
       "              reg_lambda=1, scale_pos_weight=1, subsample=1, tree_method=None,\n",
       "              validate_parameters=False, verbosity=None)"
      ]
     },
     "execution_count": 77,
     "metadata": {},
     "output_type": "execute_result"
    }
   ],
   "source": [
    "import xgboost as xgb\n",
    "\n",
    "xgb_fit = xgb.XGBClassifier(max_depth=2, n_estimators=5000, learning_rate=0.05)\n",
    "xgb_fit.fit(cv_train_features, train_sentiments)"
   ]
  },
  {
   "cell_type": "code",
   "execution_count": 78,
   "metadata": {},
   "outputs": [],
   "source": [
    "#conda install -c anaconda py-xgboost"
   ]
  },
  {
   "cell_type": "code",
   "execution_count": 79,
   "metadata": {},
   "outputs": [],
   "source": [
    "#pip install xgboost"
   ]
  },
  {
   "cell_type": "code",
   "execution_count": 82,
   "metadata": {},
   "outputs": [],
   "source": [
    "xgb_predictions = xgb_fit.predict(cv_test_features)"
   ]
  },
  {
   "cell_type": "code",
   "execution_count": 84,
   "metadata": {
    "collapsed": true
   },
   "outputs": [
    {
     "name": "stdout",
     "output_type": "stream",
     "text": [
      "              precision    recall  f1-score   support\n",
      "\n",
      "    Negative       0.96      0.91      0.93       297\n",
      "    Positive       0.50      0.68      0.58        38\n",
      "\n",
      "    accuracy                           0.89       335\n",
      "   macro avg       0.73      0.80      0.76       335\n",
      "weighted avg       0.91      0.89      0.89       335\n",
      "\n"
     ]
    },
    {
     "data": {
      "text/html": [
       "<div>\n",
       "<style scoped>\n",
       "    .dataframe tbody tr th:only-of-type {\n",
       "        vertical-align: middle;\n",
       "    }\n",
       "\n",
       "    .dataframe tbody tr th {\n",
       "        vertical-align: top;\n",
       "    }\n",
       "\n",
       "    .dataframe thead th {\n",
       "        text-align: right;\n",
       "    }\n",
       "</style>\n",
       "<table border=\"1\" class=\"dataframe\">\n",
       "  <thead>\n",
       "    <tr style=\"text-align: right;\">\n",
       "      <th></th>\n",
       "      <th>negative</th>\n",
       "      <th>positive</th>\n",
       "    </tr>\n",
       "  </thead>\n",
       "  <tbody>\n",
       "    <tr>\n",
       "      <td>negative</td>\n",
       "      <td>271</td>\n",
       "      <td>26</td>\n",
       "    </tr>\n",
       "    <tr>\n",
       "      <td>positive</td>\n",
       "      <td>12</td>\n",
       "      <td>26</td>\n",
       "    </tr>\n",
       "  </tbody>\n",
       "</table>\n",
       "</div>"
      ],
      "text/plain": [
       "          negative  positive\n",
       "negative       271        26\n",
       "positive        12        26"
      ]
     },
     "execution_count": 84,
     "metadata": {},
     "output_type": "execute_result"
    }
   ],
   "source": [
    "labels = ['negative', 'positive']\n",
    "print(classification_report(test_sentiments, xgb_predictions))\n",
    "pd.DataFrame(confusion_matrix(test_sentiments, xgb_predictions), index=labels, columns=labels)"
   ]
  },
  {
   "cell_type": "code",
   "execution_count": 85,
   "metadata": {},
   "outputs": [],
   "source": [
    "xgb_test_tfpred = xgb_fit.predict(tv_test_data)"
   ]
  },
  {
   "cell_type": "code",
   "execution_count": 86,
   "metadata": {},
   "outputs": [],
   "source": [
    "xgb_tfpred = pd.DataFrame(xgb_test_tfpred,columns= [\"Sentiment\"])\n",
    "tfpred_result = pd.concat([TestData[[\"Review\"]],xgb_tfpred] ,axis = 1)\n",
    "#pred_result.to_csv('PredictedResult.csv',index = False)"
   ]
  },
  {
   "cell_type": "code",
   "execution_count": 87,
   "metadata": {
    "collapsed": true
   },
   "outputs": [
    {
     "data": {
      "text/plain": [
       "Negative    41\n",
       "Positive     9\n",
       "Name: Sentiment, dtype: int64"
      ]
     },
     "execution_count": 87,
     "metadata": {},
     "output_type": "execute_result"
    }
   ],
   "source": [
    "tfpred_result['Sentiment'].value_counts()"
   ]
  },
  {
   "cell_type": "code",
   "execution_count": 89,
   "metadata": {},
   "outputs": [],
   "source": [
    "gbc_test_tfpred = gbc_fit.predict(tv_test_data)"
   ]
  },
  {
   "cell_type": "code",
   "execution_count": 90,
   "metadata": {},
   "outputs": [],
   "source": [
    "gbc_tfpred = pd.DataFrame(gbc_test_tfpred,columns= [\"Sentiment\"])\n",
    "gbc_tfpred_result = pd.concat([TestData[[\"Review\"]],gbc_tfpred] ,axis = 1)\n",
    "#pred_result.to_csv('PredictedResult.csv',index = False)"
   ]
  },
  {
   "cell_type": "code",
   "execution_count": 91,
   "metadata": {
    "collapsed": true
   },
   "outputs": [
    {
     "data": {
      "text/plain": [
       "Positive    50\n",
       "Name: Sentiment, dtype: int64"
      ]
     },
     "execution_count": 91,
     "metadata": {},
     "output_type": "execute_result"
    }
   ],
   "source": [
    "gbc_tfpred_result['Sentiment'].value_counts()"
   ]
  },
  {
   "cell_type": "code",
   "execution_count": null,
   "metadata": {},
   "outputs": [],
   "source": []
  },
  {
   "cell_type": "code",
   "execution_count": null,
   "metadata": {},
   "outputs": [],
   "source": []
  }
 ],
 "metadata": {
  "kernelspec": {
   "display_name": "Python 3",
   "language": "python",
   "name": "python3"
  },
  "language_info": {
   "codemirror_mode": {
    "name": "ipython",
    "version": 3
   },
   "file_extension": ".py",
   "mimetype": "text/x-python",
   "name": "python",
   "nbconvert_exporter": "python",
   "pygments_lexer": "ipython3",
   "version": "3.7.4"
  }
 },
 "nbformat": 4,
 "nbformat_minor": 2
}
