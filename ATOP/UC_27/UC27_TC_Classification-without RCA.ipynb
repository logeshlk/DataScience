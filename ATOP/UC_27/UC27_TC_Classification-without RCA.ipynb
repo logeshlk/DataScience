{
 "cells": [
  {
   "cell_type": "code",
   "execution_count": 1,
   "metadata": {},
   "outputs": [],
   "source": [
    "import pandas as pd\n",
    "import numpy as np"
   ]
  },
  {
   "cell_type": "markdown",
   "metadata": {},
   "source": [
    "# Load Data"
   ]
  },
  {
   "cell_type": "code",
   "execution_count": 2,
   "metadata": {},
   "outputs": [],
   "source": [
    "df=pd.read_csv('UC_Sample Data.csv',encoding = \"ISO-8859-1\")"
   ]
  },
  {
   "cell_type": "code",
   "execution_count": 3,
   "metadata": {
    "scrolled": true
   },
   "outputs": [
    {
     "data": {
      "text/html": [
       "<div>\n",
       "<style scoped>\n",
       "    .dataframe tbody tr th:only-of-type {\n",
       "        vertical-align: middle;\n",
       "    }\n",
       "\n",
       "    .dataframe tbody tr th {\n",
       "        vertical-align: top;\n",
       "    }\n",
       "\n",
       "    .dataframe thead th {\n",
       "        text-align: right;\n",
       "    }\n",
       "</style>\n",
       "<table border=\"1\" class=\"dataframe\">\n",
       "  <thead>\n",
       "    <tr style=\"text-align: right;\">\n",
       "      <th></th>\n",
       "      <th>Test Case ID</th>\n",
       "      <th>Test Run Id</th>\n",
       "      <th>Failed Steps</th>\n",
       "      <th>Exception Name</th>\n",
       "      <th>Execution Time for test step</th>\n",
       "      <th>Predecessor TestCase ID</th>\n",
       "      <th>Successor TestCase ID</th>\n",
       "      <th>RCA</th>\n",
       "      <th>Buckets Items</th>\n",
       "    </tr>\n",
       "  </thead>\n",
       "  <tbody>\n",
       "    <tr>\n",
       "      <td>0</td>\n",
       "      <td>457</td>\n",
       "      <td>122</td>\n",
       "      <td>5.10</td>\n",
       "      <td>TimeoutException</td>\n",
       "      <td>2019-07-10 17:16:22.324</td>\n",
       "      <td>NaN</td>\n",
       "      <td>457.0</td>\n",
       "      <td>Thrown when there is not enough time for a com...</td>\n",
       "      <td>Automation Issue</td>\n",
       "    </tr>\n",
       "    <tr>\n",
       "      <td>1</td>\n",
       "      <td>457</td>\n",
       "      <td>122</td>\n",
       "      <td>5.70</td>\n",
       "      <td>Verification Failed. Expected text: \"Manual Ha...</td>\n",
       "      <td>2019-07-10 17:16:22.532</td>\n",
       "      <td>457.0</td>\n",
       "      <td>457.0</td>\n",
       "      <td>This exception is due to accessing an element ...</td>\n",
       "      <td>Application Issue</td>\n",
       "    </tr>\n",
       "    <tr>\n",
       "      <td>2</td>\n",
       "      <td>457</td>\n",
       "      <td>122</td>\n",
       "      <td>5.80</td>\n",
       "      <td>Verification Failed. Expected value: \"Name:'da...</td>\n",
       "      <td>2019-07-10 17:16:22.622</td>\n",
       "      <td>457.0</td>\n",
       "      <td>457.0</td>\n",
       "      <td>This exception is due to accessing an element ...</td>\n",
       "      <td>Application Issue</td>\n",
       "    </tr>\n",
       "    <tr>\n",
       "      <td>3</td>\n",
       "      <td>457</td>\n",
       "      <td>122</td>\n",
       "      <td>5.90</td>\n",
       "      <td>Verification Failed. Expected text: \"Manual Ha...</td>\n",
       "      <td>2019-07-10 17:16:22.659</td>\n",
       "      <td>457.0</td>\n",
       "      <td>457.0</td>\n",
       "      <td>This exception is due to accessing an element ...</td>\n",
       "      <td>Automation Issue</td>\n",
       "    </tr>\n",
       "    <tr>\n",
       "      <td>4</td>\n",
       "      <td>457</td>\n",
       "      <td>122</td>\n",
       "      <td>6.10</td>\n",
       "      <td>TOO_MANY_ROWS Exception</td>\n",
       "      <td>2019-07-10 17:16:22.746</td>\n",
       "      <td>457.0</td>\n",
       "      <td>457.0</td>\n",
       "      <td>trying to SELECT or fetch more than one row in...</td>\n",
       "      <td>Data related Issue</td>\n",
       "    </tr>\n",
       "    <tr>\n",
       "      <td>...</td>\n",
       "      <td>...</td>\n",
       "      <td>...</td>\n",
       "      <td>...</td>\n",
       "      <td>...</td>\n",
       "      <td>...</td>\n",
       "      <td>...</td>\n",
       "      <td>...</td>\n",
       "      <td>...</td>\n",
       "      <td>...</td>\n",
       "    </tr>\n",
       "    <tr>\n",
       "      <td>245</td>\n",
       "      <td>341</td>\n",
       "      <td>122</td>\n",
       "      <td>10.11</td>\n",
       "      <td>Unable to find object with specified locator (...</td>\n",
       "      <td>2019-07-11 09:21:05.599</td>\n",
       "      <td>320.0</td>\n",
       "      <td>348.0</td>\n",
       "      <td>The Locator is not available</td>\n",
       "      <td>Automation Issue</td>\n",
       "    </tr>\n",
       "    <tr>\n",
       "      <td>246</td>\n",
       "      <td>348</td>\n",
       "      <td>122</td>\n",
       "      <td>10.11</td>\n",
       "      <td>UnableToCreateProfileException</td>\n",
       "      <td>2019-07-11 09:32:49.753</td>\n",
       "      <td>341.0</td>\n",
       "      <td>351.0</td>\n",
       "      <td>Can open a browser with certain options using ...</td>\n",
       "      <td>Automation Issue</td>\n",
       "    </tr>\n",
       "    <tr>\n",
       "      <td>247</td>\n",
       "      <td>351</td>\n",
       "      <td>122</td>\n",
       "      <td>3.60</td>\n",
       "      <td>Unable to find object with specified locator (...</td>\n",
       "      <td>2019-07-11 09:34:37.606</td>\n",
       "      <td>348.0</td>\n",
       "      <td>350.0</td>\n",
       "      <td>The Locator is not available</td>\n",
       "      <td>Automation Issue</td>\n",
       "    </tr>\n",
       "    <tr>\n",
       "      <td>248</td>\n",
       "      <td>350</td>\n",
       "      <td>122</td>\n",
       "      <td>10.11</td>\n",
       "      <td>InsecureCertificateException</td>\n",
       "      <td>2019-07-11 09:40:56.263</td>\n",
       "      <td>351.0</td>\n",
       "      <td>336.0</td>\n",
       "      <td>Navigation made the user agent to hit a certif...</td>\n",
       "      <td>Automation Issue</td>\n",
       "    </tr>\n",
       "    <tr>\n",
       "      <td>249</td>\n",
       "      <td>336</td>\n",
       "      <td>122</td>\n",
       "      <td>10.11</td>\n",
       "      <td>Unable to find object with specified locator (...</td>\n",
       "      <td>2019-07-11 10:21:28.107</td>\n",
       "      <td>350.0</td>\n",
       "      <td>NaN</td>\n",
       "      <td>The Locator is not available</td>\n",
       "      <td>Automation Issue</td>\n",
       "    </tr>\n",
       "  </tbody>\n",
       "</table>\n",
       "<p>250 rows × 9 columns</p>\n",
       "</div>"
      ],
      "text/plain": [
       "     Test Case ID  Test Run Id  Failed Steps  \\\n",
       "0             457          122          5.10   \n",
       "1             457          122          5.70   \n",
       "2             457          122          5.80   \n",
       "3             457          122          5.90   \n",
       "4             457          122          6.10   \n",
       "..            ...          ...           ...   \n",
       "245           341          122         10.11   \n",
       "246           348          122         10.11   \n",
       "247           351          122          3.60   \n",
       "248           350          122         10.11   \n",
       "249           336          122         10.11   \n",
       "\n",
       "                                        Exception Name  \\\n",
       "0                                     TimeoutException   \n",
       "1    Verification Failed. Expected text: \"Manual Ha...   \n",
       "2    Verification Failed. Expected value: \"Name:'da...   \n",
       "3    Verification Failed. Expected text: \"Manual Ha...   \n",
       "4                              TOO_MANY_ROWS Exception   \n",
       "..                                                 ...   \n",
       "245  Unable to find object with specified locator (...   \n",
       "246                     UnableToCreateProfileException   \n",
       "247  Unable to find object with specified locator (...   \n",
       "248                       InsecureCertificateException   \n",
       "249  Unable to find object with specified locator (...   \n",
       "\n",
       "    Execution Time for test step  Predecessor TestCase ID  \\\n",
       "0        2019-07-10 17:16:22.324                      NaN   \n",
       "1        2019-07-10 17:16:22.532                    457.0   \n",
       "2        2019-07-10 17:16:22.622                    457.0   \n",
       "3        2019-07-10 17:16:22.659                    457.0   \n",
       "4        2019-07-10 17:16:22.746                    457.0   \n",
       "..                           ...                      ...   \n",
       "245      2019-07-11 09:21:05.599                    320.0   \n",
       "246      2019-07-11 09:32:49.753                    341.0   \n",
       "247      2019-07-11 09:34:37.606                    348.0   \n",
       "248      2019-07-11 09:40:56.263                    351.0   \n",
       "249      2019-07-11 10:21:28.107                    350.0   \n",
       "\n",
       "     Successor TestCase ID                                                RCA  \\\n",
       "0                    457.0  Thrown when there is not enough time for a com...   \n",
       "1                    457.0  This exception is due to accessing an element ...   \n",
       "2                    457.0  This exception is due to accessing an element ...   \n",
       "3                    457.0  This exception is due to accessing an element ...   \n",
       "4                    457.0  trying to SELECT or fetch more than one row in...   \n",
       "..                     ...                                                ...   \n",
       "245                  348.0                       The Locator is not available   \n",
       "246                  351.0  Can open a browser with certain options using ...   \n",
       "247                  350.0                       The Locator is not available   \n",
       "248                  336.0  Navigation made the user agent to hit a certif...   \n",
       "249                    NaN                       The Locator is not available   \n",
       "\n",
       "          Buckets Items  \n",
       "0      Automation Issue  \n",
       "1     Application Issue  \n",
       "2     Application Issue  \n",
       "3      Automation Issue  \n",
       "4    Data related Issue  \n",
       "..                  ...  \n",
       "245    Automation Issue  \n",
       "246    Automation Issue  \n",
       "247    Automation Issue  \n",
       "248    Automation Issue  \n",
       "249    Automation Issue  \n",
       "\n",
       "[250 rows x 9 columns]"
      ]
     },
     "execution_count": 3,
     "metadata": {},
     "output_type": "execute_result"
    }
   ],
   "source": [
    "df"
   ]
  },
  {
   "cell_type": "markdown",
   "metadata": {},
   "source": [
    "# EDA"
   ]
  },
  {
   "cell_type": "code",
   "execution_count": 5,
   "metadata": {},
   "outputs": [
    {
     "data": {
      "text/plain": [
       "[Text(0, 0, 'Automation Issue'),\n",
       " Text(0, 0, 'Application Issue'),\n",
       " Text(0, 0, 'Data related Issue'),\n",
       " Text(0, 0, 'Timing Exception'),\n",
       " Text(0, 0, 'Infrastrature Issue'),\n",
       " Text(0, 0, 'Timing Issue'),\n",
       " Text(0, 0, 'Latency related issue'),\n",
       " Text(0, 0, 'Environment Issue')]"
      ]
     },
     "execution_count": 5,
     "metadata": {},
     "output_type": "execute_result"
    },
    {
     "data": {
      "image/png": "[encoded data removed]",
      "text/plain": [
       "<Figure size 432x288 with 1 Axes>"
      ]
     },
     "metadata": {
      "needs_background": "light"
     },
     "output_type": "display_data"
    }
   ],
   "source": [
    "import seaborn as sns\n",
    "import matplotlib.pyplot as plt\n",
    "\n",
    "#plt.figure(figsize=(10,5))\n",
    "\n",
    "chart = sns.countplot(\n",
    "    data=df,\n",
    "    x='Buckets Items',\n",
    "    palette='Set1'\n",
    ")\n",
    "chart.set_xticklabels(chart.get_xticklabels(), rotation=45, horizontalalignment='right')\n",
    "\n",
    "#chart = sns.countplot(data=df3, x='RCA', palette='Set1')\n",
    "\n",
    "#chart.set_xticklabels(chart.get_xticklabels(), rotation=45, horizontalalignment='right')"
   ]
  },
  {
   "cell_type": "code",
   "execution_count": 6,
   "metadata": {},
   "outputs": [
    {
     "data": {
      "text/plain": [
       "Automation Issue         170\n",
       "Data related Issue        24\n",
       "Application Issue         22\n",
       "Infrastrature Issue       13\n",
       "Timing Issue              12\n",
       "Environment Issue          6\n",
       "Latency related issue      2\n",
       "Timing Exception           1\n",
       "Name: Buckets Items, dtype: int64"
      ]
     },
     "execution_count": 6,
     "metadata": {},
     "output_type": "execute_result"
    }
   ],
   "source": [
    "df['Buckets Items'].value_counts()"
   ]
  },
  {
   "cell_type": "code",
   "execution_count": 7,
   "metadata": {},
   "outputs": [
    {
     "data": {
      "text/plain": [
       "0"
      ]
     },
     "execution_count": 7,
     "metadata": {},
     "output_type": "execute_result"
    }
   ],
   "source": [
    "df['Buckets Items'].isna().sum()"
   ]
  },
  {
   "cell_type": "code",
   "execution_count": 8,
   "metadata": {},
   "outputs": [],
   "source": [
    "df['Buckets Items'].replace({\"Environment Issue\": \"Application Issue\",\"Timing Exception\": \"Application Issue\", \"Infrastrature Issue\": \"Data related Issue\",\n",
    "                     'Timing Issue' : 'Data related Issue', 'Latency related issue' : 'Application Issue' }, inplace=True)"
   ]
  },
  {
   "cell_type": "code",
   "execution_count": 8,
   "metadata": {},
   "outputs": [
    {
     "data": {
      "text/plain": [
       "Automation Issue      170\n",
       "Data related Issue     49\n",
       "Application Issue      31\n",
       "Name: Buckets Items, dtype: int64"
      ]
     },
     "execution_count": 8,
     "metadata": {},
     "output_type": "execute_result"
    }
   ],
   "source": [
    "df['Buckets Items'].value_counts()"
   ]
  },
  {
   "cell_type": "code",
   "execution_count": 9,
   "metadata": {},
   "outputs": [
    {
     "data": {
      "text/plain": [
       "[Text(0, 0, 'Automation Issue'),\n",
       " Text(0, 0, 'Application Issue'),\n",
       " Text(0, 0, 'Data related Issue')]"
      ]
     },
     "execution_count": 9,
     "metadata": {},
     "output_type": "execute_result"
    },
    {
     "data": {
      "image/png": "[encoded data removed]",
      "text/plain": [
       "<Figure size 432x288 with 1 Axes>"
      ]
     },
     "metadata": {
      "needs_background": "light"
     },
     "output_type": "display_data"
    }
   ],
   "source": [
    "import seaborn as sns\n",
    "import matplotlib.pyplot as plt\n",
    "\n",
    "#plt.figure(figsize=(10,5))\n",
    "\n",
    "chart = sns.countplot(\n",
    "    data=df,\n",
    "    x='Buckets Items',\n",
    "    palette='Set1'\n",
    ")\n",
    "chart.set_xticklabels(chart.get_xticklabels(), rotation=45, horizontalalignment='right')"
   ]
  },
  {
   "cell_type": "code",
   "execution_count": 10,
   "metadata": {},
   "outputs": [
    {
     "data": {
      "text/plain": [
       "1"
      ]
     },
     "execution_count": 10,
     "metadata": {},
     "output_type": "execute_result"
    }
   ],
   "source": [
    "df['Predecessor TestCase ID'].isna().sum()"
   ]
  },
  {
   "cell_type": "code",
   "execution_count": 11,
   "metadata": {},
   "outputs": [],
   "source": [
    "df['Predecessor TestCase ID'].fillna(0, inplace=True)"
   ]
  },
  {
   "cell_type": "code",
   "execution_count": 12,
   "metadata": {},
   "outputs": [
    {
     "data": {
      "text/plain": [
       "1"
      ]
     },
     "execution_count": 12,
     "metadata": {},
     "output_type": "execute_result"
    }
   ],
   "source": [
    "df['Successor TestCase ID'].isna().sum()"
   ]
  },
  {
   "cell_type": "code",
   "execution_count": 13,
   "metadata": {},
   "outputs": [],
   "source": [
    "df['Successor TestCase ID'].fillna(0, inplace=True)"
   ]
  },
  {
   "cell_type": "markdown",
   "metadata": {},
   "source": [
    "# Preprocessing"
   ]
  },
  {
   "cell_type": "code",
   "execution_count": 14,
   "metadata": {
    "scrolled": false
   },
   "outputs": [],
   "source": [
    "#Update_date=[]\n",
    "#for date in df['Step update date']:\n",
    "#    period = pd.Period(date, freq='D')\n",
    "#    Update_date.append(period.dayofyear)\n",
    "\n",
    "#df['Step update date']=Update_date"
   ]
  },
  {
   "cell_type": "code",
   "execution_count": 15,
   "metadata": {},
   "outputs": [],
   "source": [
    "import datetime as dt"
   ]
  },
  {
   "cell_type": "code",
   "execution_count": 16,
   "metadata": {},
   "outputs": [],
   "source": [
    "#Converting the field type into Date and Time\n",
    "\n",
    "df['Execution Time'] = pd.to_datetime(df['Execution Time for test step'])"
   ]
  },
  {
   "cell_type": "code",
   "execution_count": 17,
   "metadata": {},
   "outputs": [
    {
     "data": {
      "text/plain": [
       "0    17\n",
       "1    17\n",
       "2    17\n",
       "3    17\n",
       "4    17\n",
       "Name: Execution Time, dtype: int64"
      ]
     },
     "execution_count": 17,
     "metadata": {},
     "output_type": "execute_result"
    }
   ],
   "source": [
    "df['Execution Time'].dt.hour.head()"
   ]
  },
  {
   "cell_type": "code",
   "execution_count": 18,
   "metadata": {
    "scrolled": true
   },
   "outputs": [],
   "source": [
    "#df['exe_day'] = df['Execution Time'].dt.dayofyear"
   ]
  },
  {
   "cell_type": "code",
   "execution_count": 19,
   "metadata": {},
   "outputs": [],
   "source": [
    "#df['exe_month'] = df['Execution Time'].dt.month"
   ]
  },
  {
   "cell_type": "code",
   "execution_count": 20,
   "metadata": {},
   "outputs": [],
   "source": [
    "df['exe_hour'] = df['Execution Time'].dt.hour"
   ]
  },
  {
   "cell_type": "code",
   "execution_count": 21,
   "metadata": {},
   "outputs": [],
   "source": [
    "df['exe_min'] = df['Execution Time'].dt.minute"
   ]
  },
  {
   "cell_type": "code",
   "execution_count": 22,
   "metadata": {},
   "outputs": [],
   "source": [
    "df['exe_sec'] = df['Execution Time'].dt.second"
   ]
  },
  {
   "cell_type": "code",
   "execution_count": 23,
   "metadata": {
    "scrolled": true
   },
   "outputs": [],
   "source": [
    "df.drop(columns = {'Execution Time for test step','Execution Time','RCA'}, inplace=True)"
   ]
  },
  {
   "cell_type": "markdown",
   "metadata": {},
   "source": [
    "# Text Wrangling and Normalization"
   ]
  },
  {
   "cell_type": "code",
   "execution_count": 24,
   "metadata": {},
   "outputs": [],
   "source": [
    "from bs4 import BeautifulSoup\n",
    "import re\n",
    "import tqdm\n",
    "import unicodedata"
   ]
  },
  {
   "cell_type": "code",
   "execution_count": 25,
   "metadata": {},
   "outputs": [],
   "source": [
    "#function defined to remove html tags from data\n",
    "\n",
    "def strip_html_tags(text):\n",
    "  soup = BeautifulSoup(text, \"html.parser\")\n",
    "  [s.extract() for s in soup(['iframe', 'script'])]\n",
    "  stripped_text = soup.get_text()\n",
    "  stripped_text = re.sub(r'[\\r|\\n|\\r\\n]+', '\\n', stripped_text)\n",
    "  return stripped_text"
   ]
  },
  {
   "cell_type": "code",
   "execution_count": 26,
   "metadata": {},
   "outputs": [],
   "source": [
    "#function defined to remove unicode data\n",
    "\n",
    "def remove_accented_chars(text):\n",
    "  text = unicodedata.normalize('NFKD', text).encode('ascii', 'ignore').decode('utf-8', 'ignore')\n",
    "  return text"
   ]
  },
  {
   "cell_type": "code",
   "execution_count": 27,
   "metadata": {},
   "outputs": [],
   "source": [
    "# lower case and remove special characters\\whitespaces\n",
    "\n",
    "def pre_process_corpus(docs):\n",
    "  norm_docs = []\n",
    "  for doc in tqdm.tqdm(docs):\n",
    "    doc = strip_html_tags(doc)\n",
    "    doc = doc.translate(doc.maketrans(\"\\n\\t\\r\", \"   \"))\n",
    "    doc = doc.lower()\n",
    "    doc = remove_accented_chars(doc)\n",
    "    #doc = contractions.fix(doc)\n",
    "    # lower case and remove special characters\\whitespaces\n",
    "    doc = re.sub(r'[^a-zA-Z0-9\\s]', '', doc, re.I|re.A)\n",
    "    doc = re.sub(' +', ' ', doc)\n",
    "    doc = doc.strip()\n",
    "    doc=re.sub('[0-9]', '', doc)\n",
    "    norm_docs.append(doc)\n",
    "  \n",
    "  return norm_docs"
   ]
  },
  {
   "cell_type": "code",
   "execution_count": 28,
   "metadata": {},
   "outputs": [
    {
     "data": {
      "text/plain": [
       "Test Case ID                 int64\n",
       "Test Run Id                  int64\n",
       "Failed Steps               float64\n",
       "Exception Name              object\n",
       "Predecessor TestCase ID    float64\n",
       "Successor TestCase ID      float64\n",
       "Buckets Items               object\n",
       "exe_hour                     int64\n",
       "exe_min                      int64\n",
       "exe_sec                      int64\n",
       "dtype: object"
      ]
     },
     "execution_count": 28,
     "metadata": {},
     "output_type": "execute_result"
    }
   ],
   "source": [
    "df.dtypes"
   ]
  },
  {
   "cell_type": "code",
   "execution_count": 29,
   "metadata": {},
   "outputs": [],
   "source": [
    "df['Exception Name'] = df['Exception Name'].astype('str')"
   ]
  },
  {
   "cell_type": "code",
   "execution_count": 30,
   "metadata": {},
   "outputs": [
    {
     "name": "stderr",
     "output_type": "stream",
     "text": [
      "100%|██████████| 250/250 [00:00<00:00, 4769.85it/s]\n"
     ]
    }
   ],
   "source": [
    "#Data_Preprocessing\n",
    "\n",
    "norm_df_exception = pre_process_corpus(df['Exception Name'])"
   ]
  },
  {
   "cell_type": "code",
   "execution_count": 31,
   "metadata": {
    "scrolled": true
   },
   "outputs": [
    {
     "data": {
      "text/plain": [
       "'timeoutexception'"
      ]
     },
     "execution_count": 31,
     "metadata": {},
     "output_type": "execute_result"
    }
   ],
   "source": [
    "norm_df_exception[0]"
   ]
  },
  {
   "cell_type": "markdown",
   "metadata": {},
   "source": [
    "# CountVector Conversion"
   ]
  },
  {
   "cell_type": "code",
   "execution_count": 32,
   "metadata": {},
   "outputs": [],
   "source": [
    "from sklearn.feature_extraction.text import CountVectorizer\n",
    "\n",
    "cv = CountVectorizer(ngram_range=(1, 1), min_df=0.001, max_df=0.99)\n",
    "cv_exception_matrix = cv.fit_transform(norm_df_exception)\n",
    "cv_exception_matrix=cv_exception_matrix.toarray()"
   ]
  },
  {
   "cell_type": "code",
   "execution_count": 33,
   "metadata": {},
   "outputs": [],
   "source": [
    "\n",
    "# get all unique words in the corpus\n",
    "vocab = cv.get_feature_names()\n",
    "# show document feature vectors\n",
    "data2=pd.DataFrame(cv_exception_matrix, columns=vocab)"
   ]
  },
  {
   "cell_type": "code",
   "execution_count": 34,
   "metadata": {},
   "outputs": [
    {
     "data": {
      "text/html": [
       "<div>\n",
       "<style scoped>\n",
       "    .dataframe tbody tr th:only-of-type {\n",
       "        vertical-align: middle;\n",
       "    }\n",
       "\n",
       "    .dataframe tbody tr th {\n",
       "        vertical-align: top;\n",
       "    }\n",
       "\n",
       "    .dataframe thead th {\n",
       "        text-align: right;\n",
       "    }\n",
       "</style>\n",
       "<table border=\"1\" class=\"dataframe\">\n",
       "  <thead>\n",
       "    <tr style=\"text-align: right;\">\n",
       "      <th></th>\n",
       "      <th>acceptinsecurecerts</th>\n",
       "      <th>acceptsslcerts</th>\n",
       "      <th>accessible</th>\n",
       "      <th>add</th>\n",
       "      <th>airthematic</th>\n",
       "      <th>allow</th>\n",
       "      <th>amd</th>\n",
       "      <th>and</th>\n",
       "      <th>applicationcacheenabled</th>\n",
       "      <th>appropriate</th>\n",
       "      <th>...</th>\n",
       "      <th>web</th>\n",
       "      <th>webapplicationexceptionstring</th>\n",
       "      <th>webdriverexception</th>\n",
       "      <th>webstorageenabled</th>\n",
       "      <th>wedwsvmtxadu</th>\n",
       "      <th>while</th>\n",
       "      <th>windows</th>\n",
       "      <th>with</th>\n",
       "      <th>xp</th>\n",
       "      <th>xpathnamecustomer</th>\n",
       "    </tr>\n",
       "  </thead>\n",
       "  <tbody>\n",
       "    <tr>\n",
       "      <td>0</td>\n",
       "      <td>0</td>\n",
       "      <td>0</td>\n",
       "      <td>0</td>\n",
       "      <td>0</td>\n",
       "      <td>0</td>\n",
       "      <td>0</td>\n",
       "      <td>0</td>\n",
       "      <td>0</td>\n",
       "      <td>0</td>\n",
       "      <td>0</td>\n",
       "      <td>...</td>\n",
       "      <td>0</td>\n",
       "      <td>0</td>\n",
       "      <td>0</td>\n",
       "      <td>0</td>\n",
       "      <td>0</td>\n",
       "      <td>0</td>\n",
       "      <td>0</td>\n",
       "      <td>0</td>\n",
       "      <td>0</td>\n",
       "      <td>0</td>\n",
       "    </tr>\n",
       "    <tr>\n",
       "      <td>1</td>\n",
       "      <td>0</td>\n",
       "      <td>0</td>\n",
       "      <td>0</td>\n",
       "      <td>0</td>\n",
       "      <td>0</td>\n",
       "      <td>0</td>\n",
       "      <td>0</td>\n",
       "      <td>0</td>\n",
       "      <td>0</td>\n",
       "      <td>0</td>\n",
       "      <td>...</td>\n",
       "      <td>0</td>\n",
       "      <td>0</td>\n",
       "      <td>0</td>\n",
       "      <td>0</td>\n",
       "      <td>0</td>\n",
       "      <td>0</td>\n",
       "      <td>0</td>\n",
       "      <td>0</td>\n",
       "      <td>0</td>\n",
       "      <td>0</td>\n",
       "    </tr>\n",
       "    <tr>\n",
       "      <td>2</td>\n",
       "      <td>0</td>\n",
       "      <td>0</td>\n",
       "      <td>0</td>\n",
       "      <td>0</td>\n",
       "      <td>0</td>\n",
       "      <td>0</td>\n",
       "      <td>0</td>\n",
       "      <td>0</td>\n",
       "      <td>0</td>\n",
       "      <td>0</td>\n",
       "      <td>...</td>\n",
       "      <td>0</td>\n",
       "      <td>0</td>\n",
       "      <td>0</td>\n",
       "      <td>0</td>\n",
       "      <td>0</td>\n",
       "      <td>0</td>\n",
       "      <td>0</td>\n",
       "      <td>0</td>\n",
       "      <td>0</td>\n",
       "      <td>0</td>\n",
       "    </tr>\n",
       "    <tr>\n",
       "      <td>3</td>\n",
       "      <td>0</td>\n",
       "      <td>0</td>\n",
       "      <td>0</td>\n",
       "      <td>0</td>\n",
       "      <td>0</td>\n",
       "      <td>0</td>\n",
       "      <td>0</td>\n",
       "      <td>0</td>\n",
       "      <td>0</td>\n",
       "      <td>0</td>\n",
       "      <td>...</td>\n",
       "      <td>0</td>\n",
       "      <td>0</td>\n",
       "      <td>0</td>\n",
       "      <td>0</td>\n",
       "      <td>0</td>\n",
       "      <td>0</td>\n",
       "      <td>0</td>\n",
       "      <td>0</td>\n",
       "      <td>0</td>\n",
       "      <td>0</td>\n",
       "    </tr>\n",
       "    <tr>\n",
       "      <td>4</td>\n",
       "      <td>0</td>\n",
       "      <td>0</td>\n",
       "      <td>0</td>\n",
       "      <td>0</td>\n",
       "      <td>0</td>\n",
       "      <td>0</td>\n",
       "      <td>0</td>\n",
       "      <td>0</td>\n",
       "      <td>0</td>\n",
       "      <td>0</td>\n",
       "      <td>...</td>\n",
       "      <td>0</td>\n",
       "      <td>0</td>\n",
       "      <td>0</td>\n",
       "      <td>0</td>\n",
       "      <td>0</td>\n",
       "      <td>0</td>\n",
       "      <td>0</td>\n",
       "      <td>0</td>\n",
       "      <td>0</td>\n",
       "      <td>0</td>\n",
       "    </tr>\n",
       "    <tr>\n",
       "      <td>...</td>\n",
       "      <td>...</td>\n",
       "      <td>...</td>\n",
       "      <td>...</td>\n",
       "      <td>...</td>\n",
       "      <td>...</td>\n",
       "      <td>...</td>\n",
       "      <td>...</td>\n",
       "      <td>...</td>\n",
       "      <td>...</td>\n",
       "      <td>...</td>\n",
       "      <td>...</td>\n",
       "      <td>...</td>\n",
       "      <td>...</td>\n",
       "      <td>...</td>\n",
       "      <td>...</td>\n",
       "      <td>...</td>\n",
       "      <td>...</td>\n",
       "      <td>...</td>\n",
       "      <td>...</td>\n",
       "      <td>...</td>\n",
       "      <td>...</td>\n",
       "    </tr>\n",
       "    <tr>\n",
       "      <td>245</td>\n",
       "      <td>0</td>\n",
       "      <td>0</td>\n",
       "      <td>0</td>\n",
       "      <td>0</td>\n",
       "      <td>0</td>\n",
       "      <td>0</td>\n",
       "      <td>0</td>\n",
       "      <td>0</td>\n",
       "      <td>0</td>\n",
       "      <td>0</td>\n",
       "      <td>...</td>\n",
       "      <td>0</td>\n",
       "      <td>0</td>\n",
       "      <td>0</td>\n",
       "      <td>0</td>\n",
       "      <td>0</td>\n",
       "      <td>0</td>\n",
       "      <td>0</td>\n",
       "      <td>1</td>\n",
       "      <td>0</td>\n",
       "      <td>0</td>\n",
       "    </tr>\n",
       "    <tr>\n",
       "      <td>246</td>\n",
       "      <td>0</td>\n",
       "      <td>0</td>\n",
       "      <td>0</td>\n",
       "      <td>0</td>\n",
       "      <td>0</td>\n",
       "      <td>0</td>\n",
       "      <td>0</td>\n",
       "      <td>0</td>\n",
       "      <td>0</td>\n",
       "      <td>0</td>\n",
       "      <td>...</td>\n",
       "      <td>0</td>\n",
       "      <td>0</td>\n",
       "      <td>0</td>\n",
       "      <td>0</td>\n",
       "      <td>0</td>\n",
       "      <td>0</td>\n",
       "      <td>0</td>\n",
       "      <td>0</td>\n",
       "      <td>0</td>\n",
       "      <td>0</td>\n",
       "    </tr>\n",
       "    <tr>\n",
       "      <td>247</td>\n",
       "      <td>0</td>\n",
       "      <td>0</td>\n",
       "      <td>0</td>\n",
       "      <td>0</td>\n",
       "      <td>0</td>\n",
       "      <td>0</td>\n",
       "      <td>0</td>\n",
       "      <td>0</td>\n",
       "      <td>0</td>\n",
       "      <td>0</td>\n",
       "      <td>...</td>\n",
       "      <td>0</td>\n",
       "      <td>0</td>\n",
       "      <td>0</td>\n",
       "      <td>0</td>\n",
       "      <td>0</td>\n",
       "      <td>0</td>\n",
       "      <td>0</td>\n",
       "      <td>1</td>\n",
       "      <td>0</td>\n",
       "      <td>0</td>\n",
       "    </tr>\n",
       "    <tr>\n",
       "      <td>248</td>\n",
       "      <td>0</td>\n",
       "      <td>0</td>\n",
       "      <td>0</td>\n",
       "      <td>0</td>\n",
       "      <td>0</td>\n",
       "      <td>0</td>\n",
       "      <td>0</td>\n",
       "      <td>0</td>\n",
       "      <td>0</td>\n",
       "      <td>0</td>\n",
       "      <td>...</td>\n",
       "      <td>0</td>\n",
       "      <td>0</td>\n",
       "      <td>0</td>\n",
       "      <td>0</td>\n",
       "      <td>0</td>\n",
       "      <td>0</td>\n",
       "      <td>0</td>\n",
       "      <td>0</td>\n",
       "      <td>0</td>\n",
       "      <td>0</td>\n",
       "    </tr>\n",
       "    <tr>\n",
       "      <td>249</td>\n",
       "      <td>0</td>\n",
       "      <td>0</td>\n",
       "      <td>0</td>\n",
       "      <td>0</td>\n",
       "      <td>0</td>\n",
       "      <td>0</td>\n",
       "      <td>0</td>\n",
       "      <td>0</td>\n",
       "      <td>0</td>\n",
       "      <td>0</td>\n",
       "      <td>...</td>\n",
       "      <td>0</td>\n",
       "      <td>0</td>\n",
       "      <td>0</td>\n",
       "      <td>0</td>\n",
       "      <td>0</td>\n",
       "      <td>0</td>\n",
       "      <td>0</td>\n",
       "      <td>1</td>\n",
       "      <td>0</td>\n",
       "      <td>0</td>\n",
       "    </tr>\n",
       "  </tbody>\n",
       "</table>\n",
       "<p>250 rows × 230 columns</p>\n",
       "</div>"
      ],
      "text/plain": [
       "     acceptinsecurecerts  acceptsslcerts  accessible  add  airthematic  allow  \\\n",
       "0                      0               0           0    0            0      0   \n",
       "1                      0               0           0    0            0      0   \n",
       "2                      0               0           0    0            0      0   \n",
       "3                      0               0           0    0            0      0   \n",
       "4                      0               0           0    0            0      0   \n",
       "..                   ...             ...         ...  ...          ...    ...   \n",
       "245                    0               0           0    0            0      0   \n",
       "246                    0               0           0    0            0      0   \n",
       "247                    0               0           0    0            0      0   \n",
       "248                    0               0           0    0            0      0   \n",
       "249                    0               0           0    0            0      0   \n",
       "\n",
       "     amd  and  applicationcacheenabled  appropriate  ...  web  \\\n",
       "0      0    0                        0            0  ...    0   \n",
       "1      0    0                        0            0  ...    0   \n",
       "2      0    0                        0            0  ...    0   \n",
       "3      0    0                        0            0  ...    0   \n",
       "4      0    0                        0            0  ...    0   \n",
       "..   ...  ...                      ...          ...  ...  ...   \n",
       "245    0    0                        0            0  ...    0   \n",
       "246    0    0                        0            0  ...    0   \n",
       "247    0    0                        0            0  ...    0   \n",
       "248    0    0                        0            0  ...    0   \n",
       "249    0    0                        0            0  ...    0   \n",
       "\n",
       "     webapplicationexceptionstring  webdriverexception  webstorageenabled  \\\n",
       "0                                0                   0                  0   \n",
       "1                                0                   0                  0   \n",
       "2                                0                   0                  0   \n",
       "3                                0                   0                  0   \n",
       "4                                0                   0                  0   \n",
       "..                             ...                 ...                ...   \n",
       "245                              0                   0                  0   \n",
       "246                              0                   0                  0   \n",
       "247                              0                   0                  0   \n",
       "248                              0                   0                  0   \n",
       "249                              0                   0                  0   \n",
       "\n",
       "     wedwsvmtxadu  while  windows  with  xp  xpathnamecustomer  \n",
       "0               0      0        0     0   0                  0  \n",
       "1               0      0        0     0   0                  0  \n",
       "2               0      0        0     0   0                  0  \n",
       "3               0      0        0     0   0                  0  \n",
       "4               0      0        0     0   0                  0  \n",
       "..            ...    ...      ...   ...  ..                ...  \n",
       "245             0      0        0     1   0                  0  \n",
       "246             0      0        0     0   0                  0  \n",
       "247             0      0        0     1   0                  0  \n",
       "248             0      0        0     0   0                  0  \n",
       "249             0      0        0     1   0                  0  \n",
       "\n",
       "[250 rows x 230 columns]"
      ]
     },
     "execution_count": 34,
     "metadata": {},
     "output_type": "execute_result"
    }
   ],
   "source": [
    "data2"
   ]
  },
  {
   "cell_type": "code",
   "execution_count": 35,
   "metadata": {},
   "outputs": [],
   "source": [
    "df.drop(columns={'Exception Name','Test Run Id'},inplace=True)"
   ]
  },
  {
   "cell_type": "code",
   "execution_count": 37,
   "metadata": {},
   "outputs": [],
   "source": [
    "data3 = pd.concat([data2,df], axis=1)"
   ]
  },
  {
   "cell_type": "code",
   "execution_count": 38,
   "metadata": {},
   "outputs": [
    {
     "data": {
      "text/html": [
       "<div>\n",
       "<style scoped>\n",
       "    .dataframe tbody tr th:only-of-type {\n",
       "        vertical-align: middle;\n",
       "    }\n",
       "\n",
       "    .dataframe tbody tr th {\n",
       "        vertical-align: top;\n",
       "    }\n",
       "\n",
       "    .dataframe thead th {\n",
       "        text-align: right;\n",
       "    }\n",
       "</style>\n",
       "<table border=\"1\" class=\"dataframe\">\n",
       "  <thead>\n",
       "    <tr style=\"text-align: right;\">\n",
       "      <th></th>\n",
       "      <th>acceptinsecurecerts</th>\n",
       "      <th>acceptsslcerts</th>\n",
       "      <th>accessible</th>\n",
       "      <th>add</th>\n",
       "      <th>airthematic</th>\n",
       "      <th>allow</th>\n",
       "      <th>amd</th>\n",
       "      <th>and</th>\n",
       "      <th>applicationcacheenabled</th>\n",
       "      <th>appropriate</th>\n",
       "      <th>...</th>\n",
       "      <th>xp</th>\n",
       "      <th>xpathnamecustomer</th>\n",
       "      <th>Test Case ID</th>\n",
       "      <th>Failed Steps</th>\n",
       "      <th>Predecessor TestCase ID</th>\n",
       "      <th>Successor TestCase ID</th>\n",
       "      <th>Buckets Items</th>\n",
       "      <th>exe_hour</th>\n",
       "      <th>exe_min</th>\n",
       "      <th>exe_sec</th>\n",
       "    </tr>\n",
       "  </thead>\n",
       "  <tbody>\n",
       "    <tr>\n",
       "      <td>0</td>\n",
       "      <td>0</td>\n",
       "      <td>0</td>\n",
       "      <td>0</td>\n",
       "      <td>0</td>\n",
       "      <td>0</td>\n",
       "      <td>0</td>\n",
       "      <td>0</td>\n",
       "      <td>0</td>\n",
       "      <td>0</td>\n",
       "      <td>0</td>\n",
       "      <td>...</td>\n",
       "      <td>0</td>\n",
       "      <td>0</td>\n",
       "      <td>457</td>\n",
       "      <td>5.10</td>\n",
       "      <td>0.0</td>\n",
       "      <td>457.0</td>\n",
       "      <td>Automation Issue</td>\n",
       "      <td>17</td>\n",
       "      <td>16</td>\n",
       "      <td>22</td>\n",
       "    </tr>\n",
       "    <tr>\n",
       "      <td>1</td>\n",
       "      <td>0</td>\n",
       "      <td>0</td>\n",
       "      <td>0</td>\n",
       "      <td>0</td>\n",
       "      <td>0</td>\n",
       "      <td>0</td>\n",
       "      <td>0</td>\n",
       "      <td>0</td>\n",
       "      <td>0</td>\n",
       "      <td>0</td>\n",
       "      <td>...</td>\n",
       "      <td>0</td>\n",
       "      <td>0</td>\n",
       "      <td>457</td>\n",
       "      <td>5.70</td>\n",
       "      <td>457.0</td>\n",
       "      <td>457.0</td>\n",
       "      <td>Application Issue</td>\n",
       "      <td>17</td>\n",
       "      <td>16</td>\n",
       "      <td>22</td>\n",
       "    </tr>\n",
       "    <tr>\n",
       "      <td>2</td>\n",
       "      <td>0</td>\n",
       "      <td>0</td>\n",
       "      <td>0</td>\n",
       "      <td>0</td>\n",
       "      <td>0</td>\n",
       "      <td>0</td>\n",
       "      <td>0</td>\n",
       "      <td>0</td>\n",
       "      <td>0</td>\n",
       "      <td>0</td>\n",
       "      <td>...</td>\n",
       "      <td>0</td>\n",
       "      <td>0</td>\n",
       "      <td>457</td>\n",
       "      <td>5.80</td>\n",
       "      <td>457.0</td>\n",
       "      <td>457.0</td>\n",
       "      <td>Application Issue</td>\n",
       "      <td>17</td>\n",
       "      <td>16</td>\n",
       "      <td>22</td>\n",
       "    </tr>\n",
       "    <tr>\n",
       "      <td>3</td>\n",
       "      <td>0</td>\n",
       "      <td>0</td>\n",
       "      <td>0</td>\n",
       "      <td>0</td>\n",
       "      <td>0</td>\n",
       "      <td>0</td>\n",
       "      <td>0</td>\n",
       "      <td>0</td>\n",
       "      <td>0</td>\n",
       "      <td>0</td>\n",
       "      <td>...</td>\n",
       "      <td>0</td>\n",
       "      <td>0</td>\n",
       "      <td>457</td>\n",
       "      <td>5.90</td>\n",
       "      <td>457.0</td>\n",
       "      <td>457.0</td>\n",
       "      <td>Automation Issue</td>\n",
       "      <td>17</td>\n",
       "      <td>16</td>\n",
       "      <td>22</td>\n",
       "    </tr>\n",
       "    <tr>\n",
       "      <td>4</td>\n",
       "      <td>0</td>\n",
       "      <td>0</td>\n",
       "      <td>0</td>\n",
       "      <td>0</td>\n",
       "      <td>0</td>\n",
       "      <td>0</td>\n",
       "      <td>0</td>\n",
       "      <td>0</td>\n",
       "      <td>0</td>\n",
       "      <td>0</td>\n",
       "      <td>...</td>\n",
       "      <td>0</td>\n",
       "      <td>0</td>\n",
       "      <td>457</td>\n",
       "      <td>6.10</td>\n",
       "      <td>457.0</td>\n",
       "      <td>457.0</td>\n",
       "      <td>Data related Issue</td>\n",
       "      <td>17</td>\n",
       "      <td>16</td>\n",
       "      <td>22</td>\n",
       "    </tr>\n",
       "    <tr>\n",
       "      <td>...</td>\n",
       "      <td>...</td>\n",
       "      <td>...</td>\n",
       "      <td>...</td>\n",
       "      <td>...</td>\n",
       "      <td>...</td>\n",
       "      <td>...</td>\n",
       "      <td>...</td>\n",
       "      <td>...</td>\n",
       "      <td>...</td>\n",
       "      <td>...</td>\n",
       "      <td>...</td>\n",
       "      <td>...</td>\n",
       "      <td>...</td>\n",
       "      <td>...</td>\n",
       "      <td>...</td>\n",
       "      <td>...</td>\n",
       "      <td>...</td>\n",
       "      <td>...</td>\n",
       "      <td>...</td>\n",
       "      <td>...</td>\n",
       "      <td>...</td>\n",
       "    </tr>\n",
       "    <tr>\n",
       "      <td>245</td>\n",
       "      <td>0</td>\n",
       "      <td>0</td>\n",
       "      <td>0</td>\n",
       "      <td>0</td>\n",
       "      <td>0</td>\n",
       "      <td>0</td>\n",
       "      <td>0</td>\n",
       "      <td>0</td>\n",
       "      <td>0</td>\n",
       "      <td>0</td>\n",
       "      <td>...</td>\n",
       "      <td>0</td>\n",
       "      <td>0</td>\n",
       "      <td>341</td>\n",
       "      <td>10.11</td>\n",
       "      <td>320.0</td>\n",
       "      <td>348.0</td>\n",
       "      <td>Automation Issue</td>\n",
       "      <td>9</td>\n",
       "      <td>21</td>\n",
       "      <td>5</td>\n",
       "    </tr>\n",
       "    <tr>\n",
       "      <td>246</td>\n",
       "      <td>0</td>\n",
       "      <td>0</td>\n",
       "      <td>0</td>\n",
       "      <td>0</td>\n",
       "      <td>0</td>\n",
       "      <td>0</td>\n",
       "      <td>0</td>\n",
       "      <td>0</td>\n",
       "      <td>0</td>\n",
       "      <td>0</td>\n",
       "      <td>...</td>\n",
       "      <td>0</td>\n",
       "      <td>0</td>\n",
       "      <td>348</td>\n",
       "      <td>10.11</td>\n",
       "      <td>341.0</td>\n",
       "      <td>351.0</td>\n",
       "      <td>Automation Issue</td>\n",
       "      <td>9</td>\n",
       "      <td>32</td>\n",
       "      <td>49</td>\n",
       "    </tr>\n",
       "    <tr>\n",
       "      <td>247</td>\n",
       "      <td>0</td>\n",
       "      <td>0</td>\n",
       "      <td>0</td>\n",
       "      <td>0</td>\n",
       "      <td>0</td>\n",
       "      <td>0</td>\n",
       "      <td>0</td>\n",
       "      <td>0</td>\n",
       "      <td>0</td>\n",
       "      <td>0</td>\n",
       "      <td>...</td>\n",
       "      <td>0</td>\n",
       "      <td>0</td>\n",
       "      <td>351</td>\n",
       "      <td>3.60</td>\n",
       "      <td>348.0</td>\n",
       "      <td>350.0</td>\n",
       "      <td>Automation Issue</td>\n",
       "      <td>9</td>\n",
       "      <td>34</td>\n",
       "      <td>37</td>\n",
       "    </tr>\n",
       "    <tr>\n",
       "      <td>248</td>\n",
       "      <td>0</td>\n",
       "      <td>0</td>\n",
       "      <td>0</td>\n",
       "      <td>0</td>\n",
       "      <td>0</td>\n",
       "      <td>0</td>\n",
       "      <td>0</td>\n",
       "      <td>0</td>\n",
       "      <td>0</td>\n",
       "      <td>0</td>\n",
       "      <td>...</td>\n",
       "      <td>0</td>\n",
       "      <td>0</td>\n",
       "      <td>350</td>\n",
       "      <td>10.11</td>\n",
       "      <td>351.0</td>\n",
       "      <td>336.0</td>\n",
       "      <td>Automation Issue</td>\n",
       "      <td>9</td>\n",
       "      <td>40</td>\n",
       "      <td>56</td>\n",
       "    </tr>\n",
       "    <tr>\n",
       "      <td>249</td>\n",
       "      <td>0</td>\n",
       "      <td>0</td>\n",
       "      <td>0</td>\n",
       "      <td>0</td>\n",
       "      <td>0</td>\n",
       "      <td>0</td>\n",
       "      <td>0</td>\n",
       "      <td>0</td>\n",
       "      <td>0</td>\n",
       "      <td>0</td>\n",
       "      <td>...</td>\n",
       "      <td>0</td>\n",
       "      <td>0</td>\n",
       "      <td>336</td>\n",
       "      <td>10.11</td>\n",
       "      <td>350.0</td>\n",
       "      <td>0.0</td>\n",
       "      <td>Automation Issue</td>\n",
       "      <td>10</td>\n",
       "      <td>21</td>\n",
       "      <td>28</td>\n",
       "    </tr>\n",
       "  </tbody>\n",
       "</table>\n",
       "<p>250 rows × 238 columns</p>\n",
       "</div>"
      ],
      "text/plain": [
       "     acceptinsecurecerts  acceptsslcerts  accessible  add  airthematic  allow  \\\n",
       "0                      0               0           0    0            0      0   \n",
       "1                      0               0           0    0            0      0   \n",
       "2                      0               0           0    0            0      0   \n",
       "3                      0               0           0    0            0      0   \n",
       "4                      0               0           0    0            0      0   \n",
       "..                   ...             ...         ...  ...          ...    ...   \n",
       "245                    0               0           0    0            0      0   \n",
       "246                    0               0           0    0            0      0   \n",
       "247                    0               0           0    0            0      0   \n",
       "248                    0               0           0    0            0      0   \n",
       "249                    0               0           0    0            0      0   \n",
       "\n",
       "     amd  and  applicationcacheenabled  appropriate  ...  xp  \\\n",
       "0      0    0                        0            0  ...   0   \n",
       "1      0    0                        0            0  ...   0   \n",
       "2      0    0                        0            0  ...   0   \n",
       "3      0    0                        0            0  ...   0   \n",
       "4      0    0                        0            0  ...   0   \n",
       "..   ...  ...                      ...          ...  ...  ..   \n",
       "245    0    0                        0            0  ...   0   \n",
       "246    0    0                        0            0  ...   0   \n",
       "247    0    0                        0            0  ...   0   \n",
       "248    0    0                        0            0  ...   0   \n",
       "249    0    0                        0            0  ...   0   \n",
       "\n",
       "     xpathnamecustomer  Test Case ID  Failed Steps  Predecessor TestCase ID  \\\n",
       "0                    0           457          5.10                      0.0   \n",
       "1                    0           457          5.70                    457.0   \n",
       "2                    0           457          5.80                    457.0   \n",
       "3                    0           457          5.90                    457.0   \n",
       "4                    0           457          6.10                    457.0   \n",
       "..                 ...           ...           ...                      ...   \n",
       "245                  0           341         10.11                    320.0   \n",
       "246                  0           348         10.11                    341.0   \n",
       "247                  0           351          3.60                    348.0   \n",
       "248                  0           350         10.11                    351.0   \n",
       "249                  0           336         10.11                    350.0   \n",
       "\n",
       "     Successor TestCase ID       Buckets Items  exe_hour  exe_min  exe_sec  \n",
       "0                    457.0    Automation Issue        17       16       22  \n",
       "1                    457.0   Application Issue        17       16       22  \n",
       "2                    457.0   Application Issue        17       16       22  \n",
       "3                    457.0    Automation Issue        17       16       22  \n",
       "4                    457.0  Data related Issue        17       16       22  \n",
       "..                     ...                 ...       ...      ...      ...  \n",
       "245                  348.0    Automation Issue         9       21        5  \n",
       "246                  351.0    Automation Issue         9       32       49  \n",
       "247                  350.0    Automation Issue         9       34       37  \n",
       "248                  336.0    Automation Issue         9       40       56  \n",
       "249                    0.0    Automation Issue        10       21       28  \n",
       "\n",
       "[250 rows x 238 columns]"
      ]
     },
     "execution_count": 38,
     "metadata": {},
     "output_type": "execute_result"
    }
   ],
   "source": [
    "data3"
   ]
  },
  {
   "cell_type": "code",
   "execution_count": null,
   "metadata": {},
   "outputs": [],
   "source": [
    "#data3.drop(columns={'index','Execution_Time_for_test_case','Execution Time'},inplace=True)"
   ]
  },
  {
   "cell_type": "code",
   "execution_count": 39,
   "metadata": {},
   "outputs": [],
   "source": [
    "data3 = data3.rename(columns={'Buckets Items' : 'Failure Reason'})"
   ]
  },
  {
   "cell_type": "code",
   "execution_count": 40,
   "metadata": {},
   "outputs": [],
   "source": [
    "from sklearn import preprocessing \n",
    "  \n",
    "# label_encoder object knows how to understand word labels. \n",
    "label_encoder = preprocessing.LabelEncoder() \n",
    "  \n",
    "# Encode labels in column 'species'. \n",
    "data3['Failure Reason']= label_encoder.fit_transform(data3['Failure Reason'])"
   ]
  },
  {
   "cell_type": "code",
   "execution_count": 46,
   "metadata": {},
   "outputs": [],
   "source": [
    "# from scipy import stats\n",
    "# for column in data3:\n",
    "#     pearson_coef, _ = stats.pearsonr(data3[column], data3[\"Failure Reason\"])\n",
    "#     print(column,':',pearson_coef)"
   ]
  },
  {
   "cell_type": "markdown",
   "metadata": {},
   "source": [
    "# Train-Test Split"
   ]
  },
  {
   "cell_type": "code",
   "execution_count": 41,
   "metadata": {},
   "outputs": [],
   "source": [
    "from sklearn.model_selection import train_test_split"
   ]
  },
  {
   "cell_type": "code",
   "execution_count": 42,
   "metadata": {},
   "outputs": [],
   "source": [
    "Failure_Reason = data3['Failure Reason'].values\n",
    "data4 = data3.drop(columns=['Failure Reason'])"
   ]
  },
  {
   "cell_type": "code",
   "execution_count": 43,
   "metadata": {},
   "outputs": [
    {
     "data": {
      "text/html": [
       "<div>\n",
       "<style scoped>\n",
       "    .dataframe tbody tr th:only-of-type {\n",
       "        vertical-align: middle;\n",
       "    }\n",
       "\n",
       "    .dataframe tbody tr th {\n",
       "        vertical-align: top;\n",
       "    }\n",
       "\n",
       "    .dataframe thead th {\n",
       "        text-align: right;\n",
       "    }\n",
       "</style>\n",
       "<table border=\"1\" class=\"dataframe\">\n",
       "  <thead>\n",
       "    <tr style=\"text-align: right;\">\n",
       "      <th></th>\n",
       "      <th>acceptinsecurecerts</th>\n",
       "      <th>acceptsslcerts</th>\n",
       "      <th>accessible</th>\n",
       "      <th>add</th>\n",
       "      <th>airthematic</th>\n",
       "      <th>allow</th>\n",
       "      <th>amd</th>\n",
       "      <th>and</th>\n",
       "      <th>applicationcacheenabled</th>\n",
       "      <th>appropriate</th>\n",
       "      <th>...</th>\n",
       "      <th>with</th>\n",
       "      <th>xp</th>\n",
       "      <th>xpathnamecustomer</th>\n",
       "      <th>Test Case ID</th>\n",
       "      <th>Failed Steps</th>\n",
       "      <th>Predecessor TestCase ID</th>\n",
       "      <th>Successor TestCase ID</th>\n",
       "      <th>exe_hour</th>\n",
       "      <th>exe_min</th>\n",
       "      <th>exe_sec</th>\n",
       "    </tr>\n",
       "  </thead>\n",
       "  <tbody>\n",
       "    <tr>\n",
       "      <td>0</td>\n",
       "      <td>0</td>\n",
       "      <td>0</td>\n",
       "      <td>0</td>\n",
       "      <td>0</td>\n",
       "      <td>0</td>\n",
       "      <td>0</td>\n",
       "      <td>0</td>\n",
       "      <td>0</td>\n",
       "      <td>0</td>\n",
       "      <td>0</td>\n",
       "      <td>...</td>\n",
       "      <td>0</td>\n",
       "      <td>0</td>\n",
       "      <td>0</td>\n",
       "      <td>457</td>\n",
       "      <td>5.10</td>\n",
       "      <td>0.0</td>\n",
       "      <td>457.0</td>\n",
       "      <td>17</td>\n",
       "      <td>16</td>\n",
       "      <td>22</td>\n",
       "    </tr>\n",
       "    <tr>\n",
       "      <td>1</td>\n",
       "      <td>0</td>\n",
       "      <td>0</td>\n",
       "      <td>0</td>\n",
       "      <td>0</td>\n",
       "      <td>0</td>\n",
       "      <td>0</td>\n",
       "      <td>0</td>\n",
       "      <td>0</td>\n",
       "      <td>0</td>\n",
       "      <td>0</td>\n",
       "      <td>...</td>\n",
       "      <td>0</td>\n",
       "      <td>0</td>\n",
       "      <td>0</td>\n",
       "      <td>457</td>\n",
       "      <td>5.70</td>\n",
       "      <td>457.0</td>\n",
       "      <td>457.0</td>\n",
       "      <td>17</td>\n",
       "      <td>16</td>\n",
       "      <td>22</td>\n",
       "    </tr>\n",
       "    <tr>\n",
       "      <td>2</td>\n",
       "      <td>0</td>\n",
       "      <td>0</td>\n",
       "      <td>0</td>\n",
       "      <td>0</td>\n",
       "      <td>0</td>\n",
       "      <td>0</td>\n",
       "      <td>0</td>\n",
       "      <td>0</td>\n",
       "      <td>0</td>\n",
       "      <td>0</td>\n",
       "      <td>...</td>\n",
       "      <td>0</td>\n",
       "      <td>0</td>\n",
       "      <td>0</td>\n",
       "      <td>457</td>\n",
       "      <td>5.80</td>\n",
       "      <td>457.0</td>\n",
       "      <td>457.0</td>\n",
       "      <td>17</td>\n",
       "      <td>16</td>\n",
       "      <td>22</td>\n",
       "    </tr>\n",
       "    <tr>\n",
       "      <td>3</td>\n",
       "      <td>0</td>\n",
       "      <td>0</td>\n",
       "      <td>0</td>\n",
       "      <td>0</td>\n",
       "      <td>0</td>\n",
       "      <td>0</td>\n",
       "      <td>0</td>\n",
       "      <td>0</td>\n",
       "      <td>0</td>\n",
       "      <td>0</td>\n",
       "      <td>...</td>\n",
       "      <td>0</td>\n",
       "      <td>0</td>\n",
       "      <td>0</td>\n",
       "      <td>457</td>\n",
       "      <td>5.90</td>\n",
       "      <td>457.0</td>\n",
       "      <td>457.0</td>\n",
       "      <td>17</td>\n",
       "      <td>16</td>\n",
       "      <td>22</td>\n",
       "    </tr>\n",
       "    <tr>\n",
       "      <td>4</td>\n",
       "      <td>0</td>\n",
       "      <td>0</td>\n",
       "      <td>0</td>\n",
       "      <td>0</td>\n",
       "      <td>0</td>\n",
       "      <td>0</td>\n",
       "      <td>0</td>\n",
       "      <td>0</td>\n",
       "      <td>0</td>\n",
       "      <td>0</td>\n",
       "      <td>...</td>\n",
       "      <td>0</td>\n",
       "      <td>0</td>\n",
       "      <td>0</td>\n",
       "      <td>457</td>\n",
       "      <td>6.10</td>\n",
       "      <td>457.0</td>\n",
       "      <td>457.0</td>\n",
       "      <td>17</td>\n",
       "      <td>16</td>\n",
       "      <td>22</td>\n",
       "    </tr>\n",
       "    <tr>\n",
       "      <td>...</td>\n",
       "      <td>...</td>\n",
       "      <td>...</td>\n",
       "      <td>...</td>\n",
       "      <td>...</td>\n",
       "      <td>...</td>\n",
       "      <td>...</td>\n",
       "      <td>...</td>\n",
       "      <td>...</td>\n",
       "      <td>...</td>\n",
       "      <td>...</td>\n",
       "      <td>...</td>\n",
       "      <td>...</td>\n",
       "      <td>...</td>\n",
       "      <td>...</td>\n",
       "      <td>...</td>\n",
       "      <td>...</td>\n",
       "      <td>...</td>\n",
       "      <td>...</td>\n",
       "      <td>...</td>\n",
       "      <td>...</td>\n",
       "      <td>...</td>\n",
       "    </tr>\n",
       "    <tr>\n",
       "      <td>245</td>\n",
       "      <td>0</td>\n",
       "      <td>0</td>\n",
       "      <td>0</td>\n",
       "      <td>0</td>\n",
       "      <td>0</td>\n",
       "      <td>0</td>\n",
       "      <td>0</td>\n",
       "      <td>0</td>\n",
       "      <td>0</td>\n",
       "      <td>0</td>\n",
       "      <td>...</td>\n",
       "      <td>1</td>\n",
       "      <td>0</td>\n",
       "      <td>0</td>\n",
       "      <td>341</td>\n",
       "      <td>10.11</td>\n",
       "      <td>320.0</td>\n",
       "      <td>348.0</td>\n",
       "      <td>9</td>\n",
       "      <td>21</td>\n",
       "      <td>5</td>\n",
       "    </tr>\n",
       "    <tr>\n",
       "      <td>246</td>\n",
       "      <td>0</td>\n",
       "      <td>0</td>\n",
       "      <td>0</td>\n",
       "      <td>0</td>\n",
       "      <td>0</td>\n",
       "      <td>0</td>\n",
       "      <td>0</td>\n",
       "      <td>0</td>\n",
       "      <td>0</td>\n",
       "      <td>0</td>\n",
       "      <td>...</td>\n",
       "      <td>0</td>\n",
       "      <td>0</td>\n",
       "      <td>0</td>\n",
       "      <td>348</td>\n",
       "      <td>10.11</td>\n",
       "      <td>341.0</td>\n",
       "      <td>351.0</td>\n",
       "      <td>9</td>\n",
       "      <td>32</td>\n",
       "      <td>49</td>\n",
       "    </tr>\n",
       "    <tr>\n",
       "      <td>247</td>\n",
       "      <td>0</td>\n",
       "      <td>0</td>\n",
       "      <td>0</td>\n",
       "      <td>0</td>\n",
       "      <td>0</td>\n",
       "      <td>0</td>\n",
       "      <td>0</td>\n",
       "      <td>0</td>\n",
       "      <td>0</td>\n",
       "      <td>0</td>\n",
       "      <td>...</td>\n",
       "      <td>1</td>\n",
       "      <td>0</td>\n",
       "      <td>0</td>\n",
       "      <td>351</td>\n",
       "      <td>3.60</td>\n",
       "      <td>348.0</td>\n",
       "      <td>350.0</td>\n",
       "      <td>9</td>\n",
       "      <td>34</td>\n",
       "      <td>37</td>\n",
       "    </tr>\n",
       "    <tr>\n",
       "      <td>248</td>\n",
       "      <td>0</td>\n",
       "      <td>0</td>\n",
       "      <td>0</td>\n",
       "      <td>0</td>\n",
       "      <td>0</td>\n",
       "      <td>0</td>\n",
       "      <td>0</td>\n",
       "      <td>0</td>\n",
       "      <td>0</td>\n",
       "      <td>0</td>\n",
       "      <td>...</td>\n",
       "      <td>0</td>\n",
       "      <td>0</td>\n",
       "      <td>0</td>\n",
       "      <td>350</td>\n",
       "      <td>10.11</td>\n",
       "      <td>351.0</td>\n",
       "      <td>336.0</td>\n",
       "      <td>9</td>\n",
       "      <td>40</td>\n",
       "      <td>56</td>\n",
       "    </tr>\n",
       "    <tr>\n",
       "      <td>249</td>\n",
       "      <td>0</td>\n",
       "      <td>0</td>\n",
       "      <td>0</td>\n",
       "      <td>0</td>\n",
       "      <td>0</td>\n",
       "      <td>0</td>\n",
       "      <td>0</td>\n",
       "      <td>0</td>\n",
       "      <td>0</td>\n",
       "      <td>0</td>\n",
       "      <td>...</td>\n",
       "      <td>1</td>\n",
       "      <td>0</td>\n",
       "      <td>0</td>\n",
       "      <td>336</td>\n",
       "      <td>10.11</td>\n",
       "      <td>350.0</td>\n",
       "      <td>0.0</td>\n",
       "      <td>10</td>\n",
       "      <td>21</td>\n",
       "      <td>28</td>\n",
       "    </tr>\n",
       "  </tbody>\n",
       "</table>\n",
       "<p>250 rows × 237 columns</p>\n",
       "</div>"
      ],
      "text/plain": [
       "     acceptinsecurecerts  acceptsslcerts  accessible  add  airthematic  allow  \\\n",
       "0                      0               0           0    0            0      0   \n",
       "1                      0               0           0    0            0      0   \n",
       "2                      0               0           0    0            0      0   \n",
       "3                      0               0           0    0            0      0   \n",
       "4                      0               0           0    0            0      0   \n",
       "..                   ...             ...         ...  ...          ...    ...   \n",
       "245                    0               0           0    0            0      0   \n",
       "246                    0               0           0    0            0      0   \n",
       "247                    0               0           0    0            0      0   \n",
       "248                    0               0           0    0            0      0   \n",
       "249                    0               0           0    0            0      0   \n",
       "\n",
       "     amd  and  applicationcacheenabled  appropriate  ...  with  xp  \\\n",
       "0      0    0                        0            0  ...     0   0   \n",
       "1      0    0                        0            0  ...     0   0   \n",
       "2      0    0                        0            0  ...     0   0   \n",
       "3      0    0                        0            0  ...     0   0   \n",
       "4      0    0                        0            0  ...     0   0   \n",
       "..   ...  ...                      ...          ...  ...   ...  ..   \n",
       "245    0    0                        0            0  ...     1   0   \n",
       "246    0    0                        0            0  ...     0   0   \n",
       "247    0    0                        0            0  ...     1   0   \n",
       "248    0    0                        0            0  ...     0   0   \n",
       "249    0    0                        0            0  ...     1   0   \n",
       "\n",
       "     xpathnamecustomer  Test Case ID  Failed Steps  Predecessor TestCase ID  \\\n",
       "0                    0           457          5.10                      0.0   \n",
       "1                    0           457          5.70                    457.0   \n",
       "2                    0           457          5.80                    457.0   \n",
       "3                    0           457          5.90                    457.0   \n",
       "4                    0           457          6.10                    457.0   \n",
       "..                 ...           ...           ...                      ...   \n",
       "245                  0           341         10.11                    320.0   \n",
       "246                  0           348         10.11                    341.0   \n",
       "247                  0           351          3.60                    348.0   \n",
       "248                  0           350         10.11                    351.0   \n",
       "249                  0           336         10.11                    350.0   \n",
       "\n",
       "     Successor TestCase ID  exe_hour  exe_min  exe_sec  \n",
       "0                    457.0        17       16       22  \n",
       "1                    457.0        17       16       22  \n",
       "2                    457.0        17       16       22  \n",
       "3                    457.0        17       16       22  \n",
       "4                    457.0        17       16       22  \n",
       "..                     ...       ...      ...      ...  \n",
       "245                  348.0         9       21        5  \n",
       "246                  351.0         9       32       49  \n",
       "247                  350.0         9       34       37  \n",
       "248                  336.0         9       40       56  \n",
       "249                    0.0        10       21       28  \n",
       "\n",
       "[250 rows x 237 columns]"
      ]
     },
     "execution_count": 43,
     "metadata": {},
     "output_type": "execute_result"
    }
   ],
   "source": [
    "data4"
   ]
  },
  {
   "cell_type": "code",
   "execution_count": 44,
   "metadata": {},
   "outputs": [],
   "source": [
    "train_data, test_data, train_rca, test_rca = train_test_split(data4, Failure_Reason, test_size=0.2, random_state=42,stratify=Failure_Reason)"
   ]
  },
  {
   "cell_type": "markdown",
   "metadata": {},
   "source": [
    "# Machine Learning Model - CV"
   ]
  },
  {
   "cell_type": "code",
   "execution_count": 45,
   "metadata": {},
   "outputs": [],
   "source": [
    "# Random Forest model on BOW features\n",
    "from sklearn.ensemble import RandomForestClassifier\n",
    "\n",
    "# instantiate model\n",
    "rf = RandomForestClassifier(n_estimators=100, n_jobs=-1, random_state=42)\n",
    "\n",
    "# train model\n",
    "rf.fit(train_data, train_rca)\n",
    "\n",
    "# predict on test data\n",
    "rf_bow_predictions = rf.predict(test_data)"
   ]
  },
  {
   "cell_type": "code",
   "execution_count": 46,
   "metadata": {},
   "outputs": [
    {
     "data": {
      "text/plain": [
       "array([1, 2, 1, 2, 0, 2, 1, 1, 1, 0, 1, 1, 1, 1, 0, 2, 1, 1, 1, 1, 1, 1,\n",
       "       1, 1, 0, 2, 1, 1, 1, 1, 1, 1, 2, 1, 1, 2, 1, 1, 1, 2, 1, 1, 1, 2,\n",
       "       1, 0, 1, 1, 1, 1])"
      ]
     },
     "execution_count": 46,
     "metadata": {},
     "output_type": "execute_result"
    }
   ],
   "source": [
    "rf_bow_predictions"
   ]
  },
  {
   "cell_type": "code",
   "execution_count": 47,
   "metadata": {},
   "outputs": [
    {
     "name": "stdout",
     "output_type": "stream",
     "text": [
      "              precision    recall  f1-score   support\n",
      "\n",
      "           0       0.80      0.67      0.73         6\n",
      "           1       0.92      0.97      0.94        34\n",
      "           2       1.00      0.90      0.95        10\n",
      "\n",
      "    accuracy                           0.92        50\n",
      "   macro avg       0.91      0.85      0.87        50\n",
      "weighted avg       0.92      0.92      0.92        50\n",
      "\n",
      "Accuracy Score is  0.92\n"
     ]
    },
    {
     "data": {
      "text/html": [
       "<div>\n",
       "<style scoped>\n",
       "    .dataframe tbody tr th:only-of-type {\n",
       "        vertical-align: middle;\n",
       "    }\n",
       "\n",
       "    .dataframe tbody tr th {\n",
       "        vertical-align: top;\n",
       "    }\n",
       "\n",
       "    .dataframe thead th {\n",
       "        text-align: right;\n",
       "    }\n",
       "</style>\n",
       "<table border=\"1\" class=\"dataframe\">\n",
       "  <thead>\n",
       "    <tr style=\"text-align: right;\">\n",
       "      <th></th>\n",
       "      <th>0</th>\n",
       "      <th>1</th>\n",
       "      <th>2</th>\n",
       "    </tr>\n",
       "  </thead>\n",
       "  <tbody>\n",
       "    <tr>\n",
       "      <td>0</td>\n",
       "      <td>4</td>\n",
       "      <td>2</td>\n",
       "      <td>0</td>\n",
       "    </tr>\n",
       "    <tr>\n",
       "      <td>1</td>\n",
       "      <td>1</td>\n",
       "      <td>33</td>\n",
       "      <td>0</td>\n",
       "    </tr>\n",
       "    <tr>\n",
       "      <td>2</td>\n",
       "      <td>0</td>\n",
       "      <td>1</td>\n",
       "      <td>9</td>\n",
       "    </tr>\n",
       "  </tbody>\n",
       "</table>\n",
       "</div>"
      ],
      "text/plain": [
       "   0   1  2\n",
       "0  4   2  0\n",
       "1  1  33  0\n",
       "2  0   1  9"
      ]
     },
     "execution_count": 47,
     "metadata": {},
     "output_type": "execute_result"
    }
   ],
   "source": [
    "#Classification Report\n",
    "\n",
    "from sklearn.metrics import confusion_matrix, classification_report, accuracy_score,roc_auc_score, roc_curve\n",
    "\n",
    "\n",
    "print(classification_report(test_rca, rf_bow_predictions))\n",
    "pd.DataFrame(confusion_matrix(test_rca, rf_bow_predictions))\n",
    "\n",
    "print('Accuracy Score is ', accuracy_score(test_rca, rf_bow_predictions ))\n",
    "\n",
    "\n",
    "pd.DataFrame(confusion_matrix(test_rca, rf_bow_predictions))"
   ]
  },
  {
   "cell_type": "code",
   "execution_count": 48,
   "metadata": {},
   "outputs": [
    {
     "data": {
      "text/plain": [
       "MultinomialNB(alpha=0.01, class_prior=None, fit_prior=True)"
      ]
     },
     "execution_count": 48,
     "metadata": {},
     "output_type": "execute_result"
    }
   ],
   "source": [
    "#using the naive byes build model with Count vectors\n",
    "from sklearn.naive_bayes import MultinomialNB\n",
    "clf=MultinomialNB(alpha=0.01)\n",
    "clf.fit(train_data, train_rca)"
   ]
  },
  {
   "cell_type": "code",
   "execution_count": 49,
   "metadata": {},
   "outputs": [],
   "source": [
    "nbpred=clf.predict(test_data)"
   ]
  },
  {
   "cell_type": "code",
   "execution_count": 50,
   "metadata": {
    "scrolled": true
   },
   "outputs": [
    {
     "data": {
      "text/plain": [
       "array([1, 2, 1, 2, 0, 2, 1, 1, 1, 0, 1, 1, 1, 1, 1, 2, 1, 1, 1, 2, 1, 1,\n",
       "       1, 1, 0, 2, 1, 1, 1, 1, 2, 1, 2, 1, 1, 2, 1, 1, 1, 2, 1, 1, 1, 0,\n",
       "       1, 0, 1, 1, 1, 1])"
      ]
     },
     "execution_count": 50,
     "metadata": {},
     "output_type": "execute_result"
    }
   ],
   "source": [
    "nbpred"
   ]
  },
  {
   "cell_type": "code",
   "execution_count": 51,
   "metadata": {
    "scrolled": true
   },
   "outputs": [
    {
     "name": "stdout",
     "output_type": "stream",
     "text": [
      "              precision    recall  f1-score   support\n",
      "\n",
      "           0       0.80      0.67      0.73         6\n",
      "           1       0.97      1.00      0.99        34\n",
      "           2       0.90      0.90      0.90        10\n",
      "\n",
      "    accuracy                           0.94        50\n",
      "   macro avg       0.89      0.86      0.87        50\n",
      "weighted avg       0.94      0.94      0.94        50\n",
      "\n",
      "Accuracy Score is 0.94\n"
     ]
    },
    {
     "data": {
      "text/html": [
       "<div>\n",
       "<style scoped>\n",
       "    .dataframe tbody tr th:only-of-type {\n",
       "        vertical-align: middle;\n",
       "    }\n",
       "\n",
       "    .dataframe tbody tr th {\n",
       "        vertical-align: top;\n",
       "    }\n",
       "\n",
       "    .dataframe thead th {\n",
       "        text-align: right;\n",
       "    }\n",
       "</style>\n",
       "<table border=\"1\" class=\"dataframe\">\n",
       "  <thead>\n",
       "    <tr style=\"text-align: right;\">\n",
       "      <th></th>\n",
       "      <th>0</th>\n",
       "      <th>1</th>\n",
       "      <th>2</th>\n",
       "    </tr>\n",
       "  </thead>\n",
       "  <tbody>\n",
       "    <tr>\n",
       "      <td>0</td>\n",
       "      <td>4</td>\n",
       "      <td>1</td>\n",
       "      <td>1</td>\n",
       "    </tr>\n",
       "    <tr>\n",
       "      <td>1</td>\n",
       "      <td>0</td>\n",
       "      <td>34</td>\n",
       "      <td>0</td>\n",
       "    </tr>\n",
       "    <tr>\n",
       "      <td>2</td>\n",
       "      <td>1</td>\n",
       "      <td>0</td>\n",
       "      <td>9</td>\n",
       "    </tr>\n",
       "  </tbody>\n",
       "</table>\n",
       "</div>"
      ],
      "text/plain": [
       "   0   1  2\n",
       "0  4   1  1\n",
       "1  0  34  0\n",
       "2  1   0  9"
      ]
     },
     "execution_count": 51,
     "metadata": {},
     "output_type": "execute_result"
    }
   ],
   "source": [
    "print(classification_report(test_rca, nbpred))\n",
    "\n",
    "print('Accuracy Score is', accuracy_score(test_rca, nbpred ))\n",
    "\n",
    "pd.DataFrame(confusion_matrix(test_rca, nbpred))\n"
   ]
  },
  {
   "cell_type": "code",
   "execution_count": 52,
   "metadata": {},
   "outputs": [],
   "source": [
    "from sklearn import svm"
   ]
  },
  {
   "cell_type": "code",
   "execution_count": 63,
   "metadata": {},
   "outputs": [],
   "source": [
    "svc = svm.SVC(kernel='poly',degree=5,max_iter=5)"
   ]
  },
  {
   "cell_type": "code",
   "execution_count": 64,
   "metadata": {},
   "outputs": [
    {
     "name": "stderr",
     "output_type": "stream",
     "text": [
      "C:\\ProgramData\\Anaconda3\\lib\\site-packages\\sklearn\\svm\\base.py:193: FutureWarning: The default value of gamma will change from 'auto' to 'scale' in version 0.22 to account better for unscaled features. Set gamma explicitly to 'auto' or 'scale' to avoid this warning.\n",
      "  \"avoid this warning.\", FutureWarning)\n",
      "C:\\ProgramData\\Anaconda3\\lib\\site-packages\\sklearn\\svm\\base.py:241: ConvergenceWarning: Solver terminated early (max_iter=5).  Consider pre-processing your data with StandardScaler or MinMaxScaler.\n",
      "  % self.max_iter, ConvergenceWarning)\n"
     ]
    },
    {
     "data": {
      "text/plain": [
       "SVC(C=1.0, cache_size=200, class_weight=None, coef0=0.0,\n",
       "    decision_function_shape='ovr', degree=5, gamma='auto_deprecated',\n",
       "    kernel='poly', max_iter=5, probability=False, random_state=None,\n",
       "    shrinking=True, tol=0.001, verbose=False)"
      ]
     },
     "execution_count": 64,
     "metadata": {},
     "output_type": "execute_result"
    }
   ],
   "source": [
    "svc.fit(train_data, train_rca)"
   ]
  },
  {
   "cell_type": "code",
   "execution_count": 65,
   "metadata": {},
   "outputs": [
    {
     "data": {
      "text/plain": [
       "array([2, 0, 2, 0, 2, 2, 0, 0, 2, 2, 0, 1, 0, 2, 2, 2, 2, 2, 0, 0, 0, 0,\n",
       "       0, 2, 2, 2, 0, 0, 0, 2, 0, 2, 2, 0, 2, 2, 0, 0, 0, 0, 0, 0, 2, 0,\n",
       "       2, 0, 0, 0, 2, 0])"
      ]
     },
     "execution_count": 65,
     "metadata": {},
     "output_type": "execute_result"
    }
   ],
   "source": [
    "svc_pred = svc.predict(test_data)\n",
    "\n",
    "svc_pred"
   ]
  },
  {
   "cell_type": "code",
   "execution_count": 66,
   "metadata": {},
   "outputs": [
    {
     "name": "stdout",
     "output_type": "stream",
     "text": [
      "              precision    recall  f1-score   support\n",
      "\n",
      "           0       0.07      0.33      0.12         6\n",
      "           1       1.00      0.03      0.06        34\n",
      "           2       0.23      0.50      0.31        10\n",
      "\n",
      "    accuracy                           0.16        50\n",
      "   macro avg       0.43      0.29      0.16        50\n",
      "weighted avg       0.73      0.16      0.12        50\n",
      "\n",
      "Accuracy Score is 0.16\n"
     ]
    },
    {
     "data": {
      "text/html": [
       "<div>\n",
       "<style scoped>\n",
       "    .dataframe tbody tr th:only-of-type {\n",
       "        vertical-align: middle;\n",
       "    }\n",
       "\n",
       "    .dataframe tbody tr th {\n",
       "        vertical-align: top;\n",
       "    }\n",
       "\n",
       "    .dataframe thead th {\n",
       "        text-align: right;\n",
       "    }\n",
       "</style>\n",
       "<table border=\"1\" class=\"dataframe\">\n",
       "  <thead>\n",
       "    <tr style=\"text-align: right;\">\n",
       "      <th></th>\n",
       "      <th>0</th>\n",
       "      <th>1</th>\n",
       "      <th>2</th>\n",
       "    </tr>\n",
       "  </thead>\n",
       "  <tbody>\n",
       "    <tr>\n",
       "      <td>0</td>\n",
       "      <td>2</td>\n",
       "      <td>0</td>\n",
       "      <td>4</td>\n",
       "    </tr>\n",
       "    <tr>\n",
       "      <td>1</td>\n",
       "      <td>20</td>\n",
       "      <td>1</td>\n",
       "      <td>13</td>\n",
       "    </tr>\n",
       "    <tr>\n",
       "      <td>2</td>\n",
       "      <td>5</td>\n",
       "      <td>0</td>\n",
       "      <td>5</td>\n",
       "    </tr>\n",
       "  </tbody>\n",
       "</table>\n",
       "</div>"
      ],
      "text/plain": [
       "    0  1   2\n",
       "0   2  0   4\n",
       "1  20  1  13\n",
       "2   5  0   5"
      ]
     },
     "execution_count": 66,
     "metadata": {},
     "output_type": "execute_result"
    }
   ],
   "source": [
    "print(classification_report(test_rca, svc_pred))\n",
    "\n",
    "print('Accuracy Score is', accuracy_score(test_rca, svc_pred ))\n",
    "\n",
    "pd.DataFrame(confusion_matrix(test_rca, svc_pred))"
   ]
  },
  {
   "cell_type": "code",
   "execution_count": 68,
   "metadata": {},
   "outputs": [],
   "source": [
    "from xgboost import XGBClassifier"
   ]
  },
  {
   "cell_type": "code",
   "execution_count": 69,
   "metadata": {},
   "outputs": [],
   "source": [
    "xgboost=XGBClassifier(base_score=0.5, booster=None, colsample_bylevel=1,\n",
    "              colsample_bynode=1, colsample_bytree=1, gamma=0, gpu_id=-1,\n",
    "              importance_type='gain', interaction_constraints=None,\n",
    "              learning_rate=0.1, max_delta_step=0, max_depth=5,\n",
    "              min_child_weight=1, monotone_constraints=None,\n",
    "              n_estimators=180, n_jobs=0, num_parallel_tree=1,\n",
    "              objective='binary:logistic', random_state=0, reg_alpha=0,\n",
    "              reg_lambda=1, scale_pos_weight=1, subsample=1, tree_method=None,\n",
    "              validate_parameters=False, verbosity=None)\n",
    "\n",
    "\n",
    "xgboost=xgboost.fit(train_data, train_rca)\n",
    "predxgboost=xgboost.predict(test_data)"
   ]
  },
  {
   "cell_type": "code",
   "execution_count": 77,
   "metadata": {},
   "outputs": [
    {
     "name": "stdout",
     "output_type": "stream",
     "text": [
      "              precision    recall  f1-score   support\n",
      "\n",
      "           0       0.80      0.67      0.73         6\n",
      "           1       0.92      0.97      0.94        34\n",
      "           2       0.89      0.80      0.84        10\n",
      "\n",
      "    accuracy                           0.90        50\n",
      "   macro avg       0.87      0.81      0.84        50\n",
      "weighted avg       0.90      0.90      0.90        50\n",
      "\n",
      "   0   1  2\n",
      "0  4   2  0\n",
      "1  0  33  1\n",
      "2  1   1  8\n",
      "Accuracy score is 0.9\n"
     ]
    }
   ],
   "source": [
    "print(classification_report(test_rca, predxgboost))\n",
    "print(pd.DataFrame(confusion_matrix(test_rca, predxgboost)))\n",
    "\n",
    "print('Accuracy score is', accuracy_score(test_rca, predxgboost ))\n"
   ]
  },
  {
   "cell_type": "code",
   "execution_count": null,
   "metadata": {},
   "outputs": [],
   "source": []
  }
 ],
 "metadata": {
  "kernelspec": {
   "display_name": "Python 3",
   "language": "python",
   "name": "python3"
  },
  "language_info": {
   "codemirror_mode": {
    "name": "ipython",
    "version": 3
   },
   "file_extension": ".py",
   "mimetype": "text/x-python",
   "name": "python",
   "nbconvert_exporter": "python",
   "pygments_lexer": "ipython3",
   "version": "3.7.4"
  }
 },
 "nbformat": 4,
 "nbformat_minor": 2
}
