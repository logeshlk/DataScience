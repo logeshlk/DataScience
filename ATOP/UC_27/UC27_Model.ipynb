{
 "cells": [
  {
   "cell_type": "code",
   "execution_count": 1,
   "metadata": {},
   "outputs": [],
   "source": [
    "import pandas as pd\n",
    "import numpy as np\n",
    "import datetime as dt\n",
    "from bs4 import BeautifulSoup\n",
    "import re\n",
    "import tqdm\n",
    "import unicodedata\n",
    "# from .. import configs\n",
    "\n",
    "from datetime import date\n",
    "import pickle\n",
    "import glob\n",
    "\n",
    "from sklearn.feature_extraction.text import CountVectorizer\n",
    "\n",
    "# Random Forest model on BOW features\n",
    "from sklearn.ensemble import BaggingClassifier\n",
    "\n",
    "from sklearn.metrics import confusion_matrix, classification_report, accuracy_score\n",
    "\n",
    "from sklearn.model_selection import RepeatedStratifiedKFold\n",
    "from sklearn.model_selection import GridSearchCV\n",
    "from sklearn import preprocessing\n",
    "from sklearn.model_selection import train_test_split"
   ]
  },
  {
   "cell_type": "code",
   "execution_count": 2,
   "metadata": {},
   "outputs": [],
   "source": [
    "def data_preprocessing(path,method,cv_path= 'C:\\\\Users\\\\45448\\\\Documents\\\\ATOP\\\\UC_27\\\\cv_train.pkl'):\n",
    "    \n",
    "    df = pd.read_csv(path, encoding='ISO-8859-1')\n",
    "\n",
    "    # df=pd.read_csv(frame,encoding = \"ISO-8859-1\")\n",
    "    df['Buckets Items'].fillna('', inplace=True)\n",
    "    df['Predecessor TestCase ID'].fillna(0, inplace=True)\n",
    "    df['Successor TestCase ID'].fillna(0, inplace=True)\n",
    "    df['Test Step Update Date'] = pd.to_datetime(df['Test Step Update Date'])\n",
    "    df['Step_update_date'] = df['Test Step Update Date'].dt.day\n",
    "    df['Step_update_month'] = df['Test Step Update Date'].dt.month\n",
    "    df['Execution Time for test step'] = pd.to_datetime(df['Execution Time for test step'])\n",
    "    df['exe_date'] = df['Execution Time for test step'].dt.day\n",
    "    df['exe_month'] = df['Execution Time for test step'].dt.month\n",
    "    df['exe_hour'] = df['Execution Time for test step'].dt.hour\n",
    "    df['exe_min'] = df['Execution Time for test step'].dt.minute\n",
    "    df['exe_sec'] = df['Execution Time for test step'].dt.second\n",
    "    df['Test Case Update Date'] = pd.to_datetime(df['Test Case Update Date'])\n",
    "    df['case_update_date'] = df['Test Case Update Date'].dt.day\n",
    "    df['case_update_month'] = df['Test Case Update Date'].dt.month\n",
    "    df['Data Sheet Update Date'] = pd.to_datetime(df['Data Sheet Update Date'])\n",
    "    df['data_update_date'] = df['Data Sheet Update Date'].dt.day\n",
    "    df['data_update_month'] = df['Data Sheet Update Date'].dt.month\n",
    "    df['Failure Date for a step'] = pd.to_datetime(df['Failure Date for a step'])\n",
    "    df['step_failed_date'] = df['Failure Date for a step'].dt.day\n",
    "    df['step_failed_month'] = df['Failure Date for a step'].dt.month\n",
    "    df['Failure type- Update Date'] = pd.to_datetime(df['Failure type- Update Date'])\n",
    "    df['RCA_update_date'] = df['Failure type- Update Date'].dt.day\n",
    "    df['RCA_update_month'] = df['Failure type- Update Date'].dt.month\n",
    "    df.drop(columns = {'Execution Time for test step','Test Step Update Date',\n",
    "                   'Test Case Update Date','Data Sheet Update Date','Failure Date for a step',\n",
    "                   'Failure type- Update Date', 'Test Run Id'}, inplace=True)    \n",
    "    df['Exception Name'] = df['Exception Name'].astype('str')\n",
    "    df1 = cv_conversion(pre_process_corpus(df['Exception Name']),method,cv_path)\n",
    "        \n",
    "                \n",
    "    if method == 'training':\n",
    "        df['Buckets Items'].replace({\"Environment Issue\": \"Application Issue\",\"Timing Exception\": \"Application Issue\", \"Infrastrature Issue\": \"Data related Issue\",\n",
    "        'Timing Issue' : 'Data related Issue', 'Latency related issue' : 'Application Issue' }, inplace=True)\n",
    "        data = pd.concat([df1,df], axis=1)\n",
    "        data['Buckets Items'] = data['Buckets Items'].replace({\"Application Issue\":0, \"Automation Issue\":1, \"Data related Issue\":2})\n",
    "    else :\n",
    "        data = pd.concat([df1,df], axis=1)\n",
    "        \n",
    "    data.drop(columns={'Exception Name'},inplace=True)\n",
    "        \n",
    "             \n",
    "    #Target Renaming\n",
    "    data = data.rename(columns={'Buckets Items' : 'FailureReason'})\n",
    "        \n",
    "        \n",
    "    return data\n"
   ]
  },
  {
   "cell_type": "code",
   "execution_count": 3,
   "metadata": {},
   "outputs": [],
   "source": [
    "\n",
    "def strip_html_tags(text):\n",
    "  soup = BeautifulSoup(text, \"html.parser\")\n",
    "  [s.extract() for s in soup(['iframe', 'script'])]\n",
    "  stripped_text = soup.get_text()\n",
    "  stripped_text = re.sub(r'[\\r|\\n|\\r\\n]+', '\\n', stripped_text)\n",
    "  return stripped_text"
   ]
  },
  {
   "cell_type": "code",
   "execution_count": 4,
   "metadata": {},
   "outputs": [],
   "source": [
    "#function defined to remove unicode data\n",
    "\n",
    "def remove_accented_chars(text):\n",
    "  text = unicodedata.normalize('NFKD', text).encode('ascii', 'ignore').decode('utf-8', 'ignore')\n",
    "  return text"
   ]
  },
  {
   "cell_type": "code",
   "execution_count": 5,
   "metadata": {},
   "outputs": [],
   "source": [
    "# lower case and remove special characters\\whitespaces\n",
    "\n",
    "def pre_process_corpus(docs):\n",
    "  norm_docs = []\n",
    "  for doc in tqdm.tqdm(docs):\n",
    "    doc = strip_html_tags(doc)\n",
    "    doc = doc.translate(doc.maketrans(\"\\n\\t\\r\", \"   \"))\n",
    "    doc = doc.lower()\n",
    "    doc = remove_accented_chars(doc)\n",
    "    #doc = contractions.fix(doc)\n",
    "    # lower case and remove special characters\\whitespaces\n",
    "    doc = re.sub(r'[^a-zA-Z0-9\\s]', '', doc, re.I|re.A)\n",
    "    doc = re.sub(' +', ' ', doc)\n",
    "    doc = doc.strip()\n",
    "    doc=re.sub('[0-9]', '', doc)\n",
    "    norm_docs.append(doc)\n",
    "  \n",
    "  return norm_docs"
   ]
  },
  {
   "cell_type": "code",
   "execution_count": 6,
   "metadata": {},
   "outputs": [],
   "source": [
    "def cv_conversion(df,method,cv_path):\n",
    "    \n",
    "    if method == 'training':\n",
    "        cv = CountVectorizer(ngram_range=(1, 1), min_df=0.001, max_df=0.99)\n",
    "        cv_exception_matrix = cv.fit_transform(df)\n",
    "        pickle.dump(cv, open(cv_path, 'wb'))\n",
    "    else:\n",
    "        cv = pickle.load(open(cv_path,'rb'))\n",
    "        cv_exception_matrix = cv.transform(df)\n",
    "        \n",
    "    \n",
    "    cv_exception_matrix=cv_exception_matrix.toarray()\n",
    "    # get all unique words in the corpus\n",
    "    vocab = cv.get_feature_names()\n",
    "    # show document feature vectors\n",
    "    data2=pd.DataFrame(cv_exception_matrix, columns=vocab)\n",
    "        \n",
    "    return data2"
   ]
  },
  {
   "cell_type": "code",
   "execution_count": 7,
   "metadata": {},
   "outputs": [],
   "source": [
    "def model_training(data, path='C:\\\\Users\\\\45448\\\\Documents\\\\ATOP\\\\UC_27\\\\model.pkl'):\n",
    "    x = data.loc[:, data.columns != 'FailureReason']\n",
    "    y = data['FailureReason']\n",
    "    train_data, test_data, train_rca, test_rca = train_test_split(x,y, test_size=0.2, random_state=42,stratify=y)\n",
    "    \n",
    "    \n",
    "    # define models and parameters\n",
    "    model = BaggingClassifier()\n",
    "    n_estimators = [i for i in range(1000) if any(i % x == 0 for x in [50])]\n",
    "    # define grid search\n",
    "    grid = dict(n_estimators=n_estimators)\n",
    "    cv = RepeatedStratifiedKFold(n_splits=10, n_repeats=3, random_state=1)\n",
    "    grid_search = GridSearchCV(estimator=model, param_grid=grid, n_jobs=-1, cv=cv, scoring='accuracy',error_score=0)\n",
    "    grid_search.fit(train_data, train_rca)\n",
    "    grid_result = grid_search.predict(test_data)\n",
    "    accuracy=accuracy_score(test_rca, grid_result )\n",
    "    \n",
    "    print ('Accuracy Score is', accuracy)\n",
    "    \n",
    "    model = grid_search.fit(x,y)   \n",
    "\n",
    "    pickle.dump(model, open(path, 'wb'))\n",
    "    \n",
    "    \n",
    "    \n",
    "    return accuracy"
   ]
  },
  {
   "cell_type": "code",
   "execution_count": 8,
   "metadata": {},
   "outputs": [],
   "source": [
    "def model_predict(mdl_path,output,input):\n",
    "    \n",
    "    data = data_preprocessing(input,method='predict')   \n",
    "\n",
    "    x = data.loc[:, data.columns != 'FailureReason']    \n",
    "    # load the model from disk\n",
    "    loaded_model = pickle.load(open(mdl_path,'rb'))\n",
    "    \n",
    "    result = loaded_model.predict(x)\n",
    "    pred_result = pd.DataFrame(result, columns=['FailureReason'])\n",
    "    filename =output+'pred_result_{}.csv'.format(date.today())\n",
    "    pred_result.to_csv(filename,index=False)\n",
    "    pred_result['FailureReason'] = pred_result['FailureReason'].replace({0:'Application Issue',1: 'Automation Issue', 2: 'Data related Issue'})\n",
    "    ip = pd.read_csv(input,encoding = \"ISO-8859-1\")\n",
    "    ip.drop(columns = 'Buckets Items', inplace=True)\n",
    "    ip = ip.rename(columns={'Test Case ID' : 'TestCaseID',\n",
    "                            'Failed Steps' : 'FailedSteps',\n",
    "                            'Exception Name': 'ExceptionName'})\n",
    "    op = pd.concat([ip,pred_result], axis=1)\n",
    "    filename =output+'output_{}.csv'.format(date.today())\n",
    "    op.to_csv(filename,index=False)\n",
    "    df = pd.DataFrame(op, columns = ['TestCaseID','FailedSteps','ExceptionName','FailureReason'])\n",
    "    filename=output+'UC_27.json'\n",
    "    df.to_json(filename,orient='records')    \n",
    "    return df.to_json(orient='records') \n",
    "    "
   ]
  },
  {
   "cell_type": "code",
   "execution_count": 9,
   "metadata": {},
   "outputs": [],
   "source": [
    "def preprocessing(path,method):\n",
    "    print('path--------------------',path)\n",
    "    print('method--------------------',method)\n",
    "    if method == \"training\" :\n",
    "        df_train = data_preprocessing(path,method)\n",
    "        status = model_training(df_train )\n",
    "\n",
    "    return status"
   ]
  },
  {
   "cell_type": "code",
   "execution_count": 10,
   "metadata": {},
   "outputs": [
    {
     "name": "stdout",
     "output_type": "stream",
     "text": [
      "path-------------------- UC27_NewData.csv\n",
      "method-------------------- training\n"
     ]
    },
    {
     "name": "stderr",
     "output_type": "stream",
     "text": [
      "100%|██████████| 250/250 [00:00<00:00, 3970.66it/s]\n",
      "C:\\ProgramData\\Anaconda3\\lib\\site-packages\\sklearn\\model_selection\\_search.py:814: DeprecationWarning: The default of the `iid` parameter will change from True to False in version 0.22 and will be removed in 0.24. This will change numeric results when test-set sizes are unequal.\n",
      "  DeprecationWarning)\n"
     ]
    },
    {
     "name": "stdout",
     "output_type": "stream",
     "text": [
      "Accuracy Score is 0.92\n"
     ]
    },
    {
     "name": "stderr",
     "output_type": "stream",
     "text": [
      "C:\\ProgramData\\Anaconda3\\lib\\site-packages\\sklearn\\model_selection\\_search.py:814: DeprecationWarning: The default of the `iid` parameter will change from True to False in version 0.22 and will be removed in 0.24. This will change numeric results when test-set sizes are unequal.\n",
      "  DeprecationWarning)\n"
     ]
    }
   ],
   "source": [
    "result=preprocessing(path='UC27_NewData.csv',method='training')"
   ]
  },
  {
   "cell_type": "code",
   "execution_count": 11,
   "metadata": {},
   "outputs": [
    {
     "data": {
      "text/plain": [
       "0.92"
      ]
     },
     "execution_count": 11,
     "metadata": {},
     "output_type": "execute_result"
    }
   ],
   "source": [
    "result"
   ]
  },
  {
   "cell_type": "code",
   "execution_count": 12,
   "metadata": {
    "scrolled": true
   },
   "outputs": [
    {
     "name": "stderr",
     "output_type": "stream",
     "text": [
      "100%|██████████| 51/51 [00:00<00:00, 8523.99it/s]\n"
     ]
    },
    {
     "data": {
      "text/plain": [
       "'[{\"TestCaseID\":457,\"FailedSteps\":5.1,\"ExceptionName\":\"TimeoutException\",\"FailureReason\":\"Automation Issue\"},{\"TestCaseID\":457,\"FailedSteps\":5.7,\"ExceptionName\":\"Verification Failed. Expected text: \\\\\"Manual Handling\\\\\" Not found in element\",\"FailureReason\":\"Application Issue\"},{\"TestCaseID\":457,\"FailedSteps\":5.8,\"ExceptionName\":\"Verification Failed. Expected value: \\\\\"Name:\\'data_policiy_id\\' \\\\\"No such attribute\",\"FailureReason\":\"Application Issue\"},{\"TestCaseID\":457,\"FailedSteps\":5.9,\"ExceptionName\":\"Verification Failed. Expected text: \\\\\"Manual Handling\\\\\" Not found in element\",\"FailureReason\":\"Automation Issue\"},{\"TestCaseID\":457,\"FailedSteps\":6.1,\"ExceptionName\":\"TOO_MANY_ROWS Exception\",\"FailureReason\":\"Data related Issue\"},{\"TestCaseID\":457,\"FailedSteps\":6.2,\"ExceptionName\":\"Verification Failed. Expected value: \\\\\"Name:\\'q\\' \\\\\"No such attribute\",\"FailureReason\":\"Application Issue\"},{\"TestCaseID\":457,\"FailedSteps\":6.3,\"ExceptionName\":\"Verification Failed. Expected text: \\\\\"Manual Handling\\\\\" Not found in element\",\"FailureReason\":\"Automation Issue\"},{\"TestCaseID\":457,\"FailedSteps\":6.4,\"ExceptionName\":\"Verification Failed. Expected text: \\\\\"Manual Handling\\\\\" Not found in element\",\"FailureReason\":\"Automation Issue\"},{\"TestCaseID\":457,\"FailedSteps\":6.5,\"ExceptionName\":\"TOO_MANY_ROWS Exception\",\"FailureReason\":\"Data related Issue\"},{\"TestCaseID\":457,\"FailedSteps\":7.1,\"ExceptionName\":\"Verification Failed. Expected text: \\\\\"Manual Handling\\\\\" Not found in element\",\"FailureReason\":\"Automation Issue\"},{\"TestCaseID\":457,\"FailedSteps\":7.4,\"ExceptionName\":\"Inavlid selector:Unable to locate element: {\\\\\"method\\\\\":\\\\\"xpath\\\\\",\\\\\"selector\\\\\":\\\\\"\\\\/\\\\/div[@id=\\\\\"FindPolicyScreen-FNOLWizardFindPolicyPanelSet-PolicyResultLV-0-Insured\\\\\"]\\\\/div\\\\/div\\\\\"}\",\"FailureReason\":\"Automation Issue\"},{\"TestCaseID\":457,\"FailedSteps\":7.5,\"ExceptionName\":\"Verification Failed. Expected text: \\\\\"Manual Handling\\\\\" Not found in element\",\"FailureReason\":\"Automation Issue\"},{\"TestCaseID\":457,\"FailedSteps\":7.6,\"ExceptionName\":\"JsonException\",\"FailureReason\":\"Automation Issue\"},{\"TestCaseID\":457,\"FailedSteps\":7.7,\"ExceptionName\":\"ConnectionClosedException\",\"FailureReason\":\"Automation Issue\"},{\"TestCaseID\":457,\"FailedSteps\":7.8,\"ExceptionName\":\"Verification Failed. Expected text: \\\\\"Manual Handling\\\\\" Not found in element\",\"FailureReason\":\"Automation Issue\"},{\"TestCaseID\":457,\"FailedSteps\":7.9,\"ExceptionName\":\"Verfication Failed. ElementNotVisibleException: {id=\\'Submit\\'}\",\"FailureReason\":\"Application Issue\"},{\"TestCaseID\":457,\"FailedSteps\":7.1,\"ExceptionName\":\"Verification Failed. Expected text: \\\\\"Manual Handling\\\\\" Not found in element\",\"FailureReason\":\"Automation Issue\"},{\"TestCaseID\":457,\"FailedSteps\":7.11,\"ExceptionName\":\"ConnectionClosedException\",\"FailureReason\":\"Automation Issue\"},{\"TestCaseID\":457,\"FailedSteps\":7.12,\"ExceptionName\":\"Verification Failed. Expected text: \\\\\"Manual Handling\\\\\" Not found in element\",\"FailureReason\":\"Automation Issue\"},{\"TestCaseID\":457,\"FailedSteps\":7.13,\"ExceptionName\":\"Unable to set date: java.time.DateTimeException\",\"FailureReason\":\"Application Issue\"},{\"TestCaseID\":457,\"FailedSteps\":7.14,\"ExceptionName\":\"Verification Failed. Expected text: \\\\\"Manual Handling\\\\\" Not found in element\",\"FailureReason\":\"Automation Issue\"},{\"TestCaseID\":457,\"FailedSteps\":7.16,\"ExceptionName\":\"constarint database exception\",\"FailureReason\":\"Data related Issue\"},{\"TestCaseID\":457,\"FailedSteps\":8.1,\"ExceptionName\":\"ConnectionClosedException\",\"FailureReason\":\"Automation Issue\"},{\"TestCaseID\":457,\"FailedSteps\":8.2,\"ExceptionName\":\"Verification Failed. Expected text: \\\\\"Manual Handling\\\\\" Not found in element\",\"FailureReason\":\"Automation Issue\"},{\"TestCaseID\":457,\"FailedSteps\":8.3,\"ExceptionName\":\"TimeoutException: Message: timeout(Session info: chrome=71.0.3578.98)(Driver info: chromedriver=2.42.591088 (7b2b2dca23cca0862f674758c9a3933e685c27d5),platform=Windows NT 10.0.17763 x86_64)\",\"FailureReason\":\"Automation Issue\"},{\"TestCaseID\":457,\"FailedSteps\":8.4,\"ExceptionName\":\"Verification Failed. Expected text: \\\\\"Manual Handling\\\\\" Not found in element\",\"FailureReason\":\"Automation Issue\"},{\"TestCaseID\":457,\"FailedSteps\":8.5,\"ExceptionName\":\"DUP_VAL_ON_INDEX Exception\",\"FailureReason\":\"Automation Issue\"},{\"TestCaseID\":457,\"FailedSteps\":8.6,\"ExceptionName\":\"Verification Failed. Expected text: \\\\\"Manual Handling\\\\\" Not found in element\",\"FailureReason\":\"Automation Issue\"},{\"TestCaseID\":457,\"FailedSteps\":9.1,\"ExceptionName\":\"ConnectionClosedException\",\"FailureReason\":\"Automation Issue\"},{\"TestCaseID\":457,\"FailedSteps\":9.2,\"ExceptionName\":\"Verification Failed. Expected text: \\\\\"Manual Handling\\\\\" Not found in element\",\"FailureReason\":\"Automation Issue\"},{\"TestCaseID\":457,\"FailedSteps\":9.6,\"ExceptionName\":\"org.openqa.selenium.NoSuchFrameException: Cant not find the frame\",\"FailureReason\":\"Automation Issue\"},{\"TestCaseID\":457,\"FailedSteps\":9.7,\"ExceptionName\":\"DUP_VAL_ON_INDEX Exception\",\"FailureReason\":\"Data related Issue\"},{\"TestCaseID\":457,\"FailedSteps\":9.8,\"ExceptionName\":\"org.openqa.selenium.NoSuchFrameException: Cant not find the frame\",\"FailureReason\":\"Automation Issue\"},{\"TestCaseID\":457,\"FailedSteps\":9.1,\"ExceptionName\":\"Verification Failed. Expected text: \\\\\"Manual Handling\\\\\" Not found in element\",\"FailureReason\":\"Automation Issue\"},{\"TestCaseID\":457,\"FailedSteps\":9.12,\"ExceptionName\":\"JsonException\",\"FailureReason\":\"Automation Issue\"},{\"TestCaseID\":457,\"FailedSteps\":9.13,\"ExceptionName\":\"org.openqa.selenium.StaleElementReferenceException\",\"FailureReason\":\"Application Issue\"},{\"TestCaseID\":457,\"FailedSteps\":9.14,\"ExceptionName\":\"DUP_VAL_ON_INDEX Exception\",\"FailureReason\":\"Data related Issue\"},{\"TestCaseID\":457,\"FailedSteps\":9.15,\"ExceptionName\":\"org.openqa.selenium.StaleElementReferenceException\",\"FailureReason\":\"Application Issue\"},{\"TestCaseID\":457,\"FailedSteps\":9.16,\"ExceptionName\":\"Verification Failed. Expected text: \\\\\"Manual Handling\\\\\" Not found in element\",\"FailureReason\":\"Automation Issue\"},{\"TestCaseID\":457,\"FailedSteps\":10.1,\"ExceptionName\":\"TOO_MANY_ROWS Exception\",\"FailureReason\":\"Data related Issue\"},{\"TestCaseID\":457,\"FailedSteps\":10.2,\"ExceptionName\":\"Verfication Failed. ElementNotVisibleException: {class=\\'Data_policiy \\'}\",\"FailureReason\":\"Application Issue\"},{\"TestCaseID\":457,\"FailedSteps\":10.3,\"ExceptionName\":\"Verification Failed. Expected text: \\\\\"Manual Handling\\\\\" Not found in element\",\"FailureReason\":\"Automation Issue\"},{\"TestCaseID\":457,\"FailedSteps\":10.4,\"ExceptionName\":\"TOO_MANY_ROWS Exception\",\"FailureReason\":\"Data related Issue\"},{\"TestCaseID\":457,\"FailedSteps\":10.5,\"ExceptionName\":\"Verfication Failed. ElementNotVisibleException: {xpath=\\\\/\\\\/*[@name=\\'customer type\\']\\\\/option[1]}\",\"FailureReason\":\"Application Issue\"},{\"TestCaseID\":457,\"FailedSteps\":10.7,\"ExceptionName\":\"Verification Failed. Expected text: \\\\\"Manual Handling\\\\\" Not found in element\",\"FailureReason\":\"Automation Issue\"},{\"TestCaseID\":457,\"FailedSteps\":10.8,\"ExceptionName\":\"Intra-enterprise and inter-enterprise integration Exception\",\"FailureReason\":\"Data related Issue\"},{\"TestCaseID\":457,\"FailedSteps\":10.9,\"ExceptionName\":\"constarint database exception\",\"FailureReason\":\"Data related Issue\"},{\"TestCaseID\":457,\"FailedSteps\":10.1,\"ExceptionName\":\"JsonException\",\"FailureReason\":\"Automation Issue\"},{\"TestCaseID\":457,\"FailedSteps\":10.11,\"ExceptionName\":\"Verification Failed. Expected text: \\\\\"Manual Handling\\\\\" Not found in element\",\"FailureReason\":\"Automation Issue\"},{\"TestCaseID\":405,\"FailedSteps\":5.7,\"ExceptionName\":\"ODBC Exception error: 40 - Could not open a connection to SQL Server\",\"FailureReason\":\"Data related Issue\"},{\"TestCaseID\":405,\"FailedSteps\":5.8,\"ExceptionName\":\"Verification Failed. Expected text: \\\\\"Manual Handling\\\\\" Not found in element\",\"FailureReason\":\"Automation Issue\"}]'"
      ]
     },
     "execution_count": 12,
     "metadata": {},
     "output_type": "execute_result"
    }
   ],
   "source": [
    "model_predict(mdl_path = 'C:\\\\Users\\\\45448\\\\Documents\\\\ATOP\\\\UC_27\\\\model.pkl', \n",
    "                   output='C:\\\\Users\\\\45448\\\\Documents\\\\ATOP\\\\UC_27\\\\',\n",
    "                  input = 'UC27_New_TestData.csv')"
   ]
  },
  {
   "cell_type": "code",
   "execution_count": 14,
   "metadata": {},
   "outputs": [
    {
     "name": "stderr",
     "output_type": "stream",
     "text": [
      "100%|██████████| 100/100 [00:00<00:00, 5277.45it/s]\n"
     ]
    },
    {
     "data": {
      "text/plain": [
       "'[{\"TestCaseID\":1,\"FailedSteps\":4.5,\"ExceptionName\":\"Verification Failed. Expected text: \\\\\"Loss Date : Missing required field \\\\\"Loss Date\\\\\"\\\\\" Not found in element\",\"FailureReason\":\"Application Issue\"},{\"TestCaseID\":2,\"FailedSteps\":4.5,\"ExceptionName\":\"Verification Failed. Expected text: \\\\\"Who has passed away? : Missing required field \\\\\"\\\\\"Who has passed away?\\\\\" Not found in element\",\"FailureReason\":\"Automation Issue\"},{\"TestCaseID\":20,\"FailedSteps\":3.5,\"ExceptionName\":\"no such element: Unable to locate element: {\\\\\"method\\\\\":\\\\\"xpath\\\\\",\\\\\"selector\\\\\":\\\\\"\\\\/\\\\/div[@id=\\\\\"FNOLWizard-FNOLWizard_FindPolicyScreen-FNOLWizardFindPolicyPanelSet-PolicyResultLV-0-Insured\\\\\"]\\\\/div\\\\/div\\\\\"}\\\\n  (Session info: chrome=74.0.3729.169)\\\\n  (Driver info: chromedriver=2.46.628402 (536cd7adbad73a3783fdc2cab92ab2ba7ec361e1),platform=Windows NT 10.0.14393 x86_64) (WARNING: The server did not provide any stacktrace information)\\\\nCommand duration or timeout: 0 milliseconds\\\\nFor documentation on this error, please visit: http:\\\\/\\\\/seleniumhq.org\\\\/exceptions\\\\/no_such_element.html\\\\nBuild info: version: \\'3.12.0\\', revision: \\'7c6e0b3\\', time: \\'2018-05-08T15:15:03.216Z\\'\\\\nSystem info: host: \\'WENCSVMT01SEVE\\', ip: \\'10.94.132.8\\', os.name: \\'Windows Server 2016\\', os.arch: \\'amd64\\', os.version: \\'10.0\\', java.version: \\'1.8.0_201\\'\\\\nDriver info: org.openqa.selenium.chrome.ChromeDriver\\\\nCapabilities {acceptInsecureCerts: false, acceptSslCerts: false, applicationCacheEnabled: false, browserConnectionEnabled: false, browserName: chrome, chrome: {chromedriverVersion: 2.46.628402 (536cd7adbad73a..., userDataDir: C:\\\\\\\\Users\\\\\\\\T01SEVE\\\\\\\\AppData\\\\\\\\Lo...}, cssSelectorsEnabled: true, databaseEnabled: false, goog:chromeOptions: {debuggerAddress: localhost:55373}, handlesAlerts: true, hasTouchScreen: false, javascriptEnabled: true, locationContextEnabled: true, mobileEmulationEnabled: false, nativeEvents: true, networkConnectionEnabled: false, pageLoadStrategy: normal, platform: XP, platformName: XP, proxy: Proxy(), rotatable: false, setWindowRect: true, strictFileInteractability: false, takesHeapSnapshot: true, takesScreenshot: true, timeouts: {implicit: 0, pageLoad: 300000, script: 30000}, unexpectedAlertBehaviour: ignore, unhandledPromptBehavior: ignore, version: 74.0.3729.169, webStorageEnabled: true}\\\\nSession ID: dfe8e0c49147bdaa9458b65885e35c0f\\\\n*** Element info: {Using=xpath, value=\\\\/\\\\/div[@id=\\\\\"FNOLWizard-FNOLWizard_FindPolicyScreen-FNOLWizardFindPolicyPanelSet-PolicyResultLV-0-Insured\\\\\"]\\\\/div\\\\/div}\",\"FailureReason\":\"Data related Issue\"},{\"TestCaseID\":23,\"FailedSteps\":12.1,\"ExceptionName\":\"Unable to find object with specified locator (\\\\\"Id\\\\\"=\\\\\"FNOLWizard-Finish\\\\\")\",\"FailureReason\":\"Automation Issue\"},{\"TestCaseID\":45,\"FailedSteps\":4.2,\"ExceptionName\":\"java.lang.reflect.InvocationTargetException\",\"FailureReason\":\"Automation Issue\"},{\"TestCaseID\":67,\"FailedSteps\":4.2,\"ExceptionName\":\"java.lang.reflect.InvocationTargetException\",\"FailureReason\":\"Automation Issue\"},{\"TestCaseID\":73,\"FailedSteps\":8.2,\"ExceptionName\":\"Unable to find object with specified locator (\\\\\"Name\\\\\"=\\\\\"FNOLWizard-FullWizardStepSet-FNOLWizard_TravelLossDetails_TCOScreen-FNOLWizard_TripGenericDetails_TCOPanelSet-FNOLWizard_TheTripSpecificDetails_TCOPanelSet-SpecificDetails-FNOLWizard_Canc_TripSpecificDetails_TCOPanelSet-DamagetoHome_BreakUpType-DamageCauseReasonOtherID\\\\\")\",\"FailureReason\":\"Automation Issue\"},{\"TestCaseID\":74,\"FailedSteps\":11.1,\"ExceptionName\":\"Unable to find object with specified locator (\\\\\"Id\\\\\"=\\\\\"FNOLWizard-Finish\\\\\")\",\"FailureReason\":\"Automation Issue\"},{\"TestCaseID\":76,\"FailedSteps\":9.2,\"ExceptionName\":\"Unable to find object with specified locator (\\\\\"Id\\\\\"=\\\\\"FNOLWizard-FullWizardStepSet-FNOLWizard_TravelLossDetails_TCOScreen-FNOLWizard_TripGenericDetails_TCOPanelSet-FNOLWizard_TheTripSpecificDetails_TCOPanelSet-SpecificDetails-FNOLWizard_Canc_TripSpecificDetails_TCODV-FNOLWizard_Canc_MedPreAssesment_TCOInputSet-CronicalConditionsID_0\\\\\")\",\"FailureReason\":\"Automation Issue\"},{\"TestCaseID\":97,\"FailedSteps\":11.1,\"ExceptionName\":\"Unable to find object with specified locator (\\\\\"Id\\\\\"=\\\\\"FNOLWizard-Finish\\\\\")\",\"FailureReason\":\"Automation Issue\"},{\"TestCaseID\":100,\"FailedSteps\":9.2,\"ExceptionName\":\"Unable to find object with specified locator (\\\\\"Id\\\\\"=\\\\\"FNOLWizard-FullWizardStepSet-FNOLWizard_TravelLossDetails_TCOScreen-FNOLWizard_TripGenericDetails_TCOPanelSet-FNOLWizard_TheTripSpecificDetails_TCOPanelSet-SpecificDetails-FNOLWizard_Canc_TripSpecificDetails_TCODV-FNOLWizard_Canc_MedPreAssesment_TCOInputSet-CronicalConditionsID_0\\\\\")\",\"FailureReason\":\"Automation Issue\"},{\"TestCaseID\":102,\"FailedSteps\":9.2,\"ExceptionName\":\"Unable to find object with specified locator (\\\\\"Id\\\\\"=\\\\\"FNOLWizard-FullWizardStepSet-FNOLWizard_TravelLossDetails_TCOScreen-FNOLWizard_TripGenericDetails_TCOPanelSet-FNOLWizard_TheTripSpecificDetails_TCOPanelSet-SpecificDetails-FNOLWizard_Canc_TripSpecificDetails_TCODV-FNOLWizard_Canc_MedPreAssesment_TCOInputSet-CronicalConditionsID_0\\\\\")\",\"FailureReason\":\"Automation Issue\"},{\"TestCaseID\":104,\"FailedSteps\":9.2,\"ExceptionName\":\"Unable to find object with specified locator (\\\\\"Id\\\\\"=\\\\\"FNOLWizard-FullWizardStepSet-FNOLWizard_TravelLossDetails_TCOScreen-FNOLWizard_TripGenericDetails_TCOPanelSet-FNOLWizard_TheTripSpecificDetails_TCOPanelSet-SpecificDetails-FNOLWizard_Canc_TripSpecificDetails_TCODV-FNOLWizard_Canc_MedPreAssesment_TCOInputSet-CronicalConditionsID_0\\\\\")\",\"FailureReason\":\"Automation Issue\"},{\"TestCaseID\":106,\"FailedSteps\":9.2,\"ExceptionName\":\"Unable to find object with specified locator (\\\\\"Id\\\\\"=\\\\\"FNOLWizard-FullWizardStepSet-FNOLWizard_TravelLossDetails_TCOScreen-FNOLWizard_TripGenericDetails_TCOPanelSet-FNOLWizard_TheTripSpecificDetails_TCOPanelSet-SpecificDetails-FNOLWizard_Canc_TripSpecificDetails_TCODV-FNOLWizard_Canc_MedPreAssesment_TCOInputSet-CronicalConditionsID_0\\\\\")\",\"FailureReason\":\"Automation Issue\"},{\"TestCaseID\":107,\"FailedSteps\":11.1,\"ExceptionName\":\"Unable to find object with specified locator (\\\\\"Id\\\\\"=\\\\\"FNOLWizard-Finish\\\\\")\",\"FailureReason\":\"Automation Issue\"},{\"TestCaseID\":108,\"FailedSteps\":8.3,\"ExceptionName\":\"Unable to find object with specified locator (\\\\\"Id\\\\\"=\\\\\"FNOLWizard-FullWizardStepSet-FNOLWizard_TravelLossDetails_TCOScreen-FNOLWizard_TripGenericDetails_TCOPanelSet-FNOLWizard_TheTripSpecificDetails_TCOPanelSet-SpecificDetails-FNOLWizard_Canc_TripSpecificDetails_TCOPanelSet-OperationInfoID-OperationdateFixedID_1\\\\\")\",\"FailureReason\":\"Automation Issue\"},{\"TestCaseID\":109,\"FailedSteps\":8.3,\"ExceptionName\":\"Unable to find object with specified locator (\\\\\"Id\\\\\"=\\\\\"FNOLWizard-FullWizardStepSet-FNOLWizard_TravelLossDetails_TCOScreen-FNOLWizard_TripGenericDetails_TCOPanelSet-FNOLWizard_TheTripSpecificDetails_TCOPanelSet-SpecificDetails-FNOLWizard_Canc_TripSpecificDetails_TCOPanelSet-OperationInfoID-OperationdateFixedID_1\\\\\")\",\"FailureReason\":\"Automation Issue\"},{\"TestCaseID\":110,\"FailedSteps\":9.3,\"ExceptionName\":\"Verification Failed. Expected text: \\\\\"Step 4 of 6: Add costs information\\\\\" Not found in element\",\"FailureReason\":\"Automation Issue\"},{\"TestCaseID\":112,\"FailedSteps\":8.1,\"ExceptionName\":\"Unable to find object with specified locator (\\\\\"Name\\\\\"=\\\\\"FNOLWizard-FullWizardStepSet-FNOLWizard_TravelLossDetails_TCOScreen-FNOLWizard_TripGenericDetails_TCOPanelSet-FNOLWizard_TheTripSpecificDetails_TCOPanelSet-SpecificDetails-FNOLWizard_Canc_TripSpecificDetails_TCODV-FNOLWizard_Canc_InjuredPerson_TCOInputSet-Injured_Picker\\\\\")\",\"FailureReason\":\"Automation Issue\"},{\"TestCaseID\":113,\"FailedSteps\":11.1,\"ExceptionName\":\"Unable to find object with specified locator (\\\\\"Xpath\\\\\"=\\\\\"\\\\/\\\\/div[@id=\\\\\"ClaimContactDetailPopup-ContactDetailScreen-ttlBar\\\\\"]\\\\/div\\\\/div\\\\\")\",\"FailureReason\":\"Automation Issue\"},{\"TestCaseID\":115,\"FailedSteps\":9.2,\"ExceptionName\":\"Unable to find object with specified locator (\\\\\"Id\\\\\"=\\\\\"FNOLWizard-FullWizardStepSet-FNOLWizard_TravelLossDetails_TCOScreen-FNOLWizard_TripGenericDetails_TCOPanelSet-FNOLWizard_TheTripSpecificDetails_TCOPanelSet-SpecificDetails-FNOLWizard_Canc_TripSpecificDetails_TCODV-FNOLWizard_Canc_MedPreAssesment_TCOInputSet-CronicalConditionsID_0\\\\\")\",\"FailureReason\":\"Automation Issue\"},{\"TestCaseID\":116,\"FailedSteps\":9.2,\"ExceptionName\":\"Unable to find object with specified locator (\\\\\"Id\\\\\"=\\\\\"FNOLWizard-FullWizardStepSet-FNOLWizard_TravelLossDetails_TCOScreen-FNOLWizard_TripGenericDetails_TCOPanelSet-FNOLWizard_TheTripSpecificDetails_TCOPanelSet-SpecificDetails-FNOLWizard_Canc_TripSpecificDetails_TCODV-FNOLWizard_Canc_MedPreAssesment_TCOInputSet-CronicalConditionsID_0\\\\\")\",\"FailureReason\":\"Automation Issue\"},{\"TestCaseID\":117,\"FailedSteps\":9.2,\"ExceptionName\":\"Unable to find object with specified locator (\\\\\"Id\\\\\"=\\\\\"FNOLWizard-FullWizardStepSet-FNOLWizard_TravelLossDetails_TCOScreen-FNOLWizard_TripGenericDetails_TCOPanelSet-FNOLWizard_TheTripSpecificDetails_TCOPanelSet-SpecificDetails-FNOLWizard_Canc_TripSpecificDetails_TCODV-FNOLWizard_Canc_MedPreAssesment_TCOInputSet-CronicalConditionsID_0\\\\\")\",\"FailureReason\":\"Automation Issue\"},{\"TestCaseID\":118,\"FailedSteps\":9.2,\"ExceptionName\":\"Unable to find object with specified locator (\\\\\"Id\\\\\"=\\\\\"FNOLWizard-FullWizardStepSet-FNOLWizard_TravelLossDetails_TCOScreen-FNOLWizard_TripGenericDetails_TCOPanelSet-FNOLWizard_TheTripSpecificDetails_TCOPanelSet-SpecificDetails-FNOLWizard_Canc_TripSpecificDetails_TCODV-FNOLWizard_Canc_MedPreAssesment_TCOInputSet-CronicalConditionsID_0\\\\\")\",\"FailureReason\":\"Automation Issue\"},{\"TestCaseID\":119,\"FailedSteps\":9.2,\"ExceptionName\":\"Unable to find object with specified locator (\\\\\"Id\\\\\"=\\\\\"FNOLWizard-FullWizardStepSet-FNOLWizard_TravelLossDetails_TCOScreen-FNOLWizard_TripGenericDetails_TCOPanelSet-FNOLWizard_TheTripSpecificDetails_TCOPanelSet-SpecificDetails-FNOLWizard_Canc_TripSpecificDetails_TCODV-FNOLWizard_Canc_MedPreAssesment_TCOInputSet-CronicalConditionsID_0\\\\\")\",\"FailureReason\":\"Automation Issue\"},{\"TestCaseID\":120,\"FailedSteps\":9.2,\"ExceptionName\":\"Unable to find object with specified locator (\\\\\"Id\\\\\"=\\\\\"FNOLWizard-FullWizardStepSet-FNOLWizard_TravelLossDetails_TCOScreen-FNOLWizard_TripGenericDetails_TCOPanelSet-FNOLWizard_TheTripSpecificDetails_TCOPanelSet-SpecificDetails-FNOLWizard_Canc_TripSpecificDetails_TCODV-FNOLWizard_Canc_MedPreAssesment_TCOInputSet-CronicalConditionsID_0\\\\\")\",\"FailureReason\":\"Automation Issue\"},{\"TestCaseID\":121,\"FailedSteps\":9.2,\"ExceptionName\":\"Unable to find object with specified locator (\\\\\"Id\\\\\"=\\\\\"FNOLWizard-FullWizardStepSet-FNOLWizard_TravelLossDetails_TCOScreen-FNOLWizard_TripGenericDetails_TCOPanelSet-FNOLWizard_TheTripSpecificDetails_TCOPanelSet-SpecificDetails-FNOLWizard_Canc_TripSpecificDetails_TCODV-FNOLWizard_Canc_MedPreAssesment_TCOInputSet-CronicalConditionsID_0\\\\\")\",\"FailureReason\":\"Automation Issue\"},{\"TestCaseID\":122,\"FailedSteps\":12.1,\"ExceptionName\":\"Unable to find object with specified locator (\\\\\"Id\\\\\"=\\\\\"FNOLWizard-Finish\\\\\")\",\"FailureReason\":\"Automation Issue\"},{\"TestCaseID\":123,\"FailedSteps\":8.2,\"ExceptionName\":\"Unable to find object with specified locator (\\\\\"Name\\\\\"=\\\\\"FNOLWizard-FullWizardStepSet-FNOLWizard_TravelLossDetails_TCOScreen-FNOLWizard_TripGenericDetails_TCOPanelSet-FNOLWizard_TheTripSpecificDetails_TCOPanelSet-SpecificDetails-FNOLWizard_Canc_TripSpecificDetails_TCOPanelSet-DamagetoHome_BreakUpType-DamageCauseReasonOtherID\\\\\")\",\"FailureReason\":\"Automation Issue\"},{\"TestCaseID\":124,\"FailedSteps\":8.3,\"ExceptionName\":\"Unable to find object with specified locator (\\\\\"Id\\\\\"=\\\\\"FNOLWizard-FullWizardStepSet-FNOLWizard_TravelLossDetails_TCOScreen-FNOLWizard_TripGenericDetails_TCOPanelSet-FNOLWizard_TheTripSpecificDetails_TCOPanelSet-SpecificDetails-FNOLWizard_Canc_TripSpecificDetails_TCOPanelSet-OperationInfoID-OperationdateFixedID_1\\\\\")\",\"FailureReason\":\"Automation Issue\"},{\"TestCaseID\":125,\"FailedSteps\":8.1,\"ExceptionName\":\"Unable to find object with specified locator (\\\\\"Name\\\\\"=\\\\\"FNOLWizard-FullWizardStepSet-FNOLWizard_TravelLossDetails_TCOScreen-FNOLWizard_TripGenericDetails_TCOPanelSet-FNOLWizard_TheTripSpecificDetails_TCOPanelSet-SpecificDetails-FNOLWizard_Canc_TripSpecificDetails_TCODV-FNOLWizard_Canc_InjuredPerson_TCOInputSet-Injured_Picker\\\\\")\",\"FailureReason\":\"Automation Issue\"},{\"TestCaseID\":127,\"FailedSteps\":11.1,\"ExceptionName\":\"Unable to find object with specified locator (\\\\\"Id\\\\\"=\\\\\"FNOLWizard-Finish\\\\\")\",\"FailureReason\":\"Automation Issue\"},{\"TestCaseID\":128,\"FailedSteps\":11.1,\"ExceptionName\":\"Unable to find object with specified locator (\\\\\"Id\\\\\"=\\\\\"FNOLWizard-Finish\\\\\")\",\"FailureReason\":\"Automation Issue\"},{\"TestCaseID\":129,\"FailedSteps\":11.1,\"ExceptionName\":\"Unable to find object with specified locator (\\\\\"Id\\\\\"=\\\\\"FNOLWizard-Finish\\\\\")\",\"FailureReason\":\"Automation Issue\"},{\"TestCaseID\":130,\"FailedSteps\":11.1,\"ExceptionName\":\"Unable to find object with specified locator (\\\\\"Id\\\\\"=\\\\\"FNOLWizard-Finish\\\\\")\",\"FailureReason\":\"Automation Issue\"},{\"TestCaseID\":131,\"FailedSteps\":9.3,\"ExceptionName\":\"Verification Failed. Expected text: \\\\\"Step 4 of 6: Add costs information\\\\\" Not found in element\",\"FailureReason\":\"Automation Issue\"},{\"TestCaseID\":132,\"FailedSteps\":11.1,\"ExceptionName\":\"Unable to find object with specified locator (\\\\\"Id\\\\\"=\\\\\"FNOLWizard-Finish\\\\\")\",\"FailureReason\":\"Automation Issue\"},{\"TestCaseID\":133,\"FailedSteps\":11.1,\"ExceptionName\":\"Unable to find object with specified locator (\\\\\"Id\\\\\"=\\\\\"FNOLWizard-Finish\\\\\")\",\"FailureReason\":\"Automation Issue\"},{\"TestCaseID\":134,\"FailedSteps\":9.1,\"ExceptionName\":\"Unable to find object with specified locator (\\\\\"Id\\\\\"=\\\\\"FNOLWizard-FullWizardStepSet-FNOLWizard_TravelLossDetails_TCOScreen-FNOLWizard_TripGenericDetails_TCOPanelSet-FNOLWizard_TheTripSpecificDetails_TCOPanelSet-SpecificDetails-FNOLWizard_Canc_TripSpecificDetails_TCOPanelSet-IllenessWithMedicalCertificate-ExpectedIncident_0\\\\\")\",\"FailureReason\":\"Automation Issue\"},{\"TestCaseID\":135,\"FailedSteps\":12.12,\"ExceptionName\":\"Unable to find object with specified locator (\\\\\"Xpath\\\\\"=\\\\\"\\\\/\\\\/div[@id=\\\\\"NewClaimSaved-NewClaimSavedScreen-NewClaimSavedDV-Header\\\\\"]\\\\/div\\\\\")\",\"FailureReason\":\"Automation Issue\"},{\"TestCaseID\":137,\"FailedSteps\":10.3,\"ExceptionName\":\"Verification Failed. Expected text: \\\\\"Step 6 of 6: Save and Assign Claim\\\\\" Not found in element\",\"FailureReason\":\"Automation Issue\"},{\"TestCaseID\":138,\"FailedSteps\":8.4,\"ExceptionName\":\"Unable to find object with specified locator (\\\\\"Id\\\\\"=\\\\\"FNOLWizard-FullWizardStepSet-FNOLWizard_TravelLossDetails_TCOScreen-FNOLWizard_TripGenericDetails_TCOPanelSet-FNOLWizard_TheTripSpecificDetails_TCOPanelSet-SpecificDetails-FNOLWizard_Canc_TripSpecificDetails_TCODV-FNOLWizard_Canc_MedPreAssesment_TCOInputSet-CronicalConditionsID_1\\\\\")\",\"FailureReason\":\"Automation Issue\"},{\"TestCaseID\":139,\"FailedSteps\":12.12,\"ExceptionName\":\"Unable to find object with specified locator (\\\\\"Xpath\\\\\"=\\\\\"\\\\/\\\\/div[@id=\\\\\"NewClaimSaved-NewClaimSavedScreen-NewClaimSavedDV-Header\\\\\"]\\\\/div\\\\\")\",\"FailureReason\":\"Automation Issue\"},{\"TestCaseID\":139,\"FailedSteps\":10.3,\"ExceptionName\":\"Verification Failed. Expected text: \\\\\"Step 4 of 6: Add costs information\\\\\" Not found in element\",\"FailureReason\":\"Automation Issue\"},{\"TestCaseID\":140,\"FailedSteps\":12.13,\"ExceptionName\":\"Verification Failed. Expected text: \\\\\"Rejected\\\\\" Not found in element\",\"FailureReason\":\"Automation Issue\"},{\"TestCaseID\":141,\"FailedSteps\":8.3,\"ExceptionName\":\"Unable to find object with specified locator (\\\\\"Id\\\\\"=\\\\\"FNOLWizard-FullWizardStepSet-FNOLWizard_TravelLossDetails_TCOScreen-FNOLWizard_TripGenericDetails_TCOPanelSet-FNOLWizard_TheTripSpecificDetails_TCOPanelSet-SpecificDetails-FNOLWizard_Canc_TripSpecificDetails_TCOPanelSet-OperationInfoID-OperationdateFixedID_1\\\\\")\",\"FailureReason\":\"Automation Issue\"},{\"TestCaseID\":142,\"FailedSteps\":9.2,\"ExceptionName\":\"Unable to find object with specified locator (\\\\\"Id\\\\\"=\\\\\"FNOLWizard-FullWizardStepSet-FNOLWizard_TravelLossDetails_TCOScreen-FNOLWizard_TripGenericDetails_TCOPanelSet-FNOLWizard_TheTripSpecificDetails_TCOPanelSet-SpecificDetails-FNOLWizard_Canc_TripSpecificDetails_TCODV-FNOLWizard_Canc_MedPreAssesment_TCOInputSet-CronicalConditionsID_0\\\\\")\",\"FailureReason\":\"Automation Issue\"},{\"TestCaseID\":142,\"FailedSteps\":9.2,\"ExceptionName\":\"Unable to find object with specified locator (\\\\\"Id\\\\\"=\\\\\"FNOLWizard-FullWizardStepSet-FNOLWizard_TravelLossDetails_TCOScreen-FNOLWizard_TripGenericDetails_TCOPanelSet-FNOLWizard_TheTripSpecificDetails_TCOPanelSet-SpecificDetails-FNOLWizard_Canc_TripSpecificDetails_TCODV-FNOLWizard_Canc_MedPreAssesment_TCOInputSet-CronicalConditionsID_0\\\\\")\",\"FailureReason\":\"Automation Issue\"},{\"TestCaseID\":143,\"FailedSteps\":9.2,\"ExceptionName\":\"Unable to find object with specified locator (\\\\\"Id\\\\\"=\\\\\"FNOLWizard-FullWizardStepSet-FNOLWizard_TravelLossDetails_TCOScreen-FNOLWizard_TripGenericDetails_TCOPanelSet-FNOLWizard_TheTripSpecificDetails_TCOPanelSet-SpecificDetails-FNOLWizard_Canc_TripSpecificDetails_TCODV-FNOLWizard_Canc_MedPreAssesment_TCOInputSet-CronicalConditionsID_0\\\\\")\",\"FailureReason\":\"Automation Issue\"},{\"TestCaseID\":143,\"FailedSteps\":9.2,\"ExceptionName\":\"Unable to find object with specified locator (\\\\\"Id\\\\\"=\\\\\"FNOLWizard-FullWizardStepSet-FNOLWizard_TravelLossDetails_TCOScreen-FNOLWizard_TripGenericDetails_TCOPanelSet-FNOLWizard_TheTripSpecificDetails_TCOPanelSet-SpecificDetails-FNOLWizard_Canc_TripSpecificDetails_TCODV-FNOLWizard_Canc_MedPreAssesment_TCOInputSet-CronicalConditionsID_0\\\\\")\",\"FailureReason\":\"Automation Issue\"},{\"TestCaseID\":144,\"FailedSteps\":5.5,\"ExceptionName\":\"Insured Name:  LISE FOS ABEL has been created and stored in DT_INSURED_NAME\",\"FailureReason\":\"Automation Issue\"},{\"TestCaseID\":144,\"FailedSteps\":3.7,\"ExceptionName\":\"Insured Name:  01.05.2020 has been created and stored in DT_EXPIRATION_DATE\",\"FailureReason\":\"Automation Issue\"},{\"TestCaseID\":144,\"FailedSteps\":6.2,\"ExceptionName\":\"Verification Failed. Expected text: \\\\\"Step 3 of 6: Add claim information\\\\\" Not found in element\",\"FailureReason\":\"Automation Issue\"},{\"TestCaseID\":144,\"FailedSteps\":3.6,\"ExceptionName\":\"Effective Date:  01.05.2019 has been created and stored in DT_EFFECTIVE_DATE\",\"FailureReason\":\"Data related Issue\"},{\"TestCaseID\":144,\"FailedSteps\":3.5,\"ExceptionName\":\"Insured Name:  LISE FOS ABEL has been created and stored in DT_INSURED_NAME\",\"FailureReason\":\"Automation Issue\"},{\"TestCaseID\":145,\"FailedSteps\":3.6,\"ExceptionName\":\"Effective Date:  01.05.2019 has been created and stored in DT_EFFECTIVE_DATE\",\"FailureReason\":\"Data related Issue\"},{\"TestCaseID\":145,\"FailedSteps\":5.5,\"ExceptionName\":\"Insured Name:  LISE FOS ABEL has been created and stored in DT_INSURED_NAME\",\"FailureReason\":\"Automation Issue\"},{\"TestCaseID\":145,\"FailedSteps\":6.2,\"ExceptionName\":\"Verification Failed. Expected text: \\\\\"Step 3 of 6: Add claim information\\\\\" Not found in element\",\"FailureReason\":\"Automation Issue\"},{\"TestCaseID\":145,\"FailedSteps\":3.5,\"ExceptionName\":\"Insured Name:  LISE FOS ABEL has been created and stored in DT_INSURED_NAME\",\"FailureReason\":\"Automation Issue\"},{\"TestCaseID\":145,\"FailedSteps\":3.7,\"ExceptionName\":\"Insured Name:  01.05.2020 has been created and stored in DT_EXPIRATION_DATE\",\"FailureReason\":\"Automation Issue\"},{\"TestCaseID\":146,\"FailedSteps\":5.5,\"ExceptionName\":\"Insured Name:  LISE FOS ABEL has been created and stored in DT_INSURED_NAME\",\"FailureReason\":\"Automation Issue\"},{\"TestCaseID\":146,\"FailedSteps\":6.2,\"ExceptionName\":\"Verification Failed. Expected text: \\\\\"Step 3 of 6: Add claim information\\\\\" Not found in element\",\"FailureReason\":\"Automation Issue\"},{\"TestCaseID\":146,\"FailedSteps\":3.5,\"ExceptionName\":\"Insured Name:  LISE FOS ABEL has been created and stored in DT_INSURED_NAME\",\"FailureReason\":\"Automation Issue\"},{\"TestCaseID\":146,\"FailedSteps\":3.6,\"ExceptionName\":\"Effective Date:  01.05.2019 has been created and stored in DT_EFFECTIVE_DATE\",\"FailureReason\":\"Data related Issue\"},{\"TestCaseID\":146,\"FailedSteps\":3.7,\"ExceptionName\":\"Insured Name:  01.05.2020 has been created and stored in DT_EXPIRATION_DATE\",\"FailureReason\":\"Automation Issue\"},{\"TestCaseID\":147,\"FailedSteps\":6.2,\"ExceptionName\":\"Verification Failed. Expected text: \\\\\"Step 3 of 6: Add claim information\\\\\" Not found in element\",\"FailureReason\":\"Automation Issue\"},{\"TestCaseID\":147,\"FailedSteps\":3.7,\"ExceptionName\":\"Insured Name:  01.05.2020 has been created and stored in DT_EXPIRATION_DATE\",\"FailureReason\":\"Automation Issue\"},{\"TestCaseID\":147,\"FailedSteps\":3.6,\"ExceptionName\":\"Effective Date:  01.05.2019 has been created and stored in DT_EFFECTIVE_DATE\",\"FailureReason\":\"Data related Issue\"},{\"TestCaseID\":147,\"FailedSteps\":3.5,\"ExceptionName\":\"Insured Name:  LISE FOS ABEL has been created and stored in DT_INSURED_NAME\",\"FailureReason\":\"Automation Issue\"},{\"TestCaseID\":147,\"FailedSteps\":5.5,\"ExceptionName\":\"Insured Name:  LISE FOS ABEL has been created and stored in DT_INSURED_NAME\",\"FailureReason\":\"Automation Issue\"},{\"TestCaseID\":148,\"FailedSteps\":6.2,\"ExceptionName\":\"Verification Failed. Expected text: \\\\\"Step 3 of 6: Add claim information\\\\\" Not found in element\",\"FailureReason\":\"Automation Issue\"},{\"TestCaseID\":148,\"FailedSteps\":5.5,\"ExceptionName\":\"Insured Name:  LISE FOS ABEL has been created and stored in DT_INSURED_NAME\",\"FailureReason\":\"Automation Issue\"},{\"TestCaseID\":148,\"FailedSteps\":3.7,\"ExceptionName\":\"Insured Name:  01.05.2020 has been created and stored in DT_EXPIRATION_DATE\",\"FailureReason\":\"Automation Issue\"},{\"TestCaseID\":148,\"FailedSteps\":3.6,\"ExceptionName\":\"Effective Date:  01.05.2019 has been created and stored in DT_EFFECTIVE_DATE\",\"FailureReason\":\"Data related Issue\"},{\"TestCaseID\":148,\"FailedSteps\":3.5,\"ExceptionName\":\"Insured Name:  LISE FOS ABEL has been created and stored in DT_INSURED_NAME\",\"FailureReason\":\"Automation Issue\"},{\"TestCaseID\":149,\"FailedSteps\":3.7,\"ExceptionName\":\"Insured Name:  01.05.2020 has been created and stored in DT_EXPIRATION_DATE\",\"FailureReason\":\"Automation Issue\"},{\"TestCaseID\":149,\"FailedSteps\":3.5,\"ExceptionName\":\"Insured Name:  LISE FOS ABEL has been created and stored in DT_INSURED_NAME\",\"FailureReason\":\"Automation Issue\"},{\"TestCaseID\":149,\"FailedSteps\":6.2,\"ExceptionName\":\"Verification Failed. Expected text: \\\\\"Step 3 of 6: Add claim information\\\\\" Not found in element\",\"FailureReason\":\"Automation Issue\"},{\"TestCaseID\":149,\"FailedSteps\":5.5,\"ExceptionName\":\"Insured Name:  LISE FOS ABEL has been created and stored in DT_INSURED_NAME\",\"FailureReason\":\"Automation Issue\"},{\"TestCaseID\":149,\"FailedSteps\":3.6,\"ExceptionName\":\"Effective Date:  01.05.2019 has been created and stored in DT_EFFECTIVE_DATE\",\"FailureReason\":\"Data related Issue\"},{\"TestCaseID\":150,\"FailedSteps\":3.7,\"ExceptionName\":\"Insured Name:  01.05.2020 has been created and stored in DT_EXPIRATION_DATE\",\"FailureReason\":\"Automation Issue\"},{\"TestCaseID\":150,\"FailedSteps\":3.5,\"ExceptionName\":\"Insured Name:  LISE FOS ABEL has been created and stored in DT_INSURED_NAME\",\"FailureReason\":\"Automation Issue\"},{\"TestCaseID\":150,\"FailedSteps\":6.2,\"ExceptionName\":\"Verification Failed. Expected text: \\\\\"Step 3 of 6: Add claim information\\\\\" Not found in element\",\"FailureReason\":\"Automation Issue\"},{\"TestCaseID\":150,\"FailedSteps\":5.5,\"ExceptionName\":\"Insured Name:  LISE FOS ABEL has been created and stored in DT_INSURED_NAME\",\"FailureReason\":\"Automation Issue\"},{\"TestCaseID\":150,\"FailedSteps\":3.6,\"ExceptionName\":\"Effective Date:  01.05.2019 has been created and stored in DT_EFFECTIVE_DATE\",\"FailureReason\":\"Data related Issue\"},{\"TestCaseID\":151,\"FailedSteps\":3.6,\"ExceptionName\":\"Effective Date:  01.05.2019 has been created and stored in DT_EFFECTIVE_DATE\",\"FailureReason\":\"Data related Issue\"},{\"TestCaseID\":151,\"FailedSteps\":5.5,\"ExceptionName\":\"Insured Name:  LISE FOS ABEL has been created and stored in DT_INSURED_NAME\",\"FailureReason\":\"Automation Issue\"},{\"TestCaseID\":151,\"FailedSteps\":3.5,\"ExceptionName\":\"Insured Name:  LISE FOS ABEL has been created and stored in DT_INSURED_NAME\",\"FailureReason\":\"Automation Issue\"},{\"TestCaseID\":151,\"FailedSteps\":6.2,\"ExceptionName\":\"Verification Failed. Expected text: \\\\\"Step 3 of 6: Add claim information\\\\\" Not found in element\",\"FailureReason\":\"Automation Issue\"},{\"TestCaseID\":151,\"FailedSteps\":3.7,\"ExceptionName\":\"Insured Name:  01.05.2020 has been created and stored in DT_EXPIRATION_DATE\",\"FailureReason\":\"Automation Issue\"},{\"TestCaseID\":153,\"FailedSteps\":9.12,\"ExceptionName\":\"Unable to find object with specified locator (\\\\\"Id\\\\\"=\\\\\"TripSegmentPopup-ClaimTripSegmentDetailDV-ClaimTripSegmentDetailDV_tb-Update\\\\\")\",\"FailureReason\":\"Automation Issue\"},{\"TestCaseID\":154,\"FailedSteps\":9.12,\"ExceptionName\":\"Unable to find object with specified locator (\\\\\"Id\\\\\"=\\\\\"TripSegmentPopup-ClaimTripSegmentDetailDV-ClaimTripSegmentDetailDV_tb-Update\\\\\")\",\"FailureReason\":\"Automation Issue\"},{\"TestCaseID\":157,\"FailedSteps\":8.2,\"ExceptionName\":\"Unable to find object with specified locator (\\\\\"Name\\\\\"=\\\\\"FNOLWizard-FullWizardStepSet-FNOLWizard_TravelLossDetails_TCOScreen-FNOLWizard_TripGenericDetails_TCOPanelSet-FNOLWizard_TheTripSpecificDetails_TCOPanelSet-SpecificDetails-FNOLWizard_Canc_TripSpecificDetails_TCOPanelSet-DamagetoHome_BreakUpType-DamageCauseReasonOtherID\\\\\")\",\"FailureReason\":\"Automation Issue\"},{\"TestCaseID\":159,\"FailedSteps\":8.1,\"ExceptionName\":\"Unable to find object with specified locator (\\\\\"Name\\\\\"=\\\\\"FNOLWizard-FullWizardStepSet-FNOLWizard_TravelLossDetails_TCOScreen-FNOLWizard_TripGenericDetails_TCOPanelSet-FNOLWizard_TheTripSpecificDetails_TCOPanelSet-SpecificDetails-FNOLWizard_Canc_TripSpecificDetails_TCODV-FNOLWizard_Canc_KeyPerson_TCOInputSet-Injured_Picker\\\\\")\",\"FailureReason\":\"Automation Issue\"},{\"TestCaseID\":160,\"FailedSteps\":8.1,\"ExceptionName\":\"Unable to find object with specified locator (\\\\\"Name\\\\\"=\\\\\"FNOLWizard-FullWizardStepSet-FNOLWizard_TravelLossDetails_TCOScreen-FNOLWizard_TripGenericDetails_TCOPanelSet-FNOLWizard_TheTripSpecificDetails_TCOPanelSet-SpecificDetails-FNOLWizard_Canc_TripSpecificDetails_TCODV-FNOLWizard_Canc_InjuredPerson_TCOInputSet-Injured_Picker\\\\\")\",\"FailureReason\":\"Automation Issue\"},{\"TestCaseID\":161,\"FailedSteps\":8.1,\"ExceptionName\":\"Unable to find object with specified locator (\\\\\"Name\\\\\"=\\\\\"FNOLWizard-FullWizardStepSet-FNOLWizard_TravelLossDetails_TCOScreen-FNOLWizard_TripGenericDetails_TCOPanelSet-FNOLWizard_TheTripSpecificDetails_TCOPanelSet-SpecificDetails-FNOLWizard_Canc_TripSpecificDetails_TCODV-FNOLWizard_Canc_InjuredPerson_TCOInputSet-Injured_Picker\\\\\")\",\"FailureReason\":\"Automation Issue\"},{\"TestCaseID\":162,\"FailedSteps\":8.1,\"ExceptionName\":\"Unable to find object with specified locator (\\\\\"Name\\\\\"=\\\\\"FNOLWizard-FullWizardStepSet-FNOLWizard_TravelLossDetails_TCOScreen-FNOLWizard_TripGenericDetails_TCOPanelSet-FNOLWizard_TheTripSpecificDetails_TCOPanelSet-SpecificDetails-FNOLWizard_Canc_TripSpecificDetails_TCODV-FNOLWizard_Canc_InjuredPerson_TCOInputSet-Injured_Picker\\\\\")\",\"FailureReason\":\"Automation Issue\"},{\"TestCaseID\":163,\"FailedSteps\":8.3,\"ExceptionName\":\"Unable to find object with specified locator (\\\\\"Id\\\\\"=\\\\\"FNOLWizard-FullWizardStepSet-FNOLWizard_TravelLossDetails_TCOScreen-FNOLWizard_TripGenericDetails_TCOPanelSet-FNOLWizard_TheTripSpecificDetails_TCOPanelSet-SpecificDetails-FNOLWizard_Canc_TripSpecificDetails_TCOPanelSet-OperationInfoID-OperationdateFixedID_1\\\\\")\",\"FailureReason\":\"Automation Issue\"},{\"TestCaseID\":163,\"FailedSteps\":3.5,\"ExceptionName\":\"no such element: Unable to locate element: {\\\\\"method\\\\\":\\\\\"xpath\\\\\",\\\\\"selector\\\\\":\\\\\"\\\\/\\\\/div[@id=\\\\\"FNOLWizard-FNOLWizard_FindPolicyScreen-FNOLWizardFindPolicyPanelSet-PolicyResultLV-0-Insured\\\\\"]\\\\/div\\\\/div\\\\\"}\\\\n  (Session info: chrome=75.0.3770.100)\\\\n  (Driver info: chromedriver=2.43.600210 (68dcf5eebde37173d4027fa8635e332711d2874a),platform=Windows NT 10.0.17134 x86_64) (WARNING: The server did not provide any stacktrace information)\\\\nCommand duration or timeout: 0 milliseconds\\\\nFor documentation on this error, please visit: http:\\\\/\\\\/seleniumhq.org\\\\/exceptions\\\\/no_such_element.html\\\\nBuild info: version: \\'3.12.0\\', revision: \\'7c6e0b3\\', time: \\'2018-05-08T15:15:03.216Z\\'\\\\nSystem info: host: \\'WEDWSVMT01RAKD\\', ip: \\'10.94.133.22\\', os.name: \\'Windows 10\\', os.arch: \\'amd64\\', os.version: \\'10.0\\', java.version: \\'1.8.0_202\\'\\\\nDriver info: org.openqa.selenium.chrome.ChromeDriver\\\\nCapabilities {acceptInsecureCerts: false, acceptSslCerts: false, applicationCacheEnabled: false, browserConnectionEnabled: false, browserName: chrome, chrome: {chromedriverVersion: 2.43.600210 (68dcf5eebde371..., userDataDir: C:\\\\\\\\Users\\\\\\\\T01RAKD\\\\\\\\AppData\\\\\\\\Lo...}, cssSelectorsEnabled: true, databaseEnabled: false, goog:chromeOptions: {debuggerAddress: localhost:60139}, handlesAlerts: true, hasTouchScreen: false, javascriptEnabled: true, locationContextEnabled: true, mobileEmulationEnabled: false, nativeEvents: true, networkConnectionEnabled: false, pageLoadStrategy: normal, platform: XP, platformName: XP, rotatable: false, setWindowRect: true, takesHeapSnapshot: true, takesScreenshot: true, unexpectedAlertBehaviour: , unhandledPromptBehavior: , version: 75.0.3770.100, webStorageEnabled: true}\\\\nSession ID: 2305c9d6ba2abcfb9a92374675616afb\\\\n*** Element info: {Using=xpath, value=\\\\/\\\\/div[@id=\\\\\"FNOLWizard-FNOLWizard_FindPolicyScreen-FNOLWizardFindPolicyPanelSet-PolicyResultLV-0-Insured\\\\\"]\\\\/div\\\\/div}\",\"FailureReason\":\"Data related Issue\"},{\"TestCaseID\":164,\"FailedSteps\":8.2,\"ExceptionName\":\"Unable to find object with specified locator (\\\\\"Name\\\\\"=\\\\\"FNOLWizard-FullWizardStepSet-FNOLWizard_TravelLossDetails_TCOScreen-FNOLWizard_TripGenericDetails_TCOPanelSet-FNOLWizard_TheTripSpecificDetails_TCOPanelSet-SpecificDetails-FNOLWizard_Canc_TripSpecificDetails_TCOPanelSet-DamagetoHome_BreakUpType-DamageCauseReasonOtherID\\\\\")\",\"FailureReason\":\"Automation Issue\"}]'"
      ]
     },
     "execution_count": 14,
     "metadata": {},
     "output_type": "execute_result"
    }
   ],
   "source": [
    "model_predict(mdl_path = 'C:\\\\Users\\\\45448\\\\Documents\\\\ATOP\\\\UC_27\\\\model.pkl', \n",
    "                   output='C:\\\\Users\\\\45448\\\\Documents\\\\ATOP\\\\UC_27\\\\',\n",
    "                  input = 'sample100.csv')"
   ]
  },
  {
   "cell_type": "code",
   "execution_count": null,
   "metadata": {},
   "outputs": [],
   "source": [
    "df.shape"
   ]
  },
  {
   "cell_type": "code",
   "execution_count": null,
   "metadata": {},
   "outputs": [],
   "source": [
    "    df['Test Step Update Date'] = pd.to_datetime(df['Test Step Update Date'])\n",
    "    df['Step_update_date'] = df['Test Step Update Date'].dt.day\n",
    "    df['Step_update_month'] = df['Test Step Update Date'].dt.month\n",
    "    df['Execution Time for test step'] = pd.to_datetime(df['Execution Time for test step'])\n",
    "    df['exe_date'] = df['Execution Time for test step'].dt.day\n",
    "    df['exe_month'] = df['Execution Time for test step'].dt.month\n",
    "    df['exe_hour'] = df['Execution Time for test step'].dt.hour\n",
    "    df['exe_min'] = df['Execution Time for test step'].dt.minute\n",
    "    df['exe_sec'] = df['Execution Time for test step'].dt.second\n",
    "    df['Test Case Update Date'] = pd.to_datetime(df['Test Case Update Date'])\n",
    "    df['case_update_date'] = df['Test Case Update Date'].dt.day\n",
    "    df['case_update_month'] = df['Test Case Update Date'].dt.month\n",
    "    df['Data Sheet Update Date'] = pd.to_datetime(df['Data Sheet Update Date'])\n",
    "    df['data_update_date'] = df['Data Sheet Update Date'].dt.day\n",
    "    df['data_update_month'] = df['Data Sheet Update Date'].dt.month\n",
    "    df['Failure Date for a step'] = pd.to_datetime(df['Failure Date for a step'])\n",
    "    df['step_failed_date'] = df['Failure Date for a step'].dt.day\n",
    "    df['step_failed_month'] = df['Failure Date for a step'].dt.month\n",
    "    df['Failure type- Update Date'] = pd.to_datetime(df['Failure type- Update Date'])\n",
    "    df['RCA_update_date'] = df['Failure type- Update Date'].dt.day\n",
    "    df['RCA_update_month'] = df['Failure type- Update Date'].dt.month\n",
    "    df.drop(columns = {'Execution Time for test step','Test Step Update Date',\n",
    "                   'Test Case Update Date','Data Sheet Update Date','Failure Date for a step',\n",
    "                   'Failure type- Update Date', 'Test Run Id'}, inplace=True)"
   ]
  },
  {
   "cell_type": "code",
   "execution_count": null,
   "metadata": {},
   "outputs": [],
   "source": [
    "training = data_preprocessing(path='UC27_NewData.csv',method='training')"
   ]
  },
  {
   "cell_type": "code",
   "execution_count": null,
   "metadata": {},
   "outputs": [],
   "source": [
    "data = data_preprocessing('UC27_New_TestData.csv',method='predict')   \n",
    "\n",
    "x = data.loc[:, data.columns != 'FailureReason']   "
   ]
  },
  {
   "cell_type": "code",
   "execution_count": null,
   "metadata": {},
   "outputs": [],
   "source": [
    "data"
   ]
  },
  {
   "cell_type": "code",
   "execution_count": null,
   "metadata": {},
   "outputs": [],
   "source": []
  }
 ],
 "metadata": {
  "kernelspec": {
   "display_name": "Python 3",
   "language": "python",
   "name": "python3"
  },
  "language_info": {
   "codemirror_mode": {
    "name": "ipython",
    "version": 3
   },
   "file_extension": ".py",
   "mimetype": "text/x-python",
   "name": "python",
   "nbconvert_exporter": "python",
   "pygments_lexer": "ipython3",
   "version": "3.7.4"
  }
 },
 "nbformat": 4,
 "nbformat_minor": 2
}
